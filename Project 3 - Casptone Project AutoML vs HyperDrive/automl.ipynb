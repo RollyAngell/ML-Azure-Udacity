{
 "cells": [
  {
   "cell_type": "markdown",
   "metadata": {},
   "source": [
    "# Automated ML\n",
    "\n",
    "TODO: Import Dependencies. In the cell below, import all the dependencies that you will need to complete the project.\n",
    "\n",
    "With the help of python notebooks provided in 1st and 2nd project of this nanodegree program ('Optimizing a pipeline in Azure' and 'Operationalizing machine learning'), I have imported following basic dependencies required to complete this project. Any other specific dependecy will be imported as we proceed further in this project."
   ]
  },
  {
   "cell_type": "code",
   "execution_count": 1,
   "metadata": {
    "gather": {
     "logged": 1610866011944
    },
    "jupyter": {
     "outputs_hidden": false,
     "source_hidden": false
    },
    "nteract": {
     "transient": {
      "deleting": false
     }
    }
   },
   "outputs": [
    {
     "name": "stdout",
     "output_type": "stream",
     "text": [
      "SDK Version: 1.31.0\n"
     ]
    }
   ],
   "source": [
    "import logging\n",
    "import os\n",
    "import csv\n",
    "\n",
    "from matplotlib import pyplot as pyplot\n",
    "import numpy as np\n",
    "import pandas as pd\n",
    "from sklearn import datasets\n",
    "import pkg_resources\n",
    "\n",
    "import azureml.core\n",
    "from azureml.core.experiment import Experiment\n",
    "from azureml.core.workspace import Workspace\n",
    "from azureml.train.automl import AutoMLConfig\n",
    "from azureml.core.dataset import Dataset\n",
    "from azureml.pipeline.steps import AutoMLStep\n",
    "\n",
    "# CheckIng core SDK version number\n",
    "print(\"SDK Version:\", azureml.core.VERSION)"
   ]
  },
  {
   "cell_type": "code",
   "execution_count": 2,
   "metadata": {
    "gather": {
     "logged": 1610866034952
    },
    "jupyter": {
     "outputs_hidden": false,
     "source_hidden": false
    },
    "nteract": {
     "transient": {
      "deleting": false
     }
    }
   },
   "outputs": [
    {
     "name": "stdout",
     "output_type": "stream",
     "text": [
      "quick-starts-ws-150619\n",
      "aml-quickstarts-150619\n",
      "southcentralus\n",
      "f5091c60-1c3c-430f-8d81-d802f6bf2414\n"
     ]
    },
    {
     "data": {
      "text/html": [
       "<table style=\"width:100%\"><tr><th>Name</th><th>Workspace</th><th>Report Page</th><th>Docs Page</th></tr><tr><td>AutoML-Exp002</td><td>quick-starts-ws-150619</td><td><a href=\"https://ml.azure.com/experiments/id/96786c33-0833-419a-863a-2995425437f6?wsid=/subscriptions/f5091c60-1c3c-430f-8d81-d802f6bf2414/resourcegroups/aml-quickstarts-150619/workspaces/quick-starts-ws-150619&amp;tid=660b3398-b80e-49d2-bc5b-ac1dc93b5254\" target=\"_blank\" rel=\"noopener\">Link to Azure Machine Learning studio</a></td><td><a href=\"https://docs.microsoft.com/en-us/python/api/azureml-core/azureml.core.experiment.Experiment?view=azure-ml-py\" target=\"_blank\" rel=\"noopener\">Link to Documentation</a></td></tr></table>"
      ],
      "text/plain": [
       "Experiment(Name: AutoML-Exp002,\n",
       "Workspace: quick-starts-ws-150619)"
      ]
     },
     "execution_count": 2,
     "metadata": {},
     "output_type": "execute_result"
    }
   ],
   "source": [
    "# creating an automl experiment in our workspace\n",
    "\n",
    "# initializing a workspace\n",
    "ws = Workspace.from_config()\n",
    "print(ws.name, ws.resource_group, ws.location, ws.subscription_id, sep='\\n')\n",
    "\n",
    "# choosing a name for experiment\n",
    "experiment_name = 'AutoML-Exp002'\n",
    "project_folder = './AutoML-pipeline-project'\n",
    "\n",
    "# creating the experiment\n",
    "experiment = Experiment(ws, experiment_name)\n",
    "experiment.start_logging()\n",
    "experiment"
   ]
  },
  {
   "cell_type": "code",
   "execution_count": 3,
   "metadata": {
    "gather": {
     "logged": 1610866655912
    }
   },
   "outputs": [
    {
     "name": "stdout",
     "output_type": "stream",
     "text": [
      "Creating......\n",
      "SucceededProvisioning operation finished, operation \"Succeeded\"\n",
      "Succeeded.................................................................................................................\n",
      "AmlCompute wait for completion finished\n",
      "\n",
      "Wait timeout has been reached\n",
      "Current provisioning state of AmlCompute is \"Succeeded\" and current node count is \"0\"\n"
     ]
    },
    {
     "data": {
      "text/plain": [
       "<azureml.core.compute.amlcompute.AmlComputeStatus at 0x7f8c9aade240>"
      ]
     },
     "execution_count": 3,
     "metadata": {},
     "output_type": "execute_result"
    }
   ],
   "source": [
    "# creating an AMLCompute cluster for running the experiment\n",
    "\n",
    "# importing required dependencies\n",
    "from azureml.core.compute import AmlCompute, ComputeTarget\n",
    "from azureml.core.compute_target import ComputeTargetException\n",
    "\n",
    "# Choosing a name for our CPU cluster\n",
    "amlcompute_cluster_name = \"CI-AutoML01\"\n",
    "\n",
    "# Verifying that cluster does not exist already\n",
    "try:\n",
    "    compute_target = ComputeTarget(workspace=ws, name=amlcompute_cluster_name)\n",
    "    print('Found existing cluster, use it.')\n",
    "except ComputeTargetException:\n",
    "    compute_config = AmlCompute.provisioning_configuration(vm_size='STANDARD_DS12_V2', max_nodes=4)\n",
    "    compute_target = ComputeTarget.create(ws, amlcompute_cluster_name, compute_config)\n",
    "\n",
    "compute_target.wait_for_completion(show_output=True, min_node_count = 1, timeout_in_minutes = 10)\n",
    "compute_target.get_status()"
   ]
  },
  {
   "cell_type": "markdown",
   "metadata": {},
   "source": [
    "## Dataset\n",
    "\n",
    "### Overview\n",
    "\n",
    "The dataset that we will be using for this project is the [Heart Failure Prediction](https://www.kaggle.com/andrewmvd/heart-failure-clinical-data) dataset from Kaggle, it consist of 12 features.\n",
    "\n",
    "**12 clinical features:**\n",
    "\n",
    "* age - Age\n",
    "\n",
    "* anaemia - Decrease of red blood cells or hemoglobin (boolean)\n",
    "\n",
    "* creatinine_phosphokinase - Level of the CPK enzyme in the blood (mcg/L)\n",
    "\n",
    "* diabetes - If the patient has diabetes (boolean)\n",
    "\n",
    "* ejection_fraction - Percentage of blood leaving the heart at each contraction (percentage)\n",
    "\n",
    "* high_blood_pressure - If the patient has hypertension (boolean)\n",
    "  \n",
    "* platelets - Platelets in the blood (kiloplatelets/mL)\n",
    "\n",
    "* serum_creatinine - Level of serum creatinine in the blood (mg/dL)\n",
    "\n",
    "* serum_sodium - Level of serum sodium in the blood (mEq/L)\n",
    "  \n",
    "* sex - Woman or man (binary)\n",
    "  \n",
    "* smoking - If the patient smokes or not (boolean)\n",
    "\n",
    "* time - Follow-up period (days)\n",
    "\n",
    "\n",
    "We will be predicting the following output:\n",
    "\n",
    "DEATH_EVENT if the patient deceased during the follow-up period (boolean)"
   ]
  },
  {
   "cell_type": "code",
   "execution_count": 4,
   "metadata": {},
   "outputs": [],
   "source": [
    "found = False\n",
    "key = \"Heart Failure Prediction\"\n",
    "description_text = \"Heart Failure Prediction DataSet for Udacity Project 3\"\n",
    "\n",
    "if key in ws.datasets.keys(): \n",
    "        found = True\n",
    "        dataset = ws.datasets[key] \n",
    "        print(\"The dataset is loaded\")\n",
    "\n",
    "if not found:\n",
    "        # Creating Dataset and register it into Workspace\n",
    "        data1 = \"https://raw.githubusercontent.com/RollyAngell/ML-Azure-Udacity/main/Project%203%20-%20Casptone%20Project%20AutoML%20vs%20HyperDrive/heart%20failure%20clinical%20records%20dataset.csv\"\n",
    "        dataset = Dataset.Tabular.from_delimited_files(data1)        \n",
    "        # Registering Dataset in Workspace\n",
    "        dataset = dataset.register(workspace=ws,\n",
    "                                   name=key,\n",
    "                                   description=description_text)"
   ]
  },
  {
   "cell_type": "code",
   "execution_count": 5,
   "metadata": {},
   "outputs": [
    {
     "data": {
      "text/plain": [
       "{\n",
       "  \"source\": [\n",
       "    \"https://raw.githubusercontent.com/RollyAngell/ML-Azure-Udacity/main/Project%203%20-%20Casptone%20Project%20AutoML%20vs%20HyperDrive/heart%20failure%20clinical%20records%20dataset.csv\"\n",
       "  ],\n",
       "  \"definition\": [\n",
       "    \"GetFiles\",\n",
       "    \"ParseDelimited\",\n",
       "    \"DropColumns\",\n",
       "    \"SetColumnTypes\"\n",
       "  ],\n",
       "  \"registration\": {\n",
       "    \"id\": \"5c8b6425-9f2f-45ec-ad72-3b2aecf104ea\",\n",
       "    \"name\": \"Heart Failure Prediction\",\n",
       "    \"version\": 1,\n",
       "    \"description\": \"Heart Failure Prediction DataSet for Udacity Project 3\",\n",
       "    \"workspace\": \"Workspace.create(name='quick-starts-ws-150619', subscription_id='f5091c60-1c3c-430f-8d81-d802f6bf2414', resource_group='aml-quickstarts-150619')\"\n",
       "  }\n",
       "}"
      ]
     },
     "execution_count": 5,
     "metadata": {},
     "output_type": "execute_result"
    }
   ],
   "source": [
    "dataset"
   ]
  },
  {
   "cell_type": "code",
   "execution_count": 6,
   "metadata": {},
   "outputs": [
    {
     "data": {
      "text/html": [
       "<div>\n",
       "<style scoped>\n",
       "    .dataframe tbody tr th:only-of-type {\n",
       "        vertical-align: middle;\n",
       "    }\n",
       "\n",
       "    .dataframe tbody tr th {\n",
       "        vertical-align: top;\n",
       "    }\n",
       "\n",
       "    .dataframe thead th {\n",
       "        text-align: right;\n",
       "    }\n",
       "</style>\n",
       "<table border=\"1\" class=\"dataframe\">\n",
       "  <thead>\n",
       "    <tr style=\"text-align: right;\">\n",
       "      <th></th>\n",
       "      <th>age</th>\n",
       "      <th>anaemia</th>\n",
       "      <th>creatinine_phosphokinase</th>\n",
       "      <th>diabetes</th>\n",
       "      <th>ejection_fraction</th>\n",
       "      <th>high_blood_pressure</th>\n",
       "      <th>platelets</th>\n",
       "      <th>serum_creatinine</th>\n",
       "      <th>serum_sodium</th>\n",
       "      <th>sex</th>\n",
       "      <th>smoking</th>\n",
       "      <th>time</th>\n",
       "      <th>DEATH_EVENT</th>\n",
       "    </tr>\n",
       "  </thead>\n",
       "  <tbody>\n",
       "    <tr>\n",
       "      <th>count</th>\n",
       "      <td>299.000000</td>\n",
       "      <td>299.000000</td>\n",
       "      <td>299.000000</td>\n",
       "      <td>299.000000</td>\n",
       "      <td>299.000000</td>\n",
       "      <td>299.000000</td>\n",
       "      <td>299.000000</td>\n",
       "      <td>299.00000</td>\n",
       "      <td>299.000000</td>\n",
       "      <td>299.000000</td>\n",
       "      <td>299.00000</td>\n",
       "      <td>299.000000</td>\n",
       "      <td>299.00000</td>\n",
       "    </tr>\n",
       "    <tr>\n",
       "      <th>mean</th>\n",
       "      <td>60.833893</td>\n",
       "      <td>0.431438</td>\n",
       "      <td>581.839465</td>\n",
       "      <td>0.418060</td>\n",
       "      <td>38.083612</td>\n",
       "      <td>0.351171</td>\n",
       "      <td>263358.029264</td>\n",
       "      <td>1.39388</td>\n",
       "      <td>136.625418</td>\n",
       "      <td>0.648829</td>\n",
       "      <td>0.32107</td>\n",
       "      <td>130.260870</td>\n",
       "      <td>0.32107</td>\n",
       "    </tr>\n",
       "    <tr>\n",
       "      <th>std</th>\n",
       "      <td>11.894809</td>\n",
       "      <td>0.496107</td>\n",
       "      <td>970.287881</td>\n",
       "      <td>0.494067</td>\n",
       "      <td>11.834841</td>\n",
       "      <td>0.478136</td>\n",
       "      <td>97804.236869</td>\n",
       "      <td>1.03451</td>\n",
       "      <td>4.412477</td>\n",
       "      <td>0.478136</td>\n",
       "      <td>0.46767</td>\n",
       "      <td>77.614208</td>\n",
       "      <td>0.46767</td>\n",
       "    </tr>\n",
       "    <tr>\n",
       "      <th>min</th>\n",
       "      <td>40.000000</td>\n",
       "      <td>0.000000</td>\n",
       "      <td>23.000000</td>\n",
       "      <td>0.000000</td>\n",
       "      <td>14.000000</td>\n",
       "      <td>0.000000</td>\n",
       "      <td>25100.000000</td>\n",
       "      <td>0.50000</td>\n",
       "      <td>113.000000</td>\n",
       "      <td>0.000000</td>\n",
       "      <td>0.00000</td>\n",
       "      <td>4.000000</td>\n",
       "      <td>0.00000</td>\n",
       "    </tr>\n",
       "    <tr>\n",
       "      <th>25%</th>\n",
       "      <td>51.000000</td>\n",
       "      <td>0.000000</td>\n",
       "      <td>116.500000</td>\n",
       "      <td>0.000000</td>\n",
       "      <td>30.000000</td>\n",
       "      <td>0.000000</td>\n",
       "      <td>212500.000000</td>\n",
       "      <td>0.90000</td>\n",
       "      <td>134.000000</td>\n",
       "      <td>0.000000</td>\n",
       "      <td>0.00000</td>\n",
       "      <td>73.000000</td>\n",
       "      <td>0.00000</td>\n",
       "    </tr>\n",
       "    <tr>\n",
       "      <th>50%</th>\n",
       "      <td>60.000000</td>\n",
       "      <td>0.000000</td>\n",
       "      <td>250.000000</td>\n",
       "      <td>0.000000</td>\n",
       "      <td>38.000000</td>\n",
       "      <td>0.000000</td>\n",
       "      <td>262000.000000</td>\n",
       "      <td>1.10000</td>\n",
       "      <td>137.000000</td>\n",
       "      <td>1.000000</td>\n",
       "      <td>0.00000</td>\n",
       "      <td>115.000000</td>\n",
       "      <td>0.00000</td>\n",
       "    </tr>\n",
       "    <tr>\n",
       "      <th>75%</th>\n",
       "      <td>70.000000</td>\n",
       "      <td>1.000000</td>\n",
       "      <td>582.000000</td>\n",
       "      <td>1.000000</td>\n",
       "      <td>45.000000</td>\n",
       "      <td>1.000000</td>\n",
       "      <td>303500.000000</td>\n",
       "      <td>1.40000</td>\n",
       "      <td>140.000000</td>\n",
       "      <td>1.000000</td>\n",
       "      <td>1.00000</td>\n",
       "      <td>203.000000</td>\n",
       "      <td>1.00000</td>\n",
       "    </tr>\n",
       "    <tr>\n",
       "      <th>max</th>\n",
       "      <td>95.000000</td>\n",
       "      <td>1.000000</td>\n",
       "      <td>7861.000000</td>\n",
       "      <td>1.000000</td>\n",
       "      <td>80.000000</td>\n",
       "      <td>1.000000</td>\n",
       "      <td>850000.000000</td>\n",
       "      <td>9.40000</td>\n",
       "      <td>148.000000</td>\n",
       "      <td>1.000000</td>\n",
       "      <td>1.00000</td>\n",
       "      <td>285.000000</td>\n",
       "      <td>1.00000</td>\n",
       "    </tr>\n",
       "  </tbody>\n",
       "</table>\n",
       "</div>"
      ],
      "text/plain": [
       "              age     anaemia  creatinine_phosphokinase    diabetes  \\\n",
       "count  299.000000  299.000000                299.000000  299.000000   \n",
       "mean    60.833893    0.431438                581.839465    0.418060   \n",
       "std     11.894809    0.496107                970.287881    0.494067   \n",
       "min     40.000000    0.000000                 23.000000    0.000000   \n",
       "25%     51.000000    0.000000                116.500000    0.000000   \n",
       "50%     60.000000    0.000000                250.000000    0.000000   \n",
       "75%     70.000000    1.000000                582.000000    1.000000   \n",
       "max     95.000000    1.000000               7861.000000    1.000000   \n",
       "\n",
       "       ejection_fraction  high_blood_pressure      platelets  \\\n",
       "count         299.000000           299.000000     299.000000   \n",
       "mean           38.083612             0.351171  263358.029264   \n",
       "std            11.834841             0.478136   97804.236869   \n",
       "min            14.000000             0.000000   25100.000000   \n",
       "25%            30.000000             0.000000  212500.000000   \n",
       "50%            38.000000             0.000000  262000.000000   \n",
       "75%            45.000000             1.000000  303500.000000   \n",
       "max            80.000000             1.000000  850000.000000   \n",
       "\n",
       "       serum_creatinine  serum_sodium         sex    smoking        time  \\\n",
       "count         299.00000    299.000000  299.000000  299.00000  299.000000   \n",
       "mean            1.39388    136.625418    0.648829    0.32107  130.260870   \n",
       "std             1.03451      4.412477    0.478136    0.46767   77.614208   \n",
       "min             0.50000    113.000000    0.000000    0.00000    4.000000   \n",
       "25%             0.90000    134.000000    0.000000    0.00000   73.000000   \n",
       "50%             1.10000    137.000000    1.000000    0.00000  115.000000   \n",
       "75%             1.40000    140.000000    1.000000    1.00000  203.000000   \n",
       "max             9.40000    148.000000    1.000000    1.00000  285.000000   \n",
       "\n",
       "       DEATH_EVENT  \n",
       "count    299.00000  \n",
       "mean       0.32107  \n",
       "std        0.46767  \n",
       "min        0.00000  \n",
       "25%        0.00000  \n",
       "50%        0.00000  \n",
       "75%        1.00000  \n",
       "max        1.00000  "
      ]
     },
     "execution_count": 6,
     "metadata": {},
     "output_type": "execute_result"
    }
   ],
   "source": [
    "df_ = dataset.to_pandas_dataframe()\n",
    "df_.describe()"
   ]
  },
  {
   "cell_type": "code",
   "execution_count": 7,
   "metadata": {},
   "outputs": [
    {
     "data": {
      "text/plain": [
       "0    203\n",
       "1     96\n",
       "Name: DEATH_EVENT, dtype: int64"
      ]
     },
     "execution_count": 7,
     "metadata": {},
     "output_type": "execute_result"
    }
   ],
   "source": [
    "df_[\"DEATH_EVENT\"].value_counts()"
   ]
  },
  {
   "cell_type": "markdown",
   "metadata": {},
   "source": [
    "## AutoML Configuration\n",
    "\n",
    "Explain why you chose the automl settings and cofiguration you used below.\n",
    "\n",
    "|Setting |Why?|\n",
    "|-|-|\n",
    "|**experiment_timeout_minutes**|We choose 30 minutos that means the experiment will exit after that time.|\n",
    "|**max_concurrent_iterations**|To get result quickly we choose 5 that means that 5 iterations at the same time.|\n",
    "|**primary_metric**|This is the metric that we want to optimize (accuracy). I will use 'AUC_weighted' as 'primary_metric' parameter. AUC means the area under the Receiver Operating Characteristic Curve which plots the relationship between true positive rate and false positive rate. Since our dataset doesn't have high class imbalance, we can use ROC method for judging the performance of a model. I will use AUC_weighted in order to mitigate the effects of whatever little imbalance is there in the dataset. AUC_weighted is the arithmetic mean of the score for each class, weighted by the number of true instances in each class.|\n",
    "|**task**|classification |\n",
    "|**compute_target**|To define the compute cluster we will be using |\n",
    "|**training_data**|It is the training dataset to be used for the experiment.|\n",
    "|**label_column_name**|To specify the dependent variable that we are trying to classify. I will enter 'DEATH_EVENT' as 'label_column_name' parameter.|\n",
    "|**path**|To specify the dependent variable that we are trying to classify |\n",
    "|**enable_early_stopping**|we can choose to terminate the experiment if the score stops improving in the short term. I will enter 'True' as 'enable_early_stopping' parameter.|\n",
    "|**featurization**|To specify the dependent variable that we are trying to classify |\n",
    "|**debug_log**|To specify the dependent variable that we are trying to classify |\n",
    "|**enable_onnx_compatible_models **|To specify the dependent variable that we are trying to classify |"
   ]
  },
  {
   "cell_type": "code",
   "execution_count": 8,
   "metadata": {
    "gather": {
     "logged": 1610866769545
    },
    "jupyter": {
     "outputs_hidden": false,
     "source_hidden": false
    },
    "nteract": {
     "transient": {
      "deleting": false
     }
    }
   },
   "outputs": [],
   "source": [
    "# TODO: Put your automl settings here\n",
    "automl_settings = {\n",
    "    \"experiment_timeout_minutes\" : 30,\n",
    "    \"max_concurrent_iterations\" : 5,\n",
    "    \"primary_metric\" : 'AUC_weighted'\n",
    "}\n",
    "\n",
    "# TODO: Put your automl config here\n",
    "automl_config = AutoMLConfig(compute_target=compute_target,\n",
    "                            task=\"classification\",\n",
    "                            training_data=dataset,\n",
    "                            label_column_name=\"DEATH_EVENT\",\n",
    "                            path='./AutoML-pipeline-project',\n",
    "                            enable_early_stopping=True,\n",
    "                            featurization='auto',\n",
    "                            enable_onnx_compatible_models=True,\n",
    "                            debug_log=\"automl_errors.log\",\n",
    "                            **automl_settings\n",
    ")"
   ]
  },
  {
   "cell_type": "code",
   "execution_count": 9,
   "metadata": {
    "gather": {
     "logged": 1610868417207
    },
    "jupyter": {
     "outputs_hidden": false,
     "source_hidden": false
    },
    "nteract": {
     "transient": {
      "deleting": false
     }
    }
   },
   "outputs": [
    {
     "name": "stdout",
     "output_type": "stream",
     "text": [
      "Submitting remote run.\n",
      "No run_configuration provided, running on CI-AutoML01 with default configuration\n",
      "Running on remote compute: CI-AutoML01\n"
     ]
    },
    {
     "data": {
      "text/html": [
       "<table style=\"width:100%\"><tr><th>Experiment</th><th>Id</th><th>Type</th><th>Status</th><th>Details Page</th><th>Docs Page</th></tr><tr><td>AutoML-Exp002</td><td>AutoML_5f44cd97-a7a6-4be3-8a34-e06659c87f9b</td><td>automl</td><td>NotStarted</td><td><a href=\"https://ml.azure.com/runs/AutoML_5f44cd97-a7a6-4be3-8a34-e06659c87f9b?wsid=/subscriptions/f5091c60-1c3c-430f-8d81-d802f6bf2414/resourcegroups/aml-quickstarts-150619/workspaces/quick-starts-ws-150619&amp;tid=660b3398-b80e-49d2-bc5b-ac1dc93b5254\" target=\"_blank\" rel=\"noopener\">Link to Azure Machine Learning studio</a></td><td><a href=\"https://docs.microsoft.com/en-us/python/api/overview/azure/ml/intro?view=azure-ml-py\" target=\"_blank\" rel=\"noopener\">Link to Documentation</a></td></tr></table>"
      ],
      "text/plain": [
       "<IPython.core.display.HTML object>"
      ]
     },
     "metadata": {},
     "output_type": "display_data"
    },
    {
     "name": "stdout",
     "output_type": "stream",
     "text": [
      "\n",
      "Current status: FeaturesGeneration. Generating features for the dataset.\n",
      "Current status: ModelSelection. Beginning model selection.\n",
      "\n",
      "****************************************************************************************************\n",
      "DATA GUARDRAILS: \n",
      "\n",
      "TYPE:         Cross validation\n",
      "STATUS:       DONE\n",
      "DESCRIPTION:  Each iteration of the trained model was validated through cross-validation.\n",
      "              \n",
      "DETAILS:      \n",
      "+---------------------------------+\n",
      "|Number of folds                  |\n",
      "+=================================+\n",
      "|10                               |\n",
      "+---------------------------------+\n",
      "\n",
      "****************************************************************************************************\n",
      "\n",
      "TYPE:         Class balancing detection\n",
      "STATUS:       PASSED\n",
      "DESCRIPTION:  Your inputs were analyzed, and all classes are balanced in your training data.\n",
      "              Learn more about imbalanced data: https://aka.ms/AutomatedMLImbalancedData\n",
      "\n",
      "****************************************************************************************************\n",
      "\n",
      "TYPE:         Missing feature values imputation\n",
      "STATUS:       PASSED\n",
      "DESCRIPTION:  No feature missing values were detected in the training data.\n",
      "              Learn more about missing value imputation: https://aka.ms/AutomatedMLFeaturization\n",
      "\n",
      "****************************************************************************************************\n",
      "\n",
      "TYPE:         High cardinality feature detection\n",
      "STATUS:       PASSED\n",
      "DESCRIPTION:  Your inputs were analyzed, and no high cardinality features were detected.\n",
      "              Learn more about high cardinality feature handling: https://aka.ms/AutomatedMLFeaturization\n",
      "\n",
      "****************************************************************************************************\n",
      "\n",
      "****************************************************************************************************\n",
      "ITERATION: The iteration being evaluated.\n",
      "PIPELINE: A summary description of the pipeline being evaluated.\n",
      "DURATION: Time taken for the current iteration.\n",
      "METRIC: The result of computing score on the fitted pipeline.\n",
      "BEST: The best observed score thus far.\n",
      "****************************************************************************************************\n",
      "\n",
      " ITERATION   PIPELINE                                       DURATION      METRIC      BEST\n",
      "         0   MaxAbsScaler LightGBM                          0:00:39       0.8841    0.8841\n",
      "         2   MinMaxScaler RandomForest                      0:00:39       0.9019    0.9019\n",
      "         4   MinMaxScaler RandomForest                      0:00:38       0.9053    0.9053\n",
      "         1   MaxAbsScaler XGBoostClassifier                 0:00:40       0.8847    0.9053\n",
      "         3   RobustScaler ExtremeRandomTrees                0:00:41       0.8799    0.9053\n",
      "         8   MinMaxScaler ExtremeRandomTrees                0:00:39       0.8777    0.9053\n",
      "         5   MinMaxScaler RandomForest                      0:01:31       0.8846    0.9053\n",
      "         6   StandardScalerWrapper RandomForest             0:01:30       0.8843    0.9053\n",
      "         7   MinMaxScaler ExtremeRandomTrees                0:01:34       0.8966    0.9053\n",
      "         9   SparseNormalizer KNN                           0:00:42       0.7496    0.9053\n",
      "        10   MinMaxScaler ExtremeRandomTrees                0:00:39       0.8875    0.9053\n",
      "        11   RobustScaler ExtremeRandomTrees                0:00:38       0.8947    0.9053\n",
      "        12   StandardScalerWrapper RandomForest             0:00:39       0.8932    0.9053\n",
      "        13   StandardScalerWrapper SGD                      0:00:43       0.8691    0.9053\n",
      "        14   RobustScaler RandomForest                      0:00:38       0.8839    0.9053\n",
      "        15   StandardScalerWrapper KNN                      0:00:41       0.5203    0.9053\n",
      "        16   MinMaxScaler RandomForest                      0:00:42       0.8839    0.9053\n",
      "        17   MinMaxScaler ExtremeRandomTrees                0:00:39       0.8183    0.9053\n",
      "        18   MaxAbsScaler RandomForest                      0:00:41       0.8823    0.9053\n",
      "        19   StandardScalerWrapper XGBoostClassifier        0:00:37       0.9089    0.9089\n",
      "        20   MaxAbsScaler RandomForest                      0:00:41       0.8931    0.9089\n",
      "        21   MaxAbsScaler ExtremeRandomTrees                0:00:39       0.8803    0.9089\n",
      "        22   MaxAbsScaler ExtremeRandomTrees                0:00:38       0.8714    0.9089\n",
      "        23   MinMaxScaler ExtremeRandomTrees                0:00:45       0.9041    0.9089\n",
      "        24   MaxAbsScaler ExtremeRandomTrees                0:00:43       0.8972    0.9089\n",
      "        25   PCA XGBoostClassifier                          0:00:38       0.4839    0.9089\n",
      "        26   StandardScalerWrapper XGBoostClassifier        0:00:41       0.8972    0.9089\n",
      "        27   MaxAbsScaler RandomForest                      0:00:41       0.8968    0.9089\n",
      "        28   RobustScaler LightGBM                          0:00:40       0.9012    0.9089\n",
      "        29   RobustScaler RandomForest                      0:00:44       0.9099    0.9099\n",
      "        30   StandardScalerWrapper XGBoostClassifier        0:00:40       0.9021    0.9099\n",
      "        31   MinMaxScaler LightGBM                          0:00:38       0.9037    0.9099\n",
      "        32   StandardScalerWrapper SVM                      0:00:43       0.8680    0.9099\n",
      "        33   StandardScalerWrapper XGBoostClassifier        0:00:38       0.9055    0.9099\n",
      "        35   RobustScaler RandomForest                      0:00:39       0.7356    0.9099\n",
      "        34   RobustScaler GradientBoosting                  0:00:43       0.8965    0.9099\n",
      "        36   MinMaxScaler LightGBM                          0:00:38       0.8889    0.9099\n",
      "        38   MaxAbsScaler LightGBM                          0:00:38       0.9023    0.9099\n",
      "        40   StandardScalerWrapper RandomForest             0:00:40       0.9019    0.9099\n",
      "        37   MinMaxScaler RandomForest                      0:00:52       0.9037    0.9099\n",
      "        39   StandardScalerWrapper LogisticRegression       0:00:58       0.8638    0.9099\n",
      "        41   StandardScalerWrapper RandomForest             0:00:45       0.9019    0.9099\n",
      "        42   StandardScalerWrapper XGBoostClassifier        0:00:48       0.9026    0.9099\n",
      "        43   StandardScalerWrapper XGBoostClassifier        0:00:58       0.9020    0.9099\n",
      "        44   StandardScalerWrapper XGBoostClassifier        0:00:40       0.9049    0.9099\n",
      "        45   MinMaxScaler RandomForest                      0:00:49       0.8431    0.9099\n",
      "        46   StandardScalerWrapper SVM                      0:00:42       0.8759    0.9099\n",
      "        47   StandardScalerWrapper XGBoostClassifier        0:00:41       0.9092    0.9099\n",
      "        48   StandardScalerWrapper XGBoostClassifier        0:00:37       0.9003    0.9099\n",
      "        49                                                  0:00:49          nan    0.9099\n",
      "        50    VotingEnsemble                                0:01:17       0.9189    0.9189\n"
     ]
    }
   ],
   "source": [
    "# TODO: Submit your experiment\n",
    "remote_run = experiment.submit(config = automl_config, show_output=True)"
   ]
  },
  {
   "cell_type": "code",
   "execution_count": 10,
   "metadata": {
    "gather": {
     "logged": 1610868717293
    }
   },
   "outputs": [
    {
     "data": {
      "text/html": [
       "<table style=\"width:100%\"><tr><th>Experiment</th><th>Id</th><th>Type</th><th>Status</th><th>Details Page</th><th>Docs Page</th></tr><tr><td>AutoML-Exp002</td><td>AutoML_5f44cd97-a7a6-4be3-8a34-e06659c87f9b</td><td>automl</td><td>Completed</td><td><a href=\"https://ml.azure.com/runs/AutoML_5f44cd97-a7a6-4be3-8a34-e06659c87f9b?wsid=/subscriptions/f5091c60-1c3c-430f-8d81-d802f6bf2414/resourcegroups/aml-quickstarts-150619/workspaces/quick-starts-ws-150619&amp;tid=660b3398-b80e-49d2-bc5b-ac1dc93b5254\" target=\"_blank\" rel=\"noopener\">Link to Azure Machine Learning studio</a></td><td><a href=\"https://docs.microsoft.com/en-us/python/api/overview/azure/ml/intro?view=azure-ml-py\" target=\"_blank\" rel=\"noopener\">Link to Documentation</a></td></tr></table>"
      ],
      "text/plain": [
       "<IPython.core.display.HTML object>"
      ]
     },
     "metadata": {},
     "output_type": "display_data"
    },
    {
     "name": "stdout",
     "output_type": "stream",
     "text": [
      "\n",
      "\n",
      "****************************************************************************************************\n",
      "DATA GUARDRAILS: \n",
      "\n",
      "TYPE:         Cross validation\n",
      "STATUS:       DONE\n",
      "DESCRIPTION:  Each iteration of the trained model was validated through cross-validation.\n",
      "              \n",
      "DETAILS:      \n",
      "+---------------------------------+\n",
      "|Number of folds                  |\n",
      "+=================================+\n",
      "|10                               |\n",
      "+---------------------------------+\n",
      "\n",
      "****************************************************************************************************\n",
      "\n",
      "TYPE:         Class balancing detection\n",
      "STATUS:       PASSED\n",
      "DESCRIPTION:  Your inputs were analyzed, and all classes are balanced in your training data.\n",
      "              Learn more about imbalanced data: https://aka.ms/AutomatedMLImbalancedData\n",
      "\n",
      "****************************************************************************************************\n",
      "\n",
      "TYPE:         Missing feature values imputation\n",
      "STATUS:       PASSED\n",
      "DESCRIPTION:  No feature missing values were detected in the training data.\n",
      "              Learn more about missing value imputation: https://aka.ms/AutomatedMLFeaturization\n",
      "\n",
      "****************************************************************************************************\n",
      "\n",
      "TYPE:         High cardinality feature detection\n",
      "STATUS:       PASSED\n",
      "DESCRIPTION:  Your inputs were analyzed, and no high cardinality features were detected.\n",
      "              Learn more about high cardinality feature handling: https://aka.ms/AutomatedMLFeaturization\n",
      "\n",
      "****************************************************************************************************\n",
      "\n",
      "****************************************************************************************************\n",
      "ITERATION: The iteration being evaluated.\n",
      "PIPELINE: A summary description of the pipeline being evaluated.\n",
      "DURATION: Time taken for the current iteration.\n",
      "METRIC: The result of computing score on the fitted pipeline.\n",
      "BEST: The best observed score thus far.\n",
      "****************************************************************************************************\n",
      "\n",
      " ITERATION   PIPELINE                                       DURATION      METRIC      BEST\n",
      "         0   MaxAbsScaler LightGBM                          0:00:39       0.8841    0.8841\n",
      "         1   MaxAbsScaler XGBoostClassifier                 0:00:40       0.8847    0.8847\n",
      "         2   MinMaxScaler RandomForest                      0:00:39       0.9019    0.9019\n",
      "         3   RobustScaler ExtremeRandomTrees                0:00:41       0.8799    0.9019\n",
      "         4   MinMaxScaler RandomForest                      0:00:38       0.9053    0.9053\n",
      "         5   MinMaxScaler RandomForest                      0:01:31       0.8846    0.9053\n",
      "         6   StandardScalerWrapper RandomForest             0:01:30       0.8843    0.9053\n",
      "         7   MinMaxScaler ExtremeRandomTrees                0:01:34       0.8966    0.9053\n",
      "         8   MinMaxScaler ExtremeRandomTrees                0:00:39       0.8777    0.9053\n",
      "         9   SparseNormalizer KNN                           0:00:42       0.7496    0.9053\n",
      "        10   MinMaxScaler ExtremeRandomTrees                0:00:39       0.8875    0.9053\n",
      "        11   RobustScaler ExtremeRandomTrees                0:00:38       0.8947    0.9053\n",
      "        12   StandardScalerWrapper RandomForest             0:00:39       0.8932    0.9053\n",
      "        13   StandardScalerWrapper SGD                      0:00:43       0.8691    0.9053\n",
      "        14   RobustScaler RandomForest                      0:00:38       0.8839    0.9053\n",
      "        15   StandardScalerWrapper KNN                      0:00:41       0.5203    0.9053\n",
      "        16   MinMaxScaler RandomForest                      0:00:42       0.8839    0.9053\n",
      "        17   MinMaxScaler ExtremeRandomTrees                0:00:39       0.8183    0.9053\n",
      "        18   MaxAbsScaler RandomForest                      0:00:41       0.8823    0.9053\n",
      "        19   StandardScalerWrapper XGBoostClassifier        0:00:37       0.9089    0.9089\n",
      "        20   MaxAbsScaler RandomForest                      0:00:41       0.8931    0.9089\n",
      "        21   MaxAbsScaler ExtremeRandomTrees                0:00:39       0.8803    0.9089\n",
      "        22   MaxAbsScaler ExtremeRandomTrees                0:00:38       0.8714    0.9089\n",
      "        23   MinMaxScaler ExtremeRandomTrees                0:00:45       0.9041    0.9089\n",
      "        24   MaxAbsScaler ExtremeRandomTrees                0:00:43       0.8972    0.9089\n",
      "        25   PCA XGBoostClassifier                          0:00:38       0.4839    0.9089\n",
      "        26   StandardScalerWrapper XGBoostClassifier        0:00:41       0.8972    0.9089\n",
      "        27   MaxAbsScaler RandomForest                      0:00:41       0.8968    0.9089\n",
      "        28   RobustScaler LightGBM                          0:00:40       0.9012    0.9089\n",
      "        29   RobustScaler RandomForest                      0:00:44       0.9099    0.9099\n",
      "        30   StandardScalerWrapper XGBoostClassifier        0:00:40       0.9021    0.9099\n",
      "        31   MinMaxScaler LightGBM                          0:00:38       0.9037    0.9099\n",
      "        32   StandardScalerWrapper SVM                      0:00:43       0.8680    0.9099\n",
      "        33   StandardScalerWrapper XGBoostClassifier        0:00:38       0.9055    0.9099\n",
      "        34   RobustScaler GradientBoosting                  0:00:43       0.8965    0.9099\n",
      "        35   RobustScaler RandomForest                      0:00:39       0.7356    0.9099\n",
      "        36   MinMaxScaler LightGBM                          0:00:38       0.8889    0.9099\n",
      "        37   MinMaxScaler RandomForest                      0:00:52       0.9037    0.9099\n",
      "        38   MaxAbsScaler LightGBM                          0:00:38       0.9023    0.9099\n",
      "        39   StandardScalerWrapper LogisticRegression       0:00:58       0.8638    0.9099\n",
      "        40   StandardScalerWrapper RandomForest             0:00:40       0.9019    0.9099\n",
      "        41   StandardScalerWrapper RandomForest             0:00:45       0.9019    0.9099\n",
      "        42   StandardScalerWrapper XGBoostClassifier        0:00:48       0.9026    0.9099\n",
      "        43   StandardScalerWrapper XGBoostClassifier        0:00:58       0.9020    0.9099\n",
      "        44   StandardScalerWrapper XGBoostClassifier        0:00:40       0.9049    0.9099\n",
      "        45   MinMaxScaler RandomForest                      0:00:49       0.8431    0.9099\n",
      "        46   StandardScalerWrapper SVM                      0:00:42       0.8759    0.9099\n",
      "        47   StandardScalerWrapper XGBoostClassifier        0:00:41       0.9092    0.9099\n",
      "        48   StandardScalerWrapper XGBoostClassifier        0:00:37       0.9003    0.9099\n",
      "        49                                                  0:00:49          nan    0.9099\n",
      "        50    VotingEnsemble                                0:01:17       0.9189    0.9189\n"
     ]
    },
    {
     "data": {
      "text/plain": [
       "{'runId': 'AutoML_5f44cd97-a7a6-4be3-8a34-e06659c87f9b',\n",
       " 'target': 'CI-AutoML01',\n",
       " 'status': 'Completed',\n",
       " 'startTimeUtc': '2021-07-12T15:39:01.825357Z',\n",
       " 'endTimeUtc': '2021-07-12T16:01:19.152463Z',\n",
       " 'properties': {'num_iterations': '1000',\n",
       "  'training_type': 'TrainFull',\n",
       "  'acquisition_function': 'EI',\n",
       "  'primary_metric': 'AUC_weighted',\n",
       "  'train_split': '0',\n",
       "  'acquisition_parameter': '0',\n",
       "  'num_cross_validation': None,\n",
       "  'target': 'CI-AutoML01',\n",
       "  'AMLSettingsJsonString': '{\"path\":null,\"name\":\"AutoML-Exp002\",\"subscription_id\":\"f5091c60-1c3c-430f-8d81-d802f6bf2414\",\"resource_group\":\"aml-quickstarts-150619\",\"workspace_name\":\"quick-starts-ws-150619\",\"region\":\"southcentralus\",\"compute_target\":\"CI-AutoML01\",\"spark_service\":null,\"azure_service\":\"remote\",\"many_models\":false,\"pipeline_fetch_max_batch_size\":1,\"enable_batch_run\":false,\"enable_run_restructure\":false,\"start_auxiliary_runs_before_parent_complete\":false,\"enable_code_generation\":false,\"iterations\":1000,\"primary_metric\":\"AUC_weighted\",\"task_type\":\"classification\",\"data_script\":null,\"test_size\":0.0,\"validation_size\":0.0,\"n_cross_validations\":null,\"y_min\":null,\"y_max\":null,\"num_classes\":null,\"featurization\":\"auto\",\"_ignore_package_version_incompatibilities\":false,\"is_timeseries\":false,\"max_cores_per_iteration\":1,\"max_concurrent_iterations\":5,\"iteration_timeout_minutes\":null,\"mem_in_mb\":null,\"enforce_time_on_windows\":false,\"experiment_timeout_minutes\":30,\"experiment_exit_score\":null,\"whitelist_models\":null,\"blacklist_algos\":[\"TensorFlowLinearClassifier\",\"TensorFlowDNN\"],\"supported_models\":[\"KNN\",\"ExtremeRandomTrees\",\"BernoulliNaiveBayes\",\"TensorFlowLinearClassifier\",\"LinearSVM\",\"SGD\",\"MultinomialNaiveBayes\",\"LogisticRegression\",\"DecisionTree\",\"RandomForest\",\"TensorFlowDNN\",\"AveragedPerceptronClassifier\",\"SVM\",\"GradientBoosting\",\"LightGBM\",\"XGBoostClassifier\"],\"private_models\":[],\"auto_blacklist\":true,\"blacklist_samples_reached\":false,\"exclude_nan_labels\":true,\"verbosity\":20,\"_debug_log\":\"azureml_automl.log\",\"show_warnings\":false,\"model_explainability\":true,\"service_url\":null,\"sdk_url\":null,\"sdk_packages\":null,\"enable_onnx_compatible_models\":true,\"enable_split_onnx_featurizer_estimator_models\":false,\"vm_type\":\"STANDARD_DS12_V2\",\"telemetry_verbosity\":20,\"send_telemetry\":true,\"enable_dnn\":false,\"scenario\":\"SDK-1.13.0\",\"environment_label\":null,\"save_mlflow\":false,\"force_text_dnn\":false,\"enable_feature_sweeping\":false,\"enable_early_stopping\":true,\"early_stopping_n_iters\":10,\"metrics\":null,\"enable_metric_confidence\":false,\"enable_ensembling\":true,\"enable_stack_ensembling\":false,\"ensemble_iterations\":15,\"enable_tf\":false,\"enable_subsampling\":null,\"subsample_seed\":null,\"enable_nimbusml\":false,\"enable_streaming\":false,\"force_streaming\":false,\"track_child_runs\":true,\"allowed_private_models\":[],\"label_column_name\":\"DEATH_EVENT\",\"weight_column_name\":null,\"cv_split_column_names\":null,\"enable_local_managed\":false,\"_local_managed_run_id\":null,\"cost_mode\":1,\"lag_length\":0,\"metric_operation\":\"maximize\",\"preprocess\":true}',\n",
       "  'DataPrepJsonString': '{\\\\\"training_data\\\\\": {\\\\\"datasetId\\\\\": \\\\\"5c8b6425-9f2f-45ec-ad72-3b2aecf104ea\\\\\"}, \\\\\"datasets\\\\\": 0}',\n",
       "  'EnableSubsampling': None,\n",
       "  'runTemplate': 'AutoML',\n",
       "  'azureml.runsource': 'automl',\n",
       "  'display_task_type': 'classification',\n",
       "  'dependencies_versions': '{\"azureml-widgets\": \"1.31.0\", \"azureml-train\": \"1.31.0\", \"azureml-train-restclients-hyperdrive\": \"1.31.0\", \"azureml-train-core\": \"1.31.0\", \"azureml-train-automl\": \"1.31.0\", \"azureml-train-automl-runtime\": \"1.31.0\", \"azureml-train-automl-client\": \"1.31.0\", \"azureml-tensorboard\": \"1.31.0\", \"azureml-telemetry\": \"1.31.0\", \"azureml-sdk\": \"1.31.0\", \"azureml-samples\": \"0+unknown\", \"azureml-responsibleai\": \"1.31.0\", \"azureml-pipeline\": \"1.31.0\", \"azureml-pipeline-steps\": \"1.31.0\", \"azureml-pipeline-core\": \"1.31.0\", \"azureml-opendatasets\": \"1.31.0\", \"azureml-model-management-sdk\": \"1.0.1b6.post1\", \"azureml-mlflow\": \"1.31.0\", \"azureml-interpret\": \"1.31.0\", \"azureml-explain-model\": \"1.31.0\", \"azureml-defaults\": \"1.31.0\", \"azureml-dataset-runtime\": \"1.31.0\", \"azureml-dataprep\": \"2.18.0\", \"azureml-dataprep-rslex\": \"1.16.1\", \"azureml-dataprep-native\": \"36.0.0\", \"azureml-datadrift\": \"1.31.0\", \"azureml-core\": \"1.31.0\", \"azureml-contrib-services\": \"1.31.0\", \"azureml-contrib-server\": \"1.31.0\", \"azureml-contrib-reinforcementlearning\": \"1.31.0\", \"azureml-contrib-pipeline-steps\": \"1.31.0\", \"azureml-contrib-notebook\": \"1.31.0\", \"azureml-contrib-fairness\": \"1.31.0\", \"azureml-contrib-dataset\": \"1.31.0\", \"azureml-cli-common\": \"1.31.0\", \"azureml-automl-runtime\": \"1.31.0\", \"azureml-automl-dnn-nlp\": \"1.31.0\", \"azureml-automl-core\": \"1.31.0\", \"azureml-accel-models\": \"1.31.0\"}',\n",
       "  '_aml_system_scenario_identification': 'Remote.Parent',\n",
       "  'ClientType': 'SDK',\n",
       "  'environment_cpu_name': 'AzureML-AutoML',\n",
       "  'environment_cpu_label': 'prod',\n",
       "  'environment_gpu_name': 'AzureML-AutoML-GPU',\n",
       "  'environment_gpu_label': 'prod',\n",
       "  'root_attribution': 'automl',\n",
       "  'attribution': 'AutoML',\n",
       "  'Orchestrator': 'AutoML',\n",
       "  'CancelUri': 'https://southcentralus.api.azureml.ms/jasmine/v1.0/subscriptions/f5091c60-1c3c-430f-8d81-d802f6bf2414/resourceGroups/aml-quickstarts-150619/providers/Microsoft.MachineLearningServices/workspaces/quick-starts-ws-150619/experimentids/96786c33-0833-419a-863a-2995425437f6/cancel/AutoML_5f44cd97-a7a6-4be3-8a34-e06659c87f9b',\n",
       "  'ClientSdkVersion': '1.31.0',\n",
       "  'snapshotId': '00000000-0000-0000-0000-000000000000',\n",
       "  'SetupRunId': 'AutoML_5f44cd97-a7a6-4be3-8a34-e06659c87f9b_setup',\n",
       "  'SetupRunContainerId': 'dcid.AutoML_5f44cd97-a7a6-4be3-8a34-e06659c87f9b_setup',\n",
       "  'FeaturizationRunJsonPath': 'featurizer_container.json',\n",
       "  'FeaturizationRunId': 'AutoML_5f44cd97-a7a6-4be3-8a34-e06659c87f9b_featurize',\n",
       "  'ProblemInfoJsonString': '{\"dataset_num_categorical\": 0, \"is_sparse\": false, \"subsampling\": false, \"has_extra_col\": true, \"dataset_classes\": 2, \"dataset_features\": 12, \"dataset_samples\": 299, \"single_frequency_class_detected\": false}',\n",
       "  'ModelExplainRunId': 'AutoML_5f44cd97-a7a6-4be3-8a34-e06659c87f9b_ModelExplain'},\n",
       " 'inputDatasets': [{'dataset': {'id': '5c8b6425-9f2f-45ec-ad72-3b2aecf104ea'}, 'consumptionDetails': {'type': 'RunInput', 'inputName': 'training_data', 'mechanism': 'Direct'}}],\n",
       " 'outputDatasets': [],\n",
       " 'logFiles': {},\n",
       " 'submittedBy': 'ODL_User 150619'}"
      ]
     },
     "execution_count": 10,
     "metadata": {},
     "output_type": "execute_result"
    }
   ],
   "source": [
    "# waiting for completion of remote_run while showing its output\n",
    "remote_run.wait_for_completion(show_output=True)"
   ]
  },
  {
   "cell_type": "markdown",
   "metadata": {},
   "source": [
    "## Run Details\n",
    "\n",
    "OPTIONAL: Write about the different models trained and their performance. Why do you think some models did better than others?\n",
    "\n",
    "TODO: In the cell below, use the `RunDetails` widget to show the different experiments."
   ]
  },
  {
   "cell_type": "code",
   "execution_count": 11,
   "metadata": {
    "gather": {
     "logged": 1610868834485
    },
    "jupyter": {
     "outputs_hidden": false,
     "source_hidden": false
    },
    "nteract": {
     "transient": {
      "deleting": false
     }
    }
   },
   "outputs": [
    {
     "data": {
      "application/vnd.jupyter.widget-view+json": {
       "model_id": "61a27145805148e7b40b0aec5181d94d",
       "version_major": 2,
       "version_minor": 0
      },
      "text/plain": [
       "_AutoMLWidget(widget_settings={'childWidgetDisplay': 'popup', 'send_telemetry': False, 'log_level': 'INFO', 's…"
      ]
     },
     "metadata": {},
     "output_type": "display_data"
    },
    {
     "data": {
      "application/aml.mini.widget.v1": "{\"status\": \"Completed\", \"workbench_run_details_uri\": \"https://ml.azure.com/runs/AutoML_5f44cd97-a7a6-4be3-8a34-e06659c87f9b?wsid=/subscriptions/f5091c60-1c3c-430f-8d81-d802f6bf2414/resourcegroups/aml-quickstarts-150619/workspaces/quick-starts-ws-150619&tid=660b3398-b80e-49d2-bc5b-ac1dc93b5254\", \"run_id\": \"AutoML_5f44cd97-a7a6-4be3-8a34-e06659c87f9b\", \"run_properties\": {\"run_id\": \"AutoML_5f44cd97-a7a6-4be3-8a34-e06659c87f9b\", \"created_utc\": \"2021-07-12T15:38:47.098776Z\", \"properties\": {\"num_iterations\": \"1000\", \"training_type\": \"TrainFull\", \"acquisition_function\": \"EI\", \"primary_metric\": \"AUC_weighted\", \"train_split\": \"0\", \"acquisition_parameter\": \"0\", \"num_cross_validation\": null, \"target\": \"CI-AutoML01\", \"AMLSettingsJsonString\": \"{\\\"path\\\":null,\\\"name\\\":\\\"AutoML-Exp002\\\",\\\"subscription_id\\\":\\\"f5091c60-1c3c-430f-8d81-d802f6bf2414\\\",\\\"resource_group\\\":\\\"aml-quickstarts-150619\\\",\\\"workspace_name\\\":\\\"quick-starts-ws-150619\\\",\\\"region\\\":\\\"southcentralus\\\",\\\"compute_target\\\":\\\"CI-AutoML01\\\",\\\"spark_service\\\":null,\\\"azure_service\\\":\\\"remote\\\",\\\"many_models\\\":false,\\\"pipeline_fetch_max_batch_size\\\":1,\\\"enable_batch_run\\\":false,\\\"enable_run_restructure\\\":false,\\\"start_auxiliary_runs_before_parent_complete\\\":false,\\\"enable_code_generation\\\":false,\\\"iterations\\\":1000,\\\"primary_metric\\\":\\\"AUC_weighted\\\",\\\"task_type\\\":\\\"classification\\\",\\\"data_script\\\":null,\\\"test_size\\\":0.0,\\\"validation_size\\\":0.0,\\\"n_cross_validations\\\":null,\\\"y_min\\\":null,\\\"y_max\\\":null,\\\"num_classes\\\":null,\\\"featurization\\\":\\\"auto\\\",\\\"_ignore_package_version_incompatibilities\\\":false,\\\"is_timeseries\\\":false,\\\"max_cores_per_iteration\\\":1,\\\"max_concurrent_iterations\\\":5,\\\"iteration_timeout_minutes\\\":null,\\\"mem_in_mb\\\":null,\\\"enforce_time_on_windows\\\":false,\\\"experiment_timeout_minutes\\\":30,\\\"experiment_exit_score\\\":null,\\\"whitelist_models\\\":null,\\\"blacklist_algos\\\":[\\\"TensorFlowLinearClassifier\\\",\\\"TensorFlowDNN\\\"],\\\"supported_models\\\":[\\\"KNN\\\",\\\"ExtremeRandomTrees\\\",\\\"BernoulliNaiveBayes\\\",\\\"TensorFlowLinearClassifier\\\",\\\"LinearSVM\\\",\\\"SGD\\\",\\\"MultinomialNaiveBayes\\\",\\\"LogisticRegression\\\",\\\"DecisionTree\\\",\\\"RandomForest\\\",\\\"TensorFlowDNN\\\",\\\"AveragedPerceptronClassifier\\\",\\\"SVM\\\",\\\"GradientBoosting\\\",\\\"LightGBM\\\",\\\"XGBoostClassifier\\\"],\\\"private_models\\\":[],\\\"auto_blacklist\\\":true,\\\"blacklist_samples_reached\\\":false,\\\"exclude_nan_labels\\\":true,\\\"verbosity\\\":20,\\\"_debug_log\\\":\\\"azureml_automl.log\\\",\\\"show_warnings\\\":false,\\\"model_explainability\\\":true,\\\"service_url\\\":null,\\\"sdk_url\\\":null,\\\"sdk_packages\\\":null,\\\"enable_onnx_compatible_models\\\":true,\\\"enable_split_onnx_featurizer_estimator_models\\\":false,\\\"vm_type\\\":\\\"STANDARD_DS12_V2\\\",\\\"telemetry_verbosity\\\":20,\\\"send_telemetry\\\":true,\\\"enable_dnn\\\":false,\\\"scenario\\\":\\\"SDK-1.13.0\\\",\\\"environment_label\\\":null,\\\"save_mlflow\\\":false,\\\"force_text_dnn\\\":false,\\\"enable_feature_sweeping\\\":false,\\\"enable_early_stopping\\\":true,\\\"early_stopping_n_iters\\\":10,\\\"metrics\\\":null,\\\"enable_metric_confidence\\\":false,\\\"enable_ensembling\\\":true,\\\"enable_stack_ensembling\\\":false,\\\"ensemble_iterations\\\":15,\\\"enable_tf\\\":false,\\\"enable_subsampling\\\":null,\\\"subsample_seed\\\":null,\\\"enable_nimbusml\\\":false,\\\"enable_streaming\\\":false,\\\"force_streaming\\\":false,\\\"track_child_runs\\\":true,\\\"allowed_private_models\\\":[],\\\"label_column_name\\\":\\\"DEATH_EVENT\\\",\\\"weight_column_name\\\":null,\\\"cv_split_column_names\\\":null,\\\"enable_local_managed\\\":false,\\\"_local_managed_run_id\\\":null,\\\"cost_mode\\\":1,\\\"lag_length\\\":0,\\\"metric_operation\\\":\\\"maximize\\\",\\\"preprocess\\\":true}\", \"DataPrepJsonString\": \"{\\\\\\\"training_data\\\\\\\": {\\\\\\\"datasetId\\\\\\\": \\\\\\\"5c8b6425-9f2f-45ec-ad72-3b2aecf104ea\\\\\\\"}, \\\\\\\"datasets\\\\\\\": 0}\", \"EnableSubsampling\": null, \"runTemplate\": \"AutoML\", \"azureml.runsource\": \"automl\", \"display_task_type\": \"classification\", \"dependencies_versions\": \"{\\\"azureml-widgets\\\": \\\"1.31.0\\\", \\\"azureml-train\\\": \\\"1.31.0\\\", \\\"azureml-train-restclients-hyperdrive\\\": \\\"1.31.0\\\", \\\"azureml-train-core\\\": \\\"1.31.0\\\", \\\"azureml-train-automl\\\": \\\"1.31.0\\\", \\\"azureml-train-automl-runtime\\\": \\\"1.31.0\\\", \\\"azureml-train-automl-client\\\": \\\"1.31.0\\\", \\\"azureml-tensorboard\\\": \\\"1.31.0\\\", \\\"azureml-telemetry\\\": \\\"1.31.0\\\", \\\"azureml-sdk\\\": \\\"1.31.0\\\", \\\"azureml-samples\\\": \\\"0+unknown\\\", \\\"azureml-responsibleai\\\": \\\"1.31.0\\\", \\\"azureml-pipeline\\\": \\\"1.31.0\\\", \\\"azureml-pipeline-steps\\\": \\\"1.31.0\\\", \\\"azureml-pipeline-core\\\": \\\"1.31.0\\\", \\\"azureml-opendatasets\\\": \\\"1.31.0\\\", \\\"azureml-model-management-sdk\\\": \\\"1.0.1b6.post1\\\", \\\"azureml-mlflow\\\": \\\"1.31.0\\\", \\\"azureml-interpret\\\": \\\"1.31.0\\\", \\\"azureml-explain-model\\\": \\\"1.31.0\\\", \\\"azureml-defaults\\\": \\\"1.31.0\\\", \\\"azureml-dataset-runtime\\\": \\\"1.31.0\\\", \\\"azureml-dataprep\\\": \\\"2.18.0\\\", \\\"azureml-dataprep-rslex\\\": \\\"1.16.1\\\", \\\"azureml-dataprep-native\\\": \\\"36.0.0\\\", \\\"azureml-datadrift\\\": \\\"1.31.0\\\", \\\"azureml-core\\\": \\\"1.31.0\\\", \\\"azureml-contrib-services\\\": \\\"1.31.0\\\", \\\"azureml-contrib-server\\\": \\\"1.31.0\\\", \\\"azureml-contrib-reinforcementlearning\\\": \\\"1.31.0\\\", \\\"azureml-contrib-pipeline-steps\\\": \\\"1.31.0\\\", \\\"azureml-contrib-notebook\\\": \\\"1.31.0\\\", \\\"azureml-contrib-fairness\\\": \\\"1.31.0\\\", \\\"azureml-contrib-dataset\\\": \\\"1.31.0\\\", \\\"azureml-cli-common\\\": \\\"1.31.0\\\", \\\"azureml-automl-runtime\\\": \\\"1.31.0\\\", \\\"azureml-automl-dnn-nlp\\\": \\\"1.31.0\\\", \\\"azureml-automl-core\\\": \\\"1.31.0\\\", \\\"azureml-accel-models\\\": \\\"1.31.0\\\"}\", \"_aml_system_scenario_identification\": \"Remote.Parent\", \"ClientType\": \"SDK\", \"environment_cpu_name\": \"AzureML-AutoML\", \"environment_cpu_label\": \"prod\", \"environment_gpu_name\": \"AzureML-AutoML-GPU\", \"environment_gpu_label\": \"prod\", \"root_attribution\": \"automl\", \"attribution\": \"AutoML\", \"Orchestrator\": \"AutoML\", \"CancelUri\": \"https://southcentralus.api.azureml.ms/jasmine/v1.0/subscriptions/f5091c60-1c3c-430f-8d81-d802f6bf2414/resourceGroups/aml-quickstarts-150619/providers/Microsoft.MachineLearningServices/workspaces/quick-starts-ws-150619/experimentids/96786c33-0833-419a-863a-2995425437f6/cancel/AutoML_5f44cd97-a7a6-4be3-8a34-e06659c87f9b\", \"ClientSdkVersion\": \"1.31.0\", \"snapshotId\": \"00000000-0000-0000-0000-000000000000\", \"SetupRunId\": \"AutoML_5f44cd97-a7a6-4be3-8a34-e06659c87f9b_setup\", \"SetupRunContainerId\": \"dcid.AutoML_5f44cd97-a7a6-4be3-8a34-e06659c87f9b_setup\", \"FeaturizationRunJsonPath\": \"featurizer_container.json\", \"FeaturizationRunId\": \"AutoML_5f44cd97-a7a6-4be3-8a34-e06659c87f9b_featurize\", \"ProblemInfoJsonString\": \"{\\\"dataset_num_categorical\\\": 0, \\\"is_sparse\\\": false, \\\"subsampling\\\": false, \\\"has_extra_col\\\": true, \\\"dataset_classes\\\": 2, \\\"dataset_features\\\": 12, \\\"dataset_samples\\\": 299, \\\"single_frequency_class_detected\\\": false}\", \"ModelExplainRunId\": \"AutoML_5f44cd97-a7a6-4be3-8a34-e06659c87f9b_ModelExplain\"}, \"tags\": {\"model_explain_run\": \"best_run\", \"_aml_system_azureml.automlComponent\": \"AutoML\", \"pipeline_id\": \"\", \"score\": \"\", \"predicted_cost\": \"\", \"fit_time\": \"\", \"training_percent\": \"\", \"iteration\": \"\", \"run_preprocessor\": \"\", \"run_algorithm\": \"\", \"dynamic_whitelisting_iterations\": \"<25>;<30>;<35>;<40>;<45>;\", \"automl_best_child_run_id\": \"AutoML_5f44cd97-a7a6-4be3-8a34-e06659c87f9b_50\", \"model_explain_best_run_child_id\": \"AutoML_5f44cd97-a7a6-4be3-8a34-e06659c87f9b_50\"}, \"end_time_utc\": \"2021-07-12T16:01:19.152463Z\", \"status\": \"Completed\", \"log_files\": {}, \"log_groups\": [], \"run_duration\": \"0:22:32\", \"run_number\": \"2\", \"run_queued_details\": {\"status\": \"Completed\", \"details\": null}}, \"child_runs\": [{\"run_id\": \"AutoML_5f44cd97-a7a6-4be3-8a34-e06659c87f9b_0\", \"run_number\": 6, \"metric\": null, \"status\": \"Completed\", \"run_type\": \"azureml.scriptrun\", \"training_percent\": \"100\", \"start_time\": \"2021-07-12T15:44:52.285593Z\", \"end_time\": \"2021-07-12T15:45:31.549653Z\", \"created_time\": \"2021-07-12T15:44:40.423868Z\", \"created_time_dt\": \"2021-07-12T15:44:40.423868Z\", \"duration\": \"0:00:51\", \"iteration\": \"0\", \"goal\": \"AUC_weighted_max\", \"run_name\": \"MaxAbsScaler, LightGBM\", \"run_properties\": \"copy=True\", \"primary_metric\": 0.88409554, \"best_metric\": 0.88409554}, {\"run_id\": \"AutoML_5f44cd97-a7a6-4be3-8a34-e06659c87f9b_1\", \"run_number\": 7, \"metric\": null, \"status\": \"Completed\", \"run_type\": \"azureml.scriptrun\", \"training_percent\": \"100\", \"start_time\": \"2021-07-12T15:47:35.434Z\", \"end_time\": \"2021-07-12T15:48:15.294576Z\", \"created_time\": \"2021-07-12T15:44:40.449064Z\", \"created_time_dt\": \"2021-07-12T15:44:40.449064Z\", \"duration\": \"0:03:34\", \"iteration\": \"1\", \"goal\": \"AUC_weighted_max\", \"run_name\": \"MaxAbsScaler, XGBoostClassifier\", \"run_properties\": \"copy=True\", \"primary_metric\": 0.88473694, \"best_metric\": 0.88473694}, {\"run_id\": \"AutoML_5f44cd97-a7a6-4be3-8a34-e06659c87f9b_2\", \"run_number\": 8, \"metric\": null, \"status\": \"Completed\", \"run_type\": \"azureml.scriptrun\", \"training_percent\": \"100\", \"start_time\": \"2021-07-12T15:45:45.919483Z\", \"end_time\": \"2021-07-12T15:46:25.320265Z\", \"created_time\": \"2021-07-12T15:44:40.464289Z\", \"created_time_dt\": \"2021-07-12T15:44:40.464289Z\", \"duration\": \"0:01:44\", \"iteration\": \"2\", \"goal\": \"AUC_weighted_max\", \"run_name\": \"MinMaxScaler, RandomForest\", \"run_properties\": \"copy=True, feature_range=(0, 1\", \"primary_metric\": 0.90193772, \"best_metric\": 0.90193772}, {\"run_id\": \"AutoML_5f44cd97-a7a6-4be3-8a34-e06659c87f9b_3\", \"run_number\": 9, \"metric\": null, \"status\": \"Completed\", \"run_type\": \"azureml.scriptrun\", \"training_percent\": \"100\", \"start_time\": \"2021-07-12T15:48:31.723443Z\", \"end_time\": \"2021-07-12T15:49:12.737796Z\", \"created_time\": \"2021-07-12T15:44:40.472115Z\", \"created_time_dt\": \"2021-07-12T15:44:40.472115Z\", \"duration\": \"0:04:32\", \"iteration\": \"3\", \"goal\": \"AUC_weighted_max\", \"run_name\": \"RobustScaler, ExtremeRandomTrees\", \"run_properties\": \"copy=True, quantile_range=[10, 90], with_centering=False,\\n             with_scaling=False\", \"primary_metric\": 0.87994788, \"best_metric\": 0.90193772}, {\"run_id\": \"AutoML_5f44cd97-a7a6-4be3-8a34-e06659c87f9b_4\", \"run_number\": 10, \"metric\": null, \"status\": \"Completed\", \"run_type\": \"azureml.scriptrun\", \"training_percent\": \"100\", \"start_time\": \"2021-07-12T15:46:43.949044Z\", \"end_time\": \"2021-07-12T15:47:21.492Z\", \"created_time\": \"2021-07-12T15:44:40.469793Z\", \"created_time_dt\": \"2021-07-12T15:44:40.469793Z\", \"duration\": \"0:02:41\", \"iteration\": \"4\", \"goal\": \"AUC_weighted_max\", \"run_name\": \"MinMaxScaler, RandomForest\", \"run_properties\": \"copy=True, feature_range=(0, 1\", \"primary_metric\": 0.90528531, \"best_metric\": 0.90528531}, {\"run_id\": \"AutoML_5f44cd97-a7a6-4be3-8a34-e06659c87f9b_5\", \"run_number\": 11, \"metric\": null, \"status\": \"Completed\", \"run_type\": \"azureml.scriptrun\", \"training_percent\": \"100\", \"start_time\": \"2021-07-12T15:48:47.95976Z\", \"end_time\": \"2021-07-12T15:50:18.46444Z\", \"created_time\": \"2021-07-12T15:45:33.069272Z\", \"created_time_dt\": \"2021-07-12T15:45:33.069272Z\", \"duration\": \"0:04:45\", \"iteration\": \"5\", \"goal\": \"AUC_weighted_max\", \"run_name\": \"MinMaxScaler, RandomForest\", \"run_properties\": \"copy=True, feature_range=(0, 1\", \"primary_metric\": 0.88456257, \"best_metric\": 0.90528531}, {\"run_id\": \"AutoML_5f44cd97-a7a6-4be3-8a34-e06659c87f9b_6\", \"run_number\": 12, \"metric\": null, \"status\": \"Completed\", \"run_type\": \"azureml.scriptrun\", \"training_percent\": \"100\", \"start_time\": \"2021-07-12T15:48:44.854427Z\", \"end_time\": \"2021-07-12T15:50:14.781276Z\", \"created_time\": \"2021-07-12T15:46:29.123762Z\", \"created_time_dt\": \"2021-07-12T15:46:29.123762Z\", \"duration\": \"0:03:45\", \"iteration\": \"6\", \"goal\": \"AUC_weighted_max\", \"run_name\": \"StandardScalerWrapper, RandomForest\", \"run_properties\": \"\\n    copy=True,\\n    with_mean=True,\\n    with_std=False\\n\", \"primary_metric\": 0.88431575, \"best_metric\": 0.90528531}, {\"run_id\": \"AutoML_5f44cd97-a7a6-4be3-8a34-e06659c87f9b_7\", \"run_number\": 13, \"metric\": null, \"status\": \"Completed\", \"run_type\": \"azureml.scriptrun\", \"training_percent\": \"100\", \"start_time\": \"2021-07-12T15:48:46.080352Z\", \"end_time\": \"2021-07-12T15:50:19.848057Z\", \"created_time\": \"2021-07-12T15:47:25.024342Z\", \"created_time_dt\": \"2021-07-12T15:47:25.024342Z\", \"duration\": \"0:02:54\", \"iteration\": \"7\", \"goal\": \"AUC_weighted_max\", \"run_name\": \"MinMaxScaler, ExtremeRandomTrees\", \"run_properties\": \"copy=True, feature_range=(0, 1\", \"primary_metric\": 0.8966423, \"best_metric\": 0.90528531}, {\"run_id\": \"AutoML_5f44cd97-a7a6-4be3-8a34-e06659c87f9b_8\", \"run_number\": 14, \"metric\": null, \"status\": \"Completed\", \"run_type\": \"azureml.scriptrun\", \"training_percent\": \"100\", \"start_time\": \"2021-07-12T15:49:24.85533Z\", \"end_time\": \"2021-07-12T15:50:04.263403Z\", \"created_time\": \"2021-07-12T15:48:19.242103Z\", \"created_time_dt\": \"2021-07-12T15:48:19.242103Z\", \"duration\": \"0:01:45\", \"iteration\": \"8\", \"goal\": \"AUC_weighted_max\", \"run_name\": \"MinMaxScaler, ExtremeRandomTrees\", \"run_properties\": \"copy=True, feature_range=(0, 1\", \"primary_metric\": 0.87772013, \"best_metric\": 0.90528531}, {\"run_id\": \"AutoML_5f44cd97-a7a6-4be3-8a34-e06659c87f9b_9\", \"run_number\": 15, \"metric\": null, \"status\": \"Completed\", \"run_type\": \"azureml.scriptrun\", \"training_percent\": \"100\", \"start_time\": \"2021-07-12T15:50:18.803989Z\", \"end_time\": \"2021-07-12T15:51:01.222237Z\", \"created_time\": \"2021-07-12T15:49:15.5337Z\", \"created_time_dt\": \"2021-07-12T15:49:15.5337Z\", \"duration\": \"0:01:45\", \"iteration\": \"9\", \"goal\": \"AUC_weighted_max\", \"run_name\": \"SparseNormalizer, KNN\", \"run_properties\": \"copy=True, norm='l2'\", \"primary_metric\": 0.7496161, \"best_metric\": 0.90528531}, {\"run_id\": \"AutoML_5f44cd97-a7a6-4be3-8a34-e06659c87f9b_10\", \"run_number\": 16, \"metric\": null, \"status\": \"Completed\", \"run_type\": \"azureml.scriptrun\", \"training_percent\": \"100\", \"start_time\": \"2021-07-12T15:50:28.725823Z\", \"end_time\": \"2021-07-12T15:51:07.61281Z\", \"created_time\": \"2021-07-12T15:50:07.244733Z\", \"created_time_dt\": \"2021-07-12T15:50:07.244733Z\", \"duration\": \"0:01:00\", \"iteration\": \"10\", \"goal\": \"AUC_weighted_max\", \"run_name\": \"MinMaxScaler, ExtremeRandomTrees\", \"run_properties\": \"copy=True, feature_range=(0, 1\", \"primary_metric\": 0.887506, \"best_metric\": 0.90528531}, {\"run_id\": \"AutoML_5f44cd97-a7a6-4be3-8a34-e06659c87f9b_11\", \"run_number\": 17, \"metric\": null, \"status\": \"Completed\", \"run_type\": \"azureml.scriptrun\", \"training_percent\": \"100\", \"start_time\": \"2021-07-12T15:50:34.954994Z\", \"end_time\": \"2021-07-12T15:51:12.630578Z\", \"created_time\": \"2021-07-12T15:50:18.1549Z\", \"created_time_dt\": \"2021-07-12T15:50:18.1549Z\", \"duration\": \"0:00:54\", \"iteration\": \"11\", \"goal\": \"AUC_weighted_max\", \"run_name\": \"RobustScaler, ExtremeRandomTrees\", \"run_properties\": \"copy=True, quantile_range=[10, 90], with_centering=True,\\n             with_scaling=False\", \"primary_metric\": 0.89468683, \"best_metric\": 0.90528531}, {\"run_id\": \"AutoML_5f44cd97-a7a6-4be3-8a34-e06659c87f9b_12\", \"run_number\": 18, \"metric\": null, \"status\": \"Completed\", \"run_type\": \"azureml.scriptrun\", \"training_percent\": \"100\", \"start_time\": \"2021-07-12T15:50:35.737802Z\", \"end_time\": \"2021-07-12T15:51:15.049706Z\", \"created_time\": \"2021-07-12T15:50:22.856782Z\", \"created_time_dt\": \"2021-07-12T15:50:22.856782Z\", \"duration\": \"0:00:52\", \"iteration\": \"12\", \"goal\": \"AUC_weighted_max\", \"run_name\": \"StandardScalerWrapper, RandomForest\", \"run_properties\": \"\\n    copy=True,\\n    with_mean=True,\\n    with_std=False\\n\", \"primary_metric\": 0.89324716, \"best_metric\": 0.90528531}, {\"run_id\": \"AutoML_5f44cd97-a7a6-4be3-8a34-e06659c87f9b_13\", \"run_number\": 19, \"metric\": null, \"status\": \"Completed\", \"run_type\": \"azureml.scriptrun\", \"training_percent\": \"100\", \"start_time\": \"2021-07-12T15:51:15.829754Z\", \"end_time\": \"2021-07-12T15:51:59.143553Z\", \"created_time\": \"2021-07-12T15:50:22.868893Z\", \"created_time_dt\": \"2021-07-12T15:50:22.868893Z\", \"duration\": \"0:01:36\", \"iteration\": \"13\", \"goal\": \"AUC_weighted_max\", \"run_name\": \"StandardScalerWrapper, SGD\", \"run_properties\": \"\\n    copy=True,\\n    with_mean=True,\\n    with_std=True\\n\", \"primary_metric\": 0.86906406, \"best_metric\": 0.90528531}, {\"run_id\": \"AutoML_5f44cd97-a7a6-4be3-8a34-e06659c87f9b_14\", \"run_number\": 20, \"metric\": null, \"status\": \"Completed\", \"run_type\": \"azureml.scriptrun\", \"training_percent\": \"100\", \"start_time\": \"2021-07-12T15:51:22.775888Z\", \"end_time\": \"2021-07-12T15:52:00.971843Z\", \"created_time\": \"2021-07-12T15:51:04.113426Z\", \"created_time_dt\": \"2021-07-12T15:51:04.113426Z\", \"duration\": \"0:00:56\", \"iteration\": \"14\", \"goal\": \"AUC_weighted_max\", \"run_name\": \"RobustScaler, RandomForest\", \"run_properties\": \"copy=True, quantile_range=[10, 90], with_centering=True,\\n             with_scaling=False\", \"primary_metric\": 0.88385904, \"best_metric\": 0.90528531}, {\"run_id\": \"AutoML_5f44cd97-a7a6-4be3-8a34-e06659c87f9b_15\", \"run_number\": 21, \"metric\": null, \"status\": \"Completed\", \"run_type\": \"azureml.scriptrun\", \"training_percent\": \"100\", \"start_time\": \"2021-07-12T15:51:26.612828Z\", \"end_time\": \"2021-07-12T15:52:07.161249Z\", \"created_time\": \"2021-07-12T15:51:10.37712Z\", \"created_time_dt\": \"2021-07-12T15:51:10.37712Z\", \"duration\": \"0:00:56\", \"iteration\": \"15\", \"goal\": \"AUC_weighted_max\", \"run_name\": \"StandardScalerWrapper, KNN\", \"run_properties\": \"\\n    copy=True,\\n    with_mean=True,\\n    with_std=False\\n\", \"primary_metric\": 0.52030533, \"best_metric\": 0.90528531}, {\"run_id\": \"AutoML_5f44cd97-a7a6-4be3-8a34-e06659c87f9b_16\", \"run_number\": 22, \"metric\": null, \"status\": \"Completed\", \"run_type\": \"azureml.scriptrun\", \"training_percent\": \"100\", \"start_time\": \"2021-07-12T15:51:28.86043Z\", \"end_time\": \"2021-07-12T15:52:10.905486Z\", \"created_time\": \"2021-07-12T15:51:15.329669Z\", \"created_time_dt\": \"2021-07-12T15:51:15.329669Z\", \"duration\": \"0:00:55\", \"iteration\": \"16\", \"goal\": \"AUC_weighted_max\", \"run_name\": \"MinMaxScaler, RandomForest\", \"run_properties\": \"copy=True, feature_range=(0, 1\", \"primary_metric\": 0.88386424, \"best_metric\": 0.90528531}, {\"run_id\": \"AutoML_5f44cd97-a7a6-4be3-8a34-e06659c87f9b_17\", \"run_number\": 23, \"metric\": null, \"status\": \"Completed\", \"run_type\": \"azureml.scriptrun\", \"training_percent\": \"100\", \"start_time\": \"2021-07-12T15:52:11.434899Z\", \"end_time\": \"2021-07-12T15:52:50.832366Z\", \"created_time\": \"2021-07-12T15:51:22.035205Z\", \"created_time_dt\": \"2021-07-12T15:51:22.035205Z\", \"duration\": \"0:01:28\", \"iteration\": \"17\", \"goal\": \"AUC_weighted_max\", \"run_name\": \"MinMaxScaler, ExtremeRandomTrees\", \"run_properties\": \"copy=True, feature_range=(0, 1\", \"primary_metric\": 0.81826942, \"best_metric\": 0.90528531}, {\"run_id\": \"AutoML_5f44cd97-a7a6-4be3-8a34-e06659c87f9b_18\", \"run_number\": 24, \"metric\": null, \"status\": \"Completed\", \"run_type\": \"azureml.scriptrun\", \"training_percent\": \"100\", \"start_time\": \"2021-07-12T15:52:19.060259Z\", \"end_time\": \"2021-07-12T15:52:59.642585Z\", \"created_time\": \"2021-07-12T15:52:02.452838Z\", \"created_time_dt\": \"2021-07-12T15:52:02.452838Z\", \"duration\": \"0:00:57\", \"iteration\": \"18\", \"goal\": \"AUC_weighted_max\", \"run_name\": \"MaxAbsScaler, RandomForest\", \"run_properties\": \"copy=True\", \"primary_metric\": 0.88225625, \"best_metric\": 0.90528531}, {\"run_id\": \"AutoML_5f44cd97-a7a6-4be3-8a34-e06659c87f9b_19\", \"run_number\": 25, \"metric\": null, \"status\": \"Completed\", \"run_type\": \"azureml.scriptrun\", \"training_percent\": \"100\", \"start_time\": \"2021-07-12T15:52:22.035284Z\", \"end_time\": \"2021-07-12T15:52:59.165166Z\", \"created_time\": \"2021-07-12T15:52:07.172912Z\", \"created_time_dt\": \"2021-07-12T15:52:07.172912Z\", \"duration\": \"0:00:51\", \"iteration\": \"19\", \"goal\": \"AUC_weighted_max\", \"run_name\": \"StandardScalerWrapper, XGBoostClassifier\", \"run_properties\": \"\\n    copy=True,\\n    with_mean=False,\\n    with_std=False\\n\", \"primary_metric\": 0.90890998, \"best_metric\": 0.90890998}, {\"run_id\": \"AutoML_5f44cd97-a7a6-4be3-8a34-e06659c87f9b_20\", \"run_number\": 26, \"metric\": null, \"status\": \"Completed\", \"run_type\": \"azureml.scriptrun\", \"training_percent\": \"100\", \"start_time\": \"2021-07-12T15:52:23.14005Z\", \"end_time\": \"2021-07-12T15:53:04.521129Z\", \"created_time\": \"2021-07-12T15:52:13.220867Z\", \"created_time_dt\": \"2021-07-12T15:52:13.220867Z\", \"duration\": \"0:00:51\", \"iteration\": \"20\", \"goal\": \"AUC_weighted_max\", \"run_name\": \"MaxAbsScaler, RandomForest\", \"run_properties\": \"copy=True\", \"primary_metric\": 0.89308703, \"best_metric\": 0.90890998}, {\"run_id\": \"AutoML_5f44cd97-a7a6-4be3-8a34-e06659c87f9b_21\", \"run_number\": 27, \"metric\": null, \"status\": \"Completed\", \"run_type\": \"azureml.scriptrun\", \"training_percent\": \"100\", \"start_time\": \"2021-07-12T15:53:06.799217Z\", \"end_time\": \"2021-07-12T15:53:46.012356Z\", \"created_time\": \"2021-07-12T15:52:18.564853Z\", \"created_time_dt\": \"2021-07-12T15:52:18.564853Z\", \"duration\": \"0:01:27\", \"iteration\": \"21\", \"goal\": \"AUC_weighted_max\", \"run_name\": \"MaxAbsScaler, ExtremeRandomTrees\", \"run_properties\": \"copy=True\", \"primary_metric\": 0.88033509, \"best_metric\": 0.90890998}, {\"run_id\": \"AutoML_5f44cd97-a7a6-4be3-8a34-e06659c87f9b_22\", \"run_number\": 28, \"metric\": null, \"status\": \"Completed\", \"run_type\": \"azureml.scriptrun\", \"training_percent\": \"100\", \"start_time\": \"2021-07-12T15:53:12.881473Z\", \"end_time\": \"2021-07-12T15:53:51.1518Z\", \"created_time\": \"2021-07-12T15:52:54.169947Z\", \"created_time_dt\": \"2021-07-12T15:52:54.169947Z\", \"duration\": \"0:00:56\", \"iteration\": \"22\", \"goal\": \"AUC_weighted_max\", \"run_name\": \"MaxAbsScaler, ExtremeRandomTrees\", \"run_properties\": \"copy=True\", \"primary_metric\": 0.87139693, \"best_metric\": 0.90890998}, {\"run_id\": \"AutoML_5f44cd97-a7a6-4be3-8a34-e06659c87f9b_23\", \"run_number\": 29, \"metric\": null, \"status\": \"Completed\", \"run_type\": \"azureml.scriptrun\", \"training_percent\": \"100\", \"start_time\": \"2021-07-12T15:53:13.739463Z\", \"end_time\": \"2021-07-12T15:53:58.600939Z\", \"created_time\": \"2021-07-12T15:53:02.011789Z\", \"created_time_dt\": \"2021-07-12T15:53:02.011789Z\", \"duration\": \"0:00:56\", \"iteration\": \"23\", \"goal\": \"AUC_weighted_max\", \"run_name\": \"MinMaxScaler, ExtremeRandomTrees\", \"run_properties\": \"copy=True, feature_range=(0, 1\", \"primary_metric\": 0.90406565, \"best_metric\": 0.90890998}, {\"run_id\": \"AutoML_5f44cd97-a7a6-4be3-8a34-e06659c87f9b_24\", \"run_number\": 30, \"metric\": null, \"status\": \"Completed\", \"run_type\": \"azureml.scriptrun\", \"training_percent\": \"100\", \"start_time\": \"2021-07-12T15:53:18.092443Z\", \"end_time\": \"2021-07-12T15:54:01.43417Z\", \"created_time\": \"2021-07-12T15:53:02.02834Z\", \"created_time_dt\": \"2021-07-12T15:53:02.02834Z\", \"duration\": \"0:00:59\", \"iteration\": \"24\", \"goal\": \"AUC_weighted_max\", \"run_name\": \"MaxAbsScaler, ExtremeRandomTrees\", \"run_properties\": \"copy=True\", \"primary_metric\": 0.89716906, \"best_metric\": 0.90890998}, {\"run_id\": \"AutoML_5f44cd97-a7a6-4be3-8a34-e06659c87f9b_25\", \"run_number\": 31, \"metric\": null, \"status\": \"Completed\", \"run_type\": \"azureml.scriptrun\", \"training_percent\": \"100\", \"start_time\": \"2021-07-12T15:54:05.29433Z\", \"end_time\": \"2021-07-12T15:54:42.923745Z\", \"created_time\": \"2021-07-12T15:53:08.387879Z\", \"created_time_dt\": \"2021-07-12T15:53:08.387879Z\", \"duration\": \"0:01:34\", \"iteration\": \"25\", \"goal\": \"AUC_weighted_max\", \"run_name\": \"PCA, XGBoostClassifier\", \"run_properties\": \"copy=True, iterated_power='auto', n_components=0.01, random_state=None,\\n    svd_solver='auto', tol=0.0, whiten=False\", \"primary_metric\": 0.48390307, \"best_metric\": 0.90890998}, {\"run_id\": \"AutoML_5f44cd97-a7a6-4be3-8a34-e06659c87f9b_26\", \"run_number\": 32, \"metric\": null, \"status\": \"Completed\", \"run_type\": \"azureml.scriptrun\", \"training_percent\": \"100\", \"start_time\": \"2021-07-12T15:54:06.304198Z\", \"end_time\": \"2021-07-12T15:54:47.451717Z\", \"created_time\": \"2021-07-12T15:53:48.11624Z\", \"created_time_dt\": \"2021-07-12T15:53:48.11624Z\", \"duration\": \"0:00:59\", \"iteration\": \"26\", \"goal\": \"AUC_weighted_max\", \"run_name\": \"StandardScalerWrapper, XGBoostClassifier\", \"run_properties\": \"\\n    copy=True,\\n    with_mean=False,\\n    with_std=False\\n\", \"primary_metric\": 0.8972491, \"best_metric\": 0.90890998}, {\"run_id\": \"AutoML_5f44cd97-a7a6-4be3-8a34-e06659c87f9b_27\", \"run_number\": 33, \"metric\": null, \"status\": \"Completed\", \"run_type\": \"azureml.scriptrun\", \"training_percent\": \"100\", \"start_time\": \"2021-07-12T15:54:12.45945Z\", \"end_time\": \"2021-07-12T15:54:53.582108Z\", \"created_time\": \"2021-07-12T15:53:53.292176Z\", \"created_time_dt\": \"2021-07-12T15:53:53.292176Z\", \"duration\": \"0:01:00\", \"iteration\": \"27\", \"goal\": \"AUC_weighted_max\", \"run_name\": \"MaxAbsScaler, RandomForest\", \"run_properties\": \"copy=True\", \"primary_metric\": 0.89682341, \"best_metric\": 0.90890998}, {\"run_id\": \"AutoML_5f44cd97-a7a6-4be3-8a34-e06659c87f9b_28\", \"run_number\": 34, \"metric\": null, \"status\": \"Completed\", \"run_type\": \"azureml.scriptrun\", \"training_percent\": \"100\", \"start_time\": \"2021-07-12T15:54:15.874495Z\", \"end_time\": \"2021-07-12T15:54:55.940819Z\", \"created_time\": \"2021-07-12T15:54:00.604609Z\", \"created_time_dt\": \"2021-07-12T15:54:00.604609Z\", \"duration\": \"0:00:55\", \"iteration\": \"28\", \"goal\": \"AUC_weighted_max\", \"run_name\": \"RobustScaler, LightGBM\", \"run_properties\": \"copy=True, quantile_range=[10, 90], with_centering=True,\\n             with_scaling=True\", \"primary_metric\": 0.90121699, \"best_metric\": 0.90890998}, {\"run_id\": \"AutoML_5f44cd97-a7a6-4be3-8a34-e06659c87f9b_29\", \"run_number\": 35, \"metric\": null, \"status\": \"Completed\", \"run_type\": \"azureml.scriptrun\", \"training_percent\": \"100\", \"start_time\": \"2021-07-12T15:55:00.118238Z\", \"end_time\": \"2021-07-12T15:55:44.320019Z\", \"created_time\": \"2021-07-12T15:54:04.600037Z\", \"created_time_dt\": \"2021-07-12T15:54:04.600037Z\", \"duration\": \"0:01:39\", \"iteration\": \"29\", \"goal\": \"AUC_weighted_max\", \"run_name\": \"RobustScaler, RandomForest\", \"run_properties\": \"copy=True, quantile_range=[25, 75], with_centering=True,\\n             with_scaling=False\", \"primary_metric\": 0.90990991, \"best_metric\": 0.90990991}, {\"run_id\": \"AutoML_5f44cd97-a7a6-4be3-8a34-e06659c87f9b_30\", \"run_number\": 36, \"metric\": null, \"status\": \"Completed\", \"run_type\": \"azureml.scriptrun\", \"training_percent\": \"100\", \"start_time\": \"2021-07-12T15:55:02.767057Z\", \"end_time\": \"2021-07-12T15:55:43.23583Z\", \"created_time\": \"2021-07-12T15:54:46.033934Z\", \"created_time_dt\": \"2021-07-12T15:54:46.033934Z\", \"duration\": \"0:00:57\", \"iteration\": \"30\", \"goal\": \"AUC_weighted_max\", \"run_name\": \"StandardScalerWrapper, XGBoostClassifier\", \"run_properties\": \"\\n    copy=True,\\n    with_mean=False,\\n    with_std=False\\n\", \"primary_metric\": 0.90208041, \"best_metric\": 0.90990991}, {\"run_id\": \"AutoML_5f44cd97-a7a6-4be3-8a34-e06659c87f9b_31\", \"run_number\": 37, \"metric\": null, \"status\": \"Completed\", \"run_type\": \"azureml.scriptrun\", \"training_percent\": \"100\", \"start_time\": \"2021-07-12T15:55:08.120002Z\", \"end_time\": \"2021-07-12T15:55:46.357561Z\", \"created_time\": \"2021-07-12T15:54:49.84933Z\", \"created_time_dt\": \"2021-07-12T15:54:49.84933Z\", \"duration\": \"0:00:56\", \"iteration\": \"31\", \"goal\": \"AUC_weighted_max\", \"run_name\": \"MinMaxScaler, LightGBM\", \"run_properties\": \"copy=True, feature_range=(0, 1\", \"primary_metric\": 0.90374627, \"best_metric\": 0.90990991}, {\"run_id\": \"AutoML_5f44cd97-a7a6-4be3-8a34-e06659c87f9b_32\", \"run_number\": 38, \"metric\": null, \"status\": \"Completed\", \"run_type\": \"azureml.scriptrun\", \"training_percent\": \"100\", \"start_time\": \"2021-07-12T15:55:12.642257Z\", \"end_time\": \"2021-07-12T15:55:55.990306Z\", \"created_time\": \"2021-07-12T15:54:55.960251Z\", \"created_time_dt\": \"2021-07-12T15:54:55.960251Z\", \"duration\": \"0:01:00\", \"iteration\": \"32\", \"goal\": \"AUC_weighted_max\", \"run_name\": \"StandardScalerWrapper, SVM\", \"run_properties\": \"\\n    copy=True,\\n    with_mean=False,\\n    with_std=True\\n\", \"primary_metric\": 0.86795982, \"best_metric\": 0.90990991}, {\"run_id\": \"AutoML_5f44cd97-a7a6-4be3-8a34-e06659c87f9b_33\", \"run_number\": 39, \"metric\": null, \"status\": \"Completed\", \"run_type\": \"azureml.scriptrun\", \"training_percent\": \"100\", \"start_time\": \"2021-07-12T15:55:59.126141Z\", \"end_time\": \"2021-07-12T15:56:37.33228Z\", \"created_time\": \"2021-07-12T15:54:59.496319Z\", \"created_time_dt\": \"2021-07-12T15:54:59.496319Z\", \"duration\": \"0:01:37\", \"iteration\": \"33\", \"goal\": \"AUC_weighted_max\", \"run_name\": \"StandardScalerWrapper, XGBoostClassifier\", \"run_properties\": \"\\n    copy=True,\\n    with_mean=False,\\n    with_std=False\\n\", \"primary_metric\": 0.90553833, \"best_metric\": 0.90990991}, {\"run_id\": \"AutoML_5f44cd97-a7a6-4be3-8a34-e06659c87f9b_34\", \"run_number\": 40, \"metric\": null, \"status\": \"Completed\", \"run_type\": \"azureml.scriptrun\", \"training_percent\": \"100\", \"start_time\": \"2021-07-12T15:56:02.487535Z\", \"end_time\": \"2021-07-12T15:56:45.189261Z\", \"created_time\": \"2021-07-12T15:55:45.359117Z\", \"created_time_dt\": \"2021-07-12T15:55:45.359117Z\", \"duration\": \"0:00:59\", \"iteration\": \"34\", \"goal\": \"AUC_weighted_max\", \"run_name\": \"RobustScaler, GradientBoosting\", \"run_properties\": \"copy=True, quantile_range=[10, 90], with_centering=True,\\n             with_scaling=False\", \"primary_metric\": 0.89652214, \"best_metric\": 0.90990991}, {\"run_id\": \"AutoML_5f44cd97-a7a6-4be3-8a34-e06659c87f9b_35\", \"run_number\": 41, \"metric\": null, \"status\": \"Completed\", \"run_type\": \"azureml.scriptrun\", \"training_percent\": \"100\", \"start_time\": \"2021-07-12T15:56:03.170015Z\", \"end_time\": \"2021-07-12T15:56:41.82566Z\", \"created_time\": \"2021-07-12T15:55:53.260007Z\", \"created_time_dt\": \"2021-07-12T15:55:53.260007Z\", \"duration\": \"0:00:48\", \"iteration\": \"35\", \"goal\": \"AUC_weighted_max\", \"run_name\": \"RobustScaler, RandomForest\", \"run_properties\": \"copy=True, quantile_range=[25, 75], with_centering=True,\\n             with_scaling=False\", \"primary_metric\": 0.73559315, \"best_metric\": 0.90990991}, {\"run_id\": \"AutoML_5f44cd97-a7a6-4be3-8a34-e06659c87f9b_36\", \"run_number\": 42, \"metric\": null, \"status\": \"Completed\", \"run_type\": \"azureml.scriptrun\", \"training_percent\": \"100\", \"start_time\": \"2021-07-12T15:56:11.968063Z\", \"end_time\": \"2021-07-12T15:56:50.254625Z\", \"created_time\": \"2021-07-12T15:55:53.2763Z\", \"created_time_dt\": \"2021-07-12T15:55:53.2763Z\", \"duration\": \"0:00:56\", \"iteration\": \"36\", \"goal\": \"AUC_weighted_max\", \"run_name\": \"MinMaxScaler, LightGBM\", \"run_properties\": \"copy=True, feature_range=(0, 1\", \"primary_metric\": 0.88890302, \"best_metric\": 0.90990991}, {\"run_id\": \"AutoML_5f44cd97-a7a6-4be3-8a34-e06659c87f9b_37\", \"run_number\": 43, \"metric\": null, \"status\": \"Completed\", \"run_type\": \"azureml.scriptrun\", \"training_percent\": \"100\", \"start_time\": \"2021-07-12T15:56:54.549352Z\", \"end_time\": \"2021-07-12T15:57:46.434071Z\", \"created_time\": \"2021-07-12T15:55:57.748755Z\", \"created_time_dt\": \"2021-07-12T15:55:57.748755Z\", \"duration\": \"0:01:48\", \"iteration\": \"37\", \"goal\": \"AUC_weighted_max\", \"run_name\": \"MinMaxScaler, RandomForest\", \"run_properties\": \"copy=True, feature_range=(0, 1\", \"primary_metric\": 0.90372019, \"best_metric\": 0.90990991}, {\"run_id\": \"AutoML_5f44cd97-a7a6-4be3-8a34-e06659c87f9b_38\", \"run_number\": 44, \"metric\": null, \"status\": \"Completed\", \"run_type\": \"azureml.scriptrun\", \"training_percent\": \"100\", \"start_time\": \"2021-07-12T15:56:57.974065Z\", \"end_time\": \"2021-07-12T15:57:36.225276Z\", \"created_time\": \"2021-07-12T15:56:39.373507Z\", \"created_time_dt\": \"2021-07-12T15:56:39.373507Z\", \"duration\": \"0:00:56\", \"iteration\": \"38\", \"goal\": \"AUC_weighted_max\", \"run_name\": \"MaxAbsScaler, LightGBM\", \"run_properties\": \"copy=True\", \"primary_metric\": 0.90225164, \"best_metric\": 0.90990991}, {\"run_id\": \"AutoML_5f44cd97-a7a6-4be3-8a34-e06659c87f9b_39\", \"run_number\": 45, \"metric\": null, \"status\": \"Completed\", \"run_type\": \"azureml.scriptrun\", \"training_percent\": \"100\", \"start_time\": \"2021-07-12T15:57:01.219762Z\", \"end_time\": \"2021-07-12T15:57:59.67642Z\", \"created_time\": \"2021-07-12T15:56:45.086957Z\", \"created_time_dt\": \"2021-07-12T15:56:45.086957Z\", \"duration\": \"0:01:14\", \"iteration\": \"39\", \"goal\": \"AUC_weighted_max\", \"run_name\": \"StandardScalerWrapper, LogisticRegression\", \"run_properties\": \"\\n    copy=True,\\n    with_mean=True,\\n    with_std=True\\n\", \"primary_metric\": 0.86383871, \"best_metric\": 0.90990991}, {\"run_id\": \"AutoML_5f44cd97-a7a6-4be3-8a34-e06659c87f9b_40\", \"run_number\": 46, \"metric\": null, \"status\": \"Completed\", \"run_type\": \"azureml.scriptrun\", \"training_percent\": \"100\", \"start_time\": \"2021-07-12T15:57:03.252254Z\", \"end_time\": \"2021-07-12T15:57:43.115036Z\", \"created_time\": \"2021-07-12T15:56:49.520805Z\", \"created_time_dt\": \"2021-07-12T15:56:49.520805Z\", \"duration\": \"0:00:53\", \"iteration\": \"40\", \"goal\": \"AUC_weighted_max\", \"run_name\": \"StandardScalerWrapper, RandomForest\", \"run_properties\": \"\\n    copy=True,\\n    with_mean=True,\\n    with_std=False\\n\", \"primary_metric\": 0.90188397, \"best_metric\": 0.90990991}, {\"run_id\": \"AutoML_5f44cd97-a7a6-4be3-8a34-e06659c87f9b_41\", \"run_number\": 47, \"metric\": null, \"status\": \"Completed\", \"run_type\": \"azureml.scriptrun\", \"training_percent\": \"100\", \"start_time\": \"2021-07-12T15:57:53.434111Z\", \"end_time\": \"2021-07-12T15:58:38.749208Z\", \"created_time\": \"2021-07-12T15:56:52.67307Z\", \"created_time_dt\": \"2021-07-12T15:56:52.67307Z\", \"duration\": \"0:01:46\", \"iteration\": \"41\", \"goal\": \"AUC_weighted_max\", \"run_name\": \"StandardScalerWrapper, RandomForest\", \"run_properties\": \"\\n    copy=True,\\n    with_mean=True,\\n    with_std=True\\n\", \"primary_metric\": 0.90191351, \"best_metric\": 0.90990991}, {\"run_id\": \"AutoML_5f44cd97-a7a6-4be3-8a34-e06659c87f9b_42\", \"run_number\": 48, \"metric\": null, \"status\": \"Completed\", \"run_type\": \"azureml.scriptrun\", \"training_percent\": \"100\", \"start_time\": \"2021-07-12T15:57:58.872852Z\", \"end_time\": \"2021-07-12T15:58:46.596106Z\", \"created_time\": \"2021-07-12T15:57:38.372499Z\", \"created_time_dt\": \"2021-07-12T15:57:38.372499Z\", \"duration\": \"0:01:08\", \"iteration\": \"42\", \"goal\": \"AUC_weighted_max\", \"run_name\": \"StandardScalerWrapper, XGBoostClassifier\", \"run_properties\": \"\\n    copy=True,\\n    with_mean=False,\\n    with_std=False\\n\", \"primary_metric\": 0.90257512, \"best_metric\": 0.90990991}, {\"run_id\": \"AutoML_5f44cd97-a7a6-4be3-8a34-e06659c87f9b_43\", \"run_number\": 49, \"metric\": null, \"status\": \"Completed\", \"run_type\": \"azureml.scriptrun\", \"training_percent\": \"100\", \"start_time\": \"2021-07-12T15:58:01.068662Z\", \"end_time\": \"2021-07-12T15:58:59.528986Z\", \"created_time\": \"2021-07-12T15:57:45.119574Z\", \"created_time_dt\": \"2021-07-12T15:57:45.119574Z\", \"duration\": \"0:01:14\", \"iteration\": \"43\", \"goal\": \"AUC_weighted_max\", \"run_name\": \"StandardScalerWrapper, XGBoostClassifier\", \"run_properties\": \"\\n    copy=True,\\n    with_mean=False,\\n    with_std=False\\n\", \"primary_metric\": 0.90202734, \"best_metric\": 0.90990991}, {\"run_id\": \"AutoML_5f44cd97-a7a6-4be3-8a34-e06659c87f9b_44\", \"run_number\": 50, \"metric\": null, \"status\": \"Completed\", \"run_type\": \"azureml.scriptrun\", \"training_percent\": \"100\", \"start_time\": \"2021-07-12T15:58:16.041233Z\", \"end_time\": \"2021-07-12T15:58:55.552114Z\", \"created_time\": \"2021-07-12T15:57:48.448889Z\", \"created_time_dt\": \"2021-07-12T15:57:48.448889Z\", \"duration\": \"0:01:07\", \"iteration\": \"44\", \"goal\": \"AUC_weighted_max\", \"run_name\": \"StandardScalerWrapper, XGBoostClassifier\", \"run_properties\": \"\\n    copy=True,\\n    with_mean=False,\\n    with_std=False\\n\", \"primary_metric\": 0.90494583, \"best_metric\": 0.90990991}, {\"run_id\": \"AutoML_5f44cd97-a7a6-4be3-8a34-e06659c87f9b_45\", \"run_number\": 51, \"metric\": null, \"status\": \"Completed\", \"run_type\": \"azureml.scriptrun\", \"training_percent\": \"100\", \"start_time\": \"2021-07-12T15:58:55.486589Z\", \"end_time\": \"2021-07-12T15:59:44.191511Z\", \"created_time\": \"2021-07-12T15:58:04.713101Z\", \"created_time_dt\": \"2021-07-12T15:58:04.713101Z\", \"duration\": \"0:01:39\", \"iteration\": \"45\", \"goal\": \"AUC_weighted_max\", \"run_name\": \"MinMaxScaler, RandomForest\", \"run_properties\": \"copy=True, feature_range=(0, 1\", \"primary_metric\": 0.84310426, \"best_metric\": 0.90990991}, {\"run_id\": \"AutoML_5f44cd97-a7a6-4be3-8a34-e06659c87f9b_46\", \"run_number\": 52, \"metric\": null, \"status\": \"Completed\", \"run_type\": \"azureml.scriptrun\", \"training_percent\": \"100\", \"start_time\": \"2021-07-12T15:59:03.556787Z\", \"end_time\": \"2021-07-12T15:59:45.334025Z\", \"created_time\": \"2021-07-12T15:58:41.386262Z\", \"created_time_dt\": \"2021-07-12T15:58:41.386262Z\", \"duration\": \"0:01:03\", \"iteration\": \"46\", \"goal\": \"AUC_weighted_max\", \"run_name\": \"StandardScalerWrapper, SVM\", \"run_properties\": \"\\n    copy=True,\\n    with_mean=False,\\n    with_std=True\\n\", \"primary_metric\": 0.87594832, \"best_metric\": 0.90990991}, {\"run_id\": \"AutoML_5f44cd97-a7a6-4be3-8a34-e06659c87f9b_47\", \"run_number\": 53, \"metric\": null, \"status\": \"Canceled\", \"run_type\": \"azureml.scriptrun\", \"training_percent\": \"100\", \"start_time\": \"2021-07-12T15:59:09.944002Z\", \"end_time\": \"2021-07-12T15:59:51.138122Z\", \"created_time\": \"2021-07-12T15:58:48.713337Z\", \"created_time_dt\": \"2021-07-12T15:58:48.713337Z\", \"duration\": \"0:01:02\", \"iteration\": \"47\", \"goal\": \"AUC_weighted_max\", \"run_name\": \"StandardScalerWrapper, XGBoostClassifier\", \"run_properties\": \"\\n    copy=True,\\n    with_mean=False,\\n    with_std=False\\n\", \"primary_metric\": 0.90918785, \"best_metric\": 0.90990991}, {\"run_id\": \"AutoML_5f44cd97-a7a6-4be3-8a34-e06659c87f9b_48\", \"run_number\": 54, \"metric\": null, \"status\": \"Canceled\", \"run_type\": \"azureml.scriptrun\", \"training_percent\": \"100\", \"start_time\": \"2021-07-12T15:59:13.787932Z\", \"end_time\": \"2021-07-12T15:59:50.664576Z\", \"created_time\": \"2021-07-12T15:58:57.524056Z\", \"created_time_dt\": \"2021-07-12T15:58:57.524056Z\", \"duration\": \"0:00:53\", \"iteration\": \"48\", \"goal\": \"AUC_weighted_max\", \"run_name\": \"StandardScalerWrapper, XGBoostClassifier\", \"run_properties\": \"\\n    copy=True,\\n    with_mean=False,\\n    with_std=False\\n\", \"primary_metric\": 0.90029456, \"best_metric\": 0.90990991}, {\"run_id\": \"AutoML_5f44cd97-a7a6-4be3-8a34-e06659c87f9b_49\", \"run_number\": 55, \"metric\": null, \"status\": \"Canceled\", \"run_type\": \"azureml.scriptrun\", \"training_percent\": \"100\", \"start_time\": \"2021-07-12T15:59:01.497247Z\", \"end_time\": \"2021-07-12T15:59:50.722712Z\", \"created_time\": \"2021-07-12T15:59:01.497247Z\", \"created_time_dt\": \"2021-07-12T15:59:01.497247Z\", \"duration\": \"0:00:49\", \"iteration\": \"49\", \"goal\": null, \"run_name\": \"Canceled\", \"run_properties\": null}, {\"run_id\": \"AutoML_5f44cd97-a7a6-4be3-8a34-e06659c87f9b_50\", \"run_number\": 56, \"metric\": null, \"status\": \"Completed\", \"run_type\": \"azureml.scriptrun\", \"training_percent\": \"100\", \"start_time\": \"2021-07-12T16:00:00.129901Z\", \"end_time\": \"2021-07-12T16:01:16.756089Z\", \"created_time\": \"2021-07-12T15:59:51.782183Z\", \"created_time_dt\": \"2021-07-12T15:59:51.782183Z\", \"duration\": \"0:01:24\", \"iteration\": \"50\", \"goal\": \"AUC_weighted_max\", \"run_name\": \"VotingEnsemble\", \"run_properties\": \"\\n    estimators=[('29', Pipeline(memory=None,\\n             steps=[('robustscaler',\\n                     RobustScaler(copy=True, quantile_range=[25, 75],\\n                                  with_centering=True, with_scaling=False\", \"primary_metric\": 0.91889913, \"best_metric\": 0.91889913}], \"children_metrics\": {\"categories\": [0], \"series\": {\"weighted_accuracy\": [{\"categories\": [\"0\", \"1\", \"2\", \"3\", \"4\", \"5\", \"6\", \"7\", \"8\", \"9\", \"10\", \"11\", \"12\", \"13\", \"14\", \"15\", \"16\", \"17\", \"18\", \"19\", \"20\", \"21\", \"22\", \"23\", \"24\", \"25\", \"26\", \"27\", \"28\", \"29\", \"30\", \"31\", \"32\", \"33\", \"34\", \"35\", \"36\", \"37\", \"38\", \"39\", \"40\", \"41\", \"42\", \"43\", \"44\", \"45\", \"46\", \"47\", \"48\", \"50\"], \"mode\": \"markers\", \"name\": \"weighted_accuracy\", \"stepped\": false, \"type\": \"scatter\", \"data\": [0.8541321922200625, 0.8502962163535492, 0.8417969787987187, 0.8593465755217705, 0.8391728638750807, 0.8600044087755909, 0.8417853695403421, 0.8718396489360536, 0.8478003193106851, 0.8227930918585225, 0.8640070169392027, 0.8708952939390976, 0.7917063585720531, 0.8435084368086869, 0.8159388273530179, 0.6980167624045801, 0.855581921145885, 0.7836129837925296, 0.8019096300894633, 0.8533454461004967, 0.8795294216361917, 0.8161391993287307, 0.8435957672329201, 0.8393521113691094, 0.8449900476264206, 0.7430547251695894, 0.8690531957355143, 0.8774474164769165, 0.8698785636398008, 0.8290222345313897, 0.8489414649269198, 0.8569395266107008, 0.8292349080767234, 0.8626960110860376, 0.87041767345215, 0.7931711479234276, 0.8690244233658422, 0.8472406790134098, 0.8669339017794584, 0.8451681878460313, 0.8615929343440438, 0.8344082297072729, 0.8608733654807992, 0.8580574076865328, 0.8589880610853697, 0.7553899420485142, 0.8583128056522863, 0.8629764689042656, 0.8514871056006731, 0.8453146682432553]}, {\"categories\": [\"0\", \"1\", \"2\", \"3\", \"4\", \"5\", \"6\", \"7\", \"8\", \"9\", \"10\", \"11\", \"12\", \"13\", \"14\", \"15\", \"16\", \"17\", \"18\", \"19\", \"20\", \"21\", \"22\", \"23\", \"24\", \"25\", \"26\", \"27\", \"28\", \"29\", \"30\", \"31\", \"32\", \"33\", \"34\", \"35\", \"36\", \"37\", \"38\", \"39\", \"40\", \"41\", \"42\", \"43\", \"44\", \"45\", \"46\", \"47\", \"48\", \"50\"], \"mode\": \"lines\", \"name\": \"weighted_accuracy_max\", \"stepped\": true, \"type\": \"scatter\", \"data\": [0.8541321922200625, 0.8541321922200625, 0.8541321922200625, 0.8593465755217705, 0.8593465755217705, 0.8600044087755909, 0.8600044087755909, 0.8718396489360536, 0.8718396489360536, 0.8718396489360536, 0.8718396489360536, 0.8718396489360536, 0.8718396489360536, 0.8718396489360536, 0.8718396489360536, 0.8718396489360536, 0.8718396489360536, 0.8718396489360536, 0.8718396489360536, 0.8718396489360536, 0.8795294216361917, 0.8795294216361917, 0.8795294216361917, 0.8795294216361917, 0.8795294216361917, 0.8795294216361917, 0.8795294216361917, 0.8795294216361917, 0.8795294216361917, 0.8795294216361917, 0.8795294216361917, 0.8795294216361917, 0.8795294216361917, 0.8795294216361917, 0.8795294216361917, 0.8795294216361917, 0.8795294216361917, 0.8795294216361917, 0.8795294216361917, 0.8795294216361917, 0.8795294216361917, 0.8795294216361917, 0.8795294216361917, 0.8795294216361917, 0.8795294216361917, 0.8795294216361917, 0.8795294216361917, 0.8795294216361917, 0.8795294216361917, 0.8795294216361917]}], \"accuracy\": [{\"categories\": [\"0\", \"1\", \"2\", \"3\", \"4\", \"5\", \"6\", \"7\", \"8\", \"9\", \"10\", \"11\", \"12\", \"13\", \"14\", \"15\", \"16\", \"17\", \"18\", \"19\", \"20\", \"21\", \"22\", \"23\", \"24\", \"25\", \"26\", \"27\", \"28\", \"29\", \"30\", \"31\", \"32\", \"33\", \"34\", \"35\", \"36\", \"37\", \"38\", \"39\", \"40\", \"41\", \"42\", \"43\", \"44\", \"45\", \"46\", \"47\", \"48\", \"50\"], \"mode\": \"markers\", \"name\": \"accuracy\", \"stepped\": false, \"type\": \"scatter\", \"data\": [0.8359770114942527, 0.8358620689655172, 0.8191954022988506, 0.8093103448275862, 0.8291954022988506, 0.8360919540229885, 0.8225287356321838, 0.8427586206896553, 0.7926436781609195, 0.7659770114942528, 0.8094252873563219, 0.8295402298850576, 0.8021839080459771, 0.822528735632184, 0.8088505747126437, 0.6389655172413793, 0.796206896551724, 0.7691954022988505, 0.7989655172413792, 0.8258620689655173, 0.859425287356322, 0.8124137931034483, 0.8291954022988506, 0.8259770114942528, 0.8325287356321839, 0.6426436781609195, 0.8527586206896552, 0.8328735632183909, 0.8293103448275861, 0.825632183908046, 0.8358620689655172, 0.8391954022988506, 0.8058620689655172, 0.8491954022988507, 0.8493103448275863, 0.6791954022988507, 0.8326436781609197, 0.8457471264367816, 0.8393103448275863, 0.822528735632184, 0.8326436781609194, 0.8357471264367815, 0.8460919540229886, 0.8393103448275863, 0.8460919540229884, 0.7554022988505747, 0.8426436781609195, 0.8459770114942529, 0.8394252873563218, 0.8325287356321839]}, {\"categories\": [\"0\", \"1\", \"2\", \"3\", \"4\", \"5\", \"6\", \"7\", \"8\", \"9\", \"10\", \"11\", \"12\", \"13\", \"14\", \"15\", \"16\", \"17\", \"18\", \"19\", \"20\", \"21\", \"22\", \"23\", \"24\", \"25\", \"26\", \"27\", \"28\", \"29\", \"30\", \"31\", \"32\", \"33\", \"34\", \"35\", \"36\", \"37\", \"38\", \"39\", \"40\", \"41\", \"42\", \"43\", \"44\", \"45\", \"46\", \"47\", \"48\", \"50\"], \"mode\": \"lines\", \"name\": \"accuracy_max\", \"stepped\": true, \"type\": \"scatter\", \"data\": [0.8359770114942527, 0.8359770114942527, 0.8359770114942527, 0.8359770114942527, 0.8359770114942527, 0.8360919540229885, 0.8360919540229885, 0.8427586206896553, 0.8427586206896553, 0.8427586206896553, 0.8427586206896553, 0.8427586206896553, 0.8427586206896553, 0.8427586206896553, 0.8427586206896553, 0.8427586206896553, 0.8427586206896553, 0.8427586206896553, 0.8427586206896553, 0.8427586206896553, 0.859425287356322, 0.859425287356322, 0.859425287356322, 0.859425287356322, 0.859425287356322, 0.859425287356322, 0.859425287356322, 0.859425287356322, 0.859425287356322, 0.859425287356322, 0.859425287356322, 0.859425287356322, 0.859425287356322, 0.859425287356322, 0.859425287356322, 0.859425287356322, 0.859425287356322, 0.859425287356322, 0.859425287356322, 0.859425287356322, 0.859425287356322, 0.859425287356322, 0.859425287356322, 0.859425287356322, 0.859425287356322, 0.859425287356322, 0.859425287356322, 0.859425287356322, 0.859425287356322, 0.859425287356322]}], \"average_precision_score_macro\": [{\"categories\": [\"0\", \"1\", \"2\", \"3\", \"4\", \"5\", \"6\", \"7\", \"8\", \"9\", \"10\", \"11\", \"12\", \"13\", \"14\", \"15\", \"16\", \"17\", \"18\", \"19\", \"20\", \"21\", \"22\", \"23\", \"24\", \"25\", \"26\", \"27\", \"28\", \"29\", \"30\", \"31\", \"32\", \"33\", \"34\", \"35\", \"36\", \"37\", \"38\", \"39\", \"40\", \"41\", \"42\", \"43\", \"44\", \"45\", \"46\", \"47\", \"48\", \"50\"], \"mode\": \"markers\", \"name\": \"average_precision_score_macro\", \"stepped\": false, \"type\": \"scatter\", \"data\": [0.8807888197525153, 0.8807340475847678, 0.8923310729060526, 0.87595072284346, 0.8966911517560051, 0.8741821335403177, 0.8696329359242952, 0.8893747165729987, 0.8635980158396871, 0.7610796181270093, 0.8752750672576113, 0.8862818056707669, 0.8902089463607439, 0.8569225877595661, 0.8829237103802768, 0.5793782772753733, 0.8775139093630433, 0.8052461471397387, 0.8685102976194734, 0.8985389415472792, 0.8795996052159067, 0.8741746881392402, 0.871034239725361, 0.8944211006861916, 0.8901141770795886, 0.5316737012008856, 0.8899079547823548, 0.893286832896034, 0.8845525197702238, 0.902390729711325, 0.8970886405649198, 0.8978243729654729, 0.8563525694975935, 0.8974628413173871, 0.8897815105460982, 0.6896597189006501, 0.8481969681706814, 0.8943114556688684, 0.8918742359962035, 0.8531397251050148, 0.8912029357193276, 0.8932229623482997, 0.8913451366306913, 0.8969965407222198, 0.8952635409696506, 0.8332556741910861, 0.8645478964841832, 0.9029854787200836, 0.8925217933438393, 0.9146018949443258]}, {\"categories\": [\"0\", \"1\", \"2\", \"3\", \"4\", \"5\", \"6\", \"7\", \"8\", \"9\", \"10\", \"11\", \"12\", \"13\", \"14\", \"15\", \"16\", \"17\", \"18\", \"19\", \"20\", \"21\", \"22\", \"23\", \"24\", \"25\", \"26\", \"27\", \"28\", \"29\", \"30\", \"31\", \"32\", \"33\", \"34\", \"35\", \"36\", \"37\", \"38\", \"39\", \"40\", \"41\", \"42\", \"43\", \"44\", \"45\", \"46\", \"47\", \"48\", \"50\"], \"mode\": \"lines\", \"name\": \"average_precision_score_macro_max\", \"stepped\": true, \"type\": \"scatter\", \"data\": [0.8807888197525153, 0.8807888197525153, 0.8923310729060526, 0.8923310729060526, 0.8966911517560051, 0.8966911517560051, 0.8966911517560051, 0.8966911517560051, 0.8966911517560051, 0.8966911517560051, 0.8966911517560051, 0.8966911517560051, 0.8966911517560051, 0.8966911517560051, 0.8966911517560051, 0.8966911517560051, 0.8966911517560051, 0.8966911517560051, 0.8966911517560051, 0.8985389415472792, 0.8985389415472792, 0.8985389415472792, 0.8985389415472792, 0.8985389415472792, 0.8985389415472792, 0.8985389415472792, 0.8985389415472792, 0.8985389415472792, 0.8985389415472792, 0.902390729711325, 0.902390729711325, 0.902390729711325, 0.902390729711325, 0.902390729711325, 0.902390729711325, 0.902390729711325, 0.902390729711325, 0.902390729711325, 0.902390729711325, 0.902390729711325, 0.902390729711325, 0.902390729711325, 0.902390729711325, 0.902390729711325, 0.902390729711325, 0.902390729711325, 0.902390729711325, 0.9029854787200836, 0.9029854787200836, 0.9146018949443258]}], \"recall_score_macro\": [{\"categories\": [\"0\", \"1\", \"2\", \"3\", \"4\", \"5\", \"6\", \"7\", \"8\", \"9\", \"10\", \"11\", \"12\", \"13\", \"14\", \"15\", \"16\", \"17\", \"18\", \"19\", \"20\", \"21\", \"22\", \"23\", \"24\", \"25\", \"26\", \"27\", \"28\", \"29\", \"30\", \"31\", \"32\", \"33\", \"34\", \"35\", \"36\", \"37\", \"38\", \"39\", \"40\", \"41\", \"42\", \"43\", \"44\", \"45\", \"46\", \"47\", \"48\", \"50\"], \"mode\": \"markers\", \"name\": \"recall_score_macro\", \"stepped\": false, \"type\": \"scatter\", \"data\": [0.8077082895810014, 0.8130249020938379, 0.7835608281243293, 0.7328985218315882, 0.8130547911280177, 0.7980803181372403, 0.7938464569691687, 0.798132712380424, 0.7076459016447575, 0.6780357113964093, 0.7214238057264374, 0.7667367252947916, 0.8149201961590405, 0.7897339131755607, 0.796299515669939, 0.5513534193685796, 0.7000786530720742, 0.7447872947355213, 0.7905674268840744, 0.7831479179668539, 0.8290995452234011, 0.8061030462354832, 0.807684512252304, 0.8051893728887436, 0.812785066668648, 0.483048350041771, 0.826300123249494, 0.76128006940936, 0.7687618828857387, 0.8188406630872306, 0.8158089075620542, 0.8109795424826889, 0.7709388193804669, 0.8270599898131362, 0.8136554082835546, 0.5, 0.776691270749337, 0.8423577892359356, 0.7992019669562576, 0.7878200375774747, 0.7884287394210163, 0.8359041551507227, 0.8225459205490671, 0.8075048804488164, 0.8264308411839876, 0.7565445192361668, 0.8174064686584709, 0.8192970028001492, 0.8213666816910525, 0.8124919029292599]}, {\"categories\": [\"0\", \"1\", \"2\", \"3\", \"4\", \"5\", \"6\", \"7\", \"8\", \"9\", \"10\", \"11\", \"12\", \"13\", \"14\", \"15\", \"16\", \"17\", \"18\", \"19\", \"20\", \"21\", \"22\", \"23\", \"24\", \"25\", \"26\", \"27\", \"28\", \"29\", \"30\", \"31\", \"32\", \"33\", \"34\", \"35\", \"36\", \"37\", \"38\", \"39\", \"40\", \"41\", \"42\", \"43\", \"44\", \"45\", \"46\", \"47\", \"48\", \"50\"], \"mode\": \"lines\", \"name\": \"recall_score_macro_max\", \"stepped\": true, \"type\": \"scatter\", \"data\": [0.8077082895810014, 0.8130249020938379, 0.8130249020938379, 0.8130249020938379, 0.8130547911280177, 0.8130547911280177, 0.8130547911280177, 0.8130547911280177, 0.8130547911280177, 0.8130547911280177, 0.8130547911280177, 0.8130547911280177, 0.8149201961590405, 0.8149201961590405, 0.8149201961590405, 0.8149201961590405, 0.8149201961590405, 0.8149201961590405, 0.8149201961590405, 0.8149201961590405, 0.8290995452234011, 0.8290995452234011, 0.8290995452234011, 0.8290995452234011, 0.8290995452234011, 0.8290995452234011, 0.8290995452234011, 0.8290995452234011, 0.8290995452234011, 0.8290995452234011, 0.8290995452234011, 0.8290995452234011, 0.8290995452234011, 0.8290995452234011, 0.8290995452234011, 0.8290995452234011, 0.8290995452234011, 0.8423577892359356, 0.8423577892359356, 0.8423577892359356, 0.8423577892359356, 0.8423577892359356, 0.8423577892359356, 0.8423577892359356, 0.8423577892359356, 0.8423577892359356, 0.8423577892359356, 0.8423577892359356, 0.8423577892359356, 0.8423577892359356]}], \"norm_macro_recall\": [{\"categories\": [\"0\", \"1\", \"2\", \"3\", \"4\", \"5\", \"6\", \"7\", \"8\", \"9\", \"10\", \"11\", \"12\", \"13\", \"14\", \"15\", \"16\", \"17\", \"18\", \"19\", \"20\", \"21\", \"22\", \"23\", \"24\", \"25\", \"26\", \"27\", \"28\", \"29\", \"30\", \"31\", \"32\", \"33\", \"34\", \"35\", \"36\", \"37\", \"38\", \"39\", \"40\", \"41\", \"42\", \"43\", \"44\", \"45\", \"46\", \"47\", \"48\", \"50\"], \"mode\": \"markers\", \"name\": \"norm_macro_recall\", \"stepped\": false, \"type\": \"scatter\", \"data\": [0.6154165791620023, 0.626049804187676, 0.5671216562486586, 0.4657970436631764, 0.6261095822560353, 0.5961606362744807, 0.5876929139383373, 0.5962654247608481, 0.4152918032895149, 0.3560714227928186, 0.44284761145287466, 0.5334734505895833, 0.6298403923180811, 0.5794678263511216, 0.5925990313398781, 0.1267612930547713, 0.4001573061441482, 0.48957458947104254, 0.581134853768149, 0.5662958359337078, 0.658199090446802, 0.6122060924709667, 0.6153690245046081, 0.6103787457774871, 0.6255701333372958, 0.01517857142857142, 0.6526002464989878, 0.5225601388187201, 0.5375237657714773, 0.6376813261744612, 0.6316178151241081, 0.6219590849653779, 0.541877638760934, 0.6541199796262726, 0.6273108165671095, 0.0, 0.5533825414986742, 0.6847155784718714, 0.598403933912515, 0.5756400751549493, 0.5768574788420325, 0.6718083103014454, 0.645091841098134, 0.6150097608976328, 0.6528616823679753, 0.5130890384723337, 0.6348129373169419, 0.6385940056002983, 0.6427333633821048, 0.6249838058585199]}, {\"categories\": [\"0\", \"1\", \"2\", \"3\", \"4\", \"5\", \"6\", \"7\", \"8\", \"9\", \"10\", \"11\", \"12\", \"13\", \"14\", \"15\", \"16\", \"17\", \"18\", \"19\", \"20\", \"21\", \"22\", \"23\", \"24\", \"25\", \"26\", \"27\", \"28\", \"29\", \"30\", \"31\", \"32\", \"33\", \"34\", \"35\", \"36\", \"37\", \"38\", \"39\", \"40\", \"41\", \"42\", \"43\", \"44\", \"45\", \"46\", \"47\", \"48\", \"50\"], \"mode\": \"lines\", \"name\": \"norm_macro_recall_max\", \"stepped\": true, \"type\": \"scatter\", \"data\": [0.6154165791620023, 0.626049804187676, 0.626049804187676, 0.626049804187676, 0.6261095822560353, 0.6261095822560353, 0.6261095822560353, 0.6261095822560353, 0.6261095822560353, 0.6261095822560353, 0.6261095822560353, 0.6261095822560353, 0.6298403923180811, 0.6298403923180811, 0.6298403923180811, 0.6298403923180811, 0.6298403923180811, 0.6298403923180811, 0.6298403923180811, 0.6298403923180811, 0.658199090446802, 0.658199090446802, 0.658199090446802, 0.658199090446802, 0.658199090446802, 0.658199090446802, 0.658199090446802, 0.658199090446802, 0.658199090446802, 0.658199090446802, 0.658199090446802, 0.658199090446802, 0.658199090446802, 0.658199090446802, 0.658199090446802, 0.658199090446802, 0.658199090446802, 0.6847155784718714, 0.6847155784718714, 0.6847155784718714, 0.6847155784718714, 0.6847155784718714, 0.6847155784718714, 0.6847155784718714, 0.6847155784718714, 0.6847155784718714, 0.6847155784718714, 0.6847155784718714, 0.6847155784718714, 0.6847155784718714]}], \"average_precision_score_weighted\": [{\"categories\": [\"0\", \"1\", \"2\", \"3\", \"4\", \"5\", \"6\", \"7\", \"8\", \"9\", \"10\", \"11\", \"12\", \"13\", \"14\", \"15\", \"16\", \"17\", \"18\", \"19\", \"20\", \"21\", \"22\", \"23\", \"24\", \"25\", \"26\", \"27\", \"28\", \"29\", \"30\", \"31\", \"32\", \"33\", \"34\", \"35\", \"36\", \"37\", \"38\", \"39\", \"40\", \"41\", \"42\", \"43\", \"44\", \"45\", \"46\", \"47\", \"48\", \"50\"], \"mode\": \"markers\", \"name\": \"average_precision_score_weighted\", \"stepped\": false, \"type\": \"scatter\", \"data\": [0.9061112830231934, 0.907154018724502, 0.9174956015294216, 0.9012850624021524, 0.9218760089558916, 0.9016728368087052, 0.8988988553104182, 0.9142584712581368, 0.8949087422058624, 0.7960613547349917, 0.9035177682535249, 0.9123218882793577, 0.9137531114367945, 0.892049537710494, 0.9124654554254892, 0.6358285919365991, 0.9074726010226157, 0.850664543031591, 0.9015398245308743, 0.9235801903509394, 0.9058926173725546, 0.9017221781996401, 0.8969944935437375, 0.9213003298681046, 0.9145265448601865, 0.6084130356934421, 0.9156161129856415, 0.9166255354623569, 0.9104481826698162, 0.9253438885187982, 0.9197136044964305, 0.9218947438222017, 0.8912612212099471, 0.9226269561899819, 0.9156519698603981, 0.7636846966685216, 0.8851935673786301, 0.9196488656903931, 0.9185264340158863, 0.8879444208863108, 0.9151933217982746, 0.9183794414150139, 0.9185127891670917, 0.921615239935378, 0.9208401209276544, 0.872194869216678, 0.8986729408018869, 0.9262296284291992, 0.9172781262748027, 0.9346521322741566]}, {\"categories\": [\"0\", \"1\", \"2\", \"3\", \"4\", \"5\", \"6\", \"7\", \"8\", \"9\", \"10\", \"11\", \"12\", \"13\", \"14\", \"15\", \"16\", \"17\", \"18\", \"19\", \"20\", \"21\", \"22\", \"23\", \"24\", \"25\", \"26\", \"27\", \"28\", \"29\", \"30\", \"31\", \"32\", \"33\", \"34\", \"35\", \"36\", \"37\", \"38\", \"39\", \"40\", \"41\", \"42\", \"43\", \"44\", \"45\", \"46\", \"47\", \"48\", \"50\"], \"mode\": \"lines\", \"name\": \"average_precision_score_weighted_max\", \"stepped\": true, \"type\": \"scatter\", \"data\": [0.9061112830231934, 0.907154018724502, 0.9174956015294216, 0.9174956015294216, 0.9218760089558916, 0.9218760089558916, 0.9218760089558916, 0.9218760089558916, 0.9218760089558916, 0.9218760089558916, 0.9218760089558916, 0.9218760089558916, 0.9218760089558916, 0.9218760089558916, 0.9218760089558916, 0.9218760089558916, 0.9218760089558916, 0.9218760089558916, 0.9218760089558916, 0.9235801903509394, 0.9235801903509394, 0.9235801903509394, 0.9235801903509394, 0.9235801903509394, 0.9235801903509394, 0.9235801903509394, 0.9235801903509394, 0.9235801903509394, 0.9235801903509394, 0.9253438885187982, 0.9253438885187982, 0.9253438885187982, 0.9253438885187982, 0.9253438885187982, 0.9253438885187982, 0.9253438885187982, 0.9253438885187982, 0.9253438885187982, 0.9253438885187982, 0.9253438885187982, 0.9253438885187982, 0.9253438885187982, 0.9253438885187982, 0.9253438885187982, 0.9253438885187982, 0.9253438885187982, 0.9253438885187982, 0.9262296284291992, 0.9262296284291992, 0.9346521322741566]}], \"log_loss\": [{\"categories\": [\"0\", \"1\", \"2\", \"3\", \"4\", \"5\", \"6\", \"7\", \"8\", \"9\", \"10\", \"11\", \"12\", \"13\", \"14\", \"15\", \"16\", \"17\", \"18\", \"19\", \"20\", \"21\", \"22\", \"23\", \"24\", \"25\", \"26\", \"27\", \"28\", \"29\", \"30\", \"31\", \"32\", \"33\", \"34\", \"35\", \"36\", \"37\", \"38\", \"39\", \"40\", \"41\", \"42\", \"43\", \"44\", \"45\", \"46\", \"47\", \"48\", \"50\"], \"mode\": \"markers\", \"name\": \"log_loss\", \"stepped\": false, \"type\": \"scatter\", \"data\": [0.4772179826627182, 0.41764279466886123, 0.37149203289507204, 0.4634066321298226, 0.38691295804204545, 0.3998895773862984, 0.5101624193769695, 0.40361055239705895, 0.4657952325731521, 1.2837639362986895, 0.46282643565285575, 0.43269996867131966, 0.4396938887116667, 0.4184947843845723, 0.4485058388209981, 0.7617709563916407, 0.4732358467705633, 0.6421444901549958, 0.5319560295254793, 0.4652367527361444, 0.49360224303173617, 0.49562931218135214, 0.4808910480930993, 0.3821574098283441, 0.414647259671451, 0.6670262838764704, 0.41574399491775516, 0.42833792755404343, 0.4535041639358635, 0.40909312861079217, 0.3843754993126691, 0.3630664696403344, 0.42193970402565684, 0.3622202938259225, 0.3746716704704677, 0.6050428759833475, 0.45735997155970465, 0.46258619308585436, 0.41916278548122055, 0.43196923566598827, 0.38367633118806466, 0.46343938680850033, 0.37511082784090155, 0.3931976580703541, 0.3730851067793225, 0.5393920100593995, 0.40883330743749025, 0.358378539601009, 0.4338511601398328, 0.40503826300458046]}, {\"categories\": [\"0\", \"1\", \"2\", \"3\", \"4\", \"5\", \"6\", \"7\", \"8\", \"9\", \"10\", \"11\", \"12\", \"13\", \"14\", \"15\", \"16\", \"17\", \"18\", \"19\", \"20\", \"21\", \"22\", \"23\", \"24\", \"25\", \"26\", \"27\", \"28\", \"29\", \"30\", \"31\", \"32\", \"33\", \"34\", \"35\", \"36\", \"37\", \"38\", \"39\", \"40\", \"41\", \"42\", \"43\", \"44\", \"45\", \"46\", \"47\", \"48\", \"50\"], \"mode\": \"lines\", \"name\": \"log_loss_min\", \"stepped\": true, \"type\": \"scatter\", \"data\": [0.4772179826627182, 0.41764279466886123, 0.37149203289507204, 0.37149203289507204, 0.37149203289507204, 0.37149203289507204, 0.37149203289507204, 0.37149203289507204, 0.37149203289507204, 0.37149203289507204, 0.37149203289507204, 0.37149203289507204, 0.37149203289507204, 0.37149203289507204, 0.37149203289507204, 0.37149203289507204, 0.37149203289507204, 0.37149203289507204, 0.37149203289507204, 0.37149203289507204, 0.37149203289507204, 0.37149203289507204, 0.37149203289507204, 0.37149203289507204, 0.37149203289507204, 0.37149203289507204, 0.37149203289507204, 0.37149203289507204, 0.37149203289507204, 0.37149203289507204, 0.37149203289507204, 0.3630664696403344, 0.3630664696403344, 0.3622202938259225, 0.3622202938259225, 0.3622202938259225, 0.3622202938259225, 0.3622202938259225, 0.3622202938259225, 0.3622202938259225, 0.3622202938259225, 0.3622202938259225, 0.3622202938259225, 0.3622202938259225, 0.3622202938259225, 0.3622202938259225, 0.3622202938259225, 0.358378539601009, 0.358378539601009, 0.358378539601009]}], \"AUC_micro\": [{\"categories\": [\"0\", \"1\", \"2\", \"3\", \"4\", \"5\", \"6\", \"7\", \"8\", \"9\", \"10\", \"11\", \"12\", \"13\", \"14\", \"15\", \"16\", \"17\", \"18\", \"19\", \"20\", \"21\", \"22\", \"23\", \"24\", \"25\", \"26\", \"27\", \"28\", \"29\", \"30\", \"31\", \"32\", \"33\", \"34\", \"35\", \"36\", \"37\", \"38\", \"39\", \"40\", \"41\", \"42\", \"43\", \"44\", \"45\", \"46\", \"47\", \"48\", \"50\"], \"mode\": \"markers\", \"name\": \"AUC_micro\", \"stepped\": false, \"type\": \"scatter\", \"data\": [0.9035422116527941, 0.9042166732725592, 0.9120100409565332, 0.8787156823886907, 0.9099828246796141, 0.9027702470603778, 0.8928142423041352, 0.9070704188135817, 0.8693180076628352, 0.8096416963931828, 0.8851679217862334, 0.8916513409961686, 0.8900764962346415, 0.885171885321707, 0.8954118113357115, 0.6464215880565465, 0.8781737349715947, 0.8288368344563353, 0.878491874752279, 0.9104369137270446, 0.9091553045316421, 0.8901757167393315, 0.892918483287092, 0.911937904610913, 0.9092322631787555, 0.6638425155238473, 0.9086903157616595, 0.9002380763641167, 0.8922186550402961, 0.9092518166204254, 0.911405733914652, 0.914928127890078, 0.8812430307834589, 0.9161191702999074, 0.9078540097767209, 0.7773804994054697, 0.8877878187343111, 0.9118171488968159, 0.9062068965517242, 0.8820451843043996, 0.9093745541022592, 0.9082440216673271, 0.9105655965120889, 0.9106161976483023, 0.9146903157616594, 0.834014268727705, 0.8906796802748052, 0.9187448804333463, 0.909068437045845, 0.9239456995640112]}, {\"categories\": [\"0\", \"1\", \"2\", \"3\", \"4\", \"5\", \"6\", \"7\", \"8\", \"9\", \"10\", \"11\", \"12\", \"13\", \"14\", \"15\", \"16\", \"17\", \"18\", \"19\", \"20\", \"21\", \"22\", \"23\", \"24\", \"25\", \"26\", \"27\", \"28\", \"29\", \"30\", \"31\", \"32\", \"33\", \"34\", \"35\", \"36\", \"37\", \"38\", \"39\", \"40\", \"41\", \"42\", \"43\", \"44\", \"45\", \"46\", \"47\", \"48\", \"50\"], \"mode\": \"lines\", \"name\": \"AUC_micro_max\", \"stepped\": true, \"type\": \"scatter\", \"data\": [0.9035422116527941, 0.9042166732725592, 0.9120100409565332, 0.9120100409565332, 0.9120100409565332, 0.9120100409565332, 0.9120100409565332, 0.9120100409565332, 0.9120100409565332, 0.9120100409565332, 0.9120100409565332, 0.9120100409565332, 0.9120100409565332, 0.9120100409565332, 0.9120100409565332, 0.9120100409565332, 0.9120100409565332, 0.9120100409565332, 0.9120100409565332, 0.9120100409565332, 0.9120100409565332, 0.9120100409565332, 0.9120100409565332, 0.9120100409565332, 0.9120100409565332, 0.9120100409565332, 0.9120100409565332, 0.9120100409565332, 0.9120100409565332, 0.9120100409565332, 0.9120100409565332, 0.914928127890078, 0.914928127890078, 0.9161191702999074, 0.9161191702999074, 0.9161191702999074, 0.9161191702999074, 0.9161191702999074, 0.9161191702999074, 0.9161191702999074, 0.9161191702999074, 0.9161191702999074, 0.9161191702999074, 0.9161191702999074, 0.9161191702999074, 0.9161191702999074, 0.9161191702999074, 0.9187448804333463, 0.9187448804333463, 0.9239456995640112]}], \"recall_score_micro\": [{\"categories\": [\"0\", \"1\", \"2\", \"3\", \"4\", \"5\", \"6\", \"7\", \"8\", \"9\", \"10\", \"11\", \"12\", \"13\", \"14\", \"15\", \"16\", \"17\", \"18\", \"19\", \"20\", \"21\", \"22\", \"23\", \"24\", \"25\", \"26\", \"27\", \"28\", \"29\", \"30\", \"31\", \"32\", \"33\", \"34\", \"35\", \"36\", \"37\", \"38\", \"39\", \"40\", \"41\", \"42\", \"43\", \"44\", \"45\", \"46\", \"47\", \"48\", \"50\"], \"mode\": \"markers\", \"name\": \"recall_score_micro\", \"stepped\": false, \"type\": \"scatter\", \"data\": [0.8359770114942527, 0.8358620689655172, 0.8191954022988506, 0.8093103448275862, 0.8291954022988506, 0.8360919540229885, 0.8225287356321838, 0.8427586206896553, 0.7926436781609195, 0.7659770114942528, 0.8094252873563219, 0.8295402298850576, 0.8021839080459771, 0.822528735632184, 0.8088505747126437, 0.6389655172413793, 0.796206896551724, 0.7691954022988505, 0.7989655172413792, 0.8258620689655173, 0.859425287356322, 0.8124137931034483, 0.8291954022988506, 0.8259770114942528, 0.8325287356321839, 0.6426436781609195, 0.8527586206896552, 0.8328735632183909, 0.8293103448275861, 0.825632183908046, 0.8358620689655172, 0.8391954022988506, 0.8058620689655172, 0.8491954022988507, 0.8493103448275863, 0.6791954022988507, 0.8326436781609197, 0.8457471264367816, 0.8393103448275863, 0.822528735632184, 0.8326436781609194, 0.8357471264367815, 0.8460919540229886, 0.8393103448275863, 0.8460919540229884, 0.7554022988505747, 0.8426436781609195, 0.8459770114942529, 0.8394252873563218, 0.8325287356321839]}, {\"categories\": [\"0\", \"1\", \"2\", \"3\", \"4\", \"5\", \"6\", \"7\", \"8\", \"9\", \"10\", \"11\", \"12\", \"13\", \"14\", \"15\", \"16\", \"17\", \"18\", \"19\", \"20\", \"21\", \"22\", \"23\", \"24\", \"25\", \"26\", \"27\", \"28\", \"29\", \"30\", \"31\", \"32\", \"33\", \"34\", \"35\", \"36\", \"37\", \"38\", \"39\", \"40\", \"41\", \"42\", \"43\", \"44\", \"45\", \"46\", \"47\", \"48\", \"50\"], \"mode\": \"lines\", \"name\": \"recall_score_micro_max\", \"stepped\": true, \"type\": \"scatter\", \"data\": [0.8359770114942527, 0.8359770114942527, 0.8359770114942527, 0.8359770114942527, 0.8359770114942527, 0.8360919540229885, 0.8360919540229885, 0.8427586206896553, 0.8427586206896553, 0.8427586206896553, 0.8427586206896553, 0.8427586206896553, 0.8427586206896553, 0.8427586206896553, 0.8427586206896553, 0.8427586206896553, 0.8427586206896553, 0.8427586206896553, 0.8427586206896553, 0.8427586206896553, 0.859425287356322, 0.859425287356322, 0.859425287356322, 0.859425287356322, 0.859425287356322, 0.859425287356322, 0.859425287356322, 0.859425287356322, 0.859425287356322, 0.859425287356322, 0.859425287356322, 0.859425287356322, 0.859425287356322, 0.859425287356322, 0.859425287356322, 0.859425287356322, 0.859425287356322, 0.859425287356322, 0.859425287356322, 0.859425287356322, 0.859425287356322, 0.859425287356322, 0.859425287356322, 0.859425287356322, 0.859425287356322, 0.859425287356322, 0.859425287356322, 0.859425287356322, 0.859425287356322, 0.859425287356322]}], \"precision_score_macro\": [{\"categories\": [\"0\", \"1\", \"2\", \"3\", \"4\", \"5\", \"6\", \"7\", \"8\", \"9\", \"10\", \"11\", \"12\", \"13\", \"14\", \"15\", \"16\", \"17\", \"18\", \"19\", \"20\", \"21\", \"22\", \"23\", \"24\", \"25\", \"26\", \"27\", \"28\", \"29\", \"30\", \"31\", \"32\", \"33\", \"34\", \"35\", \"36\", \"37\", \"38\", \"39\", \"40\", \"41\", \"42\", \"43\", \"44\", \"45\", \"46\", \"47\", \"48\", \"50\"], \"mode\": \"markers\", \"name\": \"precision_score_macro\", \"stepped\": false, \"type\": \"scatter\", \"data\": [0.8167365852764965, 0.8232986049897815, 0.7953863165819687, 0.8379696969696969, 0.8020438531197044, 0.8238642245435723, 0.8084065170258465, 0.8568024580936481, 0.8266783944718729, 0.7703082497212932, 0.8334603174603175, 0.8473082497212931, 0.784518992863824, 0.8151354336929281, 0.7874598266893662, 0.5543597592139792, 0.8432056238780378, 0.73143852879147, 0.7749869573748964, 0.8096246520451326, 0.8391874077486206, 0.7833505639097744, 0.8017102993736793, 0.8029515938138229, 0.8104001270468661, 0.4353205128205128, 0.8429787919525772, 0.8604278326343543, 0.8342430830039526, 0.7939166237417179, 0.8146752175076983, 0.8301036612577534, 0.7947895590223629, 0.8415246874821684, 0.84631467433956, 0.33959770114942534, 0.8297873068960027, 0.8159823927250566, 0.8366777806592385, 0.8133497194072137, 0.8243002887653917, 0.8058509787314134, 0.8274004119991973, 0.8247513980762063, 0.832098929125346, 0.7264939783728483, 0.8301282702804442, 0.8356848723172252, 0.8195182744410434, 0.8137779581529581]}, {\"categories\": [\"0\", \"1\", \"2\", \"3\", \"4\", \"5\", \"6\", \"7\", \"8\", \"9\", \"10\", \"11\", \"12\", \"13\", \"14\", \"15\", \"16\", \"17\", \"18\", \"19\", \"20\", \"21\", \"22\", \"23\", \"24\", \"25\", \"26\", \"27\", \"28\", \"29\", \"30\", \"31\", \"32\", \"33\", \"34\", \"35\", \"36\", \"37\", \"38\", \"39\", \"40\", \"41\", \"42\", \"43\", \"44\", \"45\", \"46\", \"47\", \"48\", \"50\"], \"mode\": \"lines\", \"name\": \"precision_score_macro_max\", \"stepped\": true, \"type\": \"scatter\", \"data\": [0.8167365852764965, 0.8232986049897815, 0.8232986049897815, 0.8379696969696969, 0.8379696969696969, 0.8379696969696969, 0.8379696969696969, 0.8568024580936481, 0.8568024580936481, 0.8568024580936481, 0.8568024580936481, 0.8568024580936481, 0.8568024580936481, 0.8568024580936481, 0.8568024580936481, 0.8568024580936481, 0.8568024580936481, 0.8568024580936481, 0.8568024580936481, 0.8568024580936481, 0.8568024580936481, 0.8568024580936481, 0.8568024580936481, 0.8568024580936481, 0.8568024580936481, 0.8568024580936481, 0.8568024580936481, 0.8604278326343543, 0.8604278326343543, 0.8604278326343543, 0.8604278326343543, 0.8604278326343543, 0.8604278326343543, 0.8604278326343543, 0.8604278326343543, 0.8604278326343543, 0.8604278326343543, 0.8604278326343543, 0.8604278326343543, 0.8604278326343543, 0.8604278326343543, 0.8604278326343543, 0.8604278326343543, 0.8604278326343543, 0.8604278326343543, 0.8604278326343543, 0.8604278326343543, 0.8604278326343543, 0.8604278326343543, 0.8604278326343543]}], \"f1_score_micro\": [{\"categories\": [\"0\", \"1\", \"2\", \"3\", \"4\", \"5\", \"6\", \"7\", \"8\", \"9\", \"10\", \"11\", \"12\", \"13\", \"14\", \"15\", \"16\", \"17\", \"18\", \"19\", \"20\", \"21\", \"22\", \"23\", \"24\", \"25\", \"26\", \"27\", \"28\", \"29\", \"30\", \"31\", \"32\", \"33\", \"34\", \"35\", \"36\", \"37\", \"38\", \"39\", \"40\", \"41\", \"42\", \"43\", \"44\", \"45\", \"46\", \"47\", \"48\", \"50\"], \"mode\": \"markers\", \"name\": \"f1_score_micro\", \"stepped\": false, \"type\": \"scatter\", \"data\": [0.8359770114942527, 0.8358620689655172, 0.8191954022988506, 0.8093103448275862, 0.8291954022988506, 0.8360919540229885, 0.8225287356321838, 0.8427586206896553, 0.7926436781609195, 0.7659770114942528, 0.8094252873563219, 0.8295402298850576, 0.8021839080459771, 0.822528735632184, 0.8088505747126437, 0.6389655172413793, 0.796206896551724, 0.7691954022988505, 0.7989655172413792, 0.8258620689655173, 0.859425287356322, 0.8124137931034483, 0.8291954022988506, 0.825977011494253, 0.8325287356321839, 0.6426436781609195, 0.8527586206896552, 0.8328735632183909, 0.8293103448275861, 0.825632183908046, 0.8358620689655172, 0.8391954022988506, 0.8058620689655172, 0.8491954022988507, 0.8493103448275863, 0.6791954022988507, 0.8326436781609197, 0.8457471264367816, 0.8393103448275863, 0.822528735632184, 0.8326436781609194, 0.8357471264367815, 0.8460919540229886, 0.8393103448275863, 0.8460919540229886, 0.7554022988505747, 0.8426436781609195, 0.8459770114942529, 0.8394252873563219, 0.8325287356321839]}, {\"categories\": [\"0\", \"1\", \"2\", \"3\", \"4\", \"5\", \"6\", \"7\", \"8\", \"9\", \"10\", \"11\", \"12\", \"13\", \"14\", \"15\", \"16\", \"17\", \"18\", \"19\", \"20\", \"21\", \"22\", \"23\", \"24\", \"25\", \"26\", \"27\", \"28\", \"29\", \"30\", \"31\", \"32\", \"33\", \"34\", \"35\", \"36\", \"37\", \"38\", \"39\", \"40\", \"41\", \"42\", \"43\", \"44\", \"45\", \"46\", \"47\", \"48\", \"50\"], \"mode\": \"lines\", \"name\": \"f1_score_micro_max\", \"stepped\": true, \"type\": \"scatter\", \"data\": [0.8359770114942527, 0.8359770114942527, 0.8359770114942527, 0.8359770114942527, 0.8359770114942527, 0.8360919540229885, 0.8360919540229885, 0.8427586206896553, 0.8427586206896553, 0.8427586206896553, 0.8427586206896553, 0.8427586206896553, 0.8427586206896553, 0.8427586206896553, 0.8427586206896553, 0.8427586206896553, 0.8427586206896553, 0.8427586206896553, 0.8427586206896553, 0.8427586206896553, 0.859425287356322, 0.859425287356322, 0.859425287356322, 0.859425287356322, 0.859425287356322, 0.859425287356322, 0.859425287356322, 0.859425287356322, 0.859425287356322, 0.859425287356322, 0.859425287356322, 0.859425287356322, 0.859425287356322, 0.859425287356322, 0.859425287356322, 0.859425287356322, 0.859425287356322, 0.859425287356322, 0.859425287356322, 0.859425287356322, 0.859425287356322, 0.859425287356322, 0.859425287356322, 0.859425287356322, 0.859425287356322, 0.859425287356322, 0.859425287356322, 0.859425287356322, 0.859425287356322, 0.859425287356322]}], \"f1_score_weighted\": [{\"categories\": [\"0\", \"1\", \"2\", \"3\", \"4\", \"5\", \"6\", \"7\", \"8\", \"9\", \"10\", \"11\", \"12\", \"13\", \"14\", \"15\", \"16\", \"17\", \"18\", \"19\", \"20\", \"21\", \"22\", \"23\", \"24\", \"25\", \"26\", \"27\", \"28\", \"29\", \"30\", \"31\", \"32\", \"33\", \"34\", \"35\", \"36\", \"37\", \"38\", \"39\", \"40\", \"41\", \"42\", \"43\", \"44\", \"45\", \"46\", \"47\", \"48\", \"50\"], \"mode\": \"markers\", \"name\": \"f1_score_weighted\", \"stepped\": false, \"type\": \"scatter\", \"data\": [0.8333388901455894, 0.8342588560383983, 0.8158182649129222, 0.7892033781510833, 0.8308301324789307, 0.8320675043850805, 0.8188465722703333, 0.8335646902569966, 0.7656041605777577, 0.743922190318357, 0.7913176573831087, 0.8175878984172554, 0.8080028353002634, 0.8190519819982247, 0.8126874773419772, 0.6071892452709331, 0.768919777558312, 0.7704689002082676, 0.8019468895774684, 0.8208423832388133, 0.8567893114782992, 0.8168882611421686, 0.8291873105263038, 0.8250415574520001, 0.8322020965251682, 0.553606126510483, 0.8513159987919836, 0.8192200125995035, 0.8176558550810734, 0.8300881733730548, 0.8350943308952135, 0.8368174208799493, 0.8021227284807029, 0.8473196381615782, 0.8455461732685535, 0.5534120288954022, 0.8231814706189298, 0.8497829261415468, 0.8323341032522762, 0.81906121720746, 0.8263020686928207, 0.8406034749384, 0.8444411989077703, 0.8363567314684239, 0.8435318506277616, 0.7615079990178559, 0.84115501972882, 0.8435342378935846, 0.8385060861474376, 0.8308772342984592]}, {\"categories\": [\"0\", \"1\", \"2\", \"3\", \"4\", \"5\", \"6\", \"7\", \"8\", \"9\", \"10\", \"11\", \"12\", \"13\", \"14\", \"15\", \"16\", \"17\", \"18\", \"19\", \"20\", \"21\", \"22\", \"23\", \"24\", \"25\", \"26\", \"27\", \"28\", \"29\", \"30\", \"31\", \"32\", \"33\", \"34\", \"35\", \"36\", \"37\", \"38\", \"39\", \"40\", \"41\", \"42\", \"43\", \"44\", \"45\", \"46\", \"47\", \"48\", \"50\"], \"mode\": \"lines\", \"name\": \"f1_score_weighted_max\", \"stepped\": true, \"type\": \"scatter\", \"data\": [0.8333388901455894, 0.8342588560383983, 0.8342588560383983, 0.8342588560383983, 0.8342588560383983, 0.8342588560383983, 0.8342588560383983, 0.8342588560383983, 0.8342588560383983, 0.8342588560383983, 0.8342588560383983, 0.8342588560383983, 0.8342588560383983, 0.8342588560383983, 0.8342588560383983, 0.8342588560383983, 0.8342588560383983, 0.8342588560383983, 0.8342588560383983, 0.8342588560383983, 0.8567893114782992, 0.8567893114782992, 0.8567893114782992, 0.8567893114782992, 0.8567893114782992, 0.8567893114782992, 0.8567893114782992, 0.8567893114782992, 0.8567893114782992, 0.8567893114782992, 0.8567893114782992, 0.8567893114782992, 0.8567893114782992, 0.8567893114782992, 0.8567893114782992, 0.8567893114782992, 0.8567893114782992, 0.8567893114782992, 0.8567893114782992, 0.8567893114782992, 0.8567893114782992, 0.8567893114782992, 0.8567893114782992, 0.8567893114782992, 0.8567893114782992, 0.8567893114782992, 0.8567893114782992, 0.8567893114782992, 0.8567893114782992, 0.8567893114782992]}], \"balanced_accuracy\": [{\"categories\": [\"0\", \"1\", \"2\", \"3\", \"4\", \"5\", \"6\", \"7\", \"8\", \"9\", \"10\", \"11\", \"12\", \"13\", \"14\", \"15\", \"16\", \"17\", \"18\", \"19\", \"20\", \"21\", \"22\", \"23\", \"24\", \"25\", \"26\", \"27\", \"28\", \"29\", \"30\", \"31\", \"32\", \"33\", \"34\", \"35\", \"36\", \"37\", \"38\", \"39\", \"40\", \"41\", \"42\", \"43\", \"44\", \"45\", \"46\", \"47\", \"48\", \"50\"], \"mode\": \"markers\", \"name\": \"balanced_accuracy\", \"stepped\": false, \"type\": \"scatter\", \"data\": [0.8077082895810014, 0.8130249020938379, 0.7835608281243293, 0.7328985218315882, 0.8130547911280177, 0.7980803181372403, 0.7938464569691687, 0.798132712380424, 0.7076459016447575, 0.6780357113964093, 0.7214238057264374, 0.7667367252947916, 0.8149201961590405, 0.7897339131755607, 0.796299515669939, 0.5513534193685796, 0.7000786530720742, 0.7447872947355213, 0.7905674268840744, 0.7831479179668539, 0.8290995452234011, 0.8061030462354832, 0.807684512252304, 0.8051893728887436, 0.812785066668648, 0.483048350041771, 0.826300123249494, 0.76128006940936, 0.7687618828857387, 0.8188406630872306, 0.8158089075620542, 0.8109795424826889, 0.7709388193804669, 0.8270599898131362, 0.8136554082835546, 0.5, 0.776691270749337, 0.8423577892359356, 0.7992019669562576, 0.7878200375774747, 0.7884287394210163, 0.8359041551507227, 0.8225459205490671, 0.8075048804488164, 0.8264308411839876, 0.7565445192361668, 0.8174064686584709, 0.8192970028001492, 0.8213666816910525, 0.8124919029292599]}, {\"categories\": [\"0\", \"1\", \"2\", \"3\", \"4\", \"5\", \"6\", \"7\", \"8\", \"9\", \"10\", \"11\", \"12\", \"13\", \"14\", \"15\", \"16\", \"17\", \"18\", \"19\", \"20\", \"21\", \"22\", \"23\", \"24\", \"25\", \"26\", \"27\", \"28\", \"29\", \"30\", \"31\", \"32\", \"33\", \"34\", \"35\", \"36\", \"37\", \"38\", \"39\", \"40\", \"41\", \"42\", \"43\", \"44\", \"45\", \"46\", \"47\", \"48\", \"50\"], \"mode\": \"lines\", \"name\": \"balanced_accuracy_max\", \"stepped\": true, \"type\": \"scatter\", \"data\": [0.8077082895810014, 0.8130249020938379, 0.8130249020938379, 0.8130249020938379, 0.8130547911280177, 0.8130547911280177, 0.8130547911280177, 0.8130547911280177, 0.8130547911280177, 0.8130547911280177, 0.8130547911280177, 0.8130547911280177, 0.8149201961590405, 0.8149201961590405, 0.8149201961590405, 0.8149201961590405, 0.8149201961590405, 0.8149201961590405, 0.8149201961590405, 0.8149201961590405, 0.8290995452234011, 0.8290995452234011, 0.8290995452234011, 0.8290995452234011, 0.8290995452234011, 0.8290995452234011, 0.8290995452234011, 0.8290995452234011, 0.8290995452234011, 0.8290995452234011, 0.8290995452234011, 0.8290995452234011, 0.8290995452234011, 0.8290995452234011, 0.8290995452234011, 0.8290995452234011, 0.8290995452234011, 0.8423577892359356, 0.8423577892359356, 0.8423577892359356, 0.8423577892359356, 0.8423577892359356, 0.8423577892359356, 0.8423577892359356, 0.8423577892359356, 0.8423577892359356, 0.8423577892359356, 0.8423577892359356, 0.8423577892359356, 0.8423577892359356]}], \"AUC_weighted\": [{\"categories\": [\"0\", \"1\", \"2\", \"3\", \"4\", \"5\", \"6\", \"7\", \"8\", \"9\", \"10\", \"11\", \"12\", \"13\", \"14\", \"15\", \"16\", \"17\", \"18\", \"19\", \"20\", \"21\", \"22\", \"23\", \"24\", \"25\", \"26\", \"27\", \"28\", \"29\", \"30\", \"31\", \"32\", \"33\", \"34\", \"35\", \"36\", \"37\", \"38\", \"39\", \"40\", \"41\", \"42\", \"43\", \"44\", \"45\", \"46\", \"47\", \"48\", \"50\"], \"mode\": \"markers\", \"name\": \"AUC_weighted\", \"stepped\": false, \"type\": \"scatter\", \"data\": [0.8840955354735103, 0.8847369443591411, 0.9019377215546551, 0.8799478766635518, 0.9052853115441216, 0.884562574777964, 0.8843157474407022, 0.8966422959297674, 0.8777201300627503, 0.7496161006793443, 0.8875060010863788, 0.8946868258150869, 0.8932471573917227, 0.8690640629075983, 0.8838590374707079, 0.5203053263648802, 0.8838642382196159, 0.8182694245770333, 0.8822562539968718, 0.9089099837731132, 0.8930870264429188, 0.8803350882696421, 0.8713969332091758, 0.9040656514749765, 0.897169059423922, 0.4839030682217181, 0.8972491004355421, 0.8968234087359374, 0.9012169939836415, 0.9099099089676322, 0.9020804096594143, 0.9037462671005578, 0.8679598190964896, 0.9055383305926211, 0.8965221390927913, 0.7355931539983028, 0.8889030168884002, 0.9037201903529134, 0.9022516357593588, 0.8638387105774978, 0.9018839739885507, 0.9019135114080766, 0.9025751244052159, 0.9020273420155572, 0.9049458335121949, 0.8431042633483138, 0.8759483215339621, 0.9091878529492373, 0.9002945555038233, 0.9188991290534197]}, {\"categories\": [\"0\", \"1\", \"2\", \"3\", \"4\", \"5\", \"6\", \"7\", \"8\", \"9\", \"10\", \"11\", \"12\", \"13\", \"14\", \"15\", \"16\", \"17\", \"18\", \"19\", \"20\", \"21\", \"22\", \"23\", \"24\", \"25\", \"26\", \"27\", \"28\", \"29\", \"30\", \"31\", \"32\", \"33\", \"34\", \"35\", \"36\", \"37\", \"38\", \"39\", \"40\", \"41\", \"42\", \"43\", \"44\", \"45\", \"46\", \"47\", \"48\", \"50\"], \"mode\": \"lines\", \"name\": \"AUC_weighted_max\", \"stepped\": true, \"type\": \"scatter\", \"data\": [0.8840955354735103, 0.8847369443591411, 0.9019377215546551, 0.9019377215546551, 0.9052853115441216, 0.9052853115441216, 0.9052853115441216, 0.9052853115441216, 0.9052853115441216, 0.9052853115441216, 0.9052853115441216, 0.9052853115441216, 0.9052853115441216, 0.9052853115441216, 0.9052853115441216, 0.9052853115441216, 0.9052853115441216, 0.9052853115441216, 0.9052853115441216, 0.9089099837731132, 0.9089099837731132, 0.9089099837731132, 0.9089099837731132, 0.9089099837731132, 0.9089099837731132, 0.9089099837731132, 0.9089099837731132, 0.9089099837731132, 0.9089099837731132, 0.9099099089676322, 0.9099099089676322, 0.9099099089676322, 0.9099099089676322, 0.9099099089676322, 0.9099099089676322, 0.9099099089676322, 0.9099099089676322, 0.9099099089676322, 0.9099099089676322, 0.9099099089676322, 0.9099099089676322, 0.9099099089676322, 0.9099099089676322, 0.9099099089676322, 0.9099099089676322, 0.9099099089676322, 0.9099099089676322, 0.9099099089676322, 0.9099099089676322, 0.9188991290534197]}], \"f1_score_macro\": [{\"categories\": [\"0\", \"1\", \"2\", \"3\", \"4\", \"5\", \"6\", \"7\", \"8\", \"9\", \"10\", \"11\", \"12\", \"13\", \"14\", \"15\", \"16\", \"17\", \"18\", \"19\", \"20\", \"21\", \"22\", \"23\", \"24\", \"25\", \"26\", \"27\", \"28\", \"29\", \"30\", \"31\", \"32\", \"33\", \"34\", \"35\", \"36\", \"37\", \"38\", \"39\", \"40\", \"41\", \"42\", \"43\", \"44\", \"45\", \"46\", \"47\", \"48\", \"50\"], \"mode\": \"markers\", \"name\": \"f1_score_macro\", \"stepped\": false, \"type\": \"scatter\", \"data\": [0.8043314151248963, 0.8078501228997539, 0.7809730764385752, 0.7447640818479969, 0.800020790528847, 0.7991014799144281, 0.7877986434872748, 0.804984706316333, 0.7158835718052198, 0.6844538166645457, 0.7390015392272018, 0.7786495017331996, 0.7817998040720565, 0.786520686032605, 0.7818212554330486, 0.5251633085767229, 0.7120881995157866, 0.7320651701128208, 0.7672057237176435, 0.7859560894600321, 0.8270839563723019, 0.7838518155021132, 0.7976454817140513, 0.7950607192308209, 0.8026312052653971, 0.41939517757999945, 0.8262619022743494, 0.7789242828125593, 0.7800442186857623, 0.7996383374596772, 0.8063780890730559, 0.8103274940034245, 0.767900974079408, 0.8230046371217442, 0.8160964821694927, 0.4024893878511494, 0.7863269769164896, 0.8222425444925445, 0.800592919675218, 0.7859665734784926, 0.7930045658308718, 0.8129014750474199, 0.815624315409709, 0.8046246343782787, 0.8179654657572307, 0.7277041657798794, 0.8136719536985042, 0.8165352309389318, 0.8093217640310026, 0.8009384479963406]}, {\"categories\": [\"0\", \"1\", \"2\", \"3\", \"4\", \"5\", \"6\", \"7\", \"8\", \"9\", \"10\", \"11\", \"12\", \"13\", \"14\", \"15\", \"16\", \"17\", \"18\", \"19\", \"20\", \"21\", \"22\", \"23\", \"24\", \"25\", \"26\", \"27\", \"28\", \"29\", \"30\", \"31\", \"32\", \"33\", \"34\", \"35\", \"36\", \"37\", \"38\", \"39\", \"40\", \"41\", \"42\", \"43\", \"44\", \"45\", \"46\", \"47\", \"48\", \"50\"], \"mode\": \"lines\", \"name\": \"f1_score_macro_max\", \"stepped\": true, \"type\": \"scatter\", \"data\": [0.8043314151248963, 0.8078501228997539, 0.8078501228997539, 0.8078501228997539, 0.8078501228997539, 0.8078501228997539, 0.8078501228997539, 0.8078501228997539, 0.8078501228997539, 0.8078501228997539, 0.8078501228997539, 0.8078501228997539, 0.8078501228997539, 0.8078501228997539, 0.8078501228997539, 0.8078501228997539, 0.8078501228997539, 0.8078501228997539, 0.8078501228997539, 0.8078501228997539, 0.8270839563723019, 0.8270839563723019, 0.8270839563723019, 0.8270839563723019, 0.8270839563723019, 0.8270839563723019, 0.8270839563723019, 0.8270839563723019, 0.8270839563723019, 0.8270839563723019, 0.8270839563723019, 0.8270839563723019, 0.8270839563723019, 0.8270839563723019, 0.8270839563723019, 0.8270839563723019, 0.8270839563723019, 0.8270839563723019, 0.8270839563723019, 0.8270839563723019, 0.8270839563723019, 0.8270839563723019, 0.8270839563723019, 0.8270839563723019, 0.8270839563723019, 0.8270839563723019, 0.8270839563723019, 0.8270839563723019, 0.8270839563723019, 0.8270839563723019]}], \"precision_score_micro\": [{\"categories\": [\"0\", \"1\", \"2\", \"3\", \"4\", \"5\", \"6\", \"7\", \"8\", \"9\", \"10\", \"11\", \"12\", \"13\", \"14\", \"15\", \"16\", \"17\", \"18\", \"19\", \"20\", \"21\", \"22\", \"23\", \"24\", \"25\", \"26\", \"27\", \"28\", \"29\", \"30\", \"31\", \"32\", \"33\", \"34\", \"35\", \"36\", \"37\", \"38\", \"39\", \"40\", \"41\", \"42\", \"43\", \"44\", \"45\", \"46\", \"47\", \"48\", \"50\"], \"mode\": \"markers\", \"name\": \"precision_score_micro\", \"stepped\": false, \"type\": \"scatter\", \"data\": [0.8359770114942527, 0.8358620689655172, 0.8191954022988506, 0.8093103448275862, 0.8291954022988506, 0.8360919540229885, 0.8225287356321838, 0.8427586206896553, 0.7926436781609195, 0.7659770114942528, 0.8094252873563219, 0.8295402298850576, 0.8021839080459771, 0.822528735632184, 0.8088505747126437, 0.6389655172413793, 0.796206896551724, 0.7691954022988505, 0.7989655172413792, 0.8258620689655173, 0.859425287356322, 0.8124137931034483, 0.8291954022988506, 0.8259770114942528, 0.8325287356321839, 0.6426436781609195, 0.8527586206896552, 0.8328735632183909, 0.8293103448275861, 0.825632183908046, 0.8358620689655172, 0.8391954022988506, 0.8058620689655172, 0.8491954022988507, 0.8493103448275863, 0.6791954022988507, 0.8326436781609197, 0.8457471264367816, 0.8393103448275863, 0.822528735632184, 0.8326436781609194, 0.8357471264367815, 0.8460919540229886, 0.8393103448275863, 0.8460919540229884, 0.7554022988505747, 0.8426436781609195, 0.8459770114942529, 0.8394252873563218, 0.8325287356321839]}, {\"categories\": [\"0\", \"1\", \"2\", \"3\", \"4\", \"5\", \"6\", \"7\", \"8\", \"9\", \"10\", \"11\", \"12\", \"13\", \"14\", \"15\", \"16\", \"17\", \"18\", \"19\", \"20\", \"21\", \"22\", \"23\", \"24\", \"25\", \"26\", \"27\", \"28\", \"29\", \"30\", \"31\", \"32\", \"33\", \"34\", \"35\", \"36\", \"37\", \"38\", \"39\", \"40\", \"41\", \"42\", \"43\", \"44\", \"45\", \"46\", \"47\", \"48\", \"50\"], \"mode\": \"lines\", \"name\": \"precision_score_micro_max\", \"stepped\": true, \"type\": \"scatter\", \"data\": [0.8359770114942527, 0.8359770114942527, 0.8359770114942527, 0.8359770114942527, 0.8359770114942527, 0.8360919540229885, 0.8360919540229885, 0.8427586206896553, 0.8427586206896553, 0.8427586206896553, 0.8427586206896553, 0.8427586206896553, 0.8427586206896553, 0.8427586206896553, 0.8427586206896553, 0.8427586206896553, 0.8427586206896553, 0.8427586206896553, 0.8427586206896553, 0.8427586206896553, 0.859425287356322, 0.859425287356322, 0.859425287356322, 0.859425287356322, 0.859425287356322, 0.859425287356322, 0.859425287356322, 0.859425287356322, 0.859425287356322, 0.859425287356322, 0.859425287356322, 0.859425287356322, 0.859425287356322, 0.859425287356322, 0.859425287356322, 0.859425287356322, 0.859425287356322, 0.859425287356322, 0.859425287356322, 0.859425287356322, 0.859425287356322, 0.859425287356322, 0.859425287356322, 0.859425287356322, 0.859425287356322, 0.859425287356322, 0.859425287356322, 0.859425287356322, 0.859425287356322, 0.859425287356322]}], \"average_precision_score_micro\": [{\"categories\": [\"0\", \"1\", \"2\", \"3\", \"4\", \"5\", \"6\", \"7\", \"8\", \"9\", \"10\", \"11\", \"12\", \"13\", \"14\", \"15\", \"16\", \"17\", \"18\", \"19\", \"20\", \"21\", \"22\", \"23\", \"24\", \"25\", \"26\", \"27\", \"28\", \"29\", \"30\", \"31\", \"32\", \"33\", \"34\", \"35\", \"36\", \"37\", \"38\", \"39\", \"40\", \"41\", \"42\", \"43\", \"44\", \"45\", \"46\", \"47\", \"48\", \"50\"], \"mode\": \"markers\", \"name\": \"average_precision_score_micro\", \"stepped\": false, \"type\": \"scatter\", \"data\": [0.9020054536251629, 0.9033793522124445, 0.9118065194356879, 0.8813997298847683, 0.9131878138135339, 0.901971023468678, 0.8927137414528559, 0.9124990587981457, 0.875925215939052, 0.7964089391804331, 0.8856390925357477, 0.8981148126215199, 0.8932173619191064, 0.8891434404611973, 0.8991181777219381, 0.6466874753087125, 0.8851733106786795, 0.8291394414756205, 0.8765722089057892, 0.9145380507917885, 0.9082383610390552, 0.895475035979634, 0.8902189473737296, 0.9116424447666898, 0.907853549712329, 0.6577925758411947, 0.9111051060172054, 0.9058959914048019, 0.8937346070170612, 0.9100325501224502, 0.9132240253726479, 0.9190332414413522, 0.8869583810590631, 0.9205630178015662, 0.9116521148508248, 0.7827515833857663, 0.8829186467111182, 0.9105927774788125, 0.9100085270296232, 0.8850299274029687, 0.9082909280192185, 0.9064098803565889, 0.9138403190237703, 0.9137810581058824, 0.9170621083699458, 0.8276723168335514, 0.8950707227576652, 0.9233697032657453, 0.9102295989243345, 0.9268718038711852]}, {\"categories\": [\"0\", \"1\", \"2\", \"3\", \"4\", \"5\", \"6\", \"7\", \"8\", \"9\", \"10\", \"11\", \"12\", \"13\", \"14\", \"15\", \"16\", \"17\", \"18\", \"19\", \"20\", \"21\", \"22\", \"23\", \"24\", \"25\", \"26\", \"27\", \"28\", \"29\", \"30\", \"31\", \"32\", \"33\", \"34\", \"35\", \"36\", \"37\", \"38\", \"39\", \"40\", \"41\", \"42\", \"43\", \"44\", \"45\", \"46\", \"47\", \"48\", \"50\"], \"mode\": \"lines\", \"name\": \"average_precision_score_micro_max\", \"stepped\": true, \"type\": \"scatter\", \"data\": [0.9020054536251629, 0.9033793522124445, 0.9118065194356879, 0.9118065194356879, 0.9131878138135339, 0.9131878138135339, 0.9131878138135339, 0.9131878138135339, 0.9131878138135339, 0.9131878138135339, 0.9131878138135339, 0.9131878138135339, 0.9131878138135339, 0.9131878138135339, 0.9131878138135339, 0.9131878138135339, 0.9131878138135339, 0.9131878138135339, 0.9131878138135339, 0.9145380507917885, 0.9145380507917885, 0.9145380507917885, 0.9145380507917885, 0.9145380507917885, 0.9145380507917885, 0.9145380507917885, 0.9145380507917885, 0.9145380507917885, 0.9145380507917885, 0.9145380507917885, 0.9145380507917885, 0.9190332414413522, 0.9190332414413522, 0.9205630178015662, 0.9205630178015662, 0.9205630178015662, 0.9205630178015662, 0.9205630178015662, 0.9205630178015662, 0.9205630178015662, 0.9205630178015662, 0.9205630178015662, 0.9205630178015662, 0.9205630178015662, 0.9205630178015662, 0.9205630178015662, 0.9205630178015662, 0.9233697032657453, 0.9233697032657453, 0.9268718038711852]}], \"matthews_correlation\": [{\"categories\": [\"0\", \"1\", \"2\", \"3\", \"4\", \"5\", \"6\", \"7\", \"8\", \"9\", \"10\", \"11\", \"12\", \"13\", \"14\", \"15\", \"16\", \"17\", \"18\", \"19\", \"20\", \"21\", \"22\", \"23\", \"24\", \"25\", \"26\", \"27\", \"28\", \"29\", \"30\", \"31\", \"32\", \"33\", \"34\", \"35\", \"36\", \"37\", \"38\", \"39\", \"40\", \"41\", \"42\", \"43\", \"44\", \"45\", \"46\", \"47\", \"48\", \"50\"], \"mode\": \"markers\", \"name\": \"matthews_correlation\", \"stepped\": false, \"type\": \"scatter\", \"data\": [0.6231314496952846, 0.6345538749068885, 0.5777226712594004, 0.5576637519910281, 0.613984222598867, 0.6199622662287542, 0.5998024314382479, 0.6488444173927743, 0.516862620979332, 0.4352854456898543, 0.541807599697504, 0.6043860224518859, 0.5976862004086536, 0.602374560767889, 0.5825613912023666, 0.10426477830980234, 0.5159708805142463, 0.4756384599885949, 0.5636620584617742, 0.591194297640371, 0.66661127189571, 0.5876137670929059, 0.6082604790539246, 0.6068917790338484, 0.6218427503594709, -0.03896597943853032, 0.6677643390133987, 0.6106815684435132, 0.5978057098886025, 0.6115667695810301, 0.6291314014838532, 0.6393968851050753, 0.5631664008367047, 0.6666609387939435, 0.656277804211677, 0.0, 0.6026307381223293, 0.6570053238403624, 0.6320897071733595, 0.5986771914346563, 0.610321807150545, 0.640378180947154, 0.648518164136522, 0.6300882067151432, 0.6567191501279209, 0.480661454515554, 0.6461829068746838, 0.6531072437461087, 0.638930380657168, 0.6242650914680121]}, {\"categories\": [\"0\", \"1\", \"2\", \"3\", \"4\", \"5\", \"6\", \"7\", \"8\", \"9\", \"10\", \"11\", \"12\", \"13\", \"14\", \"15\", \"16\", \"17\", \"18\", \"19\", \"20\", \"21\", \"22\", \"23\", \"24\", \"25\", \"26\", \"27\", \"28\", \"29\", \"30\", \"31\", \"32\", \"33\", \"34\", \"35\", \"36\", \"37\", \"38\", \"39\", \"40\", \"41\", \"42\", \"43\", \"44\", \"45\", \"46\", \"47\", \"48\", \"50\"], \"mode\": \"lines\", \"name\": \"matthews_correlation_max\", \"stepped\": true, \"type\": \"scatter\", \"data\": [0.6231314496952846, 0.6345538749068885, 0.6345538749068885, 0.6345538749068885, 0.6345538749068885, 0.6345538749068885, 0.6345538749068885, 0.6488444173927743, 0.6488444173927743, 0.6488444173927743, 0.6488444173927743, 0.6488444173927743, 0.6488444173927743, 0.6488444173927743, 0.6488444173927743, 0.6488444173927743, 0.6488444173927743, 0.6488444173927743, 0.6488444173927743, 0.6488444173927743, 0.66661127189571, 0.66661127189571, 0.66661127189571, 0.66661127189571, 0.66661127189571, 0.66661127189571, 0.6677643390133987, 0.6677643390133987, 0.6677643390133987, 0.6677643390133987, 0.6677643390133987, 0.6677643390133987, 0.6677643390133987, 0.6677643390133987, 0.6677643390133987, 0.6677643390133987, 0.6677643390133987, 0.6677643390133987, 0.6677643390133987, 0.6677643390133987, 0.6677643390133987, 0.6677643390133987, 0.6677643390133987, 0.6677643390133987, 0.6677643390133987, 0.6677643390133987, 0.6677643390133987, 0.6677643390133987, 0.6677643390133987, 0.6677643390133987]}], \"recall_score_weighted\": [{\"categories\": [\"0\", \"1\", \"2\", \"3\", \"4\", \"5\", \"6\", \"7\", \"8\", \"9\", \"10\", \"11\", \"12\", \"13\", \"14\", \"15\", \"16\", \"17\", \"18\", \"19\", \"20\", \"21\", \"22\", \"23\", \"24\", \"25\", \"26\", \"27\", \"28\", \"29\", \"30\", \"31\", \"32\", \"33\", \"34\", \"35\", \"36\", \"37\", \"38\", \"39\", \"40\", \"41\", \"42\", \"43\", \"44\", \"45\", \"46\", \"47\", \"48\", \"50\"], \"mode\": \"markers\", \"name\": \"recall_score_weighted\", \"stepped\": false, \"type\": \"scatter\", \"data\": [0.8359770114942527, 0.8358620689655172, 0.8191954022988506, 0.8093103448275862, 0.8291954022988506, 0.8360919540229885, 0.8225287356321838, 0.8427586206896553, 0.7926436781609195, 0.7659770114942528, 0.8094252873563219, 0.8295402298850576, 0.8021839080459771, 0.822528735632184, 0.8088505747126437, 0.6389655172413793, 0.796206896551724, 0.7691954022988505, 0.7989655172413792, 0.8258620689655173, 0.859425287356322, 0.8124137931034483, 0.8291954022988506, 0.8259770114942528, 0.8325287356321839, 0.6426436781609195, 0.8527586206896552, 0.8328735632183909, 0.8293103448275861, 0.825632183908046, 0.8358620689655172, 0.8391954022988506, 0.8058620689655172, 0.8491954022988507, 0.8493103448275863, 0.6791954022988507, 0.8326436781609197, 0.8457471264367816, 0.8393103448275863, 0.822528735632184, 0.8326436781609194, 0.8357471264367815, 0.8460919540229886, 0.8393103448275863, 0.8460919540229884, 0.7554022988505747, 0.8426436781609195, 0.8459770114942529, 0.8394252873563218, 0.8325287356321839]}, {\"categories\": [\"0\", \"1\", \"2\", \"3\", \"4\", \"5\", \"6\", \"7\", \"8\", \"9\", \"10\", \"11\", \"12\", \"13\", \"14\", \"15\", \"16\", \"17\", \"18\", \"19\", \"20\", \"21\", \"22\", \"23\", \"24\", \"25\", \"26\", \"27\", \"28\", \"29\", \"30\", \"31\", \"32\", \"33\", \"34\", \"35\", \"36\", \"37\", \"38\", \"39\", \"40\", \"41\", \"42\", \"43\", \"44\", \"45\", \"46\", \"47\", \"48\", \"50\"], \"mode\": \"lines\", \"name\": \"recall_score_weighted_max\", \"stepped\": true, \"type\": \"scatter\", \"data\": [0.8359770114942527, 0.8359770114942527, 0.8359770114942527, 0.8359770114942527, 0.8359770114942527, 0.8360919540229885, 0.8360919540229885, 0.8427586206896553, 0.8427586206896553, 0.8427586206896553, 0.8427586206896553, 0.8427586206896553, 0.8427586206896553, 0.8427586206896553, 0.8427586206896553, 0.8427586206896553, 0.8427586206896553, 0.8427586206896553, 0.8427586206896553, 0.8427586206896553, 0.859425287356322, 0.859425287356322, 0.859425287356322, 0.859425287356322, 0.859425287356322, 0.859425287356322, 0.859425287356322, 0.859425287356322, 0.859425287356322, 0.859425287356322, 0.859425287356322, 0.859425287356322, 0.859425287356322, 0.859425287356322, 0.859425287356322, 0.859425287356322, 0.859425287356322, 0.859425287356322, 0.859425287356322, 0.859425287356322, 0.859425287356322, 0.859425287356322, 0.859425287356322, 0.859425287356322, 0.859425287356322, 0.859425287356322, 0.859425287356322, 0.859425287356322, 0.859425287356322, 0.859425287356322]}], \"AUC_macro\": [{\"categories\": [\"0\", \"1\", \"2\", \"3\", \"4\", \"5\", \"6\", \"7\", \"8\", \"9\", \"10\", \"11\", \"12\", \"13\", \"14\", \"15\", \"16\", \"17\", \"18\", \"19\", \"20\", \"21\", \"22\", \"23\", \"24\", \"25\", \"26\", \"27\", \"28\", \"29\", \"30\", \"31\", \"32\", \"33\", \"34\", \"35\", \"36\", \"37\", \"38\", \"39\", \"40\", \"41\", \"42\", \"43\", \"44\", \"45\", \"46\", \"47\", \"48\", \"50\"], \"mode\": \"markers\", \"name\": \"AUC_macro\", \"stepped\": false, \"type\": \"scatter\", \"data\": [0.8840955354735103, 0.8847369443591411, 0.9019377215546551, 0.8799478766635518, 0.9052853115441216, 0.884562574777964, 0.8844526252499938, 0.8966422959297674, 0.8777201300627503, 0.7496161006793443, 0.8875060010863788, 0.8946868258150866, 0.8932471573917227, 0.8690640629075983, 0.8838590374707079, 0.5203053263648802, 0.8838642382196159, 0.8182694245770333, 0.8822562539968718, 0.9089099837731132, 0.8930870264429188, 0.8803350882696421, 0.8713969332091758, 0.9040656514749765, 0.8971690594239222, 0.4839030682217181, 0.8972491004355421, 0.8968234087359374, 0.9012169939836416, 0.9099099089676322, 0.9020804096594143, 0.9037462671005578, 0.8679598190964896, 0.9055383305926213, 0.8965221390927913, 0.7355931539983027, 0.8889030168884002, 0.9037201903529134, 0.9022516357593588, 0.8638387105774978, 0.9018839739885507, 0.9019135114080765, 0.9025751244052159, 0.902027342015557, 0.9049458335121949, 0.8431042633483138, 0.8759483215339621, 0.9091878529492373, 0.9002945555038233, 0.9188991290534197]}, {\"categories\": [\"0\", \"1\", \"2\", \"3\", \"4\", \"5\", \"6\", \"7\", \"8\", \"9\", \"10\", \"11\", \"12\", \"13\", \"14\", \"15\", \"16\", \"17\", \"18\", \"19\", \"20\", \"21\", \"22\", \"23\", \"24\", \"25\", \"26\", \"27\", \"28\", \"29\", \"30\", \"31\", \"32\", \"33\", \"34\", \"35\", \"36\", \"37\", \"38\", \"39\", \"40\", \"41\", \"42\", \"43\", \"44\", \"45\", \"46\", \"47\", \"48\", \"50\"], \"mode\": \"lines\", \"name\": \"AUC_macro_max\", \"stepped\": true, \"type\": \"scatter\", \"data\": [0.8840955354735103, 0.8847369443591411, 0.9019377215546551, 0.9019377215546551, 0.9052853115441216, 0.9052853115441216, 0.9052853115441216, 0.9052853115441216, 0.9052853115441216, 0.9052853115441216, 0.9052853115441216, 0.9052853115441216, 0.9052853115441216, 0.9052853115441216, 0.9052853115441216, 0.9052853115441216, 0.9052853115441216, 0.9052853115441216, 0.9052853115441216, 0.9089099837731132, 0.9089099837731132, 0.9089099837731132, 0.9089099837731132, 0.9089099837731132, 0.9089099837731132, 0.9089099837731132, 0.9089099837731132, 0.9089099837731132, 0.9089099837731132, 0.9099099089676322, 0.9099099089676322, 0.9099099089676322, 0.9099099089676322, 0.9099099089676322, 0.9099099089676322, 0.9099099089676322, 0.9099099089676322, 0.9099099089676322, 0.9099099089676322, 0.9099099089676322, 0.9099099089676322, 0.9099099089676322, 0.9099099089676322, 0.9099099089676322, 0.9099099089676322, 0.9099099089676322, 0.9099099089676322, 0.9099099089676322, 0.9099099089676322, 0.9188991290534197]}], \"precision_score_weighted\": [{\"categories\": [\"0\", \"1\", \"2\", \"3\", \"4\", \"5\", \"6\", \"7\", \"8\", \"9\", \"10\", \"11\", \"12\", \"13\", \"14\", \"15\", \"16\", \"17\", \"18\", \"19\", \"20\", \"21\", \"22\", \"23\", \"24\", \"25\", \"26\", \"27\", \"28\", \"29\", \"30\", \"31\", \"32\", \"33\", \"34\", \"35\", \"36\", \"37\", \"38\", \"39\", \"40\", \"41\", \"42\", \"43\", \"44\", \"45\", \"46\", \"47\", \"48\", \"50\"], \"mode\": \"markers\", \"name\": \"precision_score_weighted\", \"stepped\": false, \"type\": \"scatter\", \"data\": [0.8443308716969533, 0.8506678986628277, 0.828345814466504, 0.8352967486536451, 0.8450477144095165, 0.8490781530230554, 0.838514601285817, 0.862589576390626, 0.8226252365372055, 0.7837569262377359, 0.8325834673627777, 0.848935489947334, 0.8444606974543779, 0.8438501419573876, 0.8333203700469994, 0.6261394969463244, 0.8245799198885406, 0.7823242232750347, 0.8320455964899315, 0.8350718081947862, 0.8653142868358484, 0.8383855368349471, 0.8410843086949666, 0.8400978577103004, 0.847536926882879, 0.5298995200202097, 0.8639893703223803, 0.8546565905590144, 0.8421278292671845, 0.844877230238344, 0.8500236601458271, 0.8525631424973298, 0.8247538316199783, 0.8651938325659995, 0.8640472759050969, 0.47055053507728895, 0.8423684265925644, 0.8641118571140248, 0.8553606304186647, 0.8413501419573877, 0.8439609053698259, 0.857561971900053, 0.859411954274376, 0.8536452926305647, 0.8608148934404731, 0.7882304964754789, 0.8577946809423572, 0.8605623716678483, 0.8567031338986085, 0.8506220953376126]}, {\"categories\": [\"0\", \"1\", \"2\", \"3\", \"4\", \"5\", \"6\", \"7\", \"8\", \"9\", \"10\", \"11\", \"12\", \"13\", \"14\", \"15\", \"16\", \"17\", \"18\", \"19\", \"20\", \"21\", \"22\", \"23\", \"24\", \"25\", \"26\", \"27\", \"28\", \"29\", \"30\", \"31\", \"32\", \"33\", \"34\", \"35\", \"36\", \"37\", \"38\", \"39\", \"40\", \"41\", \"42\", \"43\", \"44\", \"45\", \"46\", \"47\", \"48\", \"50\"], \"mode\": \"lines\", \"name\": \"precision_score_weighted_max\", \"stepped\": true, \"type\": \"scatter\", \"data\": [0.8443308716969533, 0.8506678986628277, 0.8506678986628277, 0.8506678986628277, 0.8506678986628277, 0.8506678986628277, 0.8506678986628277, 0.862589576390626, 0.862589576390626, 0.862589576390626, 0.862589576390626, 0.862589576390626, 0.862589576390626, 0.862589576390626, 0.862589576390626, 0.862589576390626, 0.862589576390626, 0.862589576390626, 0.862589576390626, 0.862589576390626, 0.8653142868358484, 0.8653142868358484, 0.8653142868358484, 0.8653142868358484, 0.8653142868358484, 0.8653142868358484, 0.8653142868358484, 0.8653142868358484, 0.8653142868358484, 0.8653142868358484, 0.8653142868358484, 0.8653142868358484, 0.8653142868358484, 0.8653142868358484, 0.8653142868358484, 0.8653142868358484, 0.8653142868358484, 0.8653142868358484, 0.8653142868358484, 0.8653142868358484, 0.8653142868358484, 0.8653142868358484, 0.8653142868358484, 0.8653142868358484, 0.8653142868358484, 0.8653142868358484, 0.8653142868358484, 0.8653142868358484, 0.8653142868358484, 0.8653142868358484]}]}, \"metricName\": null, \"primaryMetricName\": \"AUC_weighted\", \"showLegend\": false}, \"run_metrics\": [{\"name\": \"experiment_status\", \"run_id\": \"AutoML_5f44cd97-a7a6-4be3-8a34-e06659c87f9b\", \"categories\": [0, 1, 2, 3, 4, 5, 6, 7, 8, 9, 10, 11, 12, 13], \"series\": [{\"data\": [\"DatasetEvaluation\", \"FeaturesGeneration\", \"DatasetFeaturization\", \"DatasetFeaturizationCompleted\", \"DatasetCrossValidationSplit\", \"ModelSelection\", \"BestRunExplainModel\", \"ModelExplanationDataSetSetup\", \"PickSurrogateModel\", \"EngineeredFeatureExplanations\", \"EngineeredFeatureExplanations\", \"RawFeaturesExplanations\", \"RawFeaturesExplanations\", \"BestRunExplainModel\"]}]}, {\"name\": \"experiment_status_description\", \"run_id\": \"AutoML_5f44cd97-a7a6-4be3-8a34-e06659c87f9b\", \"categories\": [0, 1, 2, 3, 4, 5, 6, 7, 8, 9, 10, 11, 12, 13], \"series\": [{\"data\": [\"Gathering dataset statistics.\", \"Generating features for the dataset.\", \"Beginning to fit featurizers and featurize the dataset.\", \"Completed fit featurizers and featurizing the dataset.\", \"Generating individually featurized CV splits.\", \"Beginning model selection.\", \"Best run model explanations started\", \"Model explanations data setup completed\", \"Choosing LightGBM as the surrogate model for explanations\", \"Computation of engineered features started\", \"Computation of engineered features completed\", \"Computation of raw features started\", \"Computation of raw features completed\", \"Best run model explanations completed\"]}]}, {\"name\": \"average_precision_score_weighted\", \"run_id\": \"AutoML_5f44cd97-a7a6-4be3-8a34-e06659c87f9b\", \"categories\": [0], \"series\": [{\"data\": [0.9346521322741566]}]}, {\"name\": \"precision_score_micro\", \"run_id\": \"AutoML_5f44cd97-a7a6-4be3-8a34-e06659c87f9b\", \"categories\": [0], \"series\": [{\"data\": [0.8325287356321839]}]}, {\"name\": \"recall_score_micro\", \"run_id\": \"AutoML_5f44cd97-a7a6-4be3-8a34-e06659c87f9b\", \"categories\": [0], \"series\": [{\"data\": [0.8325287356321839]}]}, {\"name\": \"f1_score_weighted\", \"run_id\": \"AutoML_5f44cd97-a7a6-4be3-8a34-e06659c87f9b\", \"categories\": [0], \"series\": [{\"data\": [0.8308772342984592]}]}, {\"name\": \"norm_macro_recall\", \"run_id\": \"AutoML_5f44cd97-a7a6-4be3-8a34-e06659c87f9b\", \"categories\": [0], \"series\": [{\"data\": [0.6249838058585199]}]}, {\"name\": \"balanced_accuracy\", \"run_id\": \"AutoML_5f44cd97-a7a6-4be3-8a34-e06659c87f9b\", \"categories\": [0], \"series\": [{\"data\": [0.8124919029292599]}]}, {\"name\": \"average_precision_score_micro\", \"run_id\": \"AutoML_5f44cd97-a7a6-4be3-8a34-e06659c87f9b\", \"categories\": [0], \"series\": [{\"data\": [0.9268718038711852]}]}, {\"name\": \"AUC_micro\", \"run_id\": \"AutoML_5f44cd97-a7a6-4be3-8a34-e06659c87f9b\", \"categories\": [0], \"series\": [{\"data\": [0.9239456995640112]}]}, {\"name\": \"recall_score_weighted\", \"run_id\": \"AutoML_5f44cd97-a7a6-4be3-8a34-e06659c87f9b\", \"categories\": [0], \"series\": [{\"data\": [0.8325287356321839]}]}, {\"name\": \"f1_score_macro\", \"run_id\": \"AutoML_5f44cd97-a7a6-4be3-8a34-e06659c87f9b\", \"categories\": [0], \"series\": [{\"data\": [0.8009384479963406]}]}, {\"name\": \"precision_score_macro\", \"run_id\": \"AutoML_5f44cd97-a7a6-4be3-8a34-e06659c87f9b\", \"categories\": [0], \"series\": [{\"data\": [0.8137779581529581]}]}, {\"name\": \"AUC_macro\", \"run_id\": \"AutoML_5f44cd97-a7a6-4be3-8a34-e06659c87f9b\", \"categories\": [0], \"series\": [{\"data\": [0.9188991290534197]}]}, {\"name\": \"recall_score_macro\", \"run_id\": \"AutoML_5f44cd97-a7a6-4be3-8a34-e06659c87f9b\", \"categories\": [0], \"series\": [{\"data\": [0.8124919029292599]}]}, {\"name\": \"precision_score_weighted\", \"run_id\": \"AutoML_5f44cd97-a7a6-4be3-8a34-e06659c87f9b\", \"categories\": [0], \"series\": [{\"data\": [0.8506220953376126]}]}, {\"name\": \"f1_score_micro\", \"run_id\": \"AutoML_5f44cd97-a7a6-4be3-8a34-e06659c87f9b\", \"categories\": [0], \"series\": [{\"data\": [0.8325287356321839]}]}, {\"name\": \"AUC_weighted\", \"run_id\": \"AutoML_5f44cd97-a7a6-4be3-8a34-e06659c87f9b\", \"categories\": [0], \"series\": [{\"data\": [0.9188991290534197]}]}, {\"name\": \"average_precision_score_macro\", \"run_id\": \"AutoML_5f44cd97-a7a6-4be3-8a34-e06659c87f9b\", \"categories\": [0], \"series\": [{\"data\": [0.9146018949443258]}]}, {\"name\": \"log_loss\", \"run_id\": \"AutoML_5f44cd97-a7a6-4be3-8a34-e06659c87f9b\", \"categories\": [0], \"series\": [{\"data\": [0.40503826300458046]}]}, {\"name\": \"matthews_correlation\", \"run_id\": \"AutoML_5f44cd97-a7a6-4be3-8a34-e06659c87f9b\", \"categories\": [0], \"series\": [{\"data\": [0.6242650914680121]}]}, {\"name\": \"accuracy\", \"run_id\": \"AutoML_5f44cd97-a7a6-4be3-8a34-e06659c87f9b\", \"categories\": [0], \"series\": [{\"data\": [0.8325287356321839]}]}, {\"name\": \"weighted_accuracy\", \"run_id\": \"AutoML_5f44cd97-a7a6-4be3-8a34-e06659c87f9b\", \"categories\": [0], \"series\": [{\"data\": [0.8453146682432553]}]}], \"run_logs\": \"\\nRun is completed.\", \"graph\": {}, \"widget_settings\": {\"childWidgetDisplay\": \"popup\", \"send_telemetry\": false, \"log_level\": \"INFO\", \"sdk_version\": \"1.31.0\"}, \"loading\": false}"
     },
     "metadata": {},
     "output_type": "display_data"
    }
   ],
   "source": [
    "# importing required dependencies\n",
    "from azureml.widgets import RunDetails\n",
    "RunDetails(remote_run).show()"
   ]
  },
  {
   "cell_type": "markdown",
   "metadata": {},
   "source": [
    "## Best Model\n",
    "\n",
    "TODO: In the cell below, get the best model from the automl experiments and display all the properties of the model.\n",
    "\n"
   ]
  },
  {
   "cell_type": "code",
   "execution_count": 12,
   "metadata": {
    "gather": {
     "logged": 1610868946612
    },
    "jupyter": {
     "outputs_hidden": false,
     "source_hidden": false
    },
    "nteract": {
     "transient": {
      "deleting": false
     }
    }
   },
   "outputs": [
    {
     "name": "stdout",
     "output_type": "stream",
     "text": [
      "Run(Experiment: AutoML-Exp002,\n",
      "Id: AutoML_5f44cd97-a7a6-4be3-8a34-e06659c87f9b_50,\n",
      "Type: azureml.scriptrun,\n",
      "Status: Completed)\n",
      "Pipeline(memory=None,\n",
      "         steps=[('datatransformer',\n",
      "                 DataTransformer(enable_dnn=False, enable_feature_sweeping=False, feature_sweeping_config={}, feature_sweeping_timeout=86400, featurization_config=None, force_text_dnn=False, is_cross_validation=True, is_onnx_compatible=True, observer=None, task='classification', working_dir='/mnt/batch/tasks/shared/LS_root/mount...\n",
      "), random_state=None, reg_alpha=0.47368421052631576, reg_lambda=0, subsample=1))], verbose=False)), ('17', Pipeline(memory=None, steps=[('minmaxscaler', MinMaxScaler(copy=True, feature_range=(0, 1))), ('extratreesclassifier', ExtraTreesClassifier(bootstrap=True, ccp_alpha=0.0, class_weight='balanced', criterion='gini', max_depth=None, max_features=0.1, max_leaf_nodes=None, max_samples=None, min_impurity_decrease=0.0, min_impurity_split=None, min_samples_leaf=0.01, min_samples_split=0.15052631578947367, min_weight_fraction_leaf=0.0, n_estimators=50, n_jobs=1, oob_score=False, random_state=None, verbose=0, warm_start=False))], verbose=False)), ('7', Pipeline(memory=None, steps=[('minmaxscaler', MinMaxScaler(copy=True, feature_range=(0, 1))), ('extratreesclassifier', ExtraTreesClassifier(bootstrap=True, ccp_alpha=0.0, class_weight=None, criterion='gini', max_depth=None, max_features=0.9, max_leaf_nodes=None, max_samples=None, min_impurity_decrease=0.0, min_impurity_split=None, min_samples_leaf=0.01, min_samples_split=0.15052631578947367, min_weight_fraction_leaf=0.0, n_estimators=10, n_jobs=1, oob_score=True, random_state=None, verbose=0, warm_start=False))], verbose=False))], flatten_transform=None, weights=[0.23076923076923078, 0.07692307692307693, 0.07692307692307693, 0.07692307692307693, 0.07692307692307693, 0.07692307692307693, 0.15384615384615385, 0.07692307692307693, 0.07692307692307693, 0.07692307692307693]))],\n",
      "         verbose=False)\n"
     ]
    }
   ],
   "source": [
    "# Retrieve best model from AutoML Run\n",
    "\n",
    "# importing required dependencies\n",
    "import joblib\n",
    "\n",
    "best_automl_run, best_automl_fitted_model = remote_run.get_output()\n",
    "print(best_automl_run)\n",
    "print(best_automl_fitted_model)"
   ]
  },
  {
   "cell_type": "code",
   "execution_count": 13,
   "metadata": {
    "gather": {
     "logged": 1610868966185
    },
    "jupyter": {
     "outputs_hidden": false,
     "source_hidden": false
    },
    "nteract": {
     "transient": {
      "deleting": false
     }
    }
   },
   "outputs": [
    {
     "data": {
      "text/plain": [
       "['best_automl_model.pkl']"
      ]
     },
     "execution_count": 13,
     "metadata": {},
     "output_type": "execute_result"
    }
   ],
   "source": [
    "#TODO: Save the best model\n",
    "joblib.dump(best_automl_fitted_model,'best_automl_model.pkl')"
   ]
  },
  {
   "cell_type": "code",
   "execution_count": 14,
   "metadata": {
    "gather": {
     "logged": 1610868971395
    }
   },
   "outputs": [
    {
     "data": {
      "text/plain": [
       "{'_aml_system_azureml.automlComponent': 'AutoML',\n",
       " '_aml_system_ComputeTargetStatus': '{\"AllocationState\":\"steady\",\"PreparingNodeCount\":0,\"RunningNodeCount\":4,\"CurrentNodeCount\":4}',\n",
       " 'mlflow.source.type': 'JOB',\n",
       " 'mlflow.source.name': 'automl_driver.py',\n",
       " '_aml_system_automl_is_child_run_end_telemetry_event_logged': 'True',\n",
       " 'model_explain_run_id': 'AutoML_5f44cd97-a7a6-4be3-8a34-e06659c87f9b_ModelExplain',\n",
       " 'model_explanation': 'True'}"
      ]
     },
     "execution_count": 14,
     "metadata": {},
     "output_type": "execute_result"
    }
   ],
   "source": [
    "# getting the details of the best model produced by automl\n",
    "best_automl_run.get_tags()"
   ]
  },
  {
   "cell_type": "code",
   "execution_count": 15,
   "metadata": {
    "gather": {
     "logged": 1610868994344
    }
   },
   "outputs": [
    {
     "name": "stdout",
     "output_type": "stream",
     "text": [
      "datatransformer\n",
      "{'enable_dnn': False,\n",
      " 'enable_feature_sweeping': False,\n",
      " 'feature_sweeping_config': {},\n",
      " 'feature_sweeping_timeout': 86400,\n",
      " 'featurization_config': None,\n",
      " 'force_text_dnn': False,\n",
      " 'is_cross_validation': True,\n",
      " 'is_onnx_compatible': True,\n",
      " 'observer': None,\n",
      " 'task': 'classification',\n",
      " 'working_dir': '/mnt/batch/tasks/shared/LS_root/mounts/clusters/notebook150619/code/Users/odl_user_150619'}\n",
      "\n",
      "prefittedsoftvotingclassifier\n",
      "{'estimators': ['29', '47', '19', '33', '4', '21', '46', '38', '17', '7'],\n",
      " 'weights': [0.23076923076923078,\n",
      "             0.07692307692307693,\n",
      "             0.07692307692307693,\n",
      "             0.07692307692307693,\n",
      "             0.07692307692307693,\n",
      "             0.07692307692307693,\n",
      "             0.15384615384615385,\n",
      "             0.07692307692307693,\n",
      "             0.07692307692307693,\n",
      "             0.07692307692307693]}\n",
      "\n",
      "29-robustscaler\n",
      "{'copy': True,\n",
      " 'quantile_range': [25, 75],\n",
      " 'with_centering': True,\n",
      " 'with_scaling': False}\n",
      "\n",
      "29-randomforestclassifier\n",
      "{'bootstrap': True,\n",
      " 'ccp_alpha': 0.0,\n",
      " 'class_weight': 'balanced',\n",
      " 'criterion': 'gini',\n",
      " 'max_depth': None,\n",
      " 'max_features': 0.4,\n",
      " 'max_leaf_nodes': None,\n",
      " 'max_samples': None,\n",
      " 'min_impurity_decrease': 0.0,\n",
      " 'min_impurity_split': None,\n",
      " 'min_samples_leaf': 0.035789473684210524,\n",
      " 'min_samples_split': 0.19736842105263158,\n",
      " 'min_weight_fraction_leaf': 0.0,\n",
      " 'n_estimators': 400,\n",
      " 'n_jobs': 1,\n",
      " 'oob_score': True,\n",
      " 'random_state': None,\n",
      " 'verbose': 0,\n",
      " 'warm_start': False}\n",
      "\n",
      "47-standardscalerwrapper\n",
      "{'class_name': 'StandardScaler',\n",
      " 'copy': True,\n",
      " 'module_name': 'sklearn.preprocessing._data',\n",
      " 'with_mean': False,\n",
      " 'with_std': False}\n",
      "\n",
      "47-xgboostclassifier\n",
      "{'base_score': 0.5,\n",
      " 'booster': 'gbtree',\n",
      " 'colsample_bylevel': 1,\n",
      " 'colsample_bynode': 1,\n",
      " 'colsample_bytree': 0.6,\n",
      " 'eta': 0.1,\n",
      " 'gamma': 1,\n",
      " 'learning_rate': 0.1,\n",
      " 'max_delta_step': 0,\n",
      " 'max_depth': 6,\n",
      " 'max_leaves': 63,\n",
      " 'min_child_weight': 1,\n",
      " 'missing': nan,\n",
      " 'n_estimators': 200,\n",
      " 'n_jobs': 1,\n",
      " 'nthread': None,\n",
      " 'objective': 'reg:logistic',\n",
      " 'random_state': 0,\n",
      " 'reg_alpha': 1.6666666666666667,\n",
      " 'reg_lambda': 1.9791666666666667,\n",
      " 'scale_pos_weight': 1,\n",
      " 'seed': None,\n",
      " 'silent': None,\n",
      " 'subsample': 0.5,\n",
      " 'tree_method': 'auto',\n",
      " 'verbose': -10,\n",
      " 'verbosity': 0}\n",
      "\n",
      "19-standardscalerwrapper\n",
      "{'class_name': 'StandardScaler',\n",
      " 'copy': True,\n",
      " 'module_name': 'sklearn.preprocessing._data',\n",
      " 'with_mean': False,\n",
      " 'with_std': False}\n",
      "\n",
      "19-xgboostclassifier\n",
      "{'base_score': 0.5,\n",
      " 'booster': 'gbtree',\n",
      " 'colsample_bylevel': 1,\n",
      " 'colsample_bynode': 1,\n",
      " 'colsample_bytree': 0.7,\n",
      " 'eta': 0.001,\n",
      " 'gamma': 0,\n",
      " 'learning_rate': 0.1,\n",
      " 'max_delta_step': 0,\n",
      " 'max_depth': 5,\n",
      " 'max_leaves': 0,\n",
      " 'min_child_weight': 1,\n",
      " 'missing': nan,\n",
      " 'n_estimators': 10,\n",
      " 'n_jobs': 1,\n",
      " 'nthread': None,\n",
      " 'objective': 'reg:logistic',\n",
      " 'random_state': 0,\n",
      " 'reg_alpha': 1.1458333333333335,\n",
      " 'reg_lambda': 1.3541666666666667,\n",
      " 'scale_pos_weight': 1,\n",
      " 'seed': None,\n",
      " 'silent': None,\n",
      " 'subsample': 0.6,\n",
      " 'tree_method': 'auto',\n",
      " 'verbose': -10,\n",
      " 'verbosity': 0}\n",
      "\n",
      "33-standardscalerwrapper\n",
      "{'class_name': 'StandardScaler',\n",
      " 'copy': True,\n",
      " 'module_name': 'sklearn.preprocessing._data',\n",
      " 'with_mean': False,\n",
      " 'with_std': False}\n",
      "\n",
      "33-xgboostclassifier\n",
      "{'base_score': 0.5,\n",
      " 'booster': 'gbtree',\n",
      " 'colsample_bylevel': 1,\n",
      " 'colsample_bynode': 1,\n",
      " 'colsample_bytree': 0.8,\n",
      " 'eta': 0.05,\n",
      " 'gamma': 1,\n",
      " 'learning_rate': 0.1,\n",
      " 'max_delta_step': 0,\n",
      " 'max_depth': 6,\n",
      " 'max_leaves': 0,\n",
      " 'min_child_weight': 1,\n",
      " 'missing': nan,\n",
      " 'n_estimators': 100,\n",
      " 'n_jobs': 1,\n",
      " 'nthread': None,\n",
      " 'objective': 'reg:logistic',\n",
      " 'random_state': 0,\n",
      " 'reg_alpha': 1.9791666666666667,\n",
      " 'reg_lambda': 0.8333333333333334,\n",
      " 'scale_pos_weight': 1,\n",
      " 'seed': None,\n",
      " 'silent': None,\n",
      " 'subsample': 0.5,\n",
      " 'tree_method': 'auto',\n",
      " 'verbose': -10,\n",
      " 'verbosity': 0}\n",
      "\n",
      "4-minmaxscaler\n",
      "{'copy': True, 'feature_range': (0, 1)}\n",
      "\n",
      "4-randomforestclassifier\n",
      "{'bootstrap': True,\n",
      " 'ccp_alpha': 0.0,\n",
      " 'class_weight': 'balanced',\n",
      " 'criterion': 'gini',\n",
      " 'max_depth': None,\n",
      " 'max_features': 'log2',\n",
      " 'max_leaf_nodes': None,\n",
      " 'max_samples': None,\n",
      " 'min_impurity_decrease': 0.0,\n",
      " 'min_impurity_split': None,\n",
      " 'min_samples_leaf': 0.01,\n",
      " 'min_samples_split': 0.01,\n",
      " 'min_weight_fraction_leaf': 0.0,\n",
      " 'n_estimators': 25,\n",
      " 'n_jobs': 1,\n",
      " 'oob_score': True,\n",
      " 'random_state': None,\n",
      " 'verbose': 0,\n",
      " 'warm_start': False}\n",
      "\n",
      "21-maxabsscaler\n",
      "{'copy': True}\n",
      "\n",
      "21-extratreesclassifier\n",
      "{'bootstrap': True,\n",
      " 'ccp_alpha': 0.0,\n",
      " 'class_weight': 'balanced',\n",
      " 'criterion': 'gini',\n",
      " 'max_depth': None,\n",
      " 'max_features': 0.4,\n",
      " 'max_leaf_nodes': None,\n",
      " 'max_samples': None,\n",
      " 'min_impurity_decrease': 0.0,\n",
      " 'min_impurity_split': None,\n",
      " 'min_samples_leaf': 0.01,\n",
      " 'min_samples_split': 0.15052631578947367,\n",
      " 'min_weight_fraction_leaf': 0.0,\n",
      " 'n_estimators': 10,\n",
      " 'n_jobs': 1,\n",
      " 'oob_score': True,\n",
      " 'random_state': None,\n",
      " 'verbose': 0,\n",
      " 'warm_start': False}\n",
      "\n",
      "46-standardscalerwrapper\n",
      "{'class_name': 'StandardScaler',\n",
      " 'copy': True,\n",
      " 'module_name': 'sklearn.preprocessing._data',\n",
      " 'with_mean': False,\n",
      " 'with_std': True}\n",
      "\n",
      "46-svcwrapper\n",
      "{'C': 2.559547922699533,\n",
      " 'break_ties': False,\n",
      " 'cache_size': 200,\n",
      " 'class_weight': 'balanced',\n",
      " 'coef0': 0.0,\n",
      " 'decision_function_shape': 'ovr',\n",
      " 'degree': 3,\n",
      " 'gamma': 'scale',\n",
      " 'kernel': 'rbf',\n",
      " 'max_iter': -1,\n",
      " 'probability': True,\n",
      " 'random_state': None,\n",
      " 'shrinking': True,\n",
      " 'tol': 0.001,\n",
      " 'verbose': False}\n",
      "\n",
      "38-maxabsscaler\n",
      "{'copy': True}\n",
      "\n",
      "38-lightgbmclassifier\n",
      "{'boosting_type': 'goss',\n",
      " 'colsample_bytree': 0.4955555555555555,\n",
      " 'learning_rate': 0.06316157894736842,\n",
      " 'max_bin': 110,\n",
      " 'max_depth': 8,\n",
      " 'min_child_weight': 4,\n",
      " 'min_data_in_leaf': 0.03104137931034483,\n",
      " 'min_split_gain': 0,\n",
      " 'n_estimators': 25,\n",
      " 'n_jobs': 1,\n",
      " 'num_leaves': 5,\n",
      " 'problem_info': ProblemInfo(\n",
      "    dataset_samples=299,\n",
      "    dataset_features=12,\n",
      "    dataset_classes=2,\n",
      "    dataset_num_categorical=0,\n",
      "    dataset_categoricals=None,\n",
      "    pipeline_categoricals=None,\n",
      "    dataset_y_std=None,\n",
      "    dataset_uid=None,\n",
      "    subsampling=False,\n",
      "    task='classification',\n",
      "    metric=None,\n",
      "    num_threads=1,\n",
      "    pipeline_profile='none',\n",
      "    is_sparse=False,\n",
      "    runtime_constraints={'mem_in_mb': None, 'wall_time_in_s': None, 'total_wall_time_in_s': 31449600, 'cpu_time_in_s': None, 'num_processes': None, 'grace_period_in_s': None},\n",
      "    constraint_mode=1,\n",
      "    cost_mode=1,\n",
      "    training_percent=None,\n",
      "    num_recommendations=1,\n",
      "    model_names_whitelisted=None,\n",
      "    model_names_blacklisted=None,\n",
      "    kernel='linear',\n",
      "    subsampling_treatment='linear',\n",
      "    subsampling_schedule='hyperband_clip',\n",
      "    cost_mode_param=None,\n",
      "    iteration_timeout_mode=0,\n",
      "    iteration_timeout_param=None,\n",
      "    feature_column_names=None,\n",
      "    label_column_name=None,\n",
      "    weight_column_name=None,\n",
      "    cv_split_column_names=None,\n",
      "    enable_streaming=None,\n",
      "    timeseries_param_dict=None,\n",
      "    gpu_training_param_dict={'processing_unit_type': 'cpu'}\n",
      "),\n",
      " 'random_state': None,\n",
      " 'reg_alpha': 0.47368421052631576,\n",
      " 'reg_lambda': 0,\n",
      " 'subsample': 1}\n",
      "\n",
      "17-minmaxscaler\n",
      "{'copy': True, 'feature_range': (0, 1)}\n",
      "\n",
      "17-extratreesclassifier\n",
      "{'bootstrap': True,\n",
      " 'ccp_alpha': 0.0,\n",
      " 'class_weight': 'balanced',\n",
      " 'criterion': 'gini',\n",
      " 'max_depth': None,\n",
      " 'max_features': 0.1,\n",
      " 'max_leaf_nodes': None,\n",
      " 'max_samples': None,\n",
      " 'min_impurity_decrease': 0.0,\n",
      " 'min_impurity_split': None,\n",
      " 'min_samples_leaf': 0.01,\n",
      " 'min_samples_split': 0.15052631578947367,\n",
      " 'min_weight_fraction_leaf': 0.0,\n",
      " 'n_estimators': 50,\n",
      " 'n_jobs': 1,\n",
      " 'oob_score': False,\n",
      " 'random_state': None,\n",
      " 'verbose': 0,\n",
      " 'warm_start': False}\n",
      "\n",
      "7-minmaxscaler\n",
      "{'copy': True, 'feature_range': (0, 1)}\n",
      "\n",
      "7-extratreesclassifier\n",
      "{'bootstrap': True,\n",
      " 'ccp_alpha': 0.0,\n",
      " 'class_weight': None,\n",
      " 'criterion': 'gini',\n",
      " 'max_depth': None,\n",
      " 'max_features': 0.9,\n",
      " 'max_leaf_nodes': None,\n",
      " 'max_samples': None,\n",
      " 'min_impurity_decrease': 0.0,\n",
      " 'min_impurity_split': None,\n",
      " 'min_samples_leaf': 0.01,\n",
      " 'min_samples_split': 0.15052631578947367,\n",
      " 'min_weight_fraction_leaf': 0.0,\n",
      " 'n_estimators': 10,\n",
      " 'n_jobs': 1,\n",
      " 'oob_score': True,\n",
      " 'random_state': None,\n",
      " 'verbose': 0,\n",
      " 'warm_start': False}\n",
      "\n"
     ]
    }
   ],
   "source": [
    "from pprint import pprint\n",
    "\n",
    "def print_model(model,prefix=\"\"):\n",
    "    for step in model.steps:\n",
    "        print(prefix+step[0])\n",
    "        if hasattr(step[1],'estimators') and hasattr(step[1],'weights'):\n",
    "            pprint({'estimators':list(e[0] for e in step[1].estimators), 'weights':step[1].weights})\n",
    "            print()\n",
    "            for estimator in step[1].estimators:\n",
    "                print_model(estimator[1],estimator[0]+'-')\n",
    "        else:\n",
    "            pprint(step[1].get_params())\n",
    "            print()\n",
    "\n",
    "print_model(best_automl_fitted_model)"
   ]
  },
  {
   "cell_type": "code",
   "execution_count": 16,
   "metadata": {
    "gather": {
     "logged": 1610869118916
    }
   },
   "outputs": [],
   "source": [
    "# retrieving the best model as ONNX model\n",
    "best_auto_run, best_onnx_model = remote_run.get_output(return_onnx_model=True)"
   ]
  },
  {
   "cell_type": "code",
   "execution_count": 17,
   "metadata": {
    "gather": {
     "logged": 1610869141977
    }
   },
   "outputs": [],
   "source": [
    "# importing required dependencies\n",
    "from azureml.automl.runtime.onnx_convert import OnnxConverter\n",
    "\n",
    "# saving the best model as onnx_model\n",
    "onnx_fl_path = \"./best_model.onnx\"\n",
    "OnnxConverter.save_onnx_model(best_onnx_model, onnx_fl_path)"
   ]
  },
  {
   "cell_type": "code",
   "execution_count": null,
   "metadata": {},
   "outputs": [],
   "source": []
  },
  {
   "cell_type": "markdown",
   "metadata": {},
   "source": [
    "## Model Deployment\n",
    "\n",
    "Remember you have to deploy only one of the two models you trained.. Perform the steps in the rest of this notebook only if you wish to deploy this model.\n",
    "\n",
    "TODO: In the cell below, register the model, create an inference config and deploy the model as a web service."
   ]
  },
  {
   "cell_type": "code",
   "execution_count": 18,
   "metadata": {
    "gather": {
     "logged": 1610870160746
    },
    "jupyter": {
     "outputs_hidden": false,
     "source_hidden": false
    },
    "nteract": {
     "transient": {
      "deleting": false
     }
    }
   },
   "outputs": [
    {
     "name": "stdout",
     "output_type": "stream",
     "text": [
      "AutoML5f44cd97a50\n",
      "automl-heart-failure-predictions\n",
      "Tips: You can try get_logs(): https://aka.ms/debugimage#dockerlog or local deployment: https://aka.ms/debugimage#debug-locally to debug if deployment takes longer than 10 minutes.\n",
      "Running\n",
      "2021-07-12 17:16:11+00:00 Creating Container Registry if not exists.\n",
      "2021-07-12 17:16:11+00:00 Registering the environment.\n",
      "2021-07-12 17:16:12+00:00 Use the existing image.\n",
      "2021-07-12 17:16:12+00:00 Generating deployment configuration.\n",
      "2021-07-12 17:16:13+00:00 Submitting deployment to compute.\n",
      "2021-07-12 17:16:16+00:00 Checking the status of deployment automl-heart-failure-predictions..\n",
      "2021-07-12 17:21:22+00:00 Checking the status of inference endpoint automl-heart-failure-predictions.\n",
      "Succeeded\n",
      "ACI service creation operation finished, operation \"Succeeded\"\n",
      "Healthy\n"
     ]
    }
   ],
   "source": [
    "# registering the best automl model\n",
    "\n",
    "description = 'heart failure predictions'\n",
    "tags = None\n",
    "\n",
    "model = remote_run.register_model(description = description, tags = tags)\n",
    "\n",
    "print(remote_run.model_id)\n",
    "\n",
    "# importing required dependencies\n",
    "from azureml.core.model import InferenceConfig\n",
    "from azureml.core.webservice import AciWebservice\n",
    "from azureml.core.webservice import Webservice\n",
    "from azureml.core.model import Model\n",
    "from azureml.core.environment import Environment\n",
    "\n",
    "# loading a curated environment from workspace\n",
    "\n",
    "env = Environment.get(ws, \"AzureML-AutoML\")\n",
    "\n",
    "# specifying scikit-learn as dependency\n",
    "for pip_package in [\"scikit-learn\"]:\n",
    "    env.python.conda_dependencies.add_pip_package(pip_package)\n",
    "\n",
    "# creating an inference config\n",
    "inference_config = InferenceConfig(entry_script='entry_script.py', environment=env)\n",
    "\n",
    "aciconfig = AciWebservice.deploy_configuration(cpu_cores = 1, memory_gb = 1, enable_app_insights = True)\n",
    "\n",
    "# naming the service to be deployed\n",
    "aci_service_name = 'automl-heart-failure-predictions'\n",
    "print(aci_service_name)\n",
    "\n",
    "# deploying the model\n",
    "aci_service = Model.deploy(ws, aci_service_name, [model], inference_config, aciconfig)\n",
    "aci_service.wait_for_deployment(show_output = True)\n",
    "print(aci_service.state)"
   ]
  },
  {
   "cell_type": "markdown",
   "metadata": {
    "collapsed": true,
    "gather": {
     "logged": 1598431657736
    },
    "jupyter": {
     "outputs_hidden": false,
     "source_hidden": false
    },
    "nteract": {
     "transient": {
      "deleting": false
     }
    }
   },
   "source": [
    "TODO: In the cell below, send a request to the web service you deployed to test it."
   ]
  },
  {
   "cell_type": "code",
   "execution_count": 19,
   "metadata": {
    "gather": {
     "logged": 1610870221080
    },
    "jupyter": {
     "outputs_hidden": false,
     "source_hidden": false
    },
    "nteract": {
     "transient": {
      "deleting": false
     }
    }
   },
   "outputs": [
    {
     "name": "stdout",
     "output_type": "stream",
     "text": [
      "[0]\n",
      "[0]\n"
     ]
    }
   ],
   "source": [
    "# importing required dependencies\n",
    "from numpy import array\n",
    "import json\n",
    "import requests\n",
    "\n",
    "# creating a test sample\n",
    "data = {\"data\": [{\"age\":60.000000,\"anaemia\":0.000000,\"creatinine_phosphokinase\":250.000000,\"diabetes\":0.000000,\"ejection_fraction\":38.000000,\"high_blood_pressure\":0.000000,\"platelets\":262000.000000,\"serum_creatinine\":1.10000,\"serum_sodium\":137.000000,\"sex\":1.000000,\"smoking\":0.00000,\"time\":115.000000}]}\n",
    "td = json.dumps(data)\n",
    "headers = {'Content-Type': 'application/json'}\n",
    "\n",
    "# sending request to test the deployed webservice\n",
    "resp = requests.post(aci_service.scoring_uri, td, headers=headers)\n",
    "print(resp.json())\n",
    "y_pred = (json.loads(resp.text))\n",
    "print(y_pred)"
   ]
  },
  {
   "cell_type": "code",
   "execution_count": 21,
   "metadata": {},
   "outputs": [
    {
     "name": "stdout",
     "output_type": "stream",
     "text": [
      "b'\"\\'data\\'\"'\n"
     ]
    }
   ],
   "source": [
    "import urllib.request\n",
    "import json\n",
    "import os\n",
    "import ssl\n",
    "\n",
    "def allowSelfSignedHttps(allowed):\n",
    "    # bypass the server certificate verification on client side\n",
    "    if allowed and not os.environ.get('PYTHONHTTPSVERIFY', '') and getattr(ssl, '_create_unverified_context', None):\n",
    "        ssl._create_default_https_context = ssl._create_unverified_context\n",
    "\n",
    "allowSelfSignedHttps(True) # this line is needed if you use self-signed certificate in your scoring service.\n",
    "\n",
    "# Request data goes here\n",
    "data = {\n",
    "}\n",
    "\n",
    "body = str.encode(json.dumps(data))\n",
    "\n",
    "url = 'http://11f378c0-f57d-441f-869a-cf9d6fd886df.southcentralus.azurecontainer.io/score'\n",
    "api_key = '' # Replace this with the API key for the web service\n",
    "headers = {'Content-Type':'application/json', 'Authorization':('Bearer '+ api_key)}\n",
    "\n",
    "req = urllib.request.Request(url, body, headers)\n",
    "\n",
    "try:\n",
    "    response = urllib.request.urlopen(req)\n",
    "\n",
    "    result = response.read()\n",
    "    print(result)\n",
    "except urllib.error.HTTPError as error:\n",
    "    print(\"The request failed with status code: \" + str(error.code))\n",
    "\n",
    "    # Print the headers - they include the requert ID and the timestamp, which are useful for debugging the failure\n",
    "    print(error.info())\n",
    "    print(json.loads(error.read().decode(\"utf8\", 'ignore')))"
   ]
  },
  {
   "cell_type": "markdown",
   "metadata": {
    "collapsed": true,
    "gather": {
     "logged": 1598432765711
    },
    "jupyter": {
     "outputs_hidden": false,
     "source_hidden": false
    },
    "nteract": {
     "transient": {
      "deleting": false
     }
    }
   },
   "source": [
    "TODO: In the cell below, print the logs of the web service and delete the service"
   ]
  },
  {
   "cell_type": "code",
   "execution_count": 22,
   "metadata": {
    "gather": {
     "logged": 1610871382502
    },
    "jupyter": {
     "outputs_hidden": false,
     "source_hidden": false
    },
    "nteract": {
     "transient": {
      "deleting": false
     }
    }
   },
   "outputs": [
    {
     "name": "stdout",
     "output_type": "stream",
     "text": [
      "2021-07-12T17:20:52,422046600+00:00 - iot-server/run \n",
      "2021-07-12T17:20:52,432279800+00:00 - gunicorn/run \n",
      "Dynamic Python package installation is disabled.\n",
      "Starting HTTP server\n",
      "2021-07-12T17:20:52,431904400+00:00 - rsyslog/run \n",
      "2021-07-12T17:20:52,461843100+00:00 - nginx/run \n",
      "rsyslogd: /azureml-envs/azureml_fc92eee9a5613508afa12283dd0b27d8/lib/libuuid.so.1: no version information available (required by rsyslogd)\n",
      "EdgeHubConnectionString and IOTEDGE_IOTHUBHOSTNAME are not set. Exiting...\n",
      "2021-07-12T17:20:52,845825000+00:00 - iot-server/finish 1 0\n",
      "2021-07-12T17:20:52,850603900+00:00 - Exit code 1 is normal. Not restarting iot-server.\n",
      "Starting gunicorn 20.1.0\n",
      "Listening at: http://127.0.0.1:31311 (59)\n",
      "Using worker: sync\n",
      "worker timeout is set to 300\n",
      "Booting worker with pid: 84\n",
      "SPARK_HOME not set. Skipping PySpark Initialization.\n",
      "Generating new fontManager, this may take some time...\n",
      "Initializing logger\n",
      "2021-07-12 17:20:55,623 | root | INFO | Starting up app insights client\n",
      "logging socket was found. logging is available.\n",
      "logging socket was found. logging is available.\n",
      "2021-07-12 17:20:55,624 | root | INFO | Starting up request id generator\n",
      "2021-07-12 17:20:55,624 | root | INFO | Starting up app insight hooks\n",
      "2021-07-12 17:20:55,625 | root | INFO | Invoking user's init function\n",
      "2021-07-12 17:21:00,819 | azureml.core | WARNING | Failure while loading azureml_run_type_providers. Failed to load entrypoint automl = azureml.train.automl.run:AutoMLRun._from_run_dto with exception cannot import name 'RunType'.\n",
      "Failure while loading azureml_run_type_providers. Failed to load entrypoint automl = azureml.train.automl.run:AutoMLRun._from_run_dto with exception cannot import name 'RunType'.\n",
      "2021-07-12 17:21:01,636 | root | INFO | Users's init has completed successfully\n",
      "2021-07-12 17:21:01,644 | root | INFO | Skipping middleware: dbg_model_info as it's not enabled.\n",
      "2021-07-12 17:21:01,645 | root | INFO | Skipping middleware: dbg_resource_usage as it's not enabled.\n",
      "2021-07-12 17:21:01,663 | root | INFO | Scoring timeout is found from os.environ: 60000 ms\n",
      "2021-07-12 17:21:22,611 | root | INFO | Swagger file not present\n",
      "2021-07-12 17:21:22,611 | root | INFO | 404\n",
      "127.0.0.1 - - [12/Jul/2021:17:21:22 +0000] \"GET /swagger.json HTTP/1.0\" 404 19 \"-\" \"Go-http-client/1.1\"\n",
      "2021-07-12 17:21:26,217 | root | INFO | Swagger file not present\n",
      "2021-07-12 17:21:26,218 | root | INFO | 404\n",
      "127.0.0.1 - - [12/Jul/2021:17:21:26 +0000] \"GET /swagger.json HTTP/1.0\" 404 19 \"-\" \"Go-http-client/1.1\"\n",
      "2021-07-12 17:21:26,423 | root | INFO | Scoring Timer is set to 60.0 seconds\n",
      "2021-07-12 17:21:26,672 | root | INFO | 200\n",
      "127.0.0.1 - - [12/Jul/2021:17:21:26 +0000] \"POST /score HTTP/1.0\" 200 3 \"-\" \"python-requests/2.25.1\"\n",
      "2021-07-12 17:21:52,971 | root | INFO | Swagger file not present\n",
      "2021-07-12 17:21:52,972 | root | INFO | 404\n",
      "127.0.0.1 - - [12/Jul/2021:17:21:52 +0000] \"GET /swagger.json HTTP/1.0\" 404 19 \"-\" \"Go-http-client/1.1\"\n",
      "2021-07-12 17:29:59,687 | root | INFO | Scoring Timer is set to 60.0 seconds\n",
      "2021-07-12 17:29:59,692 | root | INFO | 200\n",
      "127.0.0.1 - - [12/Jul/2021:17:29:59 +0000] \"POST /score HTTP/1.0\" 200 8 \"-\" \"Python-urllib/3.6\"\n",
      "\n"
     ]
    }
   ],
   "source": [
    "# printing the logs of deployed web service\n",
    "dep_logs = aci_service.get_logs()\n",
    "for l in dep_logs.split('\\n'):\n",
    "    print(l)"
   ]
  },
  {
   "cell_type": "code",
   "execution_count": 23,
   "metadata": {},
   "outputs": [
    {
     "data": {
      "text/plain": [
       "AmlCompute(workspace=Workspace.create(name='quick-starts-ws-150619', subscription_id='f5091c60-1c3c-430f-8d81-d802f6bf2414', resource_group='aml-quickstarts-150619'), name=CI-AutoML01, id=/subscriptions/f5091c60-1c3c-430f-8d81-d802f6bf2414/resourceGroups/aml-quickstarts-150619/providers/Microsoft.MachineLearningServices/workspaces/quick-starts-ws-150619/computes/CI-AutoML01, type=AmlCompute, provisioning_state=Succeeded, location=southcentralus, tags={})"
      ]
     },
     "execution_count": 23,
     "metadata": {},
     "output_type": "execute_result"
    }
   ],
   "source": [
    "compute_target"
   ]
  },
  {
   "cell_type": "code",
   "execution_count": 24,
   "metadata": {},
   "outputs": [
    {
     "data": {
      "text/plain": [
       "AciWebservice(workspace=Workspace.create(name='quick-starts-ws-150619', subscription_id='f5091c60-1c3c-430f-8d81-d802f6bf2414', resource_group='aml-quickstarts-150619'), name=automl-heart-failure-predictions, image_id=None, compute_type=None, state=ACI, scoring_uri=Healthy, tags=http://11f378c0-f57d-441f-869a-cf9d6fd886df.southcentralus.azurecontainer.io/score, properties={}, created_by={'hasInferenceSchema': 'False', 'hasHttps': 'False'})"
      ]
     },
     "execution_count": 24,
     "metadata": {},
     "output_type": "execute_result"
    }
   ],
   "source": [
    "aci_service"
   ]
  },
  {
   "cell_type": "code",
   "execution_count": 25,
   "metadata": {
    "gather": {
     "logged": 1610871657577
    }
   },
   "outputs": [],
   "source": [
    "# deleting a web service\n",
    "aci_service.delete()"
   ]
  },
  {
   "cell_type": "code",
   "execution_count": 26,
   "metadata": {
    "gather": {
     "logged": 1610871701038
    }
   },
   "outputs": [],
   "source": [
    "# delete compute cluster\n",
    "compute_target.delete()"
   ]
  }
 ],
 "metadata": {
  "kernel_info": {
   "name": "python3"
  },
  "kernelspec": {
   "display_name": "Python 3",
   "language": "python",
   "name": "python3"
  },
  "language_info": {
   "codemirror_mode": {
    "name": "ipython",
    "version": 3
   },
   "file_extension": ".py",
   "mimetype": "text/x-python",
   "name": "python",
   "nbconvert_exporter": "python",
   "pygments_lexer": "ipython3",
   "version": "3.6.9"
  },
  "nteract": {
   "version": "nteract-front-end@1.0.0"
  }
 },
 "nbformat": 4,
 "nbformat_minor": 2
}

{
 "cells": [
  {
   "cell_type": "markdown",
   "metadata": {},
   "source": [
    "# Automated ML\n",
    "\n",
    "TODO: Import Dependencies. In the cell below, import all the dependencies that you will need to complete the project.\n",
    "\n",
    "With the help of python notebooks provided in 1st and 2nd project of this nanodegree program ('Optimizing a pipeline in Azure' and 'Operationalizing machine learning'), I have imported following basic dependencies required to complete this project. Any other specific dependecy will be imported as we proceed further in this project."
   ]
  },
  {
   "cell_type": "code",
   "execution_count": 1,
   "metadata": {
    "gather": {
     "logged": 1610866011944
    },
    "jupyter": {
     "outputs_hidden": false,
     "source_hidden": false
    },
    "nteract": {
     "transient": {
      "deleting": false
     }
    }
   },
   "outputs": [
    {
     "name": "stdout",
     "output_type": "stream",
     "text": [
      "SDK Version: 1.31.0\n"
     ]
    }
   ],
   "source": [
    "import logging\n",
    "import os\n",
    "import csv\n",
    "\n",
    "from matplotlib import pyplot as pyplot\n",
    "import numpy as np\n",
    "import pandas as pd\n",
    "from sklearn import datasets\n",
    "import pkg_resources\n",
    "\n",
    "import azureml.core\n",
    "from azureml.core.experiment import Experiment\n",
    "from azureml.core.workspace import Workspace\n",
    "from azureml.train.automl import AutoMLConfig\n",
    "from azureml.core.dataset import Dataset\n",
    "from azureml.pipeline.steps import AutoMLStep\n",
    "\n",
    "# CheckIng core SDK version number\n",
    "print(\"SDK Version:\", azureml.core.VERSION)"
   ]
  },
  {
   "cell_type": "code",
   "execution_count": 2,
   "metadata": {
    "gather": {
     "logged": 1610866034952
    },
    "jupyter": {
     "outputs_hidden": false,
     "source_hidden": false
    },
    "nteract": {
     "transient": {
      "deleting": false
     }
    }
   },
   "outputs": [
    {
     "name": "stdout",
     "output_type": "stream",
     "text": [
      "quick-starts-ws-150538\n",
      "aml-quickstarts-150538\n",
      "southcentralus\n",
      "81cefad3-d2c9-4f77-a466-99a7f541c7bb\n"
     ]
    },
    {
     "data": {
      "text/html": [
       "<table style=\"width:100%\"><tr><th>Name</th><th>Workspace</th><th>Report Page</th><th>Docs Page</th></tr><tr><td>AutoML-Exp002</td><td>quick-starts-ws-150538</td><td><a href=\"https://ml.azure.com/experiments/id/c21f9946-7a65-44e8-bc4d-c1721c26a06b?wsid=/subscriptions/81cefad3-d2c9-4f77-a466-99a7f541c7bb/resourcegroups/aml-quickstarts-150538/workspaces/quick-starts-ws-150538&amp;tid=660b3398-b80e-49d2-bc5b-ac1dc93b5254\" target=\"_blank\" rel=\"noopener\">Link to Azure Machine Learning studio</a></td><td><a href=\"https://docs.microsoft.com/en-us/python/api/azureml-core/azureml.core.experiment.Experiment?view=azure-ml-py\" target=\"_blank\" rel=\"noopener\">Link to Documentation</a></td></tr></table>"
      ],
      "text/plain": [
       "Experiment(Name: AutoML-Exp002,\n",
       "Workspace: quick-starts-ws-150538)"
      ]
     },
     "execution_count": 2,
     "metadata": {},
     "output_type": "execute_result"
    }
   ],
   "source": [
    "# creating an automl experiment in our workspace\n",
    "\n",
    "# initializing a workspace\n",
    "ws = Workspace.from_config()\n",
    "print(ws.name, ws.resource_group, ws.location, ws.subscription_id, sep='\\n')\n",
    "\n",
    "# choosing a name for experiment\n",
    "experiment_name = 'AutoML-Exp002'\n",
    "project_folder = './AutoML-pipeline-project'\n",
    "\n",
    "# creating the experiment\n",
    "experiment = Experiment(ws, experiment_name)\n",
    "experiment.start_logging()\n",
    "experiment"
   ]
  },
  {
   "cell_type": "code",
   "execution_count": 3,
   "metadata": {
    "gather": {
     "logged": 1610866655912
    }
   },
   "outputs": [
    {
     "name": "stdout",
     "output_type": "stream",
     "text": [
      "Creating......\n",
      "SucceededProvisioning operation finished, operation \"Succeeded\"\n",
      "Succeeded.................................................................................................................\n",
      "AmlCompute wait for completion finished\n",
      "\n",
      "Wait timeout has been reached\n",
      "Current provisioning state of AmlCompute is \"Succeeded\" and current node count is \"0\"\n"
     ]
    },
    {
     "data": {
      "text/plain": [
       "<azureml.core.compute.amlcompute.AmlComputeStatus at 0x7f5ab403a860>"
      ]
     },
     "execution_count": 3,
     "metadata": {},
     "output_type": "execute_result"
    }
   ],
   "source": [
    "# creating an AMLCompute cluster for running the experiment\n",
    "\n",
    "# importing required dependencies\n",
    "from azureml.core.compute import AmlCompute, ComputeTarget\n",
    "from azureml.core.compute_target import ComputeTargetException\n",
    "\n",
    "# Choosing a name for our CPU cluster\n",
    "amlcompute_cluster_name = \"CI-AutoML01\"\n",
    "\n",
    "# Verifying that cluster does not exist already\n",
    "try:\n",
    "    compute_target = ComputeTarget(workspace=ws, name=amlcompute_cluster_name)\n",
    "    print('Found existing cluster, use it.')\n",
    "except ComputeTargetException:\n",
    "    compute_config = AmlCompute.provisioning_configuration(vm_size='STANDARD_DS12_V2', max_nodes=4)\n",
    "    compute_target = ComputeTarget.create(ws, amlcompute_cluster_name, compute_config)\n",
    "\n",
    "compute_target.wait_for_completion(show_output=True, min_node_count = 1, timeout_in_minutes = 10)\n",
    "compute_target.get_status()"
   ]
  },
  {
   "cell_type": "markdown",
   "metadata": {},
   "source": [
    "## Dataset\n",
    "\n",
    "### Overview\n",
    "\n",
    "The dataset that we will be using for this project is the [Heart Failure Prediction](https://www.kaggle.com/andrewmvd/heart-failure-clinical-data) dataset from Kaggle, it consist of 12 features.\n",
    "\n",
    "**12 clinical features:**\n",
    "\n",
    "* age - Age\n",
    "\n",
    "* anaemia - Decrease of red blood cells or hemoglobin (boolean)\n",
    "\n",
    "* creatinine_phosphokinase - Level of the CPK enzyme in the blood (mcg/L)\n",
    "\n",
    "* diabetes - If the patient has diabetes (boolean)\n",
    "\n",
    "* ejection_fraction - Percentage of blood leaving the heart at each contraction (percentage)\n",
    "\n",
    "* high_blood_pressure - If the patient has hypertension (boolean)\n",
    "  \n",
    "* platelets - Platelets in the blood (kiloplatelets/mL)\n",
    "\n",
    "* serum_creatinine - Level of serum creatinine in the blood (mg/dL)\n",
    "\n",
    "* serum_sodium - Level of serum sodium in the blood (mEq/L)\n",
    "  \n",
    "* sex - Woman or man (binary)\n",
    "  \n",
    "* smoking - If the patient smokes or not (boolean)\n",
    "\n",
    "* time - Follow-up period (days)\n",
    "\n",
    "\n",
    "We will be predicting the following output:\n",
    "\n",
    "DEATH_EVENT if the patient deceased during the follow-up period (boolean)"
   ]
  },
  {
   "cell_type": "code",
   "execution_count": 5,
   "metadata": {},
   "outputs": [
    {
     "name": "stdout",
     "output_type": "stream",
     "text": [
      "The dataset is loaded\n"
     ]
    }
   ],
   "source": [
    "found = False\n",
    "key = \"Heart Failure Prediction\"\n",
    "description_text = \"Heart Failure Prediction DataSet for Udacity Project 3\"\n",
    "\n",
    "if key in ws.datasets.keys(): \n",
    "        found = True\n",
    "        dataset = ws.datasets[key] \n",
    "        print(\"The dataset is loaded\")\n",
    "\n",
    "if not found:\n",
    "        # Creating Dataset and register it into Workspace\n",
    "        data1 = \"https://raw.githubusercontent.com/RollyAngell/ML-Azure-Udacity/main/Project%203%20-%20Casptone%20Project%20AutoML%20vs%20HyperDrive/heart%20failure%20clinical%20records%20dataset.csv\"\n",
    "        dataset = Dataset.Tabular.from_delimited_files(data1)        \n",
    "        # Registering Dataset in Workspace\n",
    "        dataset = dataset.register(workspace=ws,\n",
    "                                   name=key,\n",
    "                                   description=description_text)"
   ]
  },
  {
   "cell_type": "code",
   "execution_count": 6,
   "metadata": {},
   "outputs": [
    {
     "data": {
      "text/plain": [
       "{\n",
       "  \"source\": [\n",
       "    \"https://raw.githubusercontent.com/RollyAngell/ML-Azure-Udacity/main/Project%203%20-%20Casptone%20Project%20AutoML%20vs%20HyperDrive/heart%20failure%20clinical%20records%20dataset.csv\"\n",
       "  ],\n",
       "  \"definition\": [\n",
       "    \"GetFiles\",\n",
       "    \"ParseDelimited\",\n",
       "    \"DropColumns\",\n",
       "    \"SetColumnTypes\"\n",
       "  ],\n",
       "  \"registration\": {\n",
       "    \"id\": \"aa5b4d01-b7ba-49ce-8d70-a157bef60f27\",\n",
       "    \"name\": \"Heart Failure Prediction\",\n",
       "    \"version\": 1,\n",
       "    \"description\": \"Heart Failure Prediction DataSet\",\n",
       "    \"workspace\": \"Workspace.create(name='quick-starts-ws-150538', subscription_id='81cefad3-d2c9-4f77-a466-99a7f541c7bb', resource_group='aml-quickstarts-150538')\"\n",
       "  }\n",
       "}"
      ]
     },
     "execution_count": 6,
     "metadata": {},
     "output_type": "execute_result"
    }
   ],
   "source": [
    "dataset"
   ]
  },
  {
   "cell_type": "code",
   "execution_count": 7,
   "metadata": {},
   "outputs": [
    {
     "data": {
      "text/html": [
       "<div>\n",
       "<style scoped>\n",
       "    .dataframe tbody tr th:only-of-type {\n",
       "        vertical-align: middle;\n",
       "    }\n",
       "\n",
       "    .dataframe tbody tr th {\n",
       "        vertical-align: top;\n",
       "    }\n",
       "\n",
       "    .dataframe thead th {\n",
       "        text-align: right;\n",
       "    }\n",
       "</style>\n",
       "<table border=\"1\" class=\"dataframe\">\n",
       "  <thead>\n",
       "    <tr style=\"text-align: right;\">\n",
       "      <th></th>\n",
       "      <th>age</th>\n",
       "      <th>anaemia</th>\n",
       "      <th>creatinine_phosphokinase</th>\n",
       "      <th>diabetes</th>\n",
       "      <th>ejection_fraction</th>\n",
       "      <th>high_blood_pressure</th>\n",
       "      <th>platelets</th>\n",
       "      <th>serum_creatinine</th>\n",
       "      <th>serum_sodium</th>\n",
       "      <th>sex</th>\n",
       "      <th>smoking</th>\n",
       "      <th>time</th>\n",
       "      <th>DEATH_EVENT</th>\n",
       "    </tr>\n",
       "  </thead>\n",
       "  <tbody>\n",
       "    <tr>\n",
       "      <th>count</th>\n",
       "      <td>299.000000</td>\n",
       "      <td>299.000000</td>\n",
       "      <td>299.000000</td>\n",
       "      <td>299.000000</td>\n",
       "      <td>299.000000</td>\n",
       "      <td>299.000000</td>\n",
       "      <td>299.000000</td>\n",
       "      <td>299.00000</td>\n",
       "      <td>299.000000</td>\n",
       "      <td>299.000000</td>\n",
       "      <td>299.00000</td>\n",
       "      <td>299.000000</td>\n",
       "      <td>299.00000</td>\n",
       "    </tr>\n",
       "    <tr>\n",
       "      <th>mean</th>\n",
       "      <td>60.833893</td>\n",
       "      <td>0.431438</td>\n",
       "      <td>581.839465</td>\n",
       "      <td>0.418060</td>\n",
       "      <td>38.083612</td>\n",
       "      <td>0.351171</td>\n",
       "      <td>263358.029264</td>\n",
       "      <td>1.39388</td>\n",
       "      <td>136.625418</td>\n",
       "      <td>0.648829</td>\n",
       "      <td>0.32107</td>\n",
       "      <td>130.260870</td>\n",
       "      <td>0.32107</td>\n",
       "    </tr>\n",
       "    <tr>\n",
       "      <th>std</th>\n",
       "      <td>11.894809</td>\n",
       "      <td>0.496107</td>\n",
       "      <td>970.287881</td>\n",
       "      <td>0.494067</td>\n",
       "      <td>11.834841</td>\n",
       "      <td>0.478136</td>\n",
       "      <td>97804.236869</td>\n",
       "      <td>1.03451</td>\n",
       "      <td>4.412477</td>\n",
       "      <td>0.478136</td>\n",
       "      <td>0.46767</td>\n",
       "      <td>77.614208</td>\n",
       "      <td>0.46767</td>\n",
       "    </tr>\n",
       "    <tr>\n",
       "      <th>min</th>\n",
       "      <td>40.000000</td>\n",
       "      <td>0.000000</td>\n",
       "      <td>23.000000</td>\n",
       "      <td>0.000000</td>\n",
       "      <td>14.000000</td>\n",
       "      <td>0.000000</td>\n",
       "      <td>25100.000000</td>\n",
       "      <td>0.50000</td>\n",
       "      <td>113.000000</td>\n",
       "      <td>0.000000</td>\n",
       "      <td>0.00000</td>\n",
       "      <td>4.000000</td>\n",
       "      <td>0.00000</td>\n",
       "    </tr>\n",
       "    <tr>\n",
       "      <th>25%</th>\n",
       "      <td>51.000000</td>\n",
       "      <td>0.000000</td>\n",
       "      <td>116.500000</td>\n",
       "      <td>0.000000</td>\n",
       "      <td>30.000000</td>\n",
       "      <td>0.000000</td>\n",
       "      <td>212500.000000</td>\n",
       "      <td>0.90000</td>\n",
       "      <td>134.000000</td>\n",
       "      <td>0.000000</td>\n",
       "      <td>0.00000</td>\n",
       "      <td>73.000000</td>\n",
       "      <td>0.00000</td>\n",
       "    </tr>\n",
       "    <tr>\n",
       "      <th>50%</th>\n",
       "      <td>60.000000</td>\n",
       "      <td>0.000000</td>\n",
       "      <td>250.000000</td>\n",
       "      <td>0.000000</td>\n",
       "      <td>38.000000</td>\n",
       "      <td>0.000000</td>\n",
       "      <td>262000.000000</td>\n",
       "      <td>1.10000</td>\n",
       "      <td>137.000000</td>\n",
       "      <td>1.000000</td>\n",
       "      <td>0.00000</td>\n",
       "      <td>115.000000</td>\n",
       "      <td>0.00000</td>\n",
       "    </tr>\n",
       "    <tr>\n",
       "      <th>75%</th>\n",
       "      <td>70.000000</td>\n",
       "      <td>1.000000</td>\n",
       "      <td>582.000000</td>\n",
       "      <td>1.000000</td>\n",
       "      <td>45.000000</td>\n",
       "      <td>1.000000</td>\n",
       "      <td>303500.000000</td>\n",
       "      <td>1.40000</td>\n",
       "      <td>140.000000</td>\n",
       "      <td>1.000000</td>\n",
       "      <td>1.00000</td>\n",
       "      <td>203.000000</td>\n",
       "      <td>1.00000</td>\n",
       "    </tr>\n",
       "    <tr>\n",
       "      <th>max</th>\n",
       "      <td>95.000000</td>\n",
       "      <td>1.000000</td>\n",
       "      <td>7861.000000</td>\n",
       "      <td>1.000000</td>\n",
       "      <td>80.000000</td>\n",
       "      <td>1.000000</td>\n",
       "      <td>850000.000000</td>\n",
       "      <td>9.40000</td>\n",
       "      <td>148.000000</td>\n",
       "      <td>1.000000</td>\n",
       "      <td>1.00000</td>\n",
       "      <td>285.000000</td>\n",
       "      <td>1.00000</td>\n",
       "    </tr>\n",
       "  </tbody>\n",
       "</table>\n",
       "</div>"
      ],
      "text/plain": [
       "              age     anaemia  creatinine_phosphokinase    diabetes  \\\n",
       "count  299.000000  299.000000                299.000000  299.000000   \n",
       "mean    60.833893    0.431438                581.839465    0.418060   \n",
       "std     11.894809    0.496107                970.287881    0.494067   \n",
       "min     40.000000    0.000000                 23.000000    0.000000   \n",
       "25%     51.000000    0.000000                116.500000    0.000000   \n",
       "50%     60.000000    0.000000                250.000000    0.000000   \n",
       "75%     70.000000    1.000000                582.000000    1.000000   \n",
       "max     95.000000    1.000000               7861.000000    1.000000   \n",
       "\n",
       "       ejection_fraction  high_blood_pressure      platelets  \\\n",
       "count         299.000000           299.000000     299.000000   \n",
       "mean           38.083612             0.351171  263358.029264   \n",
       "std            11.834841             0.478136   97804.236869   \n",
       "min            14.000000             0.000000   25100.000000   \n",
       "25%            30.000000             0.000000  212500.000000   \n",
       "50%            38.000000             0.000000  262000.000000   \n",
       "75%            45.000000             1.000000  303500.000000   \n",
       "max            80.000000             1.000000  850000.000000   \n",
       "\n",
       "       serum_creatinine  serum_sodium         sex    smoking        time  \\\n",
       "count         299.00000    299.000000  299.000000  299.00000  299.000000   \n",
       "mean            1.39388    136.625418    0.648829    0.32107  130.260870   \n",
       "std             1.03451      4.412477    0.478136    0.46767   77.614208   \n",
       "min             0.50000    113.000000    0.000000    0.00000    4.000000   \n",
       "25%             0.90000    134.000000    0.000000    0.00000   73.000000   \n",
       "50%             1.10000    137.000000    1.000000    0.00000  115.000000   \n",
       "75%             1.40000    140.000000    1.000000    1.00000  203.000000   \n",
       "max             9.40000    148.000000    1.000000    1.00000  285.000000   \n",
       "\n",
       "       DEATH_EVENT  \n",
       "count    299.00000  \n",
       "mean       0.32107  \n",
       "std        0.46767  \n",
       "min        0.00000  \n",
       "25%        0.00000  \n",
       "50%        0.00000  \n",
       "75%        1.00000  \n",
       "max        1.00000  "
      ]
     },
     "execution_count": 7,
     "metadata": {},
     "output_type": "execute_result"
    }
   ],
   "source": [
    "df_ = dataset.to_pandas_dataframe()\n",
    "df_.describe()"
   ]
  },
  {
   "cell_type": "code",
   "execution_count": 8,
   "metadata": {},
   "outputs": [
    {
     "data": {
      "text/plain": [
       "0    203\n",
       "1     96\n",
       "Name: DEATH_EVENT, dtype: int64"
      ]
     },
     "execution_count": 8,
     "metadata": {},
     "output_type": "execute_result"
    }
   ],
   "source": [
    "df_[\"DEATH_EVENT\"].value_counts()"
   ]
  },
  {
   "cell_type": "markdown",
   "metadata": {},
   "source": [
    "## AutoML Configuration\n",
    "\n",
    "Explain why you chose the automl settings and cofiguration you used below.\n",
    "\n",
    "|Setting |Why?|\n",
    "|-|-|\n",
    "|**experiment_timeout_minutes**|We choose 30 minutos that means the experiment will exit after that time.|\n",
    "|**max_concurrent_iterations**|To get result quickly we choose 5 that means that 5 iterations at the same time.|\n",
    "|**primary_metric**|This is the metric that we want to optimize (accuracy). I will use 'AUC_weighted' as 'primary_metric' parameter. AUC means the area under the Receiver Operating Characteristic Curve which plots the relationship between true positive rate and false positive rate. Since our dataset doesn't have high class imbalance, we can use ROC method for judging the performance of a model. I will use AUC_weighted in order to mitigate the effects of whatever little imbalance is there in the dataset. AUC_weighted is the arithmetic mean of the score for each class, weighted by the number of true instances in each class.|\n",
    "|**task**|classification |\n",
    "|**compute_target**|To define the compute cluster we will be using |\n",
    "|**training_data**|It is the training dataset to be used for the experiment.|\n",
    "|**label_column_name**|To specify the dependent variable that we are trying to classify. I will enter 'DEATH_EVENT' as 'label_column_name' parameter.|\n",
    "|**path**|To specify the dependent variable that we are trying to classify |\n",
    "|**enable_early_stopping**|we can choose to terminate the experiment if the score stops improving in the short term. I will enter 'True' as 'enable_early_stopping' parameter.|\n",
    "|**featurization**|To specify the dependent variable that we are trying to classify |\n",
    "|**debug_log**|To specify the dependent variable that we are trying to classify |\n",
    "|**enable_onnx_compatible_models **|To specify the dependent variable that we are trying to classify |"
   ]
  },
  {
   "cell_type": "code",
   "execution_count": 9,
   "metadata": {
    "gather": {
     "logged": 1610866769545
    },
    "jupyter": {
     "outputs_hidden": false,
     "source_hidden": false
    },
    "nteract": {
     "transient": {
      "deleting": false
     }
    }
   },
   "outputs": [],
   "source": [
    "# TODO: Put your automl settings here\n",
    "automl_settings = {\n",
    "    \"experiment_timeout_minutes\" : 30,\n",
    "    \"max_concurrent_iterations\" : 5,\n",
    "    \"primary_metric\" : 'AUC_weighted'\n",
    "}\n",
    "\n",
    "# TODO: Put your automl config here\n",
    "automl_config = AutoMLConfig(compute_target=compute_target,\n",
    "                            task=\"classification\",\n",
    "                            training_data=dataset,\n",
    "                            label_column_name=\"DEATH_EVENT\",\n",
    "                            path='./AutoML-pipeline-project',\n",
    "                            enable_early_stopping=True,\n",
    "                            featurization='auto',\n",
    "                            enable_onnx_compatible_models=True,\n",
    "                            debug_log=\"automl_errors.log\",\n",
    "                            **automl_settings\n",
    ")"
   ]
  },
  {
   "cell_type": "code",
   "execution_count": 10,
   "metadata": {
    "gather": {
     "logged": 1610868417207
    },
    "jupyter": {
     "outputs_hidden": false,
     "source_hidden": false
    },
    "nteract": {
     "transient": {
      "deleting": false
     }
    }
   },
   "outputs": [
    {
     "name": "stdout",
     "output_type": "stream",
     "text": [
      "Submitting remote run.\n",
      "No run_configuration provided, running on CI-AutoML01 with default configuration\n",
      "Running on remote compute: CI-AutoML01\n"
     ]
    },
    {
     "data": {
      "text/html": [
       "<table style=\"width:100%\"><tr><th>Experiment</th><th>Id</th><th>Type</th><th>Status</th><th>Details Page</th><th>Docs Page</th></tr><tr><td>AutoML-Exp002</td><td>AutoML_2b855ee9-68ea-40d3-be2c-42c5f7de58b8</td><td>automl</td><td>NotStarted</td><td><a href=\"https://ml.azure.com/runs/AutoML_2b855ee9-68ea-40d3-be2c-42c5f7de58b8?wsid=/subscriptions/81cefad3-d2c9-4f77-a466-99a7f541c7bb/resourcegroups/aml-quickstarts-150538/workspaces/quick-starts-ws-150538&amp;tid=660b3398-b80e-49d2-bc5b-ac1dc93b5254\" target=\"_blank\" rel=\"noopener\">Link to Azure Machine Learning studio</a></td><td><a href=\"https://docs.microsoft.com/en-us/python/api/overview/azure/ml/intro?view=azure-ml-py\" target=\"_blank\" rel=\"noopener\">Link to Documentation</a></td></tr></table>"
      ],
      "text/plain": [
       "<IPython.core.display.HTML object>"
      ]
     },
     "metadata": {},
     "output_type": "display_data"
    },
    {
     "name": "stdout",
     "output_type": "stream",
     "text": [
      "\n",
      "Current status: FeaturesGeneration. Generating features for the dataset.\n",
      "Current status: ModelSelection. Beginning model selection.\n",
      "\n",
      "****************************************************************************************************\n",
      "DATA GUARDRAILS: \n",
      "\n",
      "TYPE:         Cross validation\n",
      "STATUS:       DONE\n",
      "DESCRIPTION:  Each iteration of the trained model was validated through cross-validation.\n",
      "              \n",
      "DETAILS:      \n",
      "+---------------------------------+\n",
      "|Number of folds                  |\n",
      "+=================================+\n",
      "|10                               |\n",
      "+---------------------------------+\n",
      "\n",
      "****************************************************************************************************\n",
      "\n",
      "TYPE:         Class balancing detection\n",
      "STATUS:       PASSED\n",
      "DESCRIPTION:  Your inputs were analyzed, and all classes are balanced in your training data.\n",
      "              Learn more about imbalanced data: https://aka.ms/AutomatedMLImbalancedData\n",
      "\n",
      "****************************************************************************************************\n",
      "\n",
      "TYPE:         Missing feature values imputation\n",
      "STATUS:       PASSED\n",
      "DESCRIPTION:  No feature missing values were detected in the training data.\n",
      "              Learn more about missing value imputation: https://aka.ms/AutomatedMLFeaturization\n",
      "\n",
      "****************************************************************************************************\n",
      "\n",
      "TYPE:         High cardinality feature detection\n",
      "STATUS:       PASSED\n",
      "DESCRIPTION:  Your inputs were analyzed, and no high cardinality features were detected.\n",
      "              Learn more about high cardinality feature handling: https://aka.ms/AutomatedMLFeaturization\n",
      "\n",
      "****************************************************************************************************\n",
      "\n",
      "****************************************************************************************************\n",
      "ITERATION: The iteration being evaluated.\n",
      "PIPELINE: A summary description of the pipeline being evaluated.\n",
      "DURATION: Time taken for the current iteration.\n",
      "METRIC: The result of computing score on the fitted pipeline.\n",
      "BEST: The best observed score thus far.\n",
      "****************************************************************************************************\n",
      "\n",
      " ITERATION   PIPELINE                                       DURATION      METRIC      BEST\n",
      "         0   MaxAbsScaler LightGBM                          0:00:37       0.8841    0.8841\n",
      "         1   MaxAbsScaler XGBoostClassifier                 0:00:36       0.8847    0.8847\n",
      "         3   RobustScaler ExtremeRandomTrees                0:01:44       0.8761    0.8847\n",
      "         2   MinMaxScaler RandomForest                      0:00:37       0.8916    0.8916\n",
      "         4   MinMaxScaler RandomForest                      0:00:43       0.9018    0.9018\n",
      "         7   MinMaxScaler ExtremeRandomTrees                0:00:34       0.9108    0.9108\n",
      "         8   MinMaxScaler ExtremeRandomTrees                0:00:41       0.8626    0.9108\n",
      "         9   SparseNormalizer KNN                           0:00:35       0.7496    0.9108\n",
      "         5   MinMaxScaler RandomForest                      0:01:44       0.8982    0.9108\n",
      "        10   MinMaxScaler ExtremeRandomTrees                0:00:38       0.8675    0.9108\n",
      "        11   RobustScaler ExtremeRandomTrees                0:00:39       0.8749    0.9108\n",
      "        12   StandardScalerWrapper RandomForest             0:00:40       0.8966    0.9108\n",
      "         6   StandardScalerWrapper RandomForest             0:03:05       0.8826    0.9108\n",
      "        13   StandardScalerWrapper SGD                      0:00:39       0.8665    0.9108\n",
      "        14   RobustScaler RandomForest                      0:00:34       0.9009    0.9108\n",
      "        15   StandardScalerWrapper KNN                      0:00:39       0.5203    0.9108\n",
      "        16   MinMaxScaler RandomForest                      0:00:40       0.8866    0.9108\n",
      "        18   MaxAbsScaler RandomForest                      0:00:37       0.8819    0.9108\n",
      "        17   MinMaxScaler ExtremeRandomTrees                0:00:39       0.8383    0.9108\n",
      "        19   StandardScalerWrapper XGBoostClassifier        0:00:45       0.9089    0.9108\n",
      "        20   MaxAbsScaler RandomForest                      0:00:37       0.8833    0.9108\n",
      "        21   MaxAbsScaler ExtremeRandomTrees                0:00:42       0.8569    0.9108\n",
      "        22   MaxAbsScaler ExtremeRandomTrees                0:00:38       0.8670    0.9108\n",
      "        23   MinMaxScaler RandomForest                      0:00:39       0.9067    0.9108\n",
      "        24   MinMaxScaler ExtremeRandomTrees                0:00:39       0.9071    0.9108\n",
      "        25   StandardScalerWrapper ExtremeRandomTrees       0:00:37       0.8866    0.9108\n",
      "        26   MaxAbsScaler ExtremeRandomTrees                0:00:43       0.8935    0.9108\n",
      "        27   StandardScalerWrapper XGBoostClassifier        0:00:38       0.9055    0.9108\n",
      "        28   StandardScalerWrapper XGBoostClassifier        0:00:38       0.8972    0.9108\n",
      "        29   RobustScaler LightGBM                          0:00:39       0.9012    0.9108\n",
      "        30   PCA ExtremeRandomTrees                         0:00:45       0.5545    0.9108\n",
      "        31   StandardScalerWrapper XGBoostClassifier        0:00:41       0.9078    0.9108\n",
      "        32   StandardScalerWrapper GradientBoosting         0:00:39       0.8879    0.9108\n",
      "        33   RobustScaler RandomForest                      0:00:49       0.9079    0.9108\n",
      "        34   StandardScalerWrapper LightGBM                 0:00:35       0.9016    0.9108\n",
      "        35   StandardScalerWrapper ExtremeRandomTrees       0:00:30       0.8468    0.9108\n",
      "        36                                                  0:00:14          nan    0.9108\n",
      "        37                                                  0:00:26          nan    0.9108\n",
      "        38    VotingEnsemble                                0:01:04       0.9213    0.9213\n"
     ]
    }
   ],
   "source": [
    "# TODO: Submit your experiment\n",
    "remote_run = experiment.submit(config = automl_config, show_output=True)"
   ]
  },
  {
   "cell_type": "code",
   "execution_count": 11,
   "metadata": {
    "gather": {
     "logged": 1610868717293
    }
   },
   "outputs": [
    {
     "data": {
      "text/html": [
       "<table style=\"width:100%\"><tr><th>Experiment</th><th>Id</th><th>Type</th><th>Status</th><th>Details Page</th><th>Docs Page</th></tr><tr><td>AutoML-Exp002</td><td>AutoML_2b855ee9-68ea-40d3-be2c-42c5f7de58b8</td><td>automl</td><td>Completed</td><td><a href=\"https://ml.azure.com/runs/AutoML_2b855ee9-68ea-40d3-be2c-42c5f7de58b8?wsid=/subscriptions/81cefad3-d2c9-4f77-a466-99a7f541c7bb/resourcegroups/aml-quickstarts-150538/workspaces/quick-starts-ws-150538&amp;tid=660b3398-b80e-49d2-bc5b-ac1dc93b5254\" target=\"_blank\" rel=\"noopener\">Link to Azure Machine Learning studio</a></td><td><a href=\"https://docs.microsoft.com/en-us/python/api/overview/azure/ml/intro?view=azure-ml-py\" target=\"_blank\" rel=\"noopener\">Link to Documentation</a></td></tr></table>"
      ],
      "text/plain": [
       "<IPython.core.display.HTML object>"
      ]
     },
     "metadata": {},
     "output_type": "display_data"
    },
    {
     "name": "stdout",
     "output_type": "stream",
     "text": [
      "\n",
      "\n",
      "****************************************************************************************************\n",
      "DATA GUARDRAILS: \n",
      "\n",
      "TYPE:         Cross validation\n",
      "STATUS:       DONE\n",
      "DESCRIPTION:  Each iteration of the trained model was validated through cross-validation.\n",
      "              \n",
      "DETAILS:      \n",
      "+---------------------------------+\n",
      "|Number of folds                  |\n",
      "+=================================+\n",
      "|10                               |\n",
      "+---------------------------------+\n",
      "\n",
      "****************************************************************************************************\n",
      "\n",
      "TYPE:         Class balancing detection\n",
      "STATUS:       PASSED\n",
      "DESCRIPTION:  Your inputs were analyzed, and all classes are balanced in your training data.\n",
      "              Learn more about imbalanced data: https://aka.ms/AutomatedMLImbalancedData\n",
      "\n",
      "****************************************************************************************************\n",
      "\n",
      "TYPE:         Missing feature values imputation\n",
      "STATUS:       PASSED\n",
      "DESCRIPTION:  No feature missing values were detected in the training data.\n",
      "              Learn more about missing value imputation: https://aka.ms/AutomatedMLFeaturization\n",
      "\n",
      "****************************************************************************************************\n",
      "\n",
      "TYPE:         High cardinality feature detection\n",
      "STATUS:       PASSED\n",
      "DESCRIPTION:  Your inputs were analyzed, and no high cardinality features were detected.\n",
      "              Learn more about high cardinality feature handling: https://aka.ms/AutomatedMLFeaturization\n",
      "\n",
      "****************************************************************************************************\n",
      "\n",
      "****************************************************************************************************\n",
      "ITERATION: The iteration being evaluated.\n",
      "PIPELINE: A summary description of the pipeline being evaluated.\n",
      "DURATION: Time taken for the current iteration.\n",
      "METRIC: The result of computing score on the fitted pipeline.\n",
      "BEST: The best observed score thus far.\n",
      "****************************************************************************************************\n",
      "\n",
      " ITERATION   PIPELINE                                       DURATION      METRIC      BEST\n",
      "         0   MaxAbsScaler LightGBM                          0:00:37       0.8841    0.8841\n",
      "         1   MaxAbsScaler XGBoostClassifier                 0:00:36       0.8847    0.8847\n",
      "         2   MinMaxScaler RandomForest                      0:00:37       0.8916    0.8916\n",
      "         3   RobustScaler ExtremeRandomTrees                0:01:44       0.8761    0.8916\n",
      "         4   MinMaxScaler RandomForest                      0:00:43       0.9018    0.9018\n",
      "         5   MinMaxScaler RandomForest                      0:01:44       0.8982    0.9018\n",
      "         6   StandardScalerWrapper RandomForest             0:03:05       0.8826    0.9018\n",
      "         7   MinMaxScaler ExtremeRandomTrees                0:00:34       0.9108    0.9108\n",
      "         8   MinMaxScaler ExtremeRandomTrees                0:00:41       0.8626    0.9108\n",
      "         9   SparseNormalizer KNN                           0:00:35       0.7496    0.9108\n",
      "        10   MinMaxScaler ExtremeRandomTrees                0:00:38       0.8675    0.9108\n",
      "        11   RobustScaler ExtremeRandomTrees                0:00:39       0.8749    0.9108\n",
      "        12   StandardScalerWrapper RandomForest             0:00:40       0.8966    0.9108\n",
      "        13   StandardScalerWrapper SGD                      0:00:39       0.8665    0.9108\n",
      "        14   RobustScaler RandomForest                      0:00:34       0.9009    0.9108\n",
      "        15   StandardScalerWrapper KNN                      0:00:39       0.5203    0.9108\n",
      "        16   MinMaxScaler RandomForest                      0:00:40       0.8866    0.9108\n",
      "        17   MinMaxScaler ExtremeRandomTrees                0:00:39       0.8383    0.9108\n",
      "        18   MaxAbsScaler RandomForest                      0:00:37       0.8819    0.9108\n",
      "        19   StandardScalerWrapper XGBoostClassifier        0:00:45       0.9089    0.9108\n",
      "        20   MaxAbsScaler RandomForest                      0:00:37       0.8833    0.9108\n",
      "        21   MaxAbsScaler ExtremeRandomTrees                0:00:42       0.8569    0.9108\n",
      "        22   MaxAbsScaler ExtremeRandomTrees                0:00:38       0.8670    0.9108\n",
      "        23   MinMaxScaler RandomForest                      0:00:39       0.9067    0.9108\n",
      "        24   MinMaxScaler ExtremeRandomTrees                0:00:39       0.9071    0.9108\n",
      "        25   StandardScalerWrapper ExtremeRandomTrees       0:00:37       0.8866    0.9108\n",
      "        26   MaxAbsScaler ExtremeRandomTrees                0:00:43       0.8935    0.9108\n",
      "        27   StandardScalerWrapper XGBoostClassifier        0:00:38       0.9055    0.9108\n",
      "        28   StandardScalerWrapper XGBoostClassifier        0:00:38       0.8972    0.9108\n",
      "        29   RobustScaler LightGBM                          0:00:39       0.9012    0.9108\n",
      "        30   PCA ExtremeRandomTrees                         0:00:45       0.5545    0.9108\n",
      "        31   StandardScalerWrapper XGBoostClassifier        0:00:41       0.9078    0.9108\n",
      "        32   StandardScalerWrapper GradientBoosting         0:00:39       0.8879    0.9108\n",
      "        33   RobustScaler RandomForest                      0:00:49       0.9079    0.9108\n",
      "        34   StandardScalerWrapper LightGBM                 0:00:35       0.9016    0.9108\n",
      "        35   StandardScalerWrapper ExtremeRandomTrees       0:00:30       0.8468    0.9108\n",
      "        36                                                  0:00:14          nan    0.9108\n",
      "        37                                                  0:00:26          nan    0.9108\n",
      "        38    VotingEnsemble                                0:01:04       0.9213    0.9213\n"
     ]
    },
    {
     "data": {
      "text/plain": [
       "{'runId': 'AutoML_2b855ee9-68ea-40d3-be2c-42c5f7de58b8',\n",
       " 'target': 'CI-AutoML01',\n",
       " 'status': 'Completed',\n",
       " 'startTimeUtc': '2021-07-12T08:47:54.078596Z',\n",
       " 'endTimeUtc': '2021-07-12T09:06:36.676972Z',\n",
       " 'properties': {'num_iterations': '1000',\n",
       "  'training_type': 'TrainFull',\n",
       "  'acquisition_function': 'EI',\n",
       "  'primary_metric': 'AUC_weighted',\n",
       "  'train_split': '0',\n",
       "  'acquisition_parameter': '0',\n",
       "  'num_cross_validation': None,\n",
       "  'target': 'CI-AutoML01',\n",
       "  'AMLSettingsJsonString': '{\"path\":null,\"name\":\"AutoML-Exp002\",\"subscription_id\":\"81cefad3-d2c9-4f77-a466-99a7f541c7bb\",\"resource_group\":\"aml-quickstarts-150538\",\"workspace_name\":\"quick-starts-ws-150538\",\"region\":\"southcentralus\",\"compute_target\":\"CI-AutoML01\",\"spark_service\":null,\"azure_service\":\"remote\",\"many_models\":false,\"pipeline_fetch_max_batch_size\":1,\"enable_batch_run\":false,\"enable_run_restructure\":false,\"start_auxiliary_runs_before_parent_complete\":false,\"enable_code_generation\":false,\"iterations\":1000,\"primary_metric\":\"AUC_weighted\",\"task_type\":\"classification\",\"data_script\":null,\"test_size\":0.0,\"validation_size\":0.0,\"n_cross_validations\":null,\"y_min\":null,\"y_max\":null,\"num_classes\":null,\"featurization\":\"auto\",\"_ignore_package_version_incompatibilities\":false,\"is_timeseries\":false,\"max_cores_per_iteration\":1,\"max_concurrent_iterations\":5,\"iteration_timeout_minutes\":null,\"mem_in_mb\":null,\"enforce_time_on_windows\":false,\"experiment_timeout_minutes\":30,\"experiment_exit_score\":null,\"whitelist_models\":null,\"blacklist_algos\":[\"TensorFlowLinearClassifier\",\"TensorFlowDNN\"],\"supported_models\":[\"BernoulliNaiveBayes\",\"AveragedPerceptronClassifier\",\"SGD\",\"LightGBM\",\"LogisticRegression\",\"LinearSVM\",\"DecisionTree\",\"SVM\",\"GradientBoosting\",\"TensorFlowDNN\",\"MultinomialNaiveBayes\",\"KNN\",\"RandomForest\",\"TensorFlowLinearClassifier\",\"ExtremeRandomTrees\",\"XGBoostClassifier\"],\"private_models\":[],\"auto_blacklist\":true,\"blacklist_samples_reached\":false,\"exclude_nan_labels\":true,\"verbosity\":20,\"_debug_log\":\"azureml_automl.log\",\"show_warnings\":false,\"model_explainability\":true,\"service_url\":null,\"sdk_url\":null,\"sdk_packages\":null,\"enable_onnx_compatible_models\":true,\"enable_split_onnx_featurizer_estimator_models\":false,\"vm_type\":\"STANDARD_DS12_V2\",\"telemetry_verbosity\":20,\"send_telemetry\":true,\"enable_dnn\":false,\"scenario\":\"SDK-1.13.0\",\"environment_label\":null,\"save_mlflow\":false,\"force_text_dnn\":false,\"enable_feature_sweeping\":false,\"enable_early_stopping\":true,\"early_stopping_n_iters\":10,\"metrics\":null,\"enable_metric_confidence\":false,\"enable_ensembling\":true,\"enable_stack_ensembling\":false,\"ensemble_iterations\":15,\"enable_tf\":false,\"enable_subsampling\":null,\"subsample_seed\":null,\"enable_nimbusml\":false,\"enable_streaming\":false,\"force_streaming\":false,\"track_child_runs\":true,\"allowed_private_models\":[],\"label_column_name\":\"DEATH_EVENT\",\"weight_column_name\":null,\"cv_split_column_names\":null,\"enable_local_managed\":false,\"_local_managed_run_id\":null,\"cost_mode\":1,\"lag_length\":0,\"metric_operation\":\"maximize\",\"preprocess\":true}',\n",
       "  'DataPrepJsonString': '{\\\\\"training_data\\\\\": {\\\\\"datasetId\\\\\": \\\\\"aa5b4d01-b7ba-49ce-8d70-a157bef60f27\\\\\"}, \\\\\"datasets\\\\\": 0}',\n",
       "  'EnableSubsampling': None,\n",
       "  'runTemplate': 'AutoML',\n",
       "  'azureml.runsource': 'automl',\n",
       "  'display_task_type': 'classification',\n",
       "  'dependencies_versions': '{\"azureml-widgets\": \"1.31.0\", \"azureml-train\": \"1.31.0\", \"azureml-train-restclients-hyperdrive\": \"1.31.0\", \"azureml-train-core\": \"1.31.0\", \"azureml-train-automl\": \"1.31.0\", \"azureml-train-automl-runtime\": \"1.31.0\", \"azureml-train-automl-client\": \"1.31.0\", \"azureml-tensorboard\": \"1.31.0\", \"azureml-telemetry\": \"1.31.0\", \"azureml-sdk\": \"1.31.0\", \"azureml-samples\": \"0+unknown\", \"azureml-responsibleai\": \"1.31.0\", \"azureml-pipeline\": \"1.31.0\", \"azureml-pipeline-steps\": \"1.31.0\", \"azureml-pipeline-core\": \"1.31.0\", \"azureml-opendatasets\": \"1.31.0\", \"azureml-model-management-sdk\": \"1.0.1b6.post1\", \"azureml-mlflow\": \"1.31.0\", \"azureml-interpret\": \"1.31.0\", \"azureml-explain-model\": \"1.31.0\", \"azureml-defaults\": \"1.31.0\", \"azureml-dataset-runtime\": \"1.31.0\", \"azureml-dataprep\": \"2.18.0\", \"azureml-dataprep-rslex\": \"1.16.1\", \"azureml-dataprep-native\": \"36.0.0\", \"azureml-datadrift\": \"1.31.0\", \"azureml-core\": \"1.31.0\", \"azureml-contrib-services\": \"1.31.0\", \"azureml-contrib-server\": \"1.31.0\", \"azureml-contrib-reinforcementlearning\": \"1.31.0\", \"azureml-contrib-pipeline-steps\": \"1.31.0\", \"azureml-contrib-notebook\": \"1.31.0\", \"azureml-contrib-fairness\": \"1.31.0\", \"azureml-contrib-dataset\": \"1.31.0\", \"azureml-cli-common\": \"1.31.0\", \"azureml-automl-runtime\": \"1.31.0\", \"azureml-automl-dnn-nlp\": \"1.31.0\", \"azureml-automl-core\": \"1.31.0\", \"azureml-accel-models\": \"1.31.0\"}',\n",
       "  '_aml_system_scenario_identification': 'Remote.Parent',\n",
       "  'ClientType': 'SDK',\n",
       "  'environment_cpu_name': 'AzureML-AutoML',\n",
       "  'environment_cpu_label': 'prod',\n",
       "  'environment_gpu_name': 'AzureML-AutoML-GPU',\n",
       "  'environment_gpu_label': 'prod',\n",
       "  'root_attribution': 'automl',\n",
       "  'attribution': 'AutoML',\n",
       "  'Orchestrator': 'AutoML',\n",
       "  'CancelUri': 'https://southcentralus.api.azureml.ms/jasmine/v1.0/subscriptions/81cefad3-d2c9-4f77-a466-99a7f541c7bb/resourceGroups/aml-quickstarts-150538/providers/Microsoft.MachineLearningServices/workspaces/quick-starts-ws-150538/experimentids/c21f9946-7a65-44e8-bc4d-c1721c26a06b/cancel/AutoML_2b855ee9-68ea-40d3-be2c-42c5f7de58b8',\n",
       "  'ClientSdkVersion': '1.31.0',\n",
       "  'snapshotId': '00000000-0000-0000-0000-000000000000',\n",
       "  'SetupRunId': 'AutoML_2b855ee9-68ea-40d3-be2c-42c5f7de58b8_setup',\n",
       "  'SetupRunContainerId': 'dcid.AutoML_2b855ee9-68ea-40d3-be2c-42c5f7de58b8_setup',\n",
       "  'FeaturizationRunJsonPath': 'featurizer_container.json',\n",
       "  'FeaturizationRunId': 'AutoML_2b855ee9-68ea-40d3-be2c-42c5f7de58b8_featurize',\n",
       "  'ProblemInfoJsonString': '{\"dataset_num_categorical\": 0, \"is_sparse\": false, \"subsampling\": false, \"has_extra_col\": true, \"dataset_classes\": 2, \"dataset_features\": 12, \"dataset_samples\": 299, \"single_frequency_class_detected\": false}',\n",
       "  'ModelExplainRunId': 'AutoML_2b855ee9-68ea-40d3-be2c-42c5f7de58b8_ModelExplain'},\n",
       " 'inputDatasets': [{'dataset': {'id': 'aa5b4d01-b7ba-49ce-8d70-a157bef60f27'}, 'consumptionDetails': {'type': 'RunInput', 'inputName': 'training_data', 'mechanism': 'Direct'}}],\n",
       " 'outputDatasets': [],\n",
       " 'logFiles': {},\n",
       " 'submittedBy': 'ODL_User 150538'}"
      ]
     },
     "execution_count": 11,
     "metadata": {},
     "output_type": "execute_result"
    }
   ],
   "source": [
    "# waiting for completion of remote_run while showing its output\n",
    "remote_run.wait_for_completion(show_output=True)"
   ]
  },
  {
   "cell_type": "markdown",
   "metadata": {},
   "source": [
    "## Run Details\n",
    "\n",
    "OPTIONAL: Write about the different models trained and their performance. Why do you think some models did better than others?\n",
    "\n",
    "TODO: In the cell below, use the `RunDetails` widget to show the different experiments."
   ]
  },
  {
   "cell_type": "code",
   "execution_count": 12,
   "metadata": {
    "gather": {
     "logged": 1610868834485
    },
    "jupyter": {
     "outputs_hidden": false,
     "source_hidden": false
    },
    "nteract": {
     "transient": {
      "deleting": false
     }
    }
   },
   "outputs": [
    {
     "data": {
      "application/vnd.jupyter.widget-view+json": {
       "model_id": "24afc92da2e44220bed89f09f7bb6390",
       "version_major": 2,
       "version_minor": 0
      },
      "text/plain": [
       "_AutoMLWidget(widget_settings={'childWidgetDisplay': 'popup', 'send_telemetry': False, 'log_level': 'INFO', 's…"
      ]
     },
     "metadata": {},
     "output_type": "display_data"
    },
    {
     "data": {
      "application/aml.mini.widget.v1": "{\"status\": \"Completed\", \"workbench_run_details_uri\": \"https://ml.azure.com/runs/AutoML_2b855ee9-68ea-40d3-be2c-42c5f7de58b8?wsid=/subscriptions/81cefad3-d2c9-4f77-a466-99a7f541c7bb/resourcegroups/aml-quickstarts-150538/workspaces/quick-starts-ws-150538&tid=660b3398-b80e-49d2-bc5b-ac1dc93b5254\", \"run_id\": \"AutoML_2b855ee9-68ea-40d3-be2c-42c5f7de58b8\", \"run_properties\": {\"run_id\": \"AutoML_2b855ee9-68ea-40d3-be2c-42c5f7de58b8\", \"created_utc\": \"2021-07-12T08:47:39.766643Z\", \"properties\": {\"num_iterations\": \"1000\", \"training_type\": \"TrainFull\", \"acquisition_function\": \"EI\", \"primary_metric\": \"AUC_weighted\", \"train_split\": \"0\", \"acquisition_parameter\": \"0\", \"num_cross_validation\": null, \"target\": \"CI-AutoML01\", \"AMLSettingsJsonString\": \"{\\\"path\\\":null,\\\"name\\\":\\\"AutoML-Exp002\\\",\\\"subscription_id\\\":\\\"81cefad3-d2c9-4f77-a466-99a7f541c7bb\\\",\\\"resource_group\\\":\\\"aml-quickstarts-150538\\\",\\\"workspace_name\\\":\\\"quick-starts-ws-150538\\\",\\\"region\\\":\\\"southcentralus\\\",\\\"compute_target\\\":\\\"CI-AutoML01\\\",\\\"spark_service\\\":null,\\\"azure_service\\\":\\\"remote\\\",\\\"many_models\\\":false,\\\"pipeline_fetch_max_batch_size\\\":1,\\\"enable_batch_run\\\":false,\\\"enable_run_restructure\\\":false,\\\"start_auxiliary_runs_before_parent_complete\\\":false,\\\"enable_code_generation\\\":false,\\\"iterations\\\":1000,\\\"primary_metric\\\":\\\"AUC_weighted\\\",\\\"task_type\\\":\\\"classification\\\",\\\"data_script\\\":null,\\\"test_size\\\":0.0,\\\"validation_size\\\":0.0,\\\"n_cross_validations\\\":null,\\\"y_min\\\":null,\\\"y_max\\\":null,\\\"num_classes\\\":null,\\\"featurization\\\":\\\"auto\\\",\\\"_ignore_package_version_incompatibilities\\\":false,\\\"is_timeseries\\\":false,\\\"max_cores_per_iteration\\\":1,\\\"max_concurrent_iterations\\\":5,\\\"iteration_timeout_minutes\\\":null,\\\"mem_in_mb\\\":null,\\\"enforce_time_on_windows\\\":false,\\\"experiment_timeout_minutes\\\":30,\\\"experiment_exit_score\\\":null,\\\"whitelist_models\\\":null,\\\"blacklist_algos\\\":[\\\"TensorFlowLinearClassifier\\\",\\\"TensorFlowDNN\\\"],\\\"supported_models\\\":[\\\"BernoulliNaiveBayes\\\",\\\"AveragedPerceptronClassifier\\\",\\\"SGD\\\",\\\"LightGBM\\\",\\\"LogisticRegression\\\",\\\"LinearSVM\\\",\\\"DecisionTree\\\",\\\"SVM\\\",\\\"GradientBoosting\\\",\\\"TensorFlowDNN\\\",\\\"MultinomialNaiveBayes\\\",\\\"KNN\\\",\\\"RandomForest\\\",\\\"TensorFlowLinearClassifier\\\",\\\"ExtremeRandomTrees\\\",\\\"XGBoostClassifier\\\"],\\\"private_models\\\":[],\\\"auto_blacklist\\\":true,\\\"blacklist_samples_reached\\\":false,\\\"exclude_nan_labels\\\":true,\\\"verbosity\\\":20,\\\"_debug_log\\\":\\\"azureml_automl.log\\\",\\\"show_warnings\\\":false,\\\"model_explainability\\\":true,\\\"service_url\\\":null,\\\"sdk_url\\\":null,\\\"sdk_packages\\\":null,\\\"enable_onnx_compatible_models\\\":true,\\\"enable_split_onnx_featurizer_estimator_models\\\":false,\\\"vm_type\\\":\\\"STANDARD_DS12_V2\\\",\\\"telemetry_verbosity\\\":20,\\\"send_telemetry\\\":true,\\\"enable_dnn\\\":false,\\\"scenario\\\":\\\"SDK-1.13.0\\\",\\\"environment_label\\\":null,\\\"save_mlflow\\\":false,\\\"force_text_dnn\\\":false,\\\"enable_feature_sweeping\\\":false,\\\"enable_early_stopping\\\":true,\\\"early_stopping_n_iters\\\":10,\\\"metrics\\\":null,\\\"enable_metric_confidence\\\":false,\\\"enable_ensembling\\\":true,\\\"enable_stack_ensembling\\\":false,\\\"ensemble_iterations\\\":15,\\\"enable_tf\\\":false,\\\"enable_subsampling\\\":null,\\\"subsample_seed\\\":null,\\\"enable_nimbusml\\\":false,\\\"enable_streaming\\\":false,\\\"force_streaming\\\":false,\\\"track_child_runs\\\":true,\\\"allowed_private_models\\\":[],\\\"label_column_name\\\":\\\"DEATH_EVENT\\\",\\\"weight_column_name\\\":null,\\\"cv_split_column_names\\\":null,\\\"enable_local_managed\\\":false,\\\"_local_managed_run_id\\\":null,\\\"cost_mode\\\":1,\\\"lag_length\\\":0,\\\"metric_operation\\\":\\\"maximize\\\",\\\"preprocess\\\":true}\", \"DataPrepJsonString\": \"{\\\\\\\"training_data\\\\\\\": {\\\\\\\"datasetId\\\\\\\": \\\\\\\"aa5b4d01-b7ba-49ce-8d70-a157bef60f27\\\\\\\"}, \\\\\\\"datasets\\\\\\\": 0}\", \"EnableSubsampling\": null, \"runTemplate\": \"AutoML\", \"azureml.runsource\": \"automl\", \"display_task_type\": \"classification\", \"dependencies_versions\": \"{\\\"azureml-widgets\\\": \\\"1.31.0\\\", \\\"azureml-train\\\": \\\"1.31.0\\\", \\\"azureml-train-restclients-hyperdrive\\\": \\\"1.31.0\\\", \\\"azureml-train-core\\\": \\\"1.31.0\\\", \\\"azureml-train-automl\\\": \\\"1.31.0\\\", \\\"azureml-train-automl-runtime\\\": \\\"1.31.0\\\", \\\"azureml-train-automl-client\\\": \\\"1.31.0\\\", \\\"azureml-tensorboard\\\": \\\"1.31.0\\\", \\\"azureml-telemetry\\\": \\\"1.31.0\\\", \\\"azureml-sdk\\\": \\\"1.31.0\\\", \\\"azureml-samples\\\": \\\"0+unknown\\\", \\\"azureml-responsibleai\\\": \\\"1.31.0\\\", \\\"azureml-pipeline\\\": \\\"1.31.0\\\", \\\"azureml-pipeline-steps\\\": \\\"1.31.0\\\", \\\"azureml-pipeline-core\\\": \\\"1.31.0\\\", \\\"azureml-opendatasets\\\": \\\"1.31.0\\\", \\\"azureml-model-management-sdk\\\": \\\"1.0.1b6.post1\\\", \\\"azureml-mlflow\\\": \\\"1.31.0\\\", \\\"azureml-interpret\\\": \\\"1.31.0\\\", \\\"azureml-explain-model\\\": \\\"1.31.0\\\", \\\"azureml-defaults\\\": \\\"1.31.0\\\", \\\"azureml-dataset-runtime\\\": \\\"1.31.0\\\", \\\"azureml-dataprep\\\": \\\"2.18.0\\\", \\\"azureml-dataprep-rslex\\\": \\\"1.16.1\\\", \\\"azureml-dataprep-native\\\": \\\"36.0.0\\\", \\\"azureml-datadrift\\\": \\\"1.31.0\\\", \\\"azureml-core\\\": \\\"1.31.0\\\", \\\"azureml-contrib-services\\\": \\\"1.31.0\\\", \\\"azureml-contrib-server\\\": \\\"1.31.0\\\", \\\"azureml-contrib-reinforcementlearning\\\": \\\"1.31.0\\\", \\\"azureml-contrib-pipeline-steps\\\": \\\"1.31.0\\\", \\\"azureml-contrib-notebook\\\": \\\"1.31.0\\\", \\\"azureml-contrib-fairness\\\": \\\"1.31.0\\\", \\\"azureml-contrib-dataset\\\": \\\"1.31.0\\\", \\\"azureml-cli-common\\\": \\\"1.31.0\\\", \\\"azureml-automl-runtime\\\": \\\"1.31.0\\\", \\\"azureml-automl-dnn-nlp\\\": \\\"1.31.0\\\", \\\"azureml-automl-core\\\": \\\"1.31.0\\\", \\\"azureml-accel-models\\\": \\\"1.31.0\\\"}\", \"_aml_system_scenario_identification\": \"Remote.Parent\", \"ClientType\": \"SDK\", \"environment_cpu_name\": \"AzureML-AutoML\", \"environment_cpu_label\": \"prod\", \"environment_gpu_name\": \"AzureML-AutoML-GPU\", \"environment_gpu_label\": \"prod\", \"root_attribution\": \"automl\", \"attribution\": \"AutoML\", \"Orchestrator\": \"AutoML\", \"CancelUri\": \"https://southcentralus.api.azureml.ms/jasmine/v1.0/subscriptions/81cefad3-d2c9-4f77-a466-99a7f541c7bb/resourceGroups/aml-quickstarts-150538/providers/Microsoft.MachineLearningServices/workspaces/quick-starts-ws-150538/experimentids/c21f9946-7a65-44e8-bc4d-c1721c26a06b/cancel/AutoML_2b855ee9-68ea-40d3-be2c-42c5f7de58b8\", \"ClientSdkVersion\": \"1.31.0\", \"snapshotId\": \"00000000-0000-0000-0000-000000000000\", \"SetupRunId\": \"AutoML_2b855ee9-68ea-40d3-be2c-42c5f7de58b8_setup\", \"SetupRunContainerId\": \"dcid.AutoML_2b855ee9-68ea-40d3-be2c-42c5f7de58b8_setup\", \"FeaturizationRunJsonPath\": \"featurizer_container.json\", \"FeaturizationRunId\": \"AutoML_2b855ee9-68ea-40d3-be2c-42c5f7de58b8_featurize\", \"ProblemInfoJsonString\": \"{\\\"dataset_num_categorical\\\": 0, \\\"is_sparse\\\": false, \\\"subsampling\\\": false, \\\"has_extra_col\\\": true, \\\"dataset_classes\\\": 2, \\\"dataset_features\\\": 12, \\\"dataset_samples\\\": 299, \\\"single_frequency_class_detected\\\": false}\", \"ModelExplainRunId\": \"AutoML_2b855ee9-68ea-40d3-be2c-42c5f7de58b8_ModelExplain\"}, \"tags\": {\"model_explain_run\": \"best_run\", \"_aml_system_azureml.automlComponent\": \"AutoML\", \"pipeline_id\": \"\", \"score\": \"\", \"predicted_cost\": \"\", \"fit_time\": \"\", \"training_percent\": \"\", \"iteration\": \"\", \"run_preprocessor\": \"\", \"run_algorithm\": \"\", \"dynamic_whitelisting_iterations\": \"<25>;<30>;<35>;\", \"automl_best_child_run_id\": \"AutoML_2b855ee9-68ea-40d3-be2c-42c5f7de58b8_38\", \"model_explain_best_run_child_id\": \"AutoML_2b855ee9-68ea-40d3-be2c-42c5f7de58b8_38\"}, \"end_time_utc\": \"2021-07-12T09:06:36.676972Z\", \"status\": \"Completed\", \"log_files\": {}, \"log_groups\": [], \"run_duration\": \"0:18:56\", \"run_number\": \"2\", \"run_queued_details\": {\"status\": \"Completed\", \"details\": null}}, \"child_runs\": [{\"run_id\": \"AutoML_2b855ee9-68ea-40d3-be2c-42c5f7de58b8_0\", \"run_number\": 6, \"metric\": null, \"status\": \"Completed\", \"run_type\": \"azureml.scriptrun\", \"training_percent\": \"100\", \"start_time\": \"2021-07-12T08:54:45.29064Z\", \"end_time\": \"2021-07-12T08:55:22.34836Z\", \"created_time\": \"2021-07-12T08:54:31.296924Z\", \"created_time_dt\": \"2021-07-12T08:54:31.296924Z\", \"duration\": \"0:00:51\", \"iteration\": \"0\", \"goal\": \"AUC_weighted_max\", \"run_name\": \"MaxAbsScaler, LightGBM\", \"run_properties\": \"copy=True\", \"primary_metric\": 0.88409554, \"best_metric\": 0.88409554}, {\"run_id\": \"AutoML_2b855ee9-68ea-40d3-be2c-42c5f7de58b8_1\", \"run_number\": 7, \"metric\": null, \"status\": \"Completed\", \"run_type\": \"azureml.scriptrun\", \"training_percent\": \"100\", \"start_time\": \"2021-07-12T08:55:39.908965Z\", \"end_time\": \"2021-07-12T08:56:16.369718Z\", \"created_time\": \"2021-07-12T08:54:31.322457Z\", \"created_time_dt\": \"2021-07-12T08:54:31.322457Z\", \"duration\": \"0:01:45\", \"iteration\": \"1\", \"goal\": \"AUC_weighted_max\", \"run_name\": \"MaxAbsScaler, XGBoostClassifier\", \"run_properties\": \"copy=True\", \"primary_metric\": 0.88473694, \"best_metric\": 0.88473694}, {\"run_id\": \"AutoML_2b855ee9-68ea-40d3-be2c-42c5f7de58b8_3\", \"run_number\": 8, \"metric\": null, \"status\": \"Completed\", \"run_type\": \"azureml.scriptrun\", \"training_percent\": \"100\", \"start_time\": \"2021-07-12T08:55:11.707944Z\", \"end_time\": \"2021-07-12T08:56:55.633241Z\", \"created_time\": \"2021-07-12T08:54:31.337853Z\", \"created_time_dt\": \"2021-07-12T08:54:31.337853Z\", \"duration\": \"0:02:24\", \"iteration\": \"3\", \"goal\": \"AUC_weighted_max\", \"run_name\": \"RobustScaler, ExtremeRandomTrees\", \"run_properties\": \"copy=True, quantile_range=[10, 90], with_centering=False,\\n             with_scaling=False\", \"primary_metric\": 0.87610474, \"best_metric\": 0.8916037}, {\"run_id\": \"AutoML_2b855ee9-68ea-40d3-be2c-42c5f7de58b8_2\", \"run_number\": 9, \"metric\": null, \"status\": \"Completed\", \"run_type\": \"azureml.scriptrun\", \"training_percent\": \"100\", \"start_time\": \"2021-07-12T08:56:31.324524Z\", \"end_time\": \"2021-07-12T08:57:08.293809Z\", \"created_time\": \"2021-07-12T08:54:31.361723Z\", \"created_time_dt\": \"2021-07-12T08:54:31.361723Z\", \"duration\": \"0:02:36\", \"iteration\": \"2\", \"goal\": \"AUC_weighted_max\", \"run_name\": \"MinMaxScaler, RandomForest\", \"run_properties\": \"copy=True, feature_range=(0, 1\", \"primary_metric\": 0.8916037, \"best_metric\": 0.8916037}, {\"run_id\": \"AutoML_2b855ee9-68ea-40d3-be2c-42c5f7de58b8_4\", \"run_number\": 10, \"metric\": null, \"status\": \"Completed\", \"run_type\": \"azureml.scriptrun\", \"training_percent\": \"100\", \"start_time\": \"2021-07-12T08:57:13.177537Z\", \"end_time\": \"2021-07-12T08:57:56.330739Z\", \"created_time\": \"2021-07-12T08:54:31.32293Z\", \"created_time_dt\": \"2021-07-12T08:54:31.32293Z\", \"duration\": \"0:03:25\", \"iteration\": \"4\", \"goal\": \"AUC_weighted_max\", \"run_name\": \"MinMaxScaler, RandomForest\", \"run_properties\": \"copy=True, feature_range=(0, 1\", \"primary_metric\": 0.90181376, \"best_metric\": 0.90181376}, {\"run_id\": \"AutoML_2b855ee9-68ea-40d3-be2c-42c5f7de58b8_5\", \"run_number\": 11, \"metric\": null, \"status\": \"Completed\", \"run_type\": \"azureml.scriptrun\", \"training_percent\": \"100\", \"start_time\": \"2021-07-12T08:57:21.962059Z\", \"end_time\": \"2021-07-12T08:59:06.150368Z\", \"created_time\": \"2021-07-12T08:55:25.149088Z\", \"created_time_dt\": \"2021-07-12T08:55:25.149088Z\", \"duration\": \"0:03:41\", \"iteration\": \"5\", \"goal\": \"AUC_weighted_max\", \"run_name\": \"MinMaxScaler, RandomForest\", \"run_properties\": \"copy=True, feature_range=(0, 1\", \"primary_metric\": 0.89816739, \"best_metric\": 0.90181376}, {\"run_id\": \"AutoML_2b855ee9-68ea-40d3-be2c-42c5f7de58b8_6\", \"run_number\": 12, \"metric\": null, \"status\": \"Completed\", \"run_type\": \"azureml.scriptrun\", \"training_percent\": \"100\", \"start_time\": \"2021-07-12T08:57:20.317164Z\", \"end_time\": \"2021-07-12T09:00:25.671318Z\", \"created_time\": \"2021-07-12T08:56:17.854855Z\", \"created_time_dt\": \"2021-07-12T08:56:17.854855Z\", \"duration\": \"0:04:07\", \"iteration\": \"6\", \"goal\": \"AUC_weighted_max\", \"run_name\": \"StandardScalerWrapper, RandomForest\", \"run_properties\": \"\\n    copy=True,\\n    with_mean=True,\\n    with_std=False\\n\", \"primary_metric\": 0.88261399, \"best_metric\": 0.90181376}, {\"run_id\": \"AutoML_2b855ee9-68ea-40d3-be2c-42c5f7de58b8_7\", \"run_number\": 13, \"metric\": null, \"status\": \"Completed\", \"run_type\": \"azureml.scriptrun\", \"training_percent\": \"100\", \"start_time\": \"2021-07-12T08:57:25.242216Z\", \"end_time\": \"2021-07-12T08:57:59.440119Z\", \"created_time\": \"2021-07-12T08:56:59.230284Z\", \"created_time_dt\": \"2021-07-12T08:56:59.230284Z\", \"duration\": \"0:01:00\", \"iteration\": \"7\", \"goal\": \"AUC_weighted_max\", \"run_name\": \"MinMaxScaler, ExtremeRandomTrees\", \"run_properties\": \"copy=True, feature_range=(0, 1\", \"primary_metric\": 0.91078529, \"best_metric\": 0.91078529}, {\"run_id\": \"AutoML_2b855ee9-68ea-40d3-be2c-42c5f7de58b8_8\", \"run_number\": 14, \"metric\": null, \"status\": \"Completed\", \"run_type\": \"azureml.scriptrun\", \"training_percent\": \"100\", \"start_time\": \"2021-07-12T08:58:09.203967Z\", \"end_time\": \"2021-07-12T08:58:50.361669Z\", \"created_time\": \"2021-07-12T08:57:11.189106Z\", \"created_time_dt\": \"2021-07-12T08:57:11.189106Z\", \"duration\": \"0:01:39\", \"iteration\": \"8\", \"goal\": \"AUC_weighted_max\", \"run_name\": \"MinMaxScaler, ExtremeRandomTrees\", \"run_properties\": \"copy=True, feature_range=(0, 1\", \"primary_metric\": 0.86264991, \"best_metric\": 0.91078529}, {\"run_id\": \"AutoML_2b855ee9-68ea-40d3-be2c-42c5f7de58b8_9\", \"run_number\": 15, \"metric\": null, \"status\": \"Completed\", \"run_type\": \"azureml.scriptrun\", \"training_percent\": \"100\", \"start_time\": \"2021-07-12T08:58:16.075688Z\", \"end_time\": \"2021-07-12T08:58:50.993175Z\", \"created_time\": \"2021-07-12T08:57:59.430974Z\", \"created_time_dt\": \"2021-07-12T08:57:59.430974Z\", \"duration\": \"0:00:51\", \"iteration\": \"9\", \"goal\": \"AUC_weighted_max\", \"run_name\": \"SparseNormalizer, KNN\", \"run_properties\": \"copy=True, norm='l2'\", \"primary_metric\": 0.7496161, \"best_metric\": 0.91078529}, {\"run_id\": \"AutoML_2b855ee9-68ea-40d3-be2c-42c5f7de58b8_10\", \"run_number\": 16, \"metric\": null, \"status\": \"Completed\", \"run_type\": \"azureml.scriptrun\", \"training_percent\": \"100\", \"start_time\": \"2021-07-12T08:59:05.574111Z\", \"end_time\": \"2021-07-12T08:59:43.307468Z\", \"created_time\": \"2021-07-12T08:58:04.130367Z\", \"created_time_dt\": \"2021-07-12T08:58:04.130367Z\", \"duration\": \"0:01:39\", \"iteration\": \"10\", \"goal\": \"AUC_weighted_max\", \"run_name\": \"MinMaxScaler, ExtremeRandomTrees\", \"run_properties\": \"copy=True, feature_range=(0, 1\", \"primary_metric\": 0.86747859, \"best_metric\": 0.91078529}, {\"run_id\": \"AutoML_2b855ee9-68ea-40d3-be2c-42c5f7de58b8_11\", \"run_number\": 17, \"metric\": null, \"status\": \"Completed\", \"run_type\": \"azureml.scriptrun\", \"training_percent\": \"100\", \"start_time\": \"2021-07-12T08:59:03.617286Z\", \"end_time\": \"2021-07-12T08:59:42.278083Z\", \"created_time\": \"2021-07-12T08:58:53.634102Z\", \"created_time_dt\": \"2021-07-12T08:58:53.634102Z\", \"duration\": \"0:00:48\", \"iteration\": \"11\", \"goal\": \"AUC_weighted_max\", \"run_name\": \"RobustScaler, ExtremeRandomTrees\", \"run_properties\": \"copy=True, quantile_range=[10, 90], with_centering=True,\\n             with_scaling=False\", \"primary_metric\": 0.87493689, \"best_metric\": 0.91078529}, {\"run_id\": \"AutoML_2b855ee9-68ea-40d3-be2c-42c5f7de58b8_12\", \"run_number\": 18, \"metric\": null, \"status\": \"Completed\", \"run_type\": \"azureml.scriptrun\", \"training_percent\": \"100\", \"start_time\": \"2021-07-12T08:59:19.949848Z\", \"end_time\": \"2021-07-12T08:59:59.837019Z\", \"created_time\": \"2021-07-12T08:58:58.846901Z\", \"created_time_dt\": \"2021-07-12T08:58:58.846901Z\", \"duration\": \"0:01:00\", \"iteration\": \"12\", \"goal\": \"AUC_weighted_max\", \"run_name\": \"StandardScalerWrapper, RandomForest\", \"run_properties\": \"\\n    copy=True,\\n    with_mean=True,\\n    with_std=False\\n\", \"primary_metric\": 0.89659606, \"best_metric\": 0.91078529}, {\"run_id\": \"AutoML_2b855ee9-68ea-40d3-be2c-42c5f7de58b8_13\", \"run_number\": 19, \"metric\": null, \"status\": \"Completed\", \"run_type\": \"azureml.scriptrun\", \"training_percent\": \"100\", \"start_time\": \"2021-07-12T08:59:56.095238Z\", \"end_time\": \"2021-07-12T09:00:34.764051Z\", \"created_time\": \"2021-07-12T08:59:10.17258Z\", \"created_time_dt\": \"2021-07-12T08:59:10.17258Z\", \"duration\": \"0:01:24\", \"iteration\": \"13\", \"goal\": \"AUC_weighted_max\", \"run_name\": \"StandardScalerWrapper, SGD\", \"run_properties\": \"\\n    copy=True,\\n    with_mean=True,\\n    with_std=True\\n\", \"primary_metric\": 0.86653636, \"best_metric\": 0.91078529}, {\"run_id\": \"AutoML_2b855ee9-68ea-40d3-be2c-42c5f7de58b8_14\", \"run_number\": 20, \"metric\": null, \"status\": \"Completed\", \"run_type\": \"azureml.scriptrun\", \"training_percent\": \"100\", \"start_time\": \"2021-07-12T08:59:59.555601Z\", \"end_time\": \"2021-07-12T09:00:33.922843Z\", \"created_time\": \"2021-07-12T08:59:45.078039Z\", \"created_time_dt\": \"2021-07-12T08:59:45.078039Z\", \"duration\": \"0:00:48\", \"iteration\": \"14\", \"goal\": \"AUC_weighted_max\", \"run_name\": \"RobustScaler, RandomForest\", \"run_properties\": \"copy=True, quantile_range=[10, 90], with_centering=True,\\n             with_scaling=False\", \"primary_metric\": 0.90085391, \"best_metric\": 0.91078529}, {\"run_id\": \"AutoML_2b855ee9-68ea-40d3-be2c-42c5f7de58b8_15\", \"run_number\": 21, \"metric\": null, \"status\": \"Completed\", \"run_type\": \"azureml.scriptrun\", \"training_percent\": \"100\", \"start_time\": \"2021-07-12T09:00:12.872318Z\", \"end_time\": \"2021-07-12T09:00:52.338814Z\", \"created_time\": \"2021-07-12T08:59:49.456162Z\", \"created_time_dt\": \"2021-07-12T08:59:49.456162Z\", \"duration\": \"0:01:02\", \"iteration\": \"15\", \"goal\": \"AUC_weighted_max\", \"run_name\": \"StandardScalerWrapper, KNN\", \"run_properties\": \"\\n    copy=True,\\n    with_mean=True,\\n    with_std=False\\n\", \"primary_metric\": 0.52030533, \"best_metric\": 0.91078529}, {\"run_id\": \"AutoML_2b855ee9-68ea-40d3-be2c-42c5f7de58b8_16\", \"run_number\": 22, \"metric\": null, \"status\": \"Completed\", \"run_type\": \"azureml.scriptrun\", \"training_percent\": \"100\", \"start_time\": \"2021-07-12T09:00:40.841926Z\", \"end_time\": \"2021-07-12T09:01:20.910623Z\", \"created_time\": \"2021-07-12T09:00:02.961935Z\", \"created_time_dt\": \"2021-07-12T09:00:02.961935Z\", \"duration\": \"0:01:17\", \"iteration\": \"16\", \"goal\": \"AUC_weighted_max\", \"run_name\": \"MinMaxScaler, RandomForest\", \"run_properties\": \"copy=True, feature_range=(0, 1\", \"primary_metric\": 0.88663298, \"best_metric\": 0.91078529}, {\"run_id\": \"AutoML_2b855ee9-68ea-40d3-be2c-42c5f7de58b8_17\", \"run_number\": 23, \"metric\": null, \"status\": \"Completed\", \"run_type\": \"azureml.scriptrun\", \"training_percent\": \"100\", \"start_time\": \"2021-07-12T09:00:51.312948Z\", \"end_time\": \"2021-07-12T09:01:30.757374Z\", \"created_time\": \"2021-07-12T09:00:28.305176Z\", \"created_time_dt\": \"2021-07-12T09:00:28.305176Z\", \"duration\": \"0:01:02\", \"iteration\": \"17\", \"goal\": \"AUC_weighted_max\", \"run_name\": \"MinMaxScaler, ExtremeRandomTrees\", \"run_properties\": \"copy=True, feature_range=(0, 1\", \"primary_metric\": 0.83830676, \"best_metric\": 0.91078529}, {\"run_id\": \"AutoML_2b855ee9-68ea-40d3-be2c-42c5f7de58b8_18\", \"run_number\": 24, \"metric\": null, \"status\": \"Completed\", \"run_type\": \"azureml.scriptrun\", \"training_percent\": \"100\", \"start_time\": \"2021-07-12T09:00:50.800173Z\", \"end_time\": \"2021-07-12T09:01:27.884925Z\", \"created_time\": \"2021-07-12T09:00:36.784892Z\", \"created_time_dt\": \"2021-07-12T09:00:36.784892Z\", \"duration\": \"0:00:51\", \"iteration\": \"18\", \"goal\": \"AUC_weighted_max\", \"run_name\": \"MaxAbsScaler, RandomForest\", \"run_properties\": \"copy=True\", \"primary_metric\": 0.88193886, \"best_metric\": 0.91078529}, {\"run_id\": \"AutoML_2b855ee9-68ea-40d3-be2c-42c5f7de58b8_19\", \"run_number\": 25, \"metric\": null, \"status\": \"Completed\", \"run_type\": \"azureml.scriptrun\", \"training_percent\": \"100\", \"start_time\": \"2021-07-12T09:01:06.441732Z\", \"end_time\": \"2021-07-12T09:01:51.915684Z\", \"created_time\": \"2021-07-12T09:00:41.009712Z\", \"created_time_dt\": \"2021-07-12T09:00:41.009712Z\", \"duration\": \"0:01:10\", \"iteration\": \"19\", \"goal\": \"AUC_weighted_max\", \"run_name\": \"StandardScalerWrapper, XGBoostClassifier\", \"run_properties\": \"\\n    copy=True,\\n    with_mean=False,\\n    with_std=False\\n\", \"primary_metric\": 0.90890998, \"best_metric\": 0.91078529}, {\"run_id\": \"AutoML_2b855ee9-68ea-40d3-be2c-42c5f7de58b8_20\", \"run_number\": 26, \"metric\": null, \"status\": \"Completed\", \"run_type\": \"azureml.scriptrun\", \"training_percent\": \"100\", \"start_time\": \"2021-07-12T09:01:35.538428Z\", \"end_time\": \"2021-07-12T09:02:13.029635Z\", \"created_time\": \"2021-07-12T09:00:55.116523Z\", \"created_time_dt\": \"2021-07-12T09:00:55.116523Z\", \"duration\": \"0:01:17\", \"iteration\": \"20\", \"goal\": \"AUC_weighted_max\", \"run_name\": \"MaxAbsScaler, RandomForest\", \"run_properties\": \"copy=True\", \"primary_metric\": 0.88329186, \"best_metric\": 0.91078529}, {\"run_id\": \"AutoML_2b855ee9-68ea-40d3-be2c-42c5f7de58b8_21\", \"run_number\": 27, \"metric\": null, \"status\": \"Completed\", \"run_type\": \"azureml.scriptrun\", \"training_percent\": \"100\", \"start_time\": \"2021-07-12T09:01:44.834433Z\", \"end_time\": \"2021-07-12T09:02:26.641662Z\", \"created_time\": \"2021-07-12T09:01:24.210354Z\", \"created_time_dt\": \"2021-07-12T09:01:24.210354Z\", \"duration\": \"0:01:02\", \"iteration\": \"21\", \"goal\": \"AUC_weighted_max\", \"run_name\": \"MaxAbsScaler, ExtremeRandomTrees\", \"run_properties\": \"copy=True\", \"primary_metric\": 0.85687313, \"best_metric\": 0.91078529}, {\"run_id\": \"AutoML_2b855ee9-68ea-40d3-be2c-42c5f7de58b8_22\", \"run_number\": 28, \"metric\": null, \"status\": \"Completed\", \"run_type\": \"azureml.scriptrun\", \"training_percent\": \"100\", \"start_time\": \"2021-07-12T09:01:49.360328Z\", \"end_time\": \"2021-07-12T09:02:27.601773Z\", \"created_time\": \"2021-07-12T09:01:30.861396Z\", \"created_time_dt\": \"2021-07-12T09:01:30.861396Z\", \"duration\": \"0:00:56\", \"iteration\": \"22\", \"goal\": \"AUC_weighted_max\", \"run_name\": \"MaxAbsScaler, ExtremeRandomTrees\", \"run_properties\": \"copy=True\", \"primary_metric\": 0.86702911, \"best_metric\": 0.91078529}, {\"run_id\": \"AutoML_2b855ee9-68ea-40d3-be2c-42c5f7de58b8_23\", \"run_number\": 29, \"metric\": null, \"status\": \"Completed\", \"run_type\": \"azureml.scriptrun\", \"training_percent\": \"100\", \"start_time\": \"2021-07-12T09:02:07.734583Z\", \"end_time\": \"2021-07-12T09:02:46.654629Z\", \"created_time\": \"2021-07-12T09:01:34.925962Z\", \"created_time_dt\": \"2021-07-12T09:01:34.925962Z\", \"duration\": \"0:01:11\", \"iteration\": \"23\", \"goal\": \"AUC_weighted_max\", \"run_name\": \"MinMaxScaler, RandomForest\", \"run_properties\": \"copy=True, feature_range=(0, 1\", \"primary_metric\": 0.90667866, \"best_metric\": 0.91078529}, {\"run_id\": \"AutoML_2b855ee9-68ea-40d3-be2c-42c5f7de58b8_24\", \"run_number\": 30, \"metric\": null, \"status\": \"Completed\", \"run_type\": \"azureml.scriptrun\", \"training_percent\": \"100\", \"start_time\": \"2021-07-12T09:02:27.657247Z\", \"end_time\": \"2021-07-12T09:03:06.483811Z\", \"created_time\": \"2021-07-12T09:01:55.005263Z\", \"created_time_dt\": \"2021-07-12T09:01:55.005263Z\", \"duration\": \"0:01:11\", \"iteration\": \"24\", \"goal\": \"AUC_weighted_max\", \"run_name\": \"MinMaxScaler, ExtremeRandomTrees\", \"run_properties\": \"copy=True, feature_range=(0, 1\", \"primary_metric\": 0.90712927, \"best_metric\": 0.91078529}, {\"run_id\": \"AutoML_2b855ee9-68ea-40d3-be2c-42c5f7de58b8_25\", \"run_number\": 31, \"metric\": null, \"status\": \"Completed\", \"run_type\": \"azureml.scriptrun\", \"training_percent\": \"100\", \"start_time\": \"2021-07-12T09:02:40.640089Z\", \"end_time\": \"2021-07-12T09:03:17.147314Z\", \"created_time\": \"2021-07-12T09:02:17.483492Z\", \"created_time_dt\": \"2021-07-12T09:02:17.483492Z\", \"duration\": \"0:00:59\", \"iteration\": \"25\", \"goal\": \"AUC_weighted_max\", \"run_name\": \"StandardScalerWrapper, ExtremeRandomTrees\", \"run_properties\": \"\\n    copy=True,\\n    with_mean=False,\\n    with_std=False\\n\", \"primary_metric\": 0.88661383, \"best_metric\": 0.91078529}, {\"run_id\": \"AutoML_2b855ee9-68ea-40d3-be2c-42c5f7de58b8_26\", \"run_number\": 32, \"metric\": null, \"status\": \"Completed\", \"run_type\": \"azureml.scriptrun\", \"training_percent\": \"100\", \"start_time\": \"2021-07-12T09:02:42.509016Z\", \"end_time\": \"2021-07-12T09:03:25.230017Z\", \"created_time\": \"2021-07-12T09:02:28.436258Z\", \"created_time_dt\": \"2021-07-12T09:02:28.436258Z\", \"duration\": \"0:00:56\", \"iteration\": \"26\", \"goal\": \"AUC_weighted_max\", \"run_name\": \"MaxAbsScaler, ExtremeRandomTrees\", \"run_properties\": \"copy=True\", \"primary_metric\": 0.89353469, \"best_metric\": 0.91078529}, {\"run_id\": \"AutoML_2b855ee9-68ea-40d3-be2c-42c5f7de58b8_27\", \"run_number\": 33, \"metric\": null, \"status\": \"Completed\", \"run_type\": \"azureml.scriptrun\", \"training_percent\": \"100\", \"start_time\": \"2021-07-12T09:03:01.977623Z\", \"end_time\": \"2021-07-12T09:03:40.23421Z\", \"created_time\": \"2021-07-12T09:02:31.685095Z\", \"created_time_dt\": \"2021-07-12T09:02:31.685095Z\", \"duration\": \"0:01:08\", \"iteration\": \"27\", \"goal\": \"AUC_weighted_max\", \"run_name\": \"StandardScalerWrapper, XGBoostClassifier\", \"run_properties\": \"\\n    copy=True,\\n    with_mean=False,\\n    with_std=False\\n\", \"primary_metric\": 0.9054899, \"best_metric\": 0.91078529}, {\"run_id\": \"AutoML_2b855ee9-68ea-40d3-be2c-42c5f7de58b8_28\", \"run_number\": 34, \"metric\": null, \"status\": \"Completed\", \"run_type\": \"azureml.scriptrun\", \"training_percent\": \"100\", \"start_time\": \"2021-07-12T09:03:19.379045Z\", \"end_time\": \"2021-07-12T09:03:57.654348Z\", \"created_time\": \"2021-07-12T09:02:48.460474Z\", \"created_time_dt\": \"2021-07-12T09:02:48.460474Z\", \"duration\": \"0:01:09\", \"iteration\": \"28\", \"goal\": \"AUC_weighted_max\", \"run_name\": \"StandardScalerWrapper, XGBoostClassifier\", \"run_properties\": \"\\n    copy=True,\\n    with_mean=False,\\n    with_std=False\\n\", \"primary_metric\": 0.8972491, \"best_metric\": 0.91078529}, {\"run_id\": \"AutoML_2b855ee9-68ea-40d3-be2c-42c5f7de58b8_29\", \"run_number\": 35, \"metric\": null, \"status\": \"Completed\", \"run_type\": \"azureml.scriptrun\", \"training_percent\": \"100\", \"start_time\": \"2021-07-12T09:03:31.596304Z\", \"end_time\": \"2021-07-12T09:04:11.082456Z\", \"created_time\": \"2021-07-12T09:03:08.222138Z\", \"created_time_dt\": \"2021-07-12T09:03:08.222138Z\", \"duration\": \"0:01:02\", \"iteration\": \"29\", \"goal\": \"AUC_weighted_max\", \"run_name\": \"RobustScaler, LightGBM\", \"run_properties\": \"copy=True, quantile_range=[10, 90], with_centering=True,\\n             with_scaling=True\", \"primary_metric\": 0.90121699, \"best_metric\": 0.91078529}, {\"run_id\": \"AutoML_2b855ee9-68ea-40d3-be2c-42c5f7de58b8_30\", \"run_number\": 36, \"metric\": null, \"status\": \"Completed\", \"run_type\": \"azureml.scriptrun\", \"training_percent\": \"100\", \"start_time\": \"2021-07-12T09:03:40.717345Z\", \"end_time\": \"2021-07-12T09:04:25.4687Z\", \"created_time\": \"2021-07-12T09:03:20.013681Z\", \"created_time_dt\": \"2021-07-12T09:03:20.013681Z\", \"duration\": \"0:01:05\", \"iteration\": \"30\", \"goal\": \"AUC_weighted_max\", \"run_name\": \"PCA, ExtremeRandomTrees\", \"run_properties\": \"copy=True, iterated_power='auto', n_components=0.15842105263157896,\\n    random_state=None, svd_solver='auto', tol=0.0, whiten=True\", \"primary_metric\": 0.55454284, \"best_metric\": 0.91078529}, {\"run_id\": \"AutoML_2b855ee9-68ea-40d3-be2c-42c5f7de58b8_31\", \"run_number\": 37, \"metric\": null, \"status\": \"Completed\", \"run_type\": \"azureml.scriptrun\", \"training_percent\": \"100\", \"start_time\": \"2021-07-12T09:03:56.851973Z\", \"end_time\": \"2021-07-12T09:04:37.531141Z\", \"created_time\": \"2021-07-12T09:03:27.321429Z\", \"created_time_dt\": \"2021-07-12T09:03:27.321429Z\", \"duration\": \"0:01:10\", \"iteration\": \"31\", \"goal\": \"AUC_weighted_max\", \"run_name\": \"StandardScalerWrapper, XGBoostClassifier\", \"run_properties\": \"\\n    copy=True,\\n    with_mean=False,\\n    with_std=False\\n\", \"primary_metric\": 0.90776867, \"best_metric\": 0.91078529}, {\"run_id\": \"AutoML_2b855ee9-68ea-40d3-be2c-42c5f7de58b8_32\", \"run_number\": 38, \"metric\": null, \"status\": \"Completed\", \"run_type\": \"azureml.scriptrun\", \"training_percent\": \"100\", \"start_time\": \"2021-07-12T09:04:14.999223Z\", \"end_time\": \"2021-07-12T09:04:53.87048Z\", \"created_time\": \"2021-07-12T09:03:42.212475Z\", \"created_time_dt\": \"2021-07-12T09:03:42.212475Z\", \"duration\": \"0:01:11\", \"iteration\": \"32\", \"goal\": \"AUC_weighted_max\", \"run_name\": \"StandardScalerWrapper, GradientBoosting\", \"run_properties\": \"\\n    copy=True,\\n    with_mean=False,\\n    with_std=False\\n\", \"primary_metric\": 0.88787353, \"best_metric\": 0.91078529}, {\"run_id\": \"AutoML_2b855ee9-68ea-40d3-be2c-42c5f7de58b8_33\", \"run_number\": 39, \"metric\": null, \"status\": \"Completed\", \"run_type\": \"azureml.scriptrun\", \"training_percent\": \"100\", \"start_time\": \"2021-07-12T09:04:25.633212Z\", \"end_time\": \"2021-07-12T09:05:15.103363Z\", \"created_time\": \"2021-07-12T09:03:59.662999Z\", \"created_time_dt\": \"2021-07-12T09:03:59.662999Z\", \"duration\": \"0:01:15\", \"iteration\": \"33\", \"goal\": \"AUC_weighted_max\", \"run_name\": \"RobustScaler, RandomForest\", \"run_properties\": \"copy=True, quantile_range=[25, 75], with_centering=True,\\n             with_scaling=False\", \"primary_metric\": 0.90790788, \"best_metric\": 0.91078529}, {\"run_id\": \"AutoML_2b855ee9-68ea-40d3-be2c-42c5f7de58b8_34\", \"run_number\": 40, \"metric\": null, \"status\": \"Completed\", \"run_type\": \"azureml.scriptrun\", \"training_percent\": \"100\", \"start_time\": \"2021-07-12T09:04:41.685198Z\", \"end_time\": \"2021-07-12T09:05:16.410747Z\", \"created_time\": \"2021-07-12T09:04:13.69393Z\", \"created_time_dt\": \"2021-07-12T09:04:13.69393Z\", \"duration\": \"0:01:02\", \"iteration\": \"34\", \"goal\": \"AUC_weighted_max\", \"run_name\": \"StandardScalerWrapper, LightGBM\", \"run_properties\": \"\\n    copy=True,\\n    with_mean=False,\\n    with_std=True\\n\", \"primary_metric\": 0.90156974, \"best_metric\": 0.91078529}, {\"run_id\": \"AutoML_2b855ee9-68ea-40d3-be2c-42c5f7de58b8_35\", \"run_number\": 41, \"metric\": null, \"status\": \"Canceled\", \"run_type\": \"azureml.scriptrun\", \"training_percent\": \"100\", \"start_time\": \"2021-07-12T09:04:51.494561Z\", \"end_time\": \"2021-07-12T09:05:21.499333Z\", \"created_time\": \"2021-07-12T09:04:28.489173Z\", \"created_time_dt\": \"2021-07-12T09:04:28.489173Z\", \"duration\": \"0:00:53\", \"iteration\": \"35\", \"goal\": \"AUC_weighted_max\", \"run_name\": \"StandardScalerWrapper, ExtremeRandomTrees\", \"run_properties\": \"\\n    copy=True,\\n    with_mean=False,\\n    with_std=True\\n\", \"primary_metric\": 0.84681732, \"best_metric\": 0.91078529}, {\"run_id\": \"AutoML_2b855ee9-68ea-40d3-be2c-42c5f7de58b8_36\", \"run_number\": 42, \"metric\": null, \"status\": \"Canceled\", \"run_type\": \"azureml.scriptrun\", \"training_percent\": \"100\", \"start_time\": \"2021-07-12T09:05:07.987836Z\", \"end_time\": \"2021-07-12T09:05:21.772731Z\", \"created_time\": \"2021-07-12T09:04:39.658176Z\", \"created_time_dt\": \"2021-07-12T09:04:39.658176Z\", \"duration\": \"0:00:42\", \"iteration\": \"36\", \"goal\": null, \"run_name\": \"Canceled\", \"run_properties\": null}, {\"run_id\": \"AutoML_2b855ee9-68ea-40d3-be2c-42c5f7de58b8_37\", \"run_number\": 43, \"metric\": null, \"status\": \"Canceled\", \"run_type\": \"azureml.scriptrun\", \"training_percent\": \"100\", \"start_time\": \"2021-07-12T09:04:56.031306Z\", \"end_time\": \"2021-07-12T09:05:21.553557Z\", \"created_time\": \"2021-07-12T09:04:56.031306Z\", \"created_time_dt\": \"2021-07-12T09:04:56.031306Z\", \"duration\": \"0:00:25\", \"iteration\": \"37\", \"goal\": null, \"run_name\": \"Canceled\", \"run_properties\": null}, {\"run_id\": \"AutoML_2b855ee9-68ea-40d3-be2c-42c5f7de58b8_38\", \"run_number\": 44, \"metric\": null, \"status\": \"Completed\", \"run_type\": \"azureml.scriptrun\", \"training_percent\": \"100\", \"start_time\": \"2021-07-12T09:05:30.806236Z\", \"end_time\": \"2021-07-12T09:06:34.788084Z\", \"created_time\": \"2021-07-12T09:05:22.474357Z\", \"created_time_dt\": \"2021-07-12T09:05:22.474357Z\", \"duration\": \"0:01:12\", \"iteration\": \"38\", \"goal\": \"AUC_weighted_max\", \"run_name\": \"VotingEnsemble\", \"run_properties\": \"\\n    estimators=[('7', Pipeline(memory=None,\\n             steps=[('minmaxscaler', MinMaxScaler(copy=True, feature_range=(0, 1\", \"primary_metric\": 0.92133828, \"best_metric\": 0.92133828}], \"children_metrics\": {\"categories\": [0], \"series\": {\"AUC_weighted\": [{\"categories\": [\"0\", \"1\", \"2\", \"3\", \"4\", \"5\", \"6\", \"7\", \"8\", \"9\", \"10\", \"11\", \"12\", \"13\", \"14\", \"15\", \"16\", \"17\", \"18\", \"19\", \"20\", \"21\", \"22\", \"23\", \"24\", \"25\", \"26\", \"27\", \"28\", \"29\", \"30\", \"31\", \"32\", \"33\", \"34\", \"35\", \"38\"], \"mode\": \"markers\", \"name\": \"AUC_weighted\", \"stepped\": false, \"type\": \"scatter\", \"data\": [0.8840955354735103, 0.8847369443591411, 0.8916037039238415, 0.8761047353506737, 0.901813760438646, 0.8981673949090997, 0.8826139894779768, 0.9107852923096058, 0.8626499129356109, 0.7496161006793443, 0.8674785923966702, 0.8749368851696655, 0.8965960647666597, 0.866536357912788, 0.9008539065879457, 0.5203053263648802, 0.8866329784991684, 0.8383067570661392, 0.8819388642334867, 0.9089099837731132, 0.8832918611306482, 0.8568731302619748, 0.8670291147279705, 0.9066786616574374, 0.9071292701725768, 0.8866138253792142, 0.8935346883348027, 0.9054898963069731, 0.8972491004355421, 0.9012169939836415, 0.5545428448289146, 0.9077686733577466, 0.8878735336914971, 0.9079078824366583, 0.9015697399240304, 0.846817323254337, 0.9213382791354758]}, {\"categories\": [\"0\", \"1\", \"2\", \"3\", \"4\", \"5\", \"6\", \"7\", \"8\", \"9\", \"10\", \"11\", \"12\", \"13\", \"14\", \"15\", \"16\", \"17\", \"18\", \"19\", \"20\", \"21\", \"22\", \"23\", \"24\", \"25\", \"26\", \"27\", \"28\", \"29\", \"30\", \"31\", \"32\", \"33\", \"34\", \"35\", \"38\"], \"mode\": \"lines\", \"name\": \"AUC_weighted_max\", \"stepped\": true, \"type\": \"scatter\", \"data\": [0.8840955354735103, 0.8847369443591411, 0.8916037039238415, 0.8916037039238415, 0.901813760438646, 0.901813760438646, 0.901813760438646, 0.9107852923096058, 0.9107852923096058, 0.9107852923096058, 0.9107852923096058, 0.9107852923096058, 0.9107852923096058, 0.9107852923096058, 0.9107852923096058, 0.9107852923096058, 0.9107852923096058, 0.9107852923096058, 0.9107852923096058, 0.9107852923096058, 0.9107852923096058, 0.9107852923096058, 0.9107852923096058, 0.9107852923096058, 0.9107852923096058, 0.9107852923096058, 0.9107852923096058, 0.9107852923096058, 0.9107852923096058, 0.9107852923096058, 0.9107852923096058, 0.9107852923096058, 0.9107852923096058, 0.9107852923096058, 0.9107852923096058, 0.9107852923096058, 0.9213382791354758]}], \"average_precision_score_micro\": [{\"categories\": [\"0\", \"1\", \"2\", \"3\", \"4\", \"5\", \"6\", \"7\", \"8\", \"9\", \"10\", \"11\", \"12\", \"13\", \"14\", \"15\", \"16\", \"17\", \"18\", \"19\", \"20\", \"21\", \"22\", \"23\", \"24\", \"25\", \"26\", \"27\", \"28\", \"29\", \"30\", \"31\", \"32\", \"33\", \"34\", \"35\", \"38\"], \"mode\": \"markers\", \"name\": \"average_precision_score_micro\", \"stepped\": false, \"type\": \"scatter\", \"data\": [0.9020054536251629, 0.9033793522124445, 0.9050308191007831, 0.8846349787897505, 0.9153060316058637, 0.9101291786151433, 0.8987958884435597, 0.9154774126968285, 0.8726399222265666, 0.7964089391804331, 0.8731652790805556, 0.886231109153074, 0.8945635292570208, 0.8871972848332538, 0.9064858212490344, 0.6466874753087125, 0.882002800872764, 0.8512226608952049, 0.8889876575673542, 0.9145380507917885, 0.8978890467762888, 0.8772608368474255, 0.8884450399265147, 0.91963837298569, 0.913181666204465, 0.8990501541674728, 0.9049183410071977, 0.9144155324336113, 0.9111051060172054, 0.8937346070170612, 0.6903233030818143, 0.9197243202871487, 0.9069239733038108, 0.9090325661398136, 0.9182508004902425, 0.8603803271475087, 0.9274678684434801]}, {\"categories\": [\"0\", \"1\", \"2\", \"3\", \"4\", \"5\", \"6\", \"7\", \"8\", \"9\", \"10\", \"11\", \"12\", \"13\", \"14\", \"15\", \"16\", \"17\", \"18\", \"19\", \"20\", \"21\", \"22\", \"23\", \"24\", \"25\", \"26\", \"27\", \"28\", \"29\", \"30\", \"31\", \"32\", \"33\", \"34\", \"35\", \"38\"], \"mode\": \"lines\", \"name\": \"average_precision_score_micro_max\", \"stepped\": true, \"type\": \"scatter\", \"data\": [0.9020054536251629, 0.9033793522124445, 0.9050308191007831, 0.9050308191007831, 0.9153060316058637, 0.9153060316058637, 0.9153060316058637, 0.9154774126968285, 0.9154774126968285, 0.9154774126968285, 0.9154774126968285, 0.9154774126968285, 0.9154774126968285, 0.9154774126968285, 0.9154774126968285, 0.9154774126968285, 0.9154774126968285, 0.9154774126968285, 0.9154774126968285, 0.9154774126968285, 0.9154774126968285, 0.9154774126968285, 0.9154774126968285, 0.91963837298569, 0.91963837298569, 0.91963837298569, 0.91963837298569, 0.91963837298569, 0.91963837298569, 0.91963837298569, 0.91963837298569, 0.9197243202871487, 0.9197243202871487, 0.9197243202871487, 0.9197243202871487, 0.9197243202871487, 0.9274678684434801]}], \"f1_score_weighted\": [{\"categories\": [\"0\", \"1\", \"2\", \"3\", \"4\", \"5\", \"6\", \"7\", \"8\", \"9\", \"10\", \"11\", \"12\", \"13\", \"14\", \"15\", \"16\", \"17\", \"18\", \"19\", \"20\", \"21\", \"22\", \"23\", \"24\", \"25\", \"26\", \"27\", \"28\", \"29\", \"30\", \"31\", \"32\", \"33\", \"34\", \"35\", \"38\"], \"mode\": \"markers\", \"name\": \"f1_score_weighted\", \"stepped\": false, \"type\": \"scatter\", \"data\": [0.8333388901455894, 0.8342588560383983, 0.8265947548780217, 0.7783865603224124, 0.8277005544638986, 0.8517458882669151, 0.8355730706879505, 0.8447284641270414, 0.7644012728843299, 0.743922190318357, 0.7526885724303901, 0.8101958344438696, 0.8281733894912116, 0.8262121438078394, 0.8090482370808092, 0.6071892452709331, 0.7462709543444778, 0.7918140287492708, 0.8180994394963829, 0.8208423832388133, 0.8308611683740097, 0.8029706640420745, 0.823658225119772, 0.846074122143639, 0.8237950490476823, 0.8345617684619618, 0.8257121224423025, 0.8312787102135303, 0.8513159987919836, 0.8176558550810734, 0.5534120288954022, 0.8471563229289061, 0.82346345521533, 0.8337397289610946, 0.8290261617073769, 0.767860538632146, 0.8494423317395581]}, {\"categories\": [\"0\", \"1\", \"2\", \"3\", \"4\", \"5\", \"6\", \"7\", \"8\", \"9\", \"10\", \"11\", \"12\", \"13\", \"14\", \"15\", \"16\", \"17\", \"18\", \"19\", \"20\", \"21\", \"22\", \"23\", \"24\", \"25\", \"26\", \"27\", \"28\", \"29\", \"30\", \"31\", \"32\", \"33\", \"34\", \"35\", \"38\"], \"mode\": \"lines\", \"name\": \"f1_score_weighted_max\", \"stepped\": true, \"type\": \"scatter\", \"data\": [0.8333388901455894, 0.8342588560383983, 0.8342588560383983, 0.8342588560383983, 0.8342588560383983, 0.8517458882669151, 0.8517458882669151, 0.8517458882669151, 0.8517458882669151, 0.8517458882669151, 0.8517458882669151, 0.8517458882669151, 0.8517458882669151, 0.8517458882669151, 0.8517458882669151, 0.8517458882669151, 0.8517458882669151, 0.8517458882669151, 0.8517458882669151, 0.8517458882669151, 0.8517458882669151, 0.8517458882669151, 0.8517458882669151, 0.8517458882669151, 0.8517458882669151, 0.8517458882669151, 0.8517458882669151, 0.8517458882669151, 0.8517458882669151, 0.8517458882669151, 0.8517458882669151, 0.8517458882669151, 0.8517458882669151, 0.8517458882669151, 0.8517458882669151, 0.8517458882669151, 0.8517458882669151]}], \"recall_score_macro\": [{\"categories\": [\"0\", \"1\", \"2\", \"3\", \"4\", \"5\", \"6\", \"7\", \"8\", \"9\", \"10\", \"11\", \"12\", \"13\", \"14\", \"15\", \"16\", \"17\", \"18\", \"19\", \"20\", \"21\", \"22\", \"23\", \"24\", \"25\", \"26\", \"27\", \"28\", \"29\", \"30\", \"31\", \"32\", \"33\", \"34\", \"35\", \"38\"], \"mode\": \"markers\", \"name\": \"recall_score_macro\", \"stepped\": false, \"type\": \"scatter\", \"data\": [0.8077082895810014, 0.8130249020938379, 0.7971874609943832, 0.7144318057990826, 0.814366754749192, 0.8198862249497261, 0.8018843357570475, 0.7983317830148493, 0.6969699817726134, 0.6780357113964093, 0.6670404989747094, 0.7469740990321655, 0.8311259852529875, 0.7976704211120687, 0.8019749257861386, 0.5513534193685796, 0.6877343804174468, 0.7652592379334371, 0.8035343773630386, 0.7831479179668539, 0.7996207535472408, 0.7828041864377676, 0.800377418761, 0.8128496401577066, 0.8082097647775566, 0.7885870138950802, 0.8073124523264685, 0.8020155539540552, 0.826300123249494, 0.7687618828857387, 0.5, 0.8258156668846027, 0.7944951401890761, 0.8289074968382748, 0.7960330189769549, 0.7632556312553452, 0.8123871268256279]}, {\"categories\": [\"0\", \"1\", \"2\", \"3\", \"4\", \"5\", \"6\", \"7\", \"8\", \"9\", \"10\", \"11\", \"12\", \"13\", \"14\", \"15\", \"16\", \"17\", \"18\", \"19\", \"20\", \"21\", \"22\", \"23\", \"24\", \"25\", \"26\", \"27\", \"28\", \"29\", \"30\", \"31\", \"32\", \"33\", \"34\", \"35\", \"38\"], \"mode\": \"lines\", \"name\": \"recall_score_macro_max\", \"stepped\": true, \"type\": \"scatter\", \"data\": [0.8077082895810014, 0.8130249020938379, 0.8130249020938379, 0.8130249020938379, 0.814366754749192, 0.8198862249497261, 0.8198862249497261, 0.8198862249497261, 0.8198862249497261, 0.8198862249497261, 0.8198862249497261, 0.8198862249497261, 0.8311259852529875, 0.8311259852529875, 0.8311259852529875, 0.8311259852529875, 0.8311259852529875, 0.8311259852529875, 0.8311259852529875, 0.8311259852529875, 0.8311259852529875, 0.8311259852529875, 0.8311259852529875, 0.8311259852529875, 0.8311259852529875, 0.8311259852529875, 0.8311259852529875, 0.8311259852529875, 0.8311259852529875, 0.8311259852529875, 0.8311259852529875, 0.8311259852529875, 0.8311259852529875, 0.8311259852529875, 0.8311259852529875, 0.8311259852529875, 0.8311259852529875]}], \"accuracy\": [{\"categories\": [\"0\", \"1\", \"2\", \"3\", \"4\", \"5\", \"6\", \"7\", \"8\", \"9\", \"10\", \"11\", \"12\", \"13\", \"14\", \"15\", \"16\", \"17\", \"18\", \"19\", \"20\", \"21\", \"22\", \"23\", \"24\", \"25\", \"26\", \"27\", \"28\", \"29\", \"30\", \"31\", \"32\", \"33\", \"34\", \"35\", \"38\"], \"mode\": \"markers\", \"name\": \"accuracy\", \"stepped\": false, \"type\": \"scatter\", \"data\": [0.8359770114942527, 0.8358620689655172, 0.8294252873563218, 0.7994252873563219, 0.8257471264367815, 0.8559770114942529, 0.8394252873563219, 0.852873563218391, 0.7894252873563219, 0.7659770114942528, 0.7859770114942528, 0.8227586206896552, 0.8221839080459772, 0.8291954022988506, 0.805632183908046, 0.6389655172413793, 0.7760919540229885, 0.792528735632184, 0.8122988505747125, 0.8258620689655173, 0.8321839080459771, 0.7989655172413792, 0.825977011494253, 0.8495402298850575, 0.822528735632184, 0.8427586206896551, 0.8258620689655173, 0.835977011494253, 0.8527586206896552, 0.8293103448275861, 0.6791954022988507, 0.8491954022988505, 0.8258620689655173, 0.8290804597701149, 0.8324137931034483, 0.7658620689655172, 0.8562068965517243]}, {\"categories\": [\"0\", \"1\", \"2\", \"3\", \"4\", \"5\", \"6\", \"7\", \"8\", \"9\", \"10\", \"11\", \"12\", \"13\", \"14\", \"15\", \"16\", \"17\", \"18\", \"19\", \"20\", \"21\", \"22\", \"23\", \"24\", \"25\", \"26\", \"27\", \"28\", \"29\", \"30\", \"31\", \"32\", \"33\", \"34\", \"35\", \"38\"], \"mode\": \"lines\", \"name\": \"accuracy_max\", \"stepped\": true, \"type\": \"scatter\", \"data\": [0.8359770114942527, 0.8359770114942527, 0.8359770114942527, 0.8359770114942527, 0.8359770114942527, 0.8559770114942529, 0.8559770114942529, 0.8559770114942529, 0.8559770114942529, 0.8559770114942529, 0.8559770114942529, 0.8559770114942529, 0.8559770114942529, 0.8559770114942529, 0.8559770114942529, 0.8559770114942529, 0.8559770114942529, 0.8559770114942529, 0.8559770114942529, 0.8559770114942529, 0.8559770114942529, 0.8559770114942529, 0.8559770114942529, 0.8559770114942529, 0.8559770114942529, 0.8559770114942529, 0.8559770114942529, 0.8559770114942529, 0.8559770114942529, 0.8559770114942529, 0.8559770114942529, 0.8559770114942529, 0.8559770114942529, 0.8559770114942529, 0.8559770114942529, 0.8559770114942529, 0.8562068965517243]}], \"AUC_micro\": [{\"categories\": [\"0\", \"1\", \"2\", \"3\", \"4\", \"5\", \"6\", \"7\", \"8\", \"9\", \"10\", \"11\", \"12\", \"13\", \"14\", \"15\", \"16\", \"17\", \"18\", \"19\", \"20\", \"21\", \"22\", \"23\", \"24\", \"25\", \"26\", \"27\", \"28\", \"29\", \"30\", \"31\", \"32\", \"33\", \"34\", \"35\", \"38\"], \"mode\": \"markers\", \"name\": \"AUC_micro\", \"stepped\": false, \"type\": \"scatter\", \"data\": [0.9035422116527941, 0.9042166732725592, 0.9062010833663627, 0.8798521601268332, 0.9090217994451051, 0.9074019024970272, 0.9047166732725591, 0.9188871713568503, 0.8670276126304663, 0.8096416963931828, 0.8685422116527942, 0.8845947945567445, 0.8949146518694675, 0.8833941075439291, 0.9011387237415773, 0.6464215880565465, 0.8731835116924296, 0.8551894569956401, 0.8845618972123134, 0.9104369137270446, 0.8986368740916898, 0.880573523583036, 0.8886553045316422, 0.9163335975690317, 0.9127390672479851, 0.8991463865768266, 0.9074077156823888, 0.9109203329369798, 0.9086903157616595, 0.8922186550402961, 0.6992400581318536, 0.9146611177170036, 0.9059105562161449, 0.9091017307438234, 0.9163979389615537, 0.8543141762452107, 0.9250782137666798]}, {\"categories\": [\"0\", \"1\", \"2\", \"3\", \"4\", \"5\", \"6\", \"7\", \"8\", \"9\", \"10\", \"11\", \"12\", \"13\", \"14\", \"15\", \"16\", \"17\", \"18\", \"19\", \"20\", \"21\", \"22\", \"23\", \"24\", \"25\", \"26\", \"27\", \"28\", \"29\", \"30\", \"31\", \"32\", \"33\", \"34\", \"35\", \"38\"], \"mode\": \"lines\", \"name\": \"AUC_micro_max\", \"stepped\": true, \"type\": \"scatter\", \"data\": [0.9035422116527941, 0.9042166732725592, 0.9062010833663627, 0.9062010833663627, 0.9090217994451051, 0.9090217994451051, 0.9090217994451051, 0.9188871713568503, 0.9188871713568503, 0.9188871713568503, 0.9188871713568503, 0.9188871713568503, 0.9188871713568503, 0.9188871713568503, 0.9188871713568503, 0.9188871713568503, 0.9188871713568503, 0.9188871713568503, 0.9188871713568503, 0.9188871713568503, 0.9188871713568503, 0.9188871713568503, 0.9188871713568503, 0.9188871713568503, 0.9188871713568503, 0.9188871713568503, 0.9188871713568503, 0.9188871713568503, 0.9188871713568503, 0.9188871713568503, 0.9188871713568503, 0.9188871713568503, 0.9188871713568503, 0.9188871713568503, 0.9188871713568503, 0.9188871713568503, 0.9250782137666798]}], \"log_loss\": [{\"categories\": [\"0\", \"1\", \"2\", \"3\", \"4\", \"5\", \"6\", \"7\", \"8\", \"9\", \"10\", \"11\", \"12\", \"13\", \"14\", \"15\", \"16\", \"17\", \"18\", \"19\", \"20\", \"21\", \"22\", \"23\", \"24\", \"25\", \"26\", \"27\", \"28\", \"29\", \"30\", \"31\", \"32\", \"33\", \"34\", \"35\", \"38\"], \"mode\": \"markers\", \"name\": \"log_loss\", \"stepped\": false, \"type\": \"scatter\", \"data\": [0.4772179826627182, 0.41764279466886123, 0.3860267020435188, 0.4632553992136511, 0.3794890271206441, 0.3901735983697823, 0.5931347990072551, 0.38518578690659083, 0.471899884203655, 1.2837639362986895, 0.47983275562279804, 0.44262558923516676, 0.43580603508415167, 0.41934335210409246, 0.42613928482558255, 0.7617709563916407, 0.4753346748597229, 0.6301407759327844, 0.5285279689388533, 0.4652367527361444, 0.39118138835027255, 0.5162977893795458, 0.47883464884611016, 0.3879899760912227, 0.3852728914429517, 0.40254435022803997, 0.4112122463838645, 0.46313594641948735, 0.41574399491775516, 0.4535041639358635, 0.6327286321094615, 0.36520389901125255, 0.4193820657706987, 0.41089759025232847, 0.35947209342524367, 0.5433826901614343, 0.4296776006799344]}, {\"categories\": [\"0\", \"1\", \"2\", \"3\", \"4\", \"5\", \"6\", \"7\", \"8\", \"9\", \"10\", \"11\", \"12\", \"13\", \"14\", \"15\", \"16\", \"17\", \"18\", \"19\", \"20\", \"21\", \"22\", \"23\", \"24\", \"25\", \"26\", \"27\", \"28\", \"29\", \"30\", \"31\", \"32\", \"33\", \"34\", \"35\", \"38\"], \"mode\": \"lines\", \"name\": \"log_loss_min\", \"stepped\": true, \"type\": \"scatter\", \"data\": [0.4772179826627182, 0.41764279466886123, 0.3860267020435188, 0.3860267020435188, 0.3794890271206441, 0.3794890271206441, 0.3794890271206441, 0.3794890271206441, 0.3794890271206441, 0.3794890271206441, 0.3794890271206441, 0.3794890271206441, 0.3794890271206441, 0.3794890271206441, 0.3794890271206441, 0.3794890271206441, 0.3794890271206441, 0.3794890271206441, 0.3794890271206441, 0.3794890271206441, 0.3794890271206441, 0.3794890271206441, 0.3794890271206441, 0.3794890271206441, 0.3794890271206441, 0.3794890271206441, 0.3794890271206441, 0.3794890271206441, 0.3794890271206441, 0.3794890271206441, 0.3794890271206441, 0.36520389901125255, 0.36520389901125255, 0.36520389901125255, 0.35947209342524367, 0.35947209342524367, 0.35947209342524367]}], \"f1_score_macro\": [{\"categories\": [\"0\", \"1\", \"2\", \"3\", \"4\", \"5\", \"6\", \"7\", \"8\", \"9\", \"10\", \"11\", \"12\", \"13\", \"14\", \"15\", \"16\", \"17\", \"18\", \"19\", \"20\", \"21\", \"22\", \"23\", \"24\", \"25\", \"26\", \"27\", \"28\", \"29\", \"30\", \"31\", \"32\", \"33\", \"34\", \"35\", \"38\"], \"mode\": \"markers\", \"name\": \"f1_score_macro\", \"stepped\": false, \"type\": \"scatter\", \"data\": [0.8043314151248963, 0.8078501228997539, 0.7946706254875749, 0.7280702238767095, 0.7992672396864047, 0.8231548670816734, 0.8028067173246258, 0.8126590182370894, 0.7099543228800511, 0.6844538166645457, 0.6711905736118399, 0.7677939761814558, 0.8000336661598236, 0.7954866279414334, 0.7813928769915556, 0.5251633085767229, 0.6926126814967881, 0.7554504809957542, 0.7823839431697698, 0.7859560894600321, 0.7996533241997609, 0.7657791789585302, 0.7906837090595183, 0.8160936764347617, 0.7919643918907584, 0.8004972175534426, 0.7946329525087984, 0.8021939226224453, 0.8262619022743494, 0.7800442186857623, 0.4024893878511494, 0.8204031904368142, 0.7866511264035283, 0.8059640599052365, 0.7944428523791157, 0.7382605858180832, 0.8207787623640026]}, {\"categories\": [\"0\", \"1\", \"2\", \"3\", \"4\", \"5\", \"6\", \"7\", \"8\", \"9\", \"10\", \"11\", \"12\", \"13\", \"14\", \"15\", \"16\", \"17\", \"18\", \"19\", \"20\", \"21\", \"22\", \"23\", \"24\", \"25\", \"26\", \"27\", \"28\", \"29\", \"30\", \"31\", \"32\", \"33\", \"34\", \"35\", \"38\"], \"mode\": \"lines\", \"name\": \"f1_score_macro_max\", \"stepped\": true, \"type\": \"scatter\", \"data\": [0.8043314151248963, 0.8078501228997539, 0.8078501228997539, 0.8078501228997539, 0.8078501228997539, 0.8231548670816734, 0.8231548670816734, 0.8231548670816734, 0.8231548670816734, 0.8231548670816734, 0.8231548670816734, 0.8231548670816734, 0.8231548670816734, 0.8231548670816734, 0.8231548670816734, 0.8231548670816734, 0.8231548670816734, 0.8231548670816734, 0.8231548670816734, 0.8231548670816734, 0.8231548670816734, 0.8231548670816734, 0.8231548670816734, 0.8231548670816734, 0.8231548670816734, 0.8231548670816734, 0.8231548670816734, 0.8231548670816734, 0.8262619022743494, 0.8262619022743494, 0.8262619022743494, 0.8262619022743494, 0.8262619022743494, 0.8262619022743494, 0.8262619022743494, 0.8262619022743494, 0.8262619022743494]}], \"f1_score_micro\": [{\"categories\": [\"0\", \"1\", \"2\", \"3\", \"4\", \"5\", \"6\", \"7\", \"8\", \"9\", \"10\", \"11\", \"12\", \"13\", \"14\", \"15\", \"16\", \"17\", \"18\", \"19\", \"20\", \"21\", \"22\", \"23\", \"24\", \"25\", \"26\", \"27\", \"28\", \"29\", \"30\", \"31\", \"32\", \"33\", \"34\", \"35\", \"38\"], \"mode\": \"markers\", \"name\": \"f1_score_micro\", \"stepped\": false, \"type\": \"scatter\", \"data\": [0.8359770114942527, 0.8358620689655172, 0.8294252873563218, 0.7994252873563219, 0.8257471264367817, 0.8559770114942529, 0.8394252873563219, 0.852873563218391, 0.7894252873563219, 0.7659770114942528, 0.7859770114942528, 0.8227586206896552, 0.8221839080459772, 0.8291954022988506, 0.805632183908046, 0.6389655172413793, 0.7760919540229885, 0.792528735632184, 0.8122988505747125, 0.8258620689655173, 0.8321839080459771, 0.7989655172413792, 0.825977011494253, 0.8495402298850575, 0.822528735632184, 0.8427586206896551, 0.8258620689655173, 0.835977011494253, 0.8527586206896552, 0.8293103448275861, 0.6791954022988507, 0.8491954022988507, 0.8258620689655173, 0.8290804597701149, 0.8324137931034483, 0.7658620689655172, 0.8562068965517243]}, {\"categories\": [\"0\", \"1\", \"2\", \"3\", \"4\", \"5\", \"6\", \"7\", \"8\", \"9\", \"10\", \"11\", \"12\", \"13\", \"14\", \"15\", \"16\", \"17\", \"18\", \"19\", \"20\", \"21\", \"22\", \"23\", \"24\", \"25\", \"26\", \"27\", \"28\", \"29\", \"30\", \"31\", \"32\", \"33\", \"34\", \"35\", \"38\"], \"mode\": \"lines\", \"name\": \"f1_score_micro_max\", \"stepped\": true, \"type\": \"scatter\", \"data\": [0.8359770114942527, 0.8359770114942527, 0.8359770114942527, 0.8359770114942527, 0.8359770114942527, 0.8559770114942529, 0.8559770114942529, 0.8559770114942529, 0.8559770114942529, 0.8559770114942529, 0.8559770114942529, 0.8559770114942529, 0.8559770114942529, 0.8559770114942529, 0.8559770114942529, 0.8559770114942529, 0.8559770114942529, 0.8559770114942529, 0.8559770114942529, 0.8559770114942529, 0.8559770114942529, 0.8559770114942529, 0.8559770114942529, 0.8559770114942529, 0.8559770114942529, 0.8559770114942529, 0.8559770114942529, 0.8559770114942529, 0.8559770114942529, 0.8559770114942529, 0.8559770114942529, 0.8559770114942529, 0.8559770114942529, 0.8559770114942529, 0.8559770114942529, 0.8559770114942529, 0.8562068965517243]}], \"precision_score_micro\": [{\"categories\": [\"0\", \"1\", \"2\", \"3\", \"4\", \"5\", \"6\", \"7\", \"8\", \"9\", \"10\", \"11\", \"12\", \"13\", \"14\", \"15\", \"16\", \"17\", \"18\", \"19\", \"20\", \"21\", \"22\", \"23\", \"24\", \"25\", \"26\", \"27\", \"28\", \"29\", \"30\", \"31\", \"32\", \"33\", \"34\", \"35\", \"38\"], \"mode\": \"markers\", \"name\": \"precision_score_micro\", \"stepped\": false, \"type\": \"scatter\", \"data\": [0.8359770114942527, 0.8358620689655172, 0.8294252873563218, 0.7994252873563219, 0.8257471264367815, 0.8559770114942529, 0.8394252873563219, 0.852873563218391, 0.7894252873563219, 0.7659770114942528, 0.7859770114942528, 0.8227586206896552, 0.8221839080459772, 0.8291954022988506, 0.805632183908046, 0.6389655172413793, 0.7760919540229885, 0.792528735632184, 0.8122988505747125, 0.8258620689655173, 0.8321839080459771, 0.7989655172413792, 0.825977011494253, 0.8495402298850575, 0.822528735632184, 0.8427586206896551, 0.8258620689655173, 0.835977011494253, 0.8527586206896552, 0.8293103448275861, 0.6791954022988507, 0.8491954022988505, 0.8258620689655173, 0.8290804597701149, 0.8324137931034483, 0.7658620689655172, 0.8562068965517243]}, {\"categories\": [\"0\", \"1\", \"2\", \"3\", \"4\", \"5\", \"6\", \"7\", \"8\", \"9\", \"10\", \"11\", \"12\", \"13\", \"14\", \"15\", \"16\", \"17\", \"18\", \"19\", \"20\", \"21\", \"22\", \"23\", \"24\", \"25\", \"26\", \"27\", \"28\", \"29\", \"30\", \"31\", \"32\", \"33\", \"34\", \"35\", \"38\"], \"mode\": \"lines\", \"name\": \"precision_score_micro_max\", \"stepped\": true, \"type\": \"scatter\", \"data\": [0.8359770114942527, 0.8359770114942527, 0.8359770114942527, 0.8359770114942527, 0.8359770114942527, 0.8559770114942529, 0.8559770114942529, 0.8559770114942529, 0.8559770114942529, 0.8559770114942529, 0.8559770114942529, 0.8559770114942529, 0.8559770114942529, 0.8559770114942529, 0.8559770114942529, 0.8559770114942529, 0.8559770114942529, 0.8559770114942529, 0.8559770114942529, 0.8559770114942529, 0.8559770114942529, 0.8559770114942529, 0.8559770114942529, 0.8559770114942529, 0.8559770114942529, 0.8559770114942529, 0.8559770114942529, 0.8559770114942529, 0.8559770114942529, 0.8559770114942529, 0.8559770114942529, 0.8559770114942529, 0.8559770114942529, 0.8559770114942529, 0.8559770114942529, 0.8559770114942529, 0.8562068965517243]}], \"average_precision_score_macro\": [{\"categories\": [\"0\", \"1\", \"2\", \"3\", \"4\", \"5\", \"6\", \"7\", \"8\", \"9\", \"10\", \"11\", \"12\", \"13\", \"14\", \"15\", \"16\", \"17\", \"18\", \"19\", \"20\", \"21\", \"22\", \"23\", \"24\", \"25\", \"26\", \"27\", \"28\", \"29\", \"30\", \"31\", \"32\", \"33\", \"34\", \"35\", \"38\"], \"mode\": \"markers\", \"name\": \"average_precision_score_macro\", \"stepped\": false, \"type\": \"scatter\", \"data\": [0.8807888197525153, 0.8807340475847678, 0.8886995409549975, 0.8691587434485013, 0.8962868642819604, 0.8932731695408007, 0.868463607570724, 0.9071511504054145, 0.8590104075769311, 0.7610796181270093, 0.8576250051045416, 0.8636589565519621, 0.889695949205987, 0.8542006257748502, 0.8943671708846177, 0.5793782772753733, 0.8754557445601694, 0.8379265272549906, 0.8711633726660507, 0.8985389415472792, 0.8790412419095583, 0.8527562493920439, 0.8612970873052788, 0.903638224057756, 0.8957710212838108, 0.8763647160083459, 0.8852971593644867, 0.8928756253633459, 0.8899079547823548, 0.8845525197702238, 0.5754946053053143, 0.8917949756479675, 0.8844298066939329, 0.8967534527357696, 0.8957612766546614, 0.8515259745107773, 0.9189042466205752]}, {\"categories\": [\"0\", \"1\", \"2\", \"3\", \"4\", \"5\", \"6\", \"7\", \"8\", \"9\", \"10\", \"11\", \"12\", \"13\", \"14\", \"15\", \"16\", \"17\", \"18\", \"19\", \"20\", \"21\", \"22\", \"23\", \"24\", \"25\", \"26\", \"27\", \"28\", \"29\", \"30\", \"31\", \"32\", \"33\", \"34\", \"35\", \"38\"], \"mode\": \"lines\", \"name\": \"average_precision_score_macro_max\", \"stepped\": true, \"type\": \"scatter\", \"data\": [0.8807888197525153, 0.8807888197525153, 0.8886995409549975, 0.8886995409549975, 0.8962868642819604, 0.8962868642819604, 0.8962868642819604, 0.9071511504054145, 0.9071511504054145, 0.9071511504054145, 0.9071511504054145, 0.9071511504054145, 0.9071511504054145, 0.9071511504054145, 0.9071511504054145, 0.9071511504054145, 0.9071511504054145, 0.9071511504054145, 0.9071511504054145, 0.9071511504054145, 0.9071511504054145, 0.9071511504054145, 0.9071511504054145, 0.9071511504054145, 0.9071511504054145, 0.9071511504054145, 0.9071511504054145, 0.9071511504054145, 0.9071511504054145, 0.9071511504054145, 0.9071511504054145, 0.9071511504054145, 0.9071511504054145, 0.9071511504054145, 0.9071511504054145, 0.9071511504054145, 0.9189042466205752]}], \"matthews_correlation\": [{\"categories\": [\"0\", \"1\", \"2\", \"3\", \"4\", \"5\", \"6\", \"7\", \"8\", \"9\", \"10\", \"11\", \"12\", \"13\", \"14\", \"15\", \"16\", \"17\", \"18\", \"19\", \"20\", \"21\", \"22\", \"23\", \"24\", \"25\", \"26\", \"27\", \"28\", \"29\", \"30\", \"31\", \"32\", \"33\", \"34\", \"35\", \"38\"], \"mode\": \"markers\", \"name\": \"matthews_correlation\", \"stepped\": false, \"type\": \"scatter\", \"data\": [0.6231314496952846, 0.6345538749068885, 0.6076630360115747, 0.5294550616280611, 0.6173772592819948, 0.6652056381544695, 0.6239136396383308, 0.6587602647954564, 0.49610482704811465, 0.4352854456898543, 0.4361575517755748, 0.5793211456209284, 0.6244087475602353, 0.619860893759075, 0.5837124841033565, 0.10426477830980234, 0.47424902117182155, 0.5310103833690478, 0.5810617198265859, 0.591194297640371, 0.614493877977756, 0.5434886513642081, 0.59957803626949, 0.6476278168095861, 0.6019005766249536, 0.6305154641590796, 0.6085932141369336, 0.6258548783882987, 0.6677643390133987, 0.5978057098886025, 0.0, 0.6582131696784621, 0.5940685491620448, 0.6278633529057431, 0.6130660952608132, 0.5072827494500997, 0.6697692559064606]}, {\"categories\": [\"0\", \"1\", \"2\", \"3\", \"4\", \"5\", \"6\", \"7\", \"8\", \"9\", \"10\", \"11\", \"12\", \"13\", \"14\", \"15\", \"16\", \"17\", \"18\", \"19\", \"20\", \"21\", \"22\", \"23\", \"24\", \"25\", \"26\", \"27\", \"28\", \"29\", \"30\", \"31\", \"32\", \"33\", \"34\", \"35\", \"38\"], \"mode\": \"lines\", \"name\": \"matthews_correlation_max\", \"stepped\": true, \"type\": \"scatter\", \"data\": [0.6231314496952846, 0.6345538749068885, 0.6345538749068885, 0.6345538749068885, 0.6345538749068885, 0.6652056381544695, 0.6652056381544695, 0.6652056381544695, 0.6652056381544695, 0.6652056381544695, 0.6652056381544695, 0.6652056381544695, 0.6652056381544695, 0.6652056381544695, 0.6652056381544695, 0.6652056381544695, 0.6652056381544695, 0.6652056381544695, 0.6652056381544695, 0.6652056381544695, 0.6652056381544695, 0.6652056381544695, 0.6652056381544695, 0.6652056381544695, 0.6652056381544695, 0.6652056381544695, 0.6652056381544695, 0.6652056381544695, 0.6677643390133987, 0.6677643390133987, 0.6677643390133987, 0.6677643390133987, 0.6677643390133987, 0.6677643390133987, 0.6677643390133987, 0.6677643390133987, 0.6697692559064606]}], \"precision_score_macro\": [{\"categories\": [\"0\", \"1\", \"2\", \"3\", \"4\", \"5\", \"6\", \"7\", \"8\", \"9\", \"10\", \"11\", \"12\", \"13\", \"14\", \"15\", \"16\", \"17\", \"18\", \"19\", \"20\", \"21\", \"22\", \"23\", \"24\", \"25\", \"26\", \"27\", \"28\", \"29\", \"30\", \"31\", \"32\", \"33\", \"34\", \"35\", \"38\"], \"mode\": \"markers\", \"name\": \"precision_score_macro\", \"stepped\": false, \"type\": \"scatter\", \"data\": [0.8167365852764965, 0.8232986049897815, 0.8118297596758696, 0.8327403522403524, 0.8043397603858129, 0.8470663045954808, 0.8244425730563837, 0.8675036449693201, 0.8152161357161358, 0.7703082497212932, 0.7902750651536259, 0.8406364090820613, 0.7953105412819036, 0.8245851325448006, 0.783127868863163, 0.5543597592139792, 0.8069995399125833, 0.766772029654063, 0.779084928229665, 0.8096246520451326, 0.8157465671583319, 0.7620106896887082, 0.800886021872864, 0.8362358547884863, 0.7952207573446132, 0.8463373800112931, 0.8028944499753996, 0.8256286153460067, 0.8429787919525772, 0.8342430830039526, 0.33959770114942534, 0.8337563169208412, 0.8014446194537728, 0.8003639446956179, 0.8202094750869149, 0.7452969334568305, 0.8610508525926146]}, {\"categories\": [\"0\", \"1\", \"2\", \"3\", \"4\", \"5\", \"6\", \"7\", \"8\", \"9\", \"10\", \"11\", \"12\", \"13\", \"14\", \"15\", \"16\", \"17\", \"18\", \"19\", \"20\", \"21\", \"22\", \"23\", \"24\", \"25\", \"26\", \"27\", \"28\", \"29\", \"30\", \"31\", \"32\", \"33\", \"34\", \"35\", \"38\"], \"mode\": \"lines\", \"name\": \"precision_score_macro_max\", \"stepped\": true, \"type\": \"scatter\", \"data\": [0.8167365852764965, 0.8232986049897815, 0.8232986049897815, 0.8327403522403524, 0.8327403522403524, 0.8470663045954808, 0.8470663045954808, 0.8675036449693201, 0.8675036449693201, 0.8675036449693201, 0.8675036449693201, 0.8675036449693201, 0.8675036449693201, 0.8675036449693201, 0.8675036449693201, 0.8675036449693201, 0.8675036449693201, 0.8675036449693201, 0.8675036449693201, 0.8675036449693201, 0.8675036449693201, 0.8675036449693201, 0.8675036449693201, 0.8675036449693201, 0.8675036449693201, 0.8675036449693201, 0.8675036449693201, 0.8675036449693201, 0.8675036449693201, 0.8675036449693201, 0.8675036449693201, 0.8675036449693201, 0.8675036449693201, 0.8675036449693201, 0.8675036449693201, 0.8675036449693201, 0.8675036449693201]}], \"precision_score_weighted\": [{\"categories\": [\"0\", \"1\", \"2\", \"3\", \"4\", \"5\", \"6\", \"7\", \"8\", \"9\", \"10\", \"11\", \"12\", \"13\", \"14\", \"15\", \"16\", \"17\", \"18\", \"19\", \"20\", \"21\", \"22\", \"23\", \"24\", \"25\", \"26\", \"27\", \"28\", \"29\", \"30\", \"31\", \"32\", \"33\", \"34\", \"35\", \"38\"], \"mode\": \"markers\", \"name\": \"precision_score_weighted\", \"stepped\": false, \"type\": \"scatter\", \"data\": [0.8443308716969533, 0.8506678986628277, 0.841841575908332, 0.8271735112694885, 0.8471210909981327, 0.8662405149669412, 0.8486253946076461, 0.866776658038502, 0.8102579367205804, 0.7837569262377359, 0.8062154566387949, 0.8367624691714897, 0.8546292878532924, 0.8511273393976287, 0.8308112709917983, 0.6261394969463244, 0.8051449928474916, 0.8098091470868061, 0.8370248874100961, 0.8350718081947862, 0.8445388485753599, 0.816698107751273, 0.8383644573816987, 0.8574401171860337, 0.8414881097368078, 0.8540927000785322, 0.8436484240601656, 0.8484104765798918, 0.8639893703223803, 0.8421278292671845, 0.47055053507728895, 0.8622541698322191, 0.8411889769401014, 0.85189874398876, 0.8487154075730933, 0.7980523447359633, 0.8701004212179624]}, {\"categories\": [\"0\", \"1\", \"2\", \"3\", \"4\", \"5\", \"6\", \"7\", \"8\", \"9\", \"10\", \"11\", \"12\", \"13\", \"14\", \"15\", \"16\", \"17\", \"18\", \"19\", \"20\", \"21\", \"22\", \"23\", \"24\", \"25\", \"26\", \"27\", \"28\", \"29\", \"30\", \"31\", \"32\", \"33\", \"34\", \"35\", \"38\"], \"mode\": \"lines\", \"name\": \"precision_score_weighted_max\", \"stepped\": true, \"type\": \"scatter\", \"data\": [0.8443308716969533, 0.8506678986628277, 0.8506678986628277, 0.8506678986628277, 0.8506678986628277, 0.8662405149669412, 0.8662405149669412, 0.866776658038502, 0.866776658038502, 0.866776658038502, 0.866776658038502, 0.866776658038502, 0.866776658038502, 0.866776658038502, 0.866776658038502, 0.866776658038502, 0.866776658038502, 0.866776658038502, 0.866776658038502, 0.866776658038502, 0.866776658038502, 0.866776658038502, 0.866776658038502, 0.866776658038502, 0.866776658038502, 0.866776658038502, 0.866776658038502, 0.866776658038502, 0.866776658038502, 0.866776658038502, 0.866776658038502, 0.866776658038502, 0.866776658038502, 0.866776658038502, 0.866776658038502, 0.866776658038502, 0.8701004212179624]}], \"balanced_accuracy\": [{\"categories\": [\"0\", \"1\", \"2\", \"3\", \"4\", \"5\", \"6\", \"7\", \"8\", \"9\", \"10\", \"11\", \"12\", \"13\", \"14\", \"15\", \"16\", \"17\", \"18\", \"19\", \"20\", \"21\", \"22\", \"23\", \"24\", \"25\", \"26\", \"27\", \"28\", \"29\", \"30\", \"31\", \"32\", \"33\", \"34\", \"35\", \"38\"], \"mode\": \"markers\", \"name\": \"balanced_accuracy\", \"stepped\": false, \"type\": \"scatter\", \"data\": [0.8077082895810014, 0.8130249020938379, 0.7971874609943832, 0.7144318057990826, 0.814366754749192, 0.8198862249497261, 0.8018843357570475, 0.7983317830148493, 0.6969699817726134, 0.6780357113964093, 0.6670404989747094, 0.7469740990321655, 0.8311259852529875, 0.7976704211120687, 0.8019749257861386, 0.5513534193685796, 0.6877343804174468, 0.7652592379334371, 0.8035343773630386, 0.7831479179668539, 0.7996207535472408, 0.7828041864377676, 0.800377418761, 0.8128496401577066, 0.8082097647775566, 0.7885870138950802, 0.8073124523264685, 0.8020155539540552, 0.826300123249494, 0.7687618828857387, 0.5, 0.8258156668846027, 0.7944951401890761, 0.8289074968382748, 0.7960330189769549, 0.7632556312553452, 0.8123871268256279]}, {\"categories\": [\"0\", \"1\", \"2\", \"3\", \"4\", \"5\", \"6\", \"7\", \"8\", \"9\", \"10\", \"11\", \"12\", \"13\", \"14\", \"15\", \"16\", \"17\", \"18\", \"19\", \"20\", \"21\", \"22\", \"23\", \"24\", \"25\", \"26\", \"27\", \"28\", \"29\", \"30\", \"31\", \"32\", \"33\", \"34\", \"35\", \"38\"], \"mode\": \"lines\", \"name\": \"balanced_accuracy_max\", \"stepped\": true, \"type\": \"scatter\", \"data\": [0.8077082895810014, 0.8130249020938379, 0.8130249020938379, 0.8130249020938379, 0.814366754749192, 0.8198862249497261, 0.8198862249497261, 0.8198862249497261, 0.8198862249497261, 0.8198862249497261, 0.8198862249497261, 0.8198862249497261, 0.8311259852529875, 0.8311259852529875, 0.8311259852529875, 0.8311259852529875, 0.8311259852529875, 0.8311259852529875, 0.8311259852529875, 0.8311259852529875, 0.8311259852529875, 0.8311259852529875, 0.8311259852529875, 0.8311259852529875, 0.8311259852529875, 0.8311259852529875, 0.8311259852529875, 0.8311259852529875, 0.8311259852529875, 0.8311259852529875, 0.8311259852529875, 0.8311259852529875, 0.8311259852529875, 0.8311259852529875, 0.8311259852529875, 0.8311259852529875, 0.8311259852529875]}], \"average_precision_score_weighted\": [{\"categories\": [\"0\", \"1\", \"2\", \"3\", \"4\", \"5\", \"6\", \"7\", \"8\", \"9\", \"10\", \"11\", \"12\", \"13\", \"14\", \"15\", \"16\", \"17\", \"18\", \"19\", \"20\", \"21\", \"22\", \"23\", \"24\", \"25\", \"26\", \"27\", \"28\", \"29\", \"30\", \"31\", \"32\", \"33\", \"34\", \"35\", \"38\"], \"mode\": \"markers\", \"name\": \"average_precision_score_weighted\", \"stepped\": false, \"type\": \"scatter\", \"data\": [0.9061112830231934, 0.907154018724502, 0.9132958815186587, 0.8989063273392712, 0.9214556801361662, 0.9175375671869703, 0.9012401947106522, 0.9249073238554422, 0.8890573606693138, 0.7960613547349917, 0.8929612087329432, 0.8930193186811485, 0.9129430301571597, 0.8897567861042482, 0.9176858438197956, 0.6358285919365991, 0.9057779282713007, 0.8709970050675, 0.9048898301866378, 0.9235801903509394, 0.9041781706936242, 0.8811035185909557, 0.8909311444869396, 0.9246942912473616, 0.9224519253492274, 0.9040547804886458, 0.9100604205166276, 0.9190037987345132, 0.9156161129856415, 0.9104481826698162, 0.6481447858457775, 0.9201633328168736, 0.9120029021896086, 0.9213862749105142, 0.9200505608446555, 0.8761567432334136, 0.937480271426044]}, {\"categories\": [\"0\", \"1\", \"2\", \"3\", \"4\", \"5\", \"6\", \"7\", \"8\", \"9\", \"10\", \"11\", \"12\", \"13\", \"14\", \"15\", \"16\", \"17\", \"18\", \"19\", \"20\", \"21\", \"22\", \"23\", \"24\", \"25\", \"26\", \"27\", \"28\", \"29\", \"30\", \"31\", \"32\", \"33\", \"34\", \"35\", \"38\"], \"mode\": \"lines\", \"name\": \"average_precision_score_weighted_max\", \"stepped\": true, \"type\": \"scatter\", \"data\": [0.9061112830231934, 0.907154018724502, 0.9132958815186587, 0.9132958815186587, 0.9214556801361662, 0.9214556801361662, 0.9214556801361662, 0.9249073238554422, 0.9249073238554422, 0.9249073238554422, 0.9249073238554422, 0.9249073238554422, 0.9249073238554422, 0.9249073238554422, 0.9249073238554422, 0.9249073238554422, 0.9249073238554422, 0.9249073238554422, 0.9249073238554422, 0.9249073238554422, 0.9249073238554422, 0.9249073238554422, 0.9249073238554422, 0.9249073238554422, 0.9249073238554422, 0.9249073238554422, 0.9249073238554422, 0.9249073238554422, 0.9249073238554422, 0.9249073238554422, 0.9249073238554422, 0.9249073238554422, 0.9249073238554422, 0.9249073238554422, 0.9249073238554422, 0.9249073238554422, 0.937480271426044]}], \"recall_score_micro\": [{\"categories\": [\"0\", \"1\", \"2\", \"3\", \"4\", \"5\", \"6\", \"7\", \"8\", \"9\", \"10\", \"11\", \"12\", \"13\", \"14\", \"15\", \"16\", \"17\", \"18\", \"19\", \"20\", \"21\", \"22\", \"23\", \"24\", \"25\", \"26\", \"27\", \"28\", \"29\", \"30\", \"31\", \"32\", \"33\", \"34\", \"35\", \"38\"], \"mode\": \"markers\", \"name\": \"recall_score_micro\", \"stepped\": false, \"type\": \"scatter\", \"data\": [0.8359770114942527, 0.8358620689655172, 0.8294252873563218, 0.7994252873563219, 0.8257471264367815, 0.8559770114942529, 0.8394252873563219, 0.852873563218391, 0.7894252873563219, 0.7659770114942528, 0.7859770114942528, 0.8227586206896552, 0.8221839080459772, 0.8291954022988506, 0.805632183908046, 0.6389655172413793, 0.7760919540229885, 0.792528735632184, 0.8122988505747125, 0.8258620689655173, 0.8321839080459771, 0.7989655172413792, 0.825977011494253, 0.8495402298850575, 0.822528735632184, 0.8427586206896551, 0.8258620689655173, 0.835977011494253, 0.8527586206896552, 0.8293103448275861, 0.6791954022988507, 0.8491954022988505, 0.8258620689655173, 0.8290804597701149, 0.8324137931034483, 0.7658620689655172, 0.8562068965517243]}, {\"categories\": [\"0\", \"1\", \"2\", \"3\", \"4\", \"5\", \"6\", \"7\", \"8\", \"9\", \"10\", \"11\", \"12\", \"13\", \"14\", \"15\", \"16\", \"17\", \"18\", \"19\", \"20\", \"21\", \"22\", \"23\", \"24\", \"25\", \"26\", \"27\", \"28\", \"29\", \"30\", \"31\", \"32\", \"33\", \"34\", \"35\", \"38\"], \"mode\": \"lines\", \"name\": \"recall_score_micro_max\", \"stepped\": true, \"type\": \"scatter\", \"data\": [0.8359770114942527, 0.8359770114942527, 0.8359770114942527, 0.8359770114942527, 0.8359770114942527, 0.8559770114942529, 0.8559770114942529, 0.8559770114942529, 0.8559770114942529, 0.8559770114942529, 0.8559770114942529, 0.8559770114942529, 0.8559770114942529, 0.8559770114942529, 0.8559770114942529, 0.8559770114942529, 0.8559770114942529, 0.8559770114942529, 0.8559770114942529, 0.8559770114942529, 0.8559770114942529, 0.8559770114942529, 0.8559770114942529, 0.8559770114942529, 0.8559770114942529, 0.8559770114942529, 0.8559770114942529, 0.8559770114942529, 0.8559770114942529, 0.8559770114942529, 0.8559770114942529, 0.8559770114942529, 0.8559770114942529, 0.8559770114942529, 0.8559770114942529, 0.8559770114942529, 0.8562068965517243]}], \"AUC_macro\": [{\"categories\": [\"0\", \"1\", \"2\", \"3\", \"4\", \"5\", \"6\", \"7\", \"8\", \"9\", \"10\", \"11\", \"12\", \"13\", \"14\", \"15\", \"16\", \"17\", \"18\", \"19\", \"20\", \"21\", \"22\", \"23\", \"24\", \"25\", \"26\", \"27\", \"28\", \"29\", \"30\", \"31\", \"32\", \"33\", \"34\", \"35\", \"38\"], \"mode\": \"markers\", \"name\": \"AUC_macro\", \"stepped\": false, \"type\": \"scatter\", \"data\": [0.8840955354735103, 0.8847369443591411, 0.8916037039238411, 0.8761047353506737, 0.901813760438646, 0.8981673949090997, 0.8827517075104317, 0.9107852923096058, 0.8626499129356109, 0.7496161006793443, 0.8674785923966702, 0.8749368851696655, 0.8965960647666597, 0.866536357912788, 0.9008539065879454, 0.5203053263648802, 0.8866329784991684, 0.8383067570661392, 0.8819388642334867, 0.9089099837731132, 0.8832918611306484, 0.8568731302619748, 0.8670291147279705, 0.9066786616574374, 0.9071292701725768, 0.8866138253792144, 0.8935346883348027, 0.9054898963069729, 0.8972491004355421, 0.9012169939836416, 0.5545428448289146, 0.9077686733577466, 0.8878735336914971, 0.9079078824366581, 0.9015697399240304, 0.846817323254337, 0.9213382791354758]}, {\"categories\": [\"0\", \"1\", \"2\", \"3\", \"4\", \"5\", \"6\", \"7\", \"8\", \"9\", \"10\", \"11\", \"12\", \"13\", \"14\", \"15\", \"16\", \"17\", \"18\", \"19\", \"20\", \"21\", \"22\", \"23\", \"24\", \"25\", \"26\", \"27\", \"28\", \"29\", \"30\", \"31\", \"32\", \"33\", \"34\", \"35\", \"38\"], \"mode\": \"lines\", \"name\": \"AUC_macro_max\", \"stepped\": true, \"type\": \"scatter\", \"data\": [0.8840955354735103, 0.8847369443591411, 0.8916037039238411, 0.8916037039238411, 0.901813760438646, 0.901813760438646, 0.901813760438646, 0.9107852923096058, 0.9107852923096058, 0.9107852923096058, 0.9107852923096058, 0.9107852923096058, 0.9107852923096058, 0.9107852923096058, 0.9107852923096058, 0.9107852923096058, 0.9107852923096058, 0.9107852923096058, 0.9107852923096058, 0.9107852923096058, 0.9107852923096058, 0.9107852923096058, 0.9107852923096058, 0.9107852923096058, 0.9107852923096058, 0.9107852923096058, 0.9107852923096058, 0.9107852923096058, 0.9107852923096058, 0.9107852923096058, 0.9107852923096058, 0.9107852923096058, 0.9107852923096058, 0.9107852923096058, 0.9107852923096058, 0.9107852923096058, 0.9213382791354758]}], \"recall_score_weighted\": [{\"categories\": [\"0\", \"1\", \"2\", \"3\", \"4\", \"5\", \"6\", \"7\", \"8\", \"9\", \"10\", \"11\", \"12\", \"13\", \"14\", \"15\", \"16\", \"17\", \"18\", \"19\", \"20\", \"21\", \"22\", \"23\", \"24\", \"25\", \"26\", \"27\", \"28\", \"29\", \"30\", \"31\", \"32\", \"33\", \"34\", \"35\", \"38\"], \"mode\": \"markers\", \"name\": \"recall_score_weighted\", \"stepped\": false, \"type\": \"scatter\", \"data\": [0.8359770114942527, 0.8358620689655172, 0.8294252873563218, 0.7994252873563219, 0.8257471264367815, 0.8559770114942529, 0.8394252873563219, 0.852873563218391, 0.7894252873563219, 0.7659770114942528, 0.7859770114942528, 0.8227586206896552, 0.8221839080459772, 0.8291954022988506, 0.805632183908046, 0.6389655172413793, 0.7760919540229885, 0.792528735632184, 0.8122988505747125, 0.8258620689655173, 0.8321839080459771, 0.7989655172413792, 0.825977011494253, 0.8495402298850575, 0.822528735632184, 0.8427586206896551, 0.8258620689655173, 0.835977011494253, 0.8527586206896552, 0.8293103448275861, 0.6791954022988507, 0.8491954022988505, 0.8258620689655173, 0.8290804597701149, 0.8324137931034483, 0.7658620689655172, 0.8562068965517243]}, {\"categories\": [\"0\", \"1\", \"2\", \"3\", \"4\", \"5\", \"6\", \"7\", \"8\", \"9\", \"10\", \"11\", \"12\", \"13\", \"14\", \"15\", \"16\", \"17\", \"18\", \"19\", \"20\", \"21\", \"22\", \"23\", \"24\", \"25\", \"26\", \"27\", \"28\", \"29\", \"30\", \"31\", \"32\", \"33\", \"34\", \"35\", \"38\"], \"mode\": \"lines\", \"name\": \"recall_score_weighted_max\", \"stepped\": true, \"type\": \"scatter\", \"data\": [0.8359770114942527, 0.8359770114942527, 0.8359770114942527, 0.8359770114942527, 0.8359770114942527, 0.8559770114942529, 0.8559770114942529, 0.8559770114942529, 0.8559770114942529, 0.8559770114942529, 0.8559770114942529, 0.8559770114942529, 0.8559770114942529, 0.8559770114942529, 0.8559770114942529, 0.8559770114942529, 0.8559770114942529, 0.8559770114942529, 0.8559770114942529, 0.8559770114942529, 0.8559770114942529, 0.8559770114942529, 0.8559770114942529, 0.8559770114942529, 0.8559770114942529, 0.8559770114942529, 0.8559770114942529, 0.8559770114942529, 0.8559770114942529, 0.8559770114942529, 0.8559770114942529, 0.8559770114942529, 0.8559770114942529, 0.8559770114942529, 0.8559770114942529, 0.8559770114942529, 0.8562068965517243]}], \"norm_macro_recall\": [{\"categories\": [\"0\", \"1\", \"2\", \"3\", \"4\", \"5\", \"6\", \"7\", \"8\", \"9\", \"10\", \"11\", \"12\", \"13\", \"14\", \"15\", \"16\", \"17\", \"18\", \"19\", \"20\", \"21\", \"22\", \"23\", \"24\", \"25\", \"26\", \"27\", \"28\", \"29\", \"30\", \"31\", \"32\", \"33\", \"34\", \"35\", \"38\"], \"mode\": \"markers\", \"name\": \"norm_macro_recall\", \"stepped\": false, \"type\": \"scatter\", \"data\": [0.6154165791620023, 0.626049804187676, 0.5943749219887663, 0.4288636115981654, 0.6287335094983837, 0.639772449899452, 0.6037686715140949, 0.5966635660296987, 0.39393996354522665, 0.3560714227928186, 0.3380809979494189, 0.49394819806433066, 0.6622519705059752, 0.5953408422241374, 0.6039498515722772, 0.1267612930547713, 0.37546876083489356, 0.5305184758668741, 0.6070687547260774, 0.5662958359337078, 0.5992415070944819, 0.5656083728755354, 0.6007548375219999, 0.625699280315413, 0.6164195295551131, 0.5771740277901605, 0.6146249046529367, 0.6040311079081102, 0.6526002464989878, 0.5375237657714773, 0.0, 0.6516313337692056, 0.5889902803781523, 0.6578149936765497, 0.5920660379539099, 0.5265112625106904, 0.6247742536512559]}, {\"categories\": [\"0\", \"1\", \"2\", \"3\", \"4\", \"5\", \"6\", \"7\", \"8\", \"9\", \"10\", \"11\", \"12\", \"13\", \"14\", \"15\", \"16\", \"17\", \"18\", \"19\", \"20\", \"21\", \"22\", \"23\", \"24\", \"25\", \"26\", \"27\", \"28\", \"29\", \"30\", \"31\", \"32\", \"33\", \"34\", \"35\", \"38\"], \"mode\": \"lines\", \"name\": \"norm_macro_recall_max\", \"stepped\": true, \"type\": \"scatter\", \"data\": [0.6154165791620023, 0.626049804187676, 0.626049804187676, 0.626049804187676, 0.6287335094983837, 0.639772449899452, 0.639772449899452, 0.639772449899452, 0.639772449899452, 0.639772449899452, 0.639772449899452, 0.639772449899452, 0.6622519705059752, 0.6622519705059752, 0.6622519705059752, 0.6622519705059752, 0.6622519705059752, 0.6622519705059752, 0.6622519705059752, 0.6622519705059752, 0.6622519705059752, 0.6622519705059752, 0.6622519705059752, 0.6622519705059752, 0.6622519705059752, 0.6622519705059752, 0.6622519705059752, 0.6622519705059752, 0.6622519705059752, 0.6622519705059752, 0.6622519705059752, 0.6622519705059752, 0.6622519705059752, 0.6622519705059752, 0.6622519705059752, 0.6622519705059752, 0.6622519705059752]}], \"weighted_accuracy\": [{\"categories\": [\"0\", \"1\", \"2\", \"3\", \"4\", \"5\", \"6\", \"7\", \"8\", \"9\", \"10\", \"11\", \"12\", \"13\", \"14\", \"15\", \"16\", \"17\", \"18\", \"19\", \"20\", \"21\", \"22\", \"23\", \"24\", \"25\", \"26\", \"27\", \"28\", \"29\", \"30\", \"31\", \"32\", \"33\", \"34\", \"35\", \"38\"], \"mode\": \"markers\", \"name\": \"weighted_accuracy\", \"stepped\": false, \"type\": \"scatter\", \"data\": [0.8541321922200625, 0.8502962163535492, 0.8498373839219313, 0.8535644498089274, 0.832080063941753, 0.8793405470657982, 0.8628692372500802, 0.8877418884418364, 0.8491562817275543, 0.8227930918585225, 0.8572311082574163, 0.8704240812883437, 0.8149002623831911, 0.8492555632454686, 0.8075276002741549, 0.6980167624045801, 0.8345344940059043, 0.8077684521643873, 0.8169063375277817, 0.8533454461004967, 0.8520969465199636, 0.809095443833502, 0.8434728725652747, 0.8729483534794689, 0.8316066104254203, 0.8776936996843225, 0.8380819084333442, 0.8585019220799079, 0.8690531957355143, 0.8698785636398008, 0.7931711479234276, 0.8643473721577808, 0.8450619542004775, 0.8281177845742471, 0.8543657279186808, 0.7646062115288397, 0.8845748605974306]}, {\"categories\": [\"0\", \"1\", \"2\", \"3\", \"4\", \"5\", \"6\", \"7\", \"8\", \"9\", \"10\", \"11\", \"12\", \"13\", \"14\", \"15\", \"16\", \"17\", \"18\", \"19\", \"20\", \"21\", \"22\", \"23\", \"24\", \"25\", \"26\", \"27\", \"28\", \"29\", \"30\", \"31\", \"32\", \"33\", \"34\", \"35\", \"38\"], \"mode\": \"lines\", \"name\": \"weighted_accuracy_max\", \"stepped\": true, \"type\": \"scatter\", \"data\": [0.8541321922200625, 0.8541321922200625, 0.8541321922200625, 0.8541321922200625, 0.8541321922200625, 0.8793405470657982, 0.8793405470657982, 0.8877418884418364, 0.8877418884418364, 0.8877418884418364, 0.8877418884418364, 0.8877418884418364, 0.8877418884418364, 0.8877418884418364, 0.8877418884418364, 0.8877418884418364, 0.8877418884418364, 0.8877418884418364, 0.8877418884418364, 0.8877418884418364, 0.8877418884418364, 0.8877418884418364, 0.8877418884418364, 0.8877418884418364, 0.8877418884418364, 0.8877418884418364, 0.8877418884418364, 0.8877418884418364, 0.8877418884418364, 0.8877418884418364, 0.8877418884418364, 0.8877418884418364, 0.8877418884418364, 0.8877418884418364, 0.8877418884418364, 0.8877418884418364, 0.8877418884418364]}]}, \"metricName\": null, \"primaryMetricName\": \"AUC_weighted\", \"showLegend\": false}, \"run_metrics\": [{\"name\": \"experiment_status\", \"run_id\": \"AutoML_2b855ee9-68ea-40d3-be2c-42c5f7de58b8\", \"categories\": [0, 1, 2, 3, 4, 5, 6, 7, 8, 9, 10, 11, 12, 13], \"series\": [{\"data\": [\"DatasetEvaluation\", \"FeaturesGeneration\", \"DatasetFeaturization\", \"DatasetFeaturizationCompleted\", \"DatasetCrossValidationSplit\", \"ModelSelection\", \"BestRunExplainModel\", \"ModelExplanationDataSetSetup\", \"PickSurrogateModel\", \"EngineeredFeatureExplanations\", \"EngineeredFeatureExplanations\", \"RawFeaturesExplanations\", \"RawFeaturesExplanations\", \"BestRunExplainModel\"]}]}, {\"name\": \"experiment_status_description\", \"run_id\": \"AutoML_2b855ee9-68ea-40d3-be2c-42c5f7de58b8\", \"categories\": [0, 1, 2, 3, 4, 5, 6, 7, 8, 9, 10, 11, 12, 13], \"series\": [{\"data\": [\"Gathering dataset statistics.\", \"Generating features for the dataset.\", \"Beginning to fit featurizers and featurize the dataset.\", \"Completed fit featurizers and featurizing the dataset.\", \"Generating individually featurized CV splits.\", \"Beginning model selection.\", \"Best run model explanations started\", \"Model explanations data setup completed\", \"Choosing LightGBM as the surrogate model for explanations\", \"Computation of engineered features started\", \"Computation of engineered features completed\", \"Computation of raw features started\", \"Computation of raw features completed\", \"Best run model explanations completed\"]}]}, {\"name\": \"recall_score_macro\", \"run_id\": \"AutoML_2b855ee9-68ea-40d3-be2c-42c5f7de58b8\", \"categories\": [0], \"series\": [{\"data\": [0.8123871268256279]}]}, {\"name\": \"f1_score_macro\", \"run_id\": \"AutoML_2b855ee9-68ea-40d3-be2c-42c5f7de58b8\", \"categories\": [0], \"series\": [{\"data\": [0.8207787623640026]}]}, {\"name\": \"accuracy\", \"run_id\": \"AutoML_2b855ee9-68ea-40d3-be2c-42c5f7de58b8\", \"categories\": [0], \"series\": [{\"data\": [0.8562068965517243]}]}, {\"name\": \"precision_score_weighted\", \"run_id\": \"AutoML_2b855ee9-68ea-40d3-be2c-42c5f7de58b8\", \"categories\": [0], \"series\": [{\"data\": [0.8701004212179624]}]}, {\"name\": \"average_precision_score_macro\", \"run_id\": \"AutoML_2b855ee9-68ea-40d3-be2c-42c5f7de58b8\", \"categories\": [0], \"series\": [{\"data\": [0.9189042466205752]}]}, {\"name\": \"log_loss\", \"run_id\": \"AutoML_2b855ee9-68ea-40d3-be2c-42c5f7de58b8\", \"categories\": [0], \"series\": [{\"data\": [0.4296776006799344]}]}, {\"name\": \"balanced_accuracy\", \"run_id\": \"AutoML_2b855ee9-68ea-40d3-be2c-42c5f7de58b8\", \"categories\": [0], \"series\": [{\"data\": [0.8123871268256279]}]}, {\"name\": \"matthews_correlation\", \"run_id\": \"AutoML_2b855ee9-68ea-40d3-be2c-42c5f7de58b8\", \"categories\": [0], \"series\": [{\"data\": [0.6697692559064606]}]}, {\"name\": \"AUC_macro\", \"run_id\": \"AutoML_2b855ee9-68ea-40d3-be2c-42c5f7de58b8\", \"categories\": [0], \"series\": [{\"data\": [0.9213382791354758]}]}, {\"name\": \"average_precision_score_weighted\", \"run_id\": \"AutoML_2b855ee9-68ea-40d3-be2c-42c5f7de58b8\", \"categories\": [0], \"series\": [{\"data\": [0.937480271426044]}]}, {\"name\": \"precision_score_micro\", \"run_id\": \"AutoML_2b855ee9-68ea-40d3-be2c-42c5f7de58b8\", \"categories\": [0], \"series\": [{\"data\": [0.8562068965517243]}]}, {\"name\": \"f1_score_weighted\", \"run_id\": \"AutoML_2b855ee9-68ea-40d3-be2c-42c5f7de58b8\", \"categories\": [0], \"series\": [{\"data\": [0.8494423317395581]}]}, {\"name\": \"AUC_micro\", \"run_id\": \"AutoML_2b855ee9-68ea-40d3-be2c-42c5f7de58b8\", \"categories\": [0], \"series\": [{\"data\": [0.9250782137666798]}]}, {\"name\": \"average_precision_score_micro\", \"run_id\": \"AutoML_2b855ee9-68ea-40d3-be2c-42c5f7de58b8\", \"categories\": [0], \"series\": [{\"data\": [0.9274678684434801]}]}, {\"name\": \"recall_score_weighted\", \"run_id\": \"AutoML_2b855ee9-68ea-40d3-be2c-42c5f7de58b8\", \"categories\": [0], \"series\": [{\"data\": [0.8562068965517243]}]}, {\"name\": \"f1_score_micro\", \"run_id\": \"AutoML_2b855ee9-68ea-40d3-be2c-42c5f7de58b8\", \"categories\": [0], \"series\": [{\"data\": [0.8562068965517243]}]}, {\"name\": \"norm_macro_recall\", \"run_id\": \"AutoML_2b855ee9-68ea-40d3-be2c-42c5f7de58b8\", \"categories\": [0], \"series\": [{\"data\": [0.6247742536512559]}]}, {\"name\": \"weighted_accuracy\", \"run_id\": \"AutoML_2b855ee9-68ea-40d3-be2c-42c5f7de58b8\", \"categories\": [0], \"series\": [{\"data\": [0.8845748605974306]}]}, {\"name\": \"precision_score_macro\", \"run_id\": \"AutoML_2b855ee9-68ea-40d3-be2c-42c5f7de58b8\", \"categories\": [0], \"series\": [{\"data\": [0.8610508525926146]}]}, {\"name\": \"recall_score_micro\", \"run_id\": \"AutoML_2b855ee9-68ea-40d3-be2c-42c5f7de58b8\", \"categories\": [0], \"series\": [{\"data\": [0.8562068965517243]}]}, {\"name\": \"AUC_weighted\", \"run_id\": \"AutoML_2b855ee9-68ea-40d3-be2c-42c5f7de58b8\", \"categories\": [0], \"series\": [{\"data\": [0.9213382791354758]}]}], \"run_logs\": \"\\nRun is completed.\", \"graph\": {}, \"widget_settings\": {\"childWidgetDisplay\": \"popup\", \"send_telemetry\": false, \"log_level\": \"INFO\", \"sdk_version\": \"1.31.0\"}, \"loading\": false}"
     },
     "metadata": {},
     "output_type": "display_data"
    },
    {
     "data": {
      "application/vnd.jupyter.widget-view+json": {
       "model_id": "",
       "version_major": 2,
       "version_minor": 0
      },
      "text/plain": [
       "_UserRunWidget(widget_settings={'childWidgetDisplay': 'popup', 'send_telemetry': False, 'log_level': 'INFO', '…"
      ]
     },
     "metadata": {},
     "output_type": "display_data"
    },
    {
     "data": {
      "application/aml.mini.widget.v1": "{\"loading\": true}"
     },
     "metadata": {},
     "output_type": "display_data"
    },
    {
     "name": "stderr",
     "output_type": "stream",
     "text": [
      "INFO:interpret_community.common.explanation_utils:Using default datastore for uploads\n",
      "INFO:interpret_community.common.explanation_utils:Using default datastore for uploads\n",
      "INFO:interpret_community.common.explanation_utils:Using default datastore for uploads\n"
     ]
    },
    {
     "data": {
      "application/vnd.jupyter.widget-view+json": {
       "model_id": "f6278f6ed7b941f99493902b63485b0a",
       "version_major": 2,
       "version_minor": 0
      },
      "text/plain": [
       "_UserRunWidget(widget_settings={'childWidgetDisplay': 'popup', 'send_telemetry': False, 'log_level': 'INFO', '…"
      ]
     },
     "metadata": {},
     "output_type": "display_data"
    },
    {
     "data": {
      "application/aml.mini.widget.v1": "{\"loading\": true}"
     },
     "metadata": {},
     "output_type": "display_data"
    },
    {
     "name": "stderr",
     "output_type": "stream",
     "text": [
      "INFO:interpret_community.common.explanation_utils:Using default datastore for uploads\n",
      "INFO:interpret_community.common.explanation_utils:Using default datastore for uploads\n",
      "INFO:interpret_community.common.explanation_utils:Using default datastore for uploads\n",
      "INFO:interpret_community.common.explanation_utils:Using default datastore for uploads\n",
      "INFO:interpret_community.common.explanation_utils:Using default datastore for uploads\n",
      "INFO:interpret_community.common.explanation_utils:Using default datastore for uploads\n"
     ]
    }
   ],
   "source": [
    "# importing required dependencies\n",
    "from azureml.widgets import RunDetails\n",
    "RunDetails(remote_run).show()"
   ]
  },
  {
   "cell_type": "markdown",
   "metadata": {},
   "source": [
    "## Best Model\n",
    "\n",
    "TODO: In the cell below, get the best model from the automl experiments and display all the properties of the model.\n",
    "\n"
   ]
  },
  {
   "cell_type": "code",
   "execution_count": 13,
   "metadata": {
    "gather": {
     "logged": 1610868946612
    },
    "jupyter": {
     "outputs_hidden": false,
     "source_hidden": false
    },
    "nteract": {
     "transient": {
      "deleting": false
     }
    }
   },
   "outputs": [
    {
     "name": "stdout",
     "output_type": "stream",
     "text": [
      "Run(Experiment: AutoML-Exp002,\n",
      "Id: AutoML_2b855ee9-68ea-40d3-be2c-42c5f7de58b8_38,\n",
      "Type: azureml.scriptrun,\n",
      "Status: Completed)\n",
      "Pipeline(memory=None,\n",
      "         steps=[('datatransformer',\n",
      "                 DataTransformer(enable_dnn=False, enable_feature_sweeping=False, feature_sweeping_config={}, feature_sweeping_timeout=86400, featurization_config=None, force_text_dnn=False, is_cross_validation=True, is_onnx_compatible=True, observer=None, task='classification', working_dir='/mnt/batch/tasks/shared/LS_root/mount...\n",
      ")), ('extratreesclassifier', ExtraTreesClassifier(bootstrap=True, ccp_alpha=0.0, class_weight='balanced', criterion='entropy', max_depth=None, max_features=0.9, max_leaf_nodes=None, max_samples=None, min_impurity_decrease=0.0, min_impurity_split=None, min_samples_leaf=0.01, min_samples_split=0.5252631578947369, min_weight_fraction_leaf=0.0, n_estimators=25, n_jobs=1, oob_score=False, random_state=None, verbose=0, warm_start=False))], verbose=False))], flatten_transform=None, weights=[0.26666666666666666, 0.06666666666666667, 0.13333333333333333, 0.06666666666666667, 0.06666666666666667, 0.2, 0.06666666666666667, 0.06666666666666667, 0.06666666666666667]))],\n",
      "         verbose=False)\n"
     ]
    }
   ],
   "source": [
    "# Retrieve best model from AutoML Run\n",
    "\n",
    "# importing required dependencies\n",
    "import joblib\n",
    "\n",
    "best_automl_run, best_automl_fitted_model = remote_run.get_output()\n",
    "print(best_automl_run)\n",
    "print(best_automl_fitted_model)"
   ]
  },
  {
   "cell_type": "code",
   "execution_count": 14,
   "metadata": {
    "gather": {
     "logged": 1610868966185
    },
    "jupyter": {
     "outputs_hidden": false,
     "source_hidden": false
    },
    "nteract": {
     "transient": {
      "deleting": false
     }
    }
   },
   "outputs": [
    {
     "data": {
      "text/plain": [
       "['best_automl_model.pkl']"
      ]
     },
     "execution_count": 14,
     "metadata": {},
     "output_type": "execute_result"
    }
   ],
   "source": [
    "#TODO: Save the best model\n",
    "joblib.dump(best_automl_fitted_model,'best_automl_model.pkl')"
   ]
  },
  {
   "cell_type": "code",
   "execution_count": 15,
   "metadata": {
    "gather": {
     "logged": 1610868971395
    }
   },
   "outputs": [
    {
     "data": {
      "text/plain": [
       "{'_aml_system_azureml.automlComponent': 'AutoML',\n",
       " '_aml_system_ComputeTargetStatus': '{\"AllocationState\":\"steady\",\"PreparingNodeCount\":0,\"RunningNodeCount\":4,\"CurrentNodeCount\":4}',\n",
       " 'mlflow.source.type': 'JOB',\n",
       " 'mlflow.source.name': 'automl_driver.py',\n",
       " '_aml_system_automl_is_child_run_end_telemetry_event_logged': 'True',\n",
       " 'model_explain_run_id': 'AutoML_2b855ee9-68ea-40d3-be2c-42c5f7de58b8_ModelExplain',\n",
       " 'model_explanation': 'True'}"
      ]
     },
     "execution_count": 15,
     "metadata": {},
     "output_type": "execute_result"
    }
   ],
   "source": [
    "# getting the details of the best model produced by automl\n",
    "best_automl_run.get_tags()"
   ]
  },
  {
   "cell_type": "code",
   "execution_count": 16,
   "metadata": {
    "gather": {
     "logged": 1610868994344
    }
   },
   "outputs": [
    {
     "name": "stdout",
     "output_type": "stream",
     "text": [
      "datatransformer\n",
      "{'enable_dnn': False,\n",
      " 'enable_feature_sweeping': False,\n",
      " 'feature_sweeping_config': {},\n",
      " 'feature_sweeping_timeout': 86400,\n",
      " 'featurization_config': None,\n",
      " 'force_text_dnn': False,\n",
      " 'is_cross_validation': True,\n",
      " 'is_onnx_compatible': True,\n",
      " 'observer': None,\n",
      " 'task': 'classification',\n",
      " 'working_dir': '/mnt/batch/tasks/shared/LS_root/mounts/clusters/notebook150538/code/Users/odl_user_150538'}\n",
      "\n",
      "prefittedsoftvotingclassifier\n",
      "{'estimators': ['7', '19', '33', '31', '24', '30', '23', '14', '35'],\n",
      " 'weights': [0.26666666666666666,\n",
      "             0.06666666666666667,\n",
      "             0.13333333333333333,\n",
      "             0.06666666666666667,\n",
      "             0.06666666666666667,\n",
      "             0.2,\n",
      "             0.06666666666666667,\n",
      "             0.06666666666666667,\n",
      "             0.06666666666666667]}\n",
      "\n",
      "7-minmaxscaler\n",
      "{'copy': True, 'feature_range': (0, 1)}\n",
      "\n",
      "7-extratreesclassifier\n",
      "{'bootstrap': True,\n",
      " 'ccp_alpha': 0.0,\n",
      " 'class_weight': None,\n",
      " 'criterion': 'gini',\n",
      " 'max_depth': None,\n",
      " 'max_features': 0.9,\n",
      " 'max_leaf_nodes': None,\n",
      " 'max_samples': None,\n",
      " 'min_impurity_decrease': 0.0,\n",
      " 'min_impurity_split': None,\n",
      " 'min_samples_leaf': 0.01,\n",
      " 'min_samples_split': 0.15052631578947367,\n",
      " 'min_weight_fraction_leaf': 0.0,\n",
      " 'n_estimators': 10,\n",
      " 'n_jobs': 1,\n",
      " 'oob_score': True,\n",
      " 'random_state': None,\n",
      " 'verbose': 0,\n",
      " 'warm_start': False}\n",
      "\n",
      "19-standardscalerwrapper\n",
      "{'class_name': 'StandardScaler',\n",
      " 'copy': True,\n",
      " 'module_name': 'sklearn.preprocessing._data',\n",
      " 'with_mean': False,\n",
      " 'with_std': False}\n",
      "\n",
      "19-xgboostclassifier\n",
      "{'base_score': 0.5,\n",
      " 'booster': 'gbtree',\n",
      " 'colsample_bylevel': 1,\n",
      " 'colsample_bynode': 1,\n",
      " 'colsample_bytree': 0.7,\n",
      " 'eta': 0.001,\n",
      " 'gamma': 0,\n",
      " 'learning_rate': 0.1,\n",
      " 'max_delta_step': 0,\n",
      " 'max_depth': 5,\n",
      " 'max_leaves': 0,\n",
      " 'min_child_weight': 1,\n",
      " 'missing': nan,\n",
      " 'n_estimators': 10,\n",
      " 'n_jobs': 1,\n",
      " 'nthread': None,\n",
      " 'objective': 'reg:logistic',\n",
      " 'random_state': 0,\n",
      " 'reg_alpha': 1.1458333333333335,\n",
      " 'reg_lambda': 1.3541666666666667,\n",
      " 'scale_pos_weight': 1,\n",
      " 'seed': None,\n",
      " 'silent': None,\n",
      " 'subsample': 0.6,\n",
      " 'tree_method': 'auto',\n",
      " 'verbose': -10,\n",
      " 'verbosity': 0}\n",
      "\n",
      "33-robustscaler\n",
      "{'copy': True,\n",
      " 'quantile_range': [25, 75],\n",
      " 'with_centering': True,\n",
      " 'with_scaling': False}\n",
      "\n",
      "33-randomforestclassifier\n",
      "{'bootstrap': True,\n",
      " 'ccp_alpha': 0.0,\n",
      " 'class_weight': 'balanced',\n",
      " 'criterion': 'gini',\n",
      " 'max_depth': None,\n",
      " 'max_features': 0.4,\n",
      " 'max_leaf_nodes': None,\n",
      " 'max_samples': None,\n",
      " 'min_impurity_decrease': 0.0,\n",
      " 'min_impurity_split': None,\n",
      " 'min_samples_leaf': 0.035789473684210524,\n",
      " 'min_samples_split': 0.19736842105263158,\n",
      " 'min_weight_fraction_leaf': 0.0,\n",
      " 'n_estimators': 400,\n",
      " 'n_jobs': 1,\n",
      " 'oob_score': True,\n",
      " 'random_state': None,\n",
      " 'verbose': 0,\n",
      " 'warm_start': False}\n",
      "\n",
      "31-standardscalerwrapper\n",
      "{'class_name': 'StandardScaler',\n",
      " 'copy': True,\n",
      " 'module_name': 'sklearn.preprocessing._data',\n",
      " 'with_mean': False,\n",
      " 'with_std': False}\n",
      "\n",
      "31-xgboostclassifier\n",
      "{'base_score': 0.5,\n",
      " 'booster': 'gbtree',\n",
      " 'colsample_bylevel': 1,\n",
      " 'colsample_bynode': 1,\n",
      " 'colsample_bytree': 1,\n",
      " 'eta': 0.2,\n",
      " 'gamma': 0,\n",
      " 'learning_rate': 0.1,\n",
      " 'max_delta_step': 0,\n",
      " 'max_depth': 6,\n",
      " 'max_leaves': 0,\n",
      " 'min_child_weight': 1,\n",
      " 'missing': nan,\n",
      " 'n_estimators': 50,\n",
      " 'n_jobs': 1,\n",
      " 'nthread': None,\n",
      " 'objective': 'reg:logistic',\n",
      " 'random_state': 0,\n",
      " 'reg_alpha': 1.7708333333333335,\n",
      " 'reg_lambda': 2.3958333333333335,\n",
      " 'scale_pos_weight': 1,\n",
      " 'seed': None,\n",
      " 'silent': None,\n",
      " 'subsample': 0.5,\n",
      " 'tree_method': 'auto',\n",
      " 'verbose': -10,\n",
      " 'verbosity': 0}\n",
      "\n",
      "24-minmaxscaler\n",
      "{'copy': True, 'feature_range': (0, 1)}\n",
      "\n",
      "24-extratreesclassifier\n",
      "{'bootstrap': True,\n",
      " 'ccp_alpha': 0.0,\n",
      " 'class_weight': 'balanced',\n",
      " 'criterion': 'gini',\n",
      " 'max_depth': None,\n",
      " 'max_features': None,\n",
      " 'max_leaf_nodes': None,\n",
      " 'max_samples': None,\n",
      " 'min_impurity_decrease': 0.0,\n",
      " 'min_impurity_split': None,\n",
      " 'min_samples_leaf': 0.01,\n",
      " 'min_samples_split': 0.056842105263157895,\n",
      " 'min_weight_fraction_leaf': 0.0,\n",
      " 'n_estimators': 50,\n",
      " 'n_jobs': 1,\n",
      " 'oob_score': True,\n",
      " 'random_state': None,\n",
      " 'verbose': 0,\n",
      " 'warm_start': False}\n",
      "\n",
      "30-pca\n",
      "{'copy': True,\n",
      " 'iterated_power': 'auto',\n",
      " 'n_components': 0.15842105263157896,\n",
      " 'random_state': None,\n",
      " 'svd_solver': 'auto',\n",
      " 'tol': 0.0,\n",
      " 'whiten': True}\n",
      "\n",
      "30-extratreesclassifier\n",
      "{'bootstrap': True,\n",
      " 'ccp_alpha': 0.0,\n",
      " 'class_weight': None,\n",
      " 'criterion': 'gini',\n",
      " 'max_depth': None,\n",
      " 'max_features': None,\n",
      " 'max_leaf_nodes': None,\n",
      " 'max_samples': None,\n",
      " 'min_impurity_decrease': 0.0,\n",
      " 'min_impurity_split': None,\n",
      " 'min_samples_leaf': 0.08736842105263157,\n",
      " 'min_samples_split': 0.5721052631578947,\n",
      " 'min_weight_fraction_leaf': 0.0,\n",
      " 'n_estimators': 400,\n",
      " 'n_jobs': 1,\n",
      " 'oob_score': True,\n",
      " 'random_state': None,\n",
      " 'verbose': 0,\n",
      " 'warm_start': False}\n",
      "\n",
      "23-minmaxscaler\n",
      "{'copy': True, 'feature_range': (0, 1)}\n",
      "\n",
      "23-randomforestclassifier\n",
      "{'bootstrap': False,\n",
      " 'ccp_alpha': 0.0,\n",
      " 'class_weight': None,\n",
      " 'criterion': 'gini',\n",
      " 'max_depth': None,\n",
      " 'max_features': 'sqrt',\n",
      " 'max_leaf_nodes': None,\n",
      " 'max_samples': None,\n",
      " 'min_impurity_decrease': 0.0,\n",
      " 'min_impurity_split': None,\n",
      " 'min_samples_leaf': 0.01,\n",
      " 'min_samples_split': 0.2442105263157895,\n",
      " 'min_weight_fraction_leaf': 0.0,\n",
      " 'n_estimators': 100,\n",
      " 'n_jobs': 1,\n",
      " 'oob_score': False,\n",
      " 'random_state': None,\n",
      " 'verbose': 0,\n",
      " 'warm_start': False}\n",
      "\n",
      "14-robustscaler\n",
      "{'copy': True,\n",
      " 'quantile_range': [10, 90],\n",
      " 'with_centering': True,\n",
      " 'with_scaling': False}\n",
      "\n",
      "14-randomforestclassifier\n",
      "{'bootstrap': True,\n",
      " 'ccp_alpha': 0.0,\n",
      " 'class_weight': 'balanced',\n",
      " 'criterion': 'entropy',\n",
      " 'max_depth': None,\n",
      " 'max_features': 0.2,\n",
      " 'max_leaf_nodes': None,\n",
      " 'max_samples': None,\n",
      " 'min_impurity_decrease': 0.0,\n",
      " 'min_impurity_split': None,\n",
      " 'min_samples_leaf': 0.01,\n",
      " 'min_samples_split': 0.10368421052631578,\n",
      " 'min_weight_fraction_leaf': 0.0,\n",
      " 'n_estimators': 10,\n",
      " 'n_jobs': 1,\n",
      " 'oob_score': True,\n",
      " 'random_state': None,\n",
      " 'verbose': 0,\n",
      " 'warm_start': False}\n",
      "\n",
      "35-standardscalerwrapper\n",
      "{'class_name': 'StandardScaler',\n",
      " 'copy': True,\n",
      " 'module_name': 'sklearn.preprocessing._data',\n",
      " 'with_mean': False,\n",
      " 'with_std': True}\n",
      "\n",
      "35-extratreesclassifier\n",
      "{'bootstrap': True,\n",
      " 'ccp_alpha': 0.0,\n",
      " 'class_weight': 'balanced',\n",
      " 'criterion': 'entropy',\n",
      " 'max_depth': None,\n",
      " 'max_features': 0.9,\n",
      " 'max_leaf_nodes': None,\n",
      " 'max_samples': None,\n",
      " 'min_impurity_decrease': 0.0,\n",
      " 'min_impurity_split': None,\n",
      " 'min_samples_leaf': 0.01,\n",
      " 'min_samples_split': 0.5252631578947369,\n",
      " 'min_weight_fraction_leaf': 0.0,\n",
      " 'n_estimators': 25,\n",
      " 'n_jobs': 1,\n",
      " 'oob_score': False,\n",
      " 'random_state': None,\n",
      " 'verbose': 0,\n",
      " 'warm_start': False}\n",
      "\n"
     ]
    }
   ],
   "source": [
    "from pprint import pprint\n",
    "\n",
    "def print_model(model,prefix=\"\"):\n",
    "    for step in model.steps:\n",
    "        print(prefix+step[0])\n",
    "        if hasattr(step[1],'estimators') and hasattr(step[1],'weights'):\n",
    "            pprint({'estimators':list(e[0] for e in step[1].estimators), 'weights':step[1].weights})\n",
    "            print()\n",
    "            for estimator in step[1].estimators:\n",
    "                print_model(estimator[1],estimator[0]+'-')\n",
    "        else:\n",
    "            pprint(step[1].get_params())\n",
    "            print()\n",
    "\n",
    "print_model(best_automl_fitted_model)"
   ]
  },
  {
   "cell_type": "code",
   "execution_count": 17,
   "metadata": {
    "gather": {
     "logged": 1610869118916
    }
   },
   "outputs": [],
   "source": [
    "# retrieving the best model as ONNX model\n",
    "best_auto_run, best_onnx_model = remote_run.get_output(return_onnx_model=True)"
   ]
  },
  {
   "cell_type": "code",
   "execution_count": 18,
   "metadata": {
    "gather": {
     "logged": 1610869141977
    }
   },
   "outputs": [],
   "source": [
    "# importing required dependencies\n",
    "from azureml.automl.runtime.onnx_convert import OnnxConverter\n",
    "\n",
    "# saving the best model as onnx_model\n",
    "onnx_fl_path = \"./best_model.onnx\"\n",
    "OnnxConverter.save_onnx_model(best_onnx_model, onnx_fl_path)"
   ]
  },
  {
   "cell_type": "markdown",
   "metadata": {},
   "source": [
    "## Model Deployment\n",
    "\n",
    "Remember you have to deploy only one of the two models you trained.. Perform the steps in the rest of this notebook only if you wish to deploy this model.\n",
    "\n",
    "TODO: In the cell below, register the model, create an inference config and deploy the model as a web service."
   ]
  },
  {
   "cell_type": "code",
   "execution_count": 19,
   "metadata": {
    "gather": {
     "logged": 1610870160746
    },
    "jupyter": {
     "outputs_hidden": false,
     "source_hidden": false
    },
    "nteract": {
     "transient": {
      "deleting": false
     }
    }
   },
   "outputs": [
    {
     "name": "stdout",
     "output_type": "stream",
     "text": [
      "AutoML2b855ee9638\n",
      "automl-heart-failure-predictions\n",
      "Tips: You can try get_logs(): https://aka.ms/debugimage#dockerlog or local deployment: https://aka.ms/debugimage#debug-locally to debug if deployment takes longer than 10 minutes.\n",
      "Running"
     ]
    },
    {
     "name": "stderr",
     "output_type": "stream",
     "text": [
      "INFO:interpret_community.common.explanation_utils:Using default datastore for uploads\n",
      "INFO:interpret_community.common.explanation_utils:Using default datastore for uploads\n"
     ]
    },
    {
     "name": "stdout",
     "output_type": "stream",
     "text": [
      "\n",
      "2021-07-12 09:15:27+00:00 Creating Container Registry if not exists."
     ]
    },
    {
     "name": "stderr",
     "output_type": "stream",
     "text": [
      "INFO:interpret_community.common.explanation_utils:Using default datastore for uploads\n"
     ]
    },
    {
     "name": "stdout",
     "output_type": "stream",
     "text": [
      ".\n",
      "2021-07-12 09:15:38+00:00 Registering the environment."
     ]
    },
    {
     "name": "stderr",
     "output_type": "stream",
     "text": [
      "INFO:interpret_community.common.explanation_utils:Using default datastore for uploads\n"
     ]
    },
    {
     "name": "stdout",
     "output_type": "stream",
     "text": [
      ".\n",
      "2021-07-12 09:15:40+00:00 Use the existing image.\n",
      "2021-07-12 09:15:40+00:00 Generating deployment configuration.\n",
      "2021-07-12 09:15:41+00:00 Submitting deployment to compute."
     ]
    },
    {
     "name": "stderr",
     "output_type": "stream",
     "text": [
      "INFO:interpret_community.common.explanation_utils:Using default datastore for uploads\n",
      "INFO:interpret_community.common.explanation_utils:Using default datastore for uploads\n"
     ]
    },
    {
     "name": "stdout",
     "output_type": "stream",
     "text": [
      ".\n",
      "2021-07-12 09:15:44+00:00 Checking the status of deployment automl-heart-failure-predictions."
     ]
    },
    {
     "name": "stderr",
     "output_type": "stream",
     "text": [
      "INFO:interpret_community.common.explanation_utils:Using default datastore for uploads\n",
      "INFO:interpret_community.common.explanation_utils:Using default datastore for uploads\n",
      "INFO:interpret_community.common.explanation_utils:Using default datastore for uploads\n",
      "INFO:interpret_community.common.explanation_utils:Using default datastore for uploads\n",
      "INFO:interpret_community.common.explanation_utils:Using default datastore for uploads\n",
      "INFO:interpret_community.common.explanation_utils:Using default datastore for uploads\n",
      "INFO:interpret_community.common.explanation_utils:Using default datastore for uploads\n",
      "INFO:interpret_community.common.explanation_utils:Using default datastore for uploads\n",
      "INFO:interpret_community.common.explanation_utils:Using default datastore for uploads\n",
      "INFO:interpret_community.common.explanation_utils:Using default datastore for uploads\n",
      "INFO:interpret_community.common.explanation_utils:Using default datastore for uploads\n",
      "INFO:interpret_community.common.explanation_utils:Using default datastore for uploads\n",
      "INFO:interpret_community.common.explanation_utils:Using default datastore for uploads\n",
      "INFO:interpret_community.common.explanation_utils:Using default datastore for uploads\n",
      "INFO:interpret_community.common.explanation_utils:Using default datastore for uploads\n",
      "INFO:interpret_community.common.explanation_utils:Using default datastore for uploads\n",
      "INFO:interpret_community.common.explanation_utils:Using default datastore for uploads\n",
      "INFO:interpret_community.common.explanation_utils:Using default datastore for uploads\n",
      "INFO:interpret_community.common.explanation_utils:Using default datastore for uploads\n",
      "INFO:interpret_community.common.explanation_utils:Using default datastore for uploads\n",
      "INFO:interpret_community.common.explanation_utils:Using default datastore for uploads\n",
      "INFO:interpret_community.common.explanation_utils:Using default datastore for uploads\n",
      "INFO:interpret_community.common.explanation_utils:Using default datastore for uploads\n",
      "INFO:interpret_community.common.explanation_utils:Using default datastore for uploads\n",
      "INFO:interpret_community.common.explanation_utils:Using default datastore for uploads\n",
      "INFO:interpret_community.common.explanation_utils:Using default datastore for uploads\n",
      "INFO:interpret_community.common.explanation_utils:Using default datastore for uploads\n",
      "INFO:interpret_community.common.explanation_utils:Using default datastore for uploads\n",
      "INFO:interpret_community.common.explanation_utils:Using default datastore for uploads\n",
      "INFO:interpret_community.common.explanation_utils:Using default datastore for uploads\n",
      "INFO:interpret_community.common.explanation_utils:Using default datastore for uploads\n",
      "INFO:interpret_community.common.explanation_utils:Using default datastore for uploads\n",
      "INFO:interpret_community.common.explanation_utils:Using default datastore for uploads\n",
      "INFO:interpret_community.common.explanation_utils:Using default datastore for uploads\n",
      "INFO:interpret_community.common.explanation_utils:Using default datastore for uploads\n",
      "INFO:interpret_community.common.explanation_utils:Using default datastore for uploads\n",
      "INFO:interpret_community.common.explanation_utils:Using default datastore for uploads\n",
      "INFO:interpret_community.common.explanation_utils:Using default datastore for uploads\n",
      "INFO:interpret_community.common.explanation_utils:Using default datastore for uploads\n",
      "INFO:interpret_community.common.explanation_utils:Using default datastore for uploads\n",
      "INFO:interpret_community.common.explanation_utils:Using default datastore for uploads\n",
      "INFO:interpret_community.common.explanation_utils:Using default datastore for uploads\n",
      "INFO:interpret_community.common.explanation_utils:Using default datastore for uploads\n",
      "INFO:interpret_community.common.explanation_utils:Using default datastore for uploads\n",
      "INFO:interpret_community.common.explanation_utils:Using default datastore for uploads\n",
      "INFO:interpret_community.common.explanation_utils:Using default datastore for uploads\n",
      "INFO:interpret_community.common.explanation_utils:Using default datastore for uploads\n",
      "INFO:interpret_community.common.explanation_utils:Using default datastore for uploads\n",
      "INFO:interpret_community.common.explanation_utils:Using default datastore for uploads\n",
      "INFO:interpret_community.common.explanation_utils:Using default datastore for uploads\n",
      "INFO:interpret_community.common.explanation_utils:Using default datastore for uploads\n",
      "INFO:interpret_community.common.explanation_utils:Using default datastore for uploads\n",
      "INFO:interpret_community.common.explanation_utils:Using default datastore for uploads\n"
     ]
    },
    {
     "name": "stdout",
     "output_type": "stream",
     "text": [
      ".\n",
      "2021-07-12 09:20:27+00:00 Checking the status of inference endpoint automl-heart-failure-predictions.\n",
      "Succeeded\n",
      "ACI service creation operation finished, operation \"Succeeded\"\n",
      "Healthy\n"
     ]
    }
   ],
   "source": [
    "# registering the best automl model\n",
    "\n",
    "description = 'heart failure predictions'\n",
    "tags = None\n",
    "\n",
    "model = remote_run.register_model(description = description, tags = tags)\n",
    "\n",
    "print(remote_run.model_id)\n",
    "\n",
    "# importing required dependencies\n",
    "from azureml.core.model import InferenceConfig\n",
    "from azureml.core.webservice import AciWebservice\n",
    "from azureml.core.webservice import Webservice\n",
    "from azureml.core.model import Model\n",
    "from azureml.core.environment import Environment\n",
    "\n",
    "# loading a curated environment from workspace\n",
    "\n",
    "env = Environment.get(ws, \"AzureML-AutoML\")\n",
    "\n",
    "# specifying scikit-learn as dependency\n",
    "for pip_package in [\"scikit-learn\"]:\n",
    "    env.python.conda_dependencies.add_pip_package(pip_package)\n",
    "\n",
    "# creating an inference config\n",
    "inference_config = InferenceConfig(entry_script='entry_script.py', environment=env)\n",
    "\n",
    "aciconfig = AciWebservice.deploy_configuration(cpu_cores = 1, memory_gb = 1, enable_app_insights = True)\n",
    "\n",
    "# naming the service to be deployed\n",
    "aci_service_name = 'automl-heart-failure-predictions'\n",
    "print(aci_service_name)\n",
    "\n",
    "# deploying the model\n",
    "aci_service = Model.deploy(ws, aci_service_name, [model], inference_config, aciconfig)\n",
    "aci_service.wait_for_deployment(show_output = True)\n",
    "print(aci_service.state)"
   ]
  },
  {
   "cell_type": "markdown",
   "metadata": {
    "collapsed": true,
    "gather": {
     "logged": 1598431657736
    },
    "jupyter": {
     "outputs_hidden": false,
     "source_hidden": false
    },
    "nteract": {
     "transient": {
      "deleting": false
     }
    }
   },
   "source": [
    "TODO: In the cell below, send a request to the web service you deployed to test it."
   ]
  },
  {
   "cell_type": "code",
   "execution_count": 20,
   "metadata": {
    "gather": {
     "logged": 1610870221080
    },
    "jupyter": {
     "outputs_hidden": false,
     "source_hidden": false
    },
    "nteract": {
     "transient": {
      "deleting": false
     }
    }
   },
   "outputs": [
    {
     "name": "stdout",
     "output_type": "stream",
     "text": [
      "[0]\n",
      "[0]\n"
     ]
    }
   ],
   "source": [
    "# importing required dependencies\n",
    "from numpy import array\n",
    "import json\n",
    "import requests\n",
    "\n",
    "# creating a test sample\n",
    "data = {\"data\": [{\"age\":60.000000,\"anaemia\":0.000000,\"creatinine_phosphokinase\":250.000000,\"diabetes\":0.000000,\"ejection_fraction\":38.000000,\"high_blood_pressure\":0.000000,\"platelets\":262000.000000,\"serum_creatinine\":1.10000,\"serum_sodium\":137.000000,\"sex\":1.000000,\"smoking\":0.00000,\"time\":115.000000}]}\n",
    "td = json.dumps(data)\n",
    "headers = {'Content-Type': 'application/json'}\n",
    "\n",
    "# sending request to test the deployed webservice\n",
    "resp = requests.post(aci_service.scoring_uri, td, headers=headers)\n",
    "print(resp.json())\n",
    "y_pred = (json.loads(resp.text))\n",
    "print(y_pred)"
   ]
  },
  {
   "cell_type": "code",
   "execution_count": 22,
   "metadata": {},
   "outputs": [
    {
     "name": "stdout",
     "output_type": "stream",
     "text": [
      "b'\"\\'data\\'\"'\n"
     ]
    }
   ],
   "source": [
    "import urllib.request\n",
    "import json\n",
    "import os\n",
    "import ssl\n",
    "\n",
    "def allowSelfSignedHttps(allowed):\n",
    "    # bypass the server certificate verification on client side\n",
    "    if allowed and not os.environ.get('PYTHONHTTPSVERIFY', '') and getattr(ssl, '_create_unverified_context', None):\n",
    "        ssl._create_default_https_context = ssl._create_unverified_context\n",
    "\n",
    "allowSelfSignedHttps(True) # this line is needed if you use self-signed certificate in your scoring service.\n",
    "\n",
    "# Request data goes here\n",
    "data = {\n",
    "}\n",
    "\n",
    "body = str.encode(json.dumps(data))\n",
    "\n",
    "url = 'http://9464551b-c247-452d-9af9-1dc33a862164.southcentralus.azurecontainer.io/score'\n",
    "api_key = '' # Replace this with the API key for the web service\n",
    "headers = {'Content-Type':'application/json', 'Authorization':('Bearer '+ api_key)}\n",
    "\n",
    "req = urllib.request.Request(url, body, headers)\n",
    "\n",
    "try:\n",
    "    response = urllib.request.urlopen(req)\n",
    "\n",
    "    result = response.read()\n",
    "    print(result)\n",
    "except urllib.error.HTTPError as error:\n",
    "    print(\"The request failed with status code: \" + str(error.code))\n",
    "\n",
    "    # Print the headers - they include the requert ID and the timestamp, which are useful for debugging the failure\n",
    "    print(error.info())\n",
    "    print(json.loads(error.read().decode(\"utf8\", 'ignore')))"
   ]
  },
  {
   "cell_type": "markdown",
   "metadata": {
    "collapsed": true,
    "gather": {
     "logged": 1598432765711
    },
    "jupyter": {
     "outputs_hidden": false,
     "source_hidden": false
    },
    "nteract": {
     "transient": {
      "deleting": false
     }
    }
   },
   "source": [
    "TODO: In the cell below, print the logs of the web service and delete the service"
   ]
  },
  {
   "cell_type": "code",
   "execution_count": 23,
   "metadata": {
    "gather": {
     "logged": 1610871382502
    },
    "jupyter": {
     "outputs_hidden": false,
     "source_hidden": false
    },
    "nteract": {
     "transient": {
      "deleting": false
     }
    }
   },
   "outputs": [
    {
     "name": "stdout",
     "output_type": "stream",
     "text": [
      "2021-07-12T09:20:13,079431300+00:00 - rsyslog/run \n",
      "2021-07-12T09:20:13,087449600+00:00 - gunicorn/run \n",
      "Dynamic Python package installation is disabled.\n",
      "Starting HTTP server\n",
      "2021-07-12T09:20:13,095138300+00:00 - nginx/run \n",
      "2021-07-12T09:20:13,103656300+00:00 - iot-server/run \n",
      "rsyslogd: /azureml-envs/azureml_fc92eee9a5613508afa12283dd0b27d8/lib/libuuid.so.1: no version information available (required by rsyslogd)\n",
      "EdgeHubConnectionString and IOTEDGE_IOTHUBHOSTNAME are not set. Exiting...\n",
      "2021-07-12T09:20:13,552280900+00:00 - iot-server/finish 1 0\n",
      "2021-07-12T09:20:13,554138700+00:00 - Exit code 1 is normal. Not restarting iot-server.\n",
      "Starting gunicorn 20.1.0\n",
      "Listening at: http://127.0.0.1:31311 (62)\n",
      "Using worker: sync\n",
      "worker timeout is set to 300\n",
      "Booting worker with pid: 89\n",
      "SPARK_HOME not set. Skipping PySpark Initialization.\n",
      "Generating new fontManager, this may take some time...\n",
      "Initializing logger\n",
      "2021-07-12 09:20:16,571 | root | INFO | Starting up app insights client\n",
      "logging socket was found. logging is available.\n",
      "logging socket was found. logging is available.\n",
      "2021-07-12 09:20:16,572 | root | INFO | Starting up request id generator\n",
      "2021-07-12 09:20:16,572 | root | INFO | Starting up app insight hooks\n",
      "2021-07-12 09:20:16,572 | root | INFO | Invoking user's init function\n",
      "2021-07-12 09:20:21,548 | azureml.core | WARNING | Failure while loading azureml_run_type_providers. Failed to load entrypoint automl = azureml.train.automl.run:AutoMLRun._from_run_dto with exception cannot import name 'RunType'.\n",
      "Failure while loading azureml_run_type_providers. Failed to load entrypoint automl = azureml.train.automl.run:AutoMLRun._from_run_dto with exception cannot import name 'RunType'.\n",
      "2021-07-12 09:20:22,633 | root | INFO | Users's init has completed successfully\n",
      "2021-07-12 09:20:22,638 | root | INFO | Skipping middleware: dbg_model_info as it's not enabled.\n",
      "2021-07-12 09:20:22,638 | root | INFO | Skipping middleware: dbg_resource_usage as it's not enabled.\n",
      "2021-07-12 09:20:22,639 | root | INFO | Scoring timeout is found from os.environ: 60000 ms\n",
      "2021-07-12 09:20:27,690 | root | INFO | Swagger file not present\n",
      "2021-07-12 09:20:27,690 | root | INFO | 404\n",
      "127.0.0.1 - - [12/Jul/2021:09:20:27 +0000] \"GET /swagger.json HTTP/1.0\" 404 19 \"-\" \"Go-http-client/1.1\"\n",
      "2021-07-12 09:20:32,731 | root | INFO | Swagger file not present\n",
      "2021-07-12 09:20:32,731 | root | INFO | 404\n",
      "127.0.0.1 - - [12/Jul/2021:09:20:32 +0000] \"GET /swagger.json HTTP/1.0\" 404 19 \"-\" \"Go-http-client/1.1\"\n",
      "2021-07-12 09:21:24,800 | root | INFO | Scoring Timer is set to 60.0 seconds\n",
      "2021-07-12 09:21:25,304 | root | INFO | 200\n",
      "127.0.0.1 - - [12/Jul/2021:09:21:25 +0000] \"POST /score HTTP/1.0\" 200 3 \"-\" \"python-requests/2.25.1\"\n",
      "2021-07-12 09:21:39,368 | root | INFO | Swagger file not present\n",
      "2021-07-12 09:21:39,368 | root | INFO | 404\n",
      "127.0.0.1 - - [12/Jul/2021:09:21:39 +0000] \"GET /swagger.json HTTP/1.0\" 404 19 \"-\" \"Go-http-client/1.1\"\n",
      "2021-07-12 09:21:48,617 | root | INFO | Scoring Timer is set to 60.0 seconds\n",
      "2021-07-12 09:21:48,617 | root | INFO | 200\n",
      "127.0.0.1 - - [12/Jul/2021:09:21:48 +0000] \"POST /score HTTP/1.0\" 200 8 \"-\" \"Python-urllib/3.6\"\n",
      "\n"
     ]
    }
   ],
   "source": [
    "# printing the logs of deployed web service\n",
    "dep_logs = aci_service.get_logs()\n",
    "for l in dep_logs.split('\\n'):\n",
    "    print(l)"
   ]
  },
  {
   "cell_type": "code",
   "execution_count": 24,
   "metadata": {},
   "outputs": [
    {
     "data": {
      "text/plain": [
       "AmlCompute(workspace=Workspace.create(name='quick-starts-ws-150538', subscription_id='81cefad3-d2c9-4f77-a466-99a7f541c7bb', resource_group='aml-quickstarts-150538'), name=CI-AutoML01, id=/subscriptions/81cefad3-d2c9-4f77-a466-99a7f541c7bb/resourceGroups/aml-quickstarts-150538/providers/Microsoft.MachineLearningServices/workspaces/quick-starts-ws-150538/computes/CI-AutoML01, type=AmlCompute, provisioning_state=Succeeded, location=southcentralus, tags=None)"
      ]
     },
     "execution_count": 24,
     "metadata": {},
     "output_type": "execute_result"
    },
    {
     "name": "stderr",
     "output_type": "stream",
     "text": [
      "INFO:interpret_community.common.explanation_utils:Using default datastore for uploads\n"
     ]
    }
   ],
   "source": [
    "compute_target"
   ]
  },
  {
   "cell_type": "code",
   "execution_count": 25,
   "metadata": {},
   "outputs": [
    {
     "data": {
      "text/plain": [
       "AciWebservice(workspace=Workspace.create(name='quick-starts-ws-150538', subscription_id='81cefad3-d2c9-4f77-a466-99a7f541c7bb', resource_group='aml-quickstarts-150538'), name=automl-heart-failure-predictions, image_id=None, compute_type=None, state=ACI, scoring_uri=Healthy, tags=http://9464551b-c247-452d-9af9-1dc33a862164.southcentralus.azurecontainer.io/score, properties={}, created_by={'hasInferenceSchema': 'False', 'hasHttps': 'False'})"
      ]
     },
     "execution_count": 25,
     "metadata": {},
     "output_type": "execute_result"
    },
    {
     "name": "stderr",
     "output_type": "stream",
     "text": [
      "INFO:interpret_community.common.explanation_utils:Using default datastore for uploads\n"
     ]
    }
   ],
   "source": [
    "aci_service"
   ]
  },
  {
   "cell_type": "code",
   "execution_count": 48,
   "metadata": {
    "gather": {
     "logged": 1610871657577
    }
   },
   "outputs": [],
   "source": [
    "# deleting a web service\n",
    "aci_service.delete()"
   ]
  },
  {
   "cell_type": "code",
   "execution_count": 49,
   "metadata": {
    "gather": {
     "logged": 1610871701038
    }
   },
   "outputs": [],
   "source": [
    "# delete compute cluster\n",
    "compute_target.delete()"
   ]
  }
 ],
 "metadata": {
  "kernel_info": {
   "name": "python3"
  },
  "kernelspec": {
   "display_name": "Python 3",
   "language": "python",
   "name": "python3"
  },
  "language_info": {
   "codemirror_mode": {
    "name": "ipython",
    "version": 3
   },
   "file_extension": ".py",
   "mimetype": "text/x-python",
   "name": "python",
   "nbconvert_exporter": "python",
   "pygments_lexer": "ipython3",
   "version": "3.6.9"
  },
  "nteract": {
   "version": "nteract-front-end@1.0.0"
  }
 },
 "nbformat": 4,
 "nbformat_minor": 2
}
